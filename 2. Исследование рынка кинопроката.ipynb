{
 "cells": [
  {
   "cell_type": "markdown",
   "metadata": {},
   "source": [
    "# Исследование рынка кинопроката"
   ]
  },
  {
   "cell_type": "markdown",
   "metadata": {
    "toc": true
   },
   "source": [
    "<h1>Оглавление<span class=\"tocSkip\"></span></h1>\n",
    "<div class=\"toc\"><ul class=\"toc-item\"><li><span><a href=\"#Общая-информация-о-данных\" data-toc-modified-id=\"Общая-информация-о-данных-1\"><span class=\"toc-item-num\">1&nbsp;&nbsp;</span>Общая информация о данных</a></span></li><li><span><a href=\"#Предобработка-данных\" data-toc-modified-id=\"Предобработка-данных-2\"><span class=\"toc-item-num\">2&nbsp;&nbsp;</span>Предобработка данных</a></span><ul class=\"toc-item\"><li><span><a href=\"#Проверка-типов-данных\" data-toc-modified-id=\"Проверка-типов-данных-2.1\"><span class=\"toc-item-num\">2.1&nbsp;&nbsp;</span>Проверка типов данных</a></span></li><li><span><a href=\"#Обработка-пропусков-в-датафрейме\" data-toc-modified-id=\"Обработка-пропусков-в-датафрейме-2.2\"><span class=\"toc-item-num\">2.2&nbsp;&nbsp;</span>Обработка пропусков в датафрейме</a></span></li><li><span><a href=\"#Обработка-дубликатов-в-датафрейме\" data-toc-modified-id=\"Обработка-дубликатов-в-датафрейме-2.3\"><span class=\"toc-item-num\">2.3&nbsp;&nbsp;</span>Обработка дубликатов в датафрейме</a></span></li><li><span><a href=\"#Проверка-категориальных-значений\" data-toc-modified-id=\"Проверка-категориальных-значений-2.4\"><span class=\"toc-item-num\">2.4&nbsp;&nbsp;</span>Проверка категориальных значений</a></span></li><li><span><a href=\"#Проверка-количественных-значений\" data-toc-modified-id=\"Проверка-количественных-значений-2.5\"><span class=\"toc-item-num\">2.5&nbsp;&nbsp;</span>Проверка количественных значений</a></span></li><li><span><a href=\"#Добавление-новых-столбцов\" data-toc-modified-id=\"Добавление-новых-столбцов-2.6\"><span class=\"toc-item-num\">2.6&nbsp;&nbsp;</span>Добавление новых столбцов</a></span></li></ul></li><li><span><a href=\"#Исследовательский-анализ-данных\" data-toc-modified-id=\"Исследовательский-анализ-данных-3\"><span class=\"toc-item-num\">3&nbsp;&nbsp;</span>Исследовательский анализ данных</a></span></li><li><span><a href=\"#Исследование-фильмов,-которые-получили-государственную-поддержку\" data-toc-modified-id=\"Исследование-фильмов,-которые-получили-государственную-поддержку-4\"><span class=\"toc-item-num\">4&nbsp;&nbsp;</span>Исследование фильмов, которые получили государственную поддержку</a></span></li><li><span><a href=\"#Выводы-по-исследованию\" data-toc-modified-id=\"Выводы-по-исследованию-5\"><span class=\"toc-item-num\">5&nbsp;&nbsp;</span>Выводы по исследованию</a></span></li></ul></div>"
   ]
  },
  {
   "cell_type": "markdown",
   "metadata": {
    "id": "3bSlkCsbgFyL"
   },
   "source": [
    "## Общая информация о данных \n",
    "\n",
    "В рамках проекта необходимо изучить рынок российского кинопроката и выявить текущие тренды. Уделить особое внимание фильмам, которые получили государственную поддержку. \n",
    "Данные, взятые для анализа, опубликованны на портале открытых данных Министерства культуры. Набор данных содержит информацию о прокатных удостоверениях, сборах и государственной поддержке фильмов, а также информацию с сайта КиноПоиск. "
   ]
  },
  {
   "cell_type": "code",
   "execution_count": 1,
   "metadata": {
    "id": "dw87FlzMgFyM"
   },
   "outputs": [],
   "source": [
    "import pandas as pd\n",
    "import matplotlib.pyplot as plt\n",
    "import numpy as np\n",
    "import seaborn as sns"
   ]
  },
  {
   "cell_type": "code",
   "execution_count": 2,
   "metadata": {},
   "outputs": [],
   "source": [
    "data = pd.read_csv('/datasets/mkrf_movies.csv')\n",
    "data_2 = pd.read_csv('/datasets/mkrf_shows.csv')"
   ]
  },
  {
   "cell_type": "code",
   "execution_count": 3,
   "metadata": {},
   "outputs": [
    {
     "data": {
      "text/html": [
       "<div>\n",
       "<style scoped>\n",
       "    .dataframe tbody tr th:only-of-type {\n",
       "        vertical-align: middle;\n",
       "    }\n",
       "\n",
       "    .dataframe tbody tr th {\n",
       "        vertical-align: top;\n",
       "    }\n",
       "\n",
       "    .dataframe thead th {\n",
       "        text-align: right;\n",
       "    }\n",
       "</style>\n",
       "<table border=\"1\" class=\"dataframe\">\n",
       "  <thead>\n",
       "    <tr style=\"text-align: right;\">\n",
       "      <th></th>\n",
       "      <th>title</th>\n",
       "      <th>puNumber</th>\n",
       "      <th>show_start_date</th>\n",
       "      <th>type</th>\n",
       "      <th>film_studio</th>\n",
       "      <th>production_country</th>\n",
       "      <th>director</th>\n",
       "      <th>producer</th>\n",
       "      <th>age_restriction</th>\n",
       "      <th>refundable_support</th>\n",
       "      <th>nonrefundable_support</th>\n",
       "      <th>budget</th>\n",
       "      <th>financing_source</th>\n",
       "      <th>ratings</th>\n",
       "      <th>genres</th>\n",
       "    </tr>\n",
       "  </thead>\n",
       "  <tbody>\n",
       "    <tr>\n",
       "      <th>0</th>\n",
       "      <td>Открытый простор</td>\n",
       "      <td>221048915</td>\n",
       "      <td>2015-11-27T12:00:00.000Z</td>\n",
       "      <td>Художественный</td>\n",
       "      <td>Тачстоун Пикчерз, Кобальт Пикчерз, Бикон Пикче...</td>\n",
       "      <td>США</td>\n",
       "      <td>Кевин Костнер</td>\n",
       "      <td>Дэвид Валдес, Кевин Костнер, Джейк Эбертс</td>\n",
       "      <td>«18+» - запрещено для детей</td>\n",
       "      <td>NaN</td>\n",
       "      <td>NaN</td>\n",
       "      <td>NaN</td>\n",
       "      <td>NaN</td>\n",
       "      <td>7.2</td>\n",
       "      <td>боевик,драма,мелодрама</td>\n",
       "    </tr>\n",
       "    <tr>\n",
       "      <th>1</th>\n",
       "      <td>Особо важное задание</td>\n",
       "      <td>111013716</td>\n",
       "      <td>2016-09-13T12:00:00.000Z</td>\n",
       "      <td>Художественный</td>\n",
       "      <td>Киностудия \"Мосфильм\"</td>\n",
       "      <td>СССР</td>\n",
       "      <td>Е.Матвеев</td>\n",
       "      <td>NaN</td>\n",
       "      <td>«6+» - для детей старше 6 лет</td>\n",
       "      <td>NaN</td>\n",
       "      <td>NaN</td>\n",
       "      <td>NaN</td>\n",
       "      <td>NaN</td>\n",
       "      <td>6.6</td>\n",
       "      <td>драма,военный</td>\n",
       "    </tr>\n",
       "    <tr>\n",
       "      <th>2</th>\n",
       "      <td>Особо опасен</td>\n",
       "      <td>221038416</td>\n",
       "      <td>2016-10-10T12:00:00.000Z</td>\n",
       "      <td>Художественный</td>\n",
       "      <td>Юниверсал Пикчерз, Кикстарт Продакшнз, Марк Пл...</td>\n",
       "      <td>США</td>\n",
       "      <td>Тимур Бекмамбетов</td>\n",
       "      <td>Джим Лемли, Джейсон Нетер, Марк Е.Платт, Яйн Смит</td>\n",
       "      <td>«18+» - запрещено для детей</td>\n",
       "      <td>NaN</td>\n",
       "      <td>NaN</td>\n",
       "      <td>NaN</td>\n",
       "      <td>NaN</td>\n",
       "      <td>6.8</td>\n",
       "      <td>фантастика,боевик,триллер</td>\n",
       "    </tr>\n",
       "  </tbody>\n",
       "</table>\n",
       "</div>"
      ],
      "text/plain": [
       "                  title   puNumber           show_start_date            type  \\\n",
       "0      Открытый простор  221048915  2015-11-27T12:00:00.000Z  Художественный   \n",
       "1  Особо важное задание  111013716  2016-09-13T12:00:00.000Z  Художественный   \n",
       "2          Особо опасен  221038416  2016-10-10T12:00:00.000Z  Художественный   \n",
       "\n",
       "                                         film_studio production_country  \\\n",
       "0  Тачстоун Пикчерз, Кобальт Пикчерз, Бикон Пикче...                США   \n",
       "1                              Киностудия \"Мосфильм\"               СССР   \n",
       "2  Юниверсал Пикчерз, Кикстарт Продакшнз, Марк Пл...                США   \n",
       "\n",
       "            director                                           producer  \\\n",
       "0      Кевин Костнер          Дэвид Валдес, Кевин Костнер, Джейк Эбертс   \n",
       "1          Е.Матвеев                                                NaN   \n",
       "2  Тимур Бекмамбетов  Джим Лемли, Джейсон Нетер, Марк Е.Платт, Яйн Смит   \n",
       "\n",
       "                 age_restriction  refundable_support  nonrefundable_support  \\\n",
       "0    «18+» - запрещено для детей                 NaN                    NaN   \n",
       "1  «6+» - для детей старше 6 лет                 NaN                    NaN   \n",
       "2    «18+» - запрещено для детей                 NaN                    NaN   \n",
       "\n",
       "   budget financing_source ratings                     genres  \n",
       "0     NaN              NaN     7.2     боевик,драма,мелодрама  \n",
       "1     NaN              NaN     6.6              драма,военный  \n",
       "2     NaN              NaN     6.8  фантастика,боевик,триллер  "
      ]
     },
     "execution_count": 3,
     "metadata": {},
     "output_type": "execute_result"
    }
   ],
   "source": [
    "data.head(3)"
   ]
  },
  {
   "cell_type": "code",
   "execution_count": 4,
   "metadata": {},
   "outputs": [
    {
     "data": {
      "text/html": [
       "<div>\n",
       "<style scoped>\n",
       "    .dataframe tbody tr th:only-of-type {\n",
       "        vertical-align: middle;\n",
       "    }\n",
       "\n",
       "    .dataframe tbody tr th {\n",
       "        vertical-align: top;\n",
       "    }\n",
       "\n",
       "    .dataframe thead th {\n",
       "        text-align: right;\n",
       "    }\n",
       "</style>\n",
       "<table border=\"1\" class=\"dataframe\">\n",
       "  <thead>\n",
       "    <tr style=\"text-align: right;\">\n",
       "      <th></th>\n",
       "      <th>puNumber</th>\n",
       "      <th>box_office</th>\n",
       "    </tr>\n",
       "  </thead>\n",
       "  <tbody>\n",
       "    <tr>\n",
       "      <th>0</th>\n",
       "      <td>111000113</td>\n",
       "      <td>2.450000e+03</td>\n",
       "    </tr>\n",
       "    <tr>\n",
       "      <th>1</th>\n",
       "      <td>111000115</td>\n",
       "      <td>6.104000e+04</td>\n",
       "    </tr>\n",
       "    <tr>\n",
       "      <th>2</th>\n",
       "      <td>111000116</td>\n",
       "      <td>1.530300e+08</td>\n",
       "    </tr>\n",
       "    <tr>\n",
       "      <th>3</th>\n",
       "      <td>111000117</td>\n",
       "      <td>1.226096e+07</td>\n",
       "    </tr>\n",
       "    <tr>\n",
       "      <th>4</th>\n",
       "      <td>111000118</td>\n",
       "      <td>1.636841e+08</td>\n",
       "    </tr>\n",
       "  </tbody>\n",
       "</table>\n",
       "</div>"
      ],
      "text/plain": [
       "    puNumber    box_office\n",
       "0  111000113  2.450000e+03\n",
       "1  111000115  6.104000e+04\n",
       "2  111000116  1.530300e+08\n",
       "3  111000117  1.226096e+07\n",
       "4  111000118  1.636841e+08"
      ]
     },
     "execution_count": 4,
     "metadata": {},
     "output_type": "execute_result"
    }
   ],
   "source": [
    "data_2.head()"
   ]
  },
  {
   "cell_type": "code",
   "execution_count": 5,
   "metadata": {},
   "outputs": [],
   "source": [
    "data_2['box_office'] = data_2['box_office']/1000000  # Переведем значения в колонке со сборами в млн.руб"
   ]
  },
  {
   "cell_type": "code",
   "execution_count": 6,
   "metadata": {},
   "outputs": [
    {
     "name": "stdout",
     "output_type": "stream",
     "text": [
      "<class 'pandas.core.frame.DataFrame'>\n",
      "RangeIndex: 7486 entries, 0 to 7485\n",
      "Data columns (total 15 columns):\n",
      " #   Column                 Non-Null Count  Dtype  \n",
      "---  ------                 --------------  -----  \n",
      " 0   title                  7486 non-null   object \n",
      " 1   puNumber               7486 non-null   object \n",
      " 2   show_start_date        7486 non-null   object \n",
      " 3   type                   7486 non-null   object \n",
      " 4   film_studio            7468 non-null   object \n",
      " 5   production_country     7484 non-null   object \n",
      " 6   director               7477 non-null   object \n",
      " 7   producer               6918 non-null   object \n",
      " 8   age_restriction        7486 non-null   object \n",
      " 9   refundable_support     332 non-null    float64\n",
      " 10  nonrefundable_support  332 non-null    float64\n",
      " 11  budget                 332 non-null    float64\n",
      " 12  financing_source       332 non-null    object \n",
      " 13  ratings                6519 non-null   object \n",
      " 14  genres                 6510 non-null   object \n",
      "dtypes: float64(3), object(12)\n",
      "memory usage: 877.4+ KB\n"
     ]
    }
   ],
   "source": [
    "data.info()"
   ]
  },
  {
   "cell_type": "code",
   "execution_count": 7,
   "metadata": {},
   "outputs": [
    {
     "name": "stdout",
     "output_type": "stream",
     "text": [
      "<class 'pandas.core.frame.DataFrame'>\n",
      "RangeIndex: 3158 entries, 0 to 3157\n",
      "Data columns (total 2 columns):\n",
      " #   Column      Non-Null Count  Dtype  \n",
      "---  ------      --------------  -----  \n",
      " 0   puNumber    3158 non-null   int64  \n",
      " 1   box_office  3158 non-null   float64\n",
      "dtypes: float64(1), int64(1)\n",
      "memory usage: 49.5 KB\n"
     ]
    }
   ],
   "source": [
    "data_2.info()"
   ]
  },
  {
   "cell_type": "markdown",
   "metadata": {},
   "source": [
    "Заменим значение \"нет\" в колонке *puNumber* на 0 (чтобы можно было перевести столбец в числовой тип)"
   ]
  },
  {
   "cell_type": "code",
   "execution_count": 8,
   "metadata": {},
   "outputs": [],
   "source": [
    "data.loc[data['puNumber'] == 'нет', ['puNumber']] = 0"
   ]
  },
  {
   "cell_type": "code",
   "execution_count": 9,
   "metadata": {},
   "outputs": [
    {
     "data": {
      "text/plain": [
       "title                     object\n",
       "puNumber                   int64\n",
       "show_start_date           object\n",
       "type                      object\n",
       "film_studio               object\n",
       "production_country        object\n",
       "director                  object\n",
       "producer                  object\n",
       "age_restriction           object\n",
       "refundable_support       float64\n",
       "nonrefundable_support    float64\n",
       "budget                   float64\n",
       "financing_source          object\n",
       "ratings                   object\n",
       "genres                    object\n",
       "dtype: object"
      ]
     },
     "execution_count": 9,
     "metadata": {},
     "output_type": "execute_result"
    }
   ],
   "source": [
    "data = data.astype({'puNumber' : int})\n",
    "data.dtypes"
   ]
  },
  {
   "cell_type": "code",
   "execution_count": 10,
   "metadata": {},
   "outputs": [],
   "source": [
    "data = data.merge(data_2, on='puNumber', how='left')"
   ]
  },
  {
   "cell_type": "code",
   "execution_count": 11,
   "metadata": {},
   "outputs": [
    {
     "data": {
      "text/plain": [
       "0"
      ]
     },
     "execution_count": 11,
     "metadata": {},
     "output_type": "execute_result"
    }
   ],
   "source": [
    "data_2['box_office'].isna().sum()"
   ]
  },
  {
   "cell_type": "code",
   "execution_count": 12,
   "metadata": {},
   "outputs": [
    {
     "data": {
      "text/plain": [
       "4328"
      ]
     },
     "execution_count": 12,
     "metadata": {},
     "output_type": "execute_result"
    }
   ],
   "source": [
    "data['box_office'].isna().sum()"
   ]
  },
  {
   "cell_type": "code",
   "execution_count": 13,
   "metadata": {},
   "outputs": [
    {
     "data": {
      "text/plain": [
       "7486"
      ]
     },
     "execution_count": 13,
     "metadata": {},
     "output_type": "execute_result"
    }
   ],
   "source": [
    "len(data)"
   ]
  },
  {
   "cell_type": "markdown",
   "metadata": {},
   "source": [
    "Итоговый датафрейм состоит из 7486 строк. Все значения из файла mkrf_shows вошли в состав нового датафрейма, но не для всех значений из mkrf_movies нашлись значения в mkrf_shows."
   ]
  },
  {
   "cell_type": "markdown",
   "metadata": {
    "id": "KLDGpPG0gFyM"
   },
   "source": [
    "## Предобработка данных"
   ]
  },
  {
   "cell_type": "markdown",
   "metadata": {
    "id": "ssWwKXsxgFyO"
   },
   "source": [
    "### Проверка типов данных\n"
   ]
  },
  {
   "cell_type": "code",
   "execution_count": 14,
   "metadata": {},
   "outputs": [
    {
     "data": {
      "text/html": [
       "<div>\n",
       "<style scoped>\n",
       "    .dataframe tbody tr th:only-of-type {\n",
       "        vertical-align: middle;\n",
       "    }\n",
       "\n",
       "    .dataframe tbody tr th {\n",
       "        vertical-align: top;\n",
       "    }\n",
       "\n",
       "    .dataframe thead th {\n",
       "        text-align: right;\n",
       "    }\n",
       "</style>\n",
       "<table border=\"1\" class=\"dataframe\">\n",
       "  <thead>\n",
       "    <tr style=\"text-align: right;\">\n",
       "      <th></th>\n",
       "      <th>title</th>\n",
       "      <th>puNumber</th>\n",
       "      <th>show_start_date</th>\n",
       "      <th>type</th>\n",
       "      <th>film_studio</th>\n",
       "      <th>production_country</th>\n",
       "      <th>director</th>\n",
       "      <th>producer</th>\n",
       "      <th>age_restriction</th>\n",
       "      <th>refundable_support</th>\n",
       "      <th>nonrefundable_support</th>\n",
       "      <th>budget</th>\n",
       "      <th>financing_source</th>\n",
       "      <th>ratings</th>\n",
       "      <th>genres</th>\n",
       "      <th>box_office</th>\n",
       "    </tr>\n",
       "  </thead>\n",
       "  <tbody>\n",
       "    <tr>\n",
       "      <th>0</th>\n",
       "      <td>Открытый простор</td>\n",
       "      <td>221048915</td>\n",
       "      <td>2015-11-27T12:00:00.000Z</td>\n",
       "      <td>Художественный</td>\n",
       "      <td>Тачстоун Пикчерз, Кобальт Пикчерз, Бикон Пикче...</td>\n",
       "      <td>США</td>\n",
       "      <td>Кевин Костнер</td>\n",
       "      <td>Дэвид Валдес, Кевин Костнер, Джейк Эбертс</td>\n",
       "      <td>«18+» - запрещено для детей</td>\n",
       "      <td>NaN</td>\n",
       "      <td>NaN</td>\n",
       "      <td>NaN</td>\n",
       "      <td>NaN</td>\n",
       "      <td>7.2</td>\n",
       "      <td>боевик,драма,мелодрама</td>\n",
       "      <td>NaN</td>\n",
       "    </tr>\n",
       "    <tr>\n",
       "      <th>1</th>\n",
       "      <td>Особо важное задание</td>\n",
       "      <td>111013716</td>\n",
       "      <td>2016-09-13T12:00:00.000Z</td>\n",
       "      <td>Художественный</td>\n",
       "      <td>Киностудия \"Мосфильм\"</td>\n",
       "      <td>СССР</td>\n",
       "      <td>Е.Матвеев</td>\n",
       "      <td>NaN</td>\n",
       "      <td>«6+» - для детей старше 6 лет</td>\n",
       "      <td>NaN</td>\n",
       "      <td>NaN</td>\n",
       "      <td>NaN</td>\n",
       "      <td>NaN</td>\n",
       "      <td>6.6</td>\n",
       "      <td>драма,военный</td>\n",
       "      <td>NaN</td>\n",
       "    </tr>\n",
       "  </tbody>\n",
       "</table>\n",
       "</div>"
      ],
      "text/plain": [
       "                  title   puNumber           show_start_date            type  \\\n",
       "0      Открытый простор  221048915  2015-11-27T12:00:00.000Z  Художественный   \n",
       "1  Особо важное задание  111013716  2016-09-13T12:00:00.000Z  Художественный   \n",
       "\n",
       "                                         film_studio production_country  \\\n",
       "0  Тачстоун Пикчерз, Кобальт Пикчерз, Бикон Пикче...                США   \n",
       "1                              Киностудия \"Мосфильм\"               СССР   \n",
       "\n",
       "        director                                   producer  \\\n",
       "0  Кевин Костнер  Дэвид Валдес, Кевин Костнер, Джейк Эбертс   \n",
       "1      Е.Матвеев                                        NaN   \n",
       "\n",
       "                 age_restriction  refundable_support  nonrefundable_support  \\\n",
       "0    «18+» - запрещено для детей                 NaN                    NaN   \n",
       "1  «6+» - для детей старше 6 лет                 NaN                    NaN   \n",
       "\n",
       "   budget financing_source ratings                  genres  box_office  \n",
       "0     NaN              NaN     7.2  боевик,драма,мелодрама         NaN  \n",
       "1     NaN              NaN     6.6           драма,военный         NaN  "
      ]
     },
     "execution_count": 14,
     "metadata": {},
     "output_type": "execute_result"
    }
   ],
   "source": [
    "data.head(2)"
   ]
  },
  {
   "cell_type": "markdown",
   "metadata": {},
   "source": [
    "1. Откорректируем значения в колонке *age_restriction*. Оставим только количество лет, начиная с которых можно смотреть фильм;\n",
    "2. Приведем дату к приемлемому виду;\n",
    "3. Изменим тип данных в колонке *ratings* на float;\n",
    "4. Изменим тип данных в колонках *refundable_support, nonrefundable_support, budget, box_office* на int (после заполнения пропусков)."
   ]
  },
  {
   "cell_type": "code",
   "execution_count": 15,
   "metadata": {
    "id": "kVGSplJOgFyO"
   },
   "outputs": [
    {
     "data": {
      "text/plain": [
       "array(['«18+» - запрещено для детей', '«6+» - для детей старше 6 лет',\n",
       "       '«12+» - для детей старше 12 лет',\n",
       "       '«16+» - для детей старше 16 лет',\n",
       "       '«0+» - для любой зрительской аудитории'], dtype=object)"
      ]
     },
     "execution_count": 15,
     "metadata": {},
     "output_type": "execute_result"
    }
   ],
   "source": [
    "data['age_restriction'].unique()"
   ]
  },
  {
   "cell_type": "code",
   "execution_count": 16,
   "metadata": {},
   "outputs": [],
   "source": [
    "data.loc[data['age_restriction'] == '«18+» - запрещено для детей', ['age_restriction']] = '18+'\n",
    "data.loc[data['age_restriction'] == '«6+» - для детей старше 6 лет', ['age_restriction']] = '6+'\n",
    "data.loc[data['age_restriction'] == '«12+» - для детей старше 12 лет', ['age_restriction']] = '12+'\n",
    "data.loc[data['age_restriction'] == '«16+» - для детей старше 16 лет', ['age_restriction']] = '16+'\n",
    "data.loc[data['age_restriction'] == '«0+» - для любой зрительской аудитории', ['age_restriction']] = '0+'"
   ]
  },
  {
   "cell_type": "code",
   "execution_count": 17,
   "metadata": {},
   "outputs": [],
   "source": [
    "data['show_start_date'] = pd.to_datetime(data['show_start_date'], format='%Y.%m.%dT%H:%M:%S')"
   ]
  },
  {
   "cell_type": "code",
   "execution_count": 18,
   "metadata": {},
   "outputs": [
    {
     "data": {
      "text/html": [
       "<div>\n",
       "<style scoped>\n",
       "    .dataframe tbody tr th:only-of-type {\n",
       "        vertical-align: middle;\n",
       "    }\n",
       "\n",
       "    .dataframe tbody tr th {\n",
       "        vertical-align: top;\n",
       "    }\n",
       "\n",
       "    .dataframe thead th {\n",
       "        text-align: right;\n",
       "    }\n",
       "</style>\n",
       "<table border=\"1\" class=\"dataframe\">\n",
       "  <thead>\n",
       "    <tr style=\"text-align: right;\">\n",
       "      <th></th>\n",
       "      <th>title</th>\n",
       "      <th>puNumber</th>\n",
       "      <th>show_start_date</th>\n",
       "      <th>type</th>\n",
       "      <th>film_studio</th>\n",
       "      <th>production_country</th>\n",
       "      <th>director</th>\n",
       "      <th>producer</th>\n",
       "      <th>age_restriction</th>\n",
       "      <th>refundable_support</th>\n",
       "      <th>nonrefundable_support</th>\n",
       "      <th>budget</th>\n",
       "      <th>financing_source</th>\n",
       "      <th>ratings</th>\n",
       "      <th>genres</th>\n",
       "      <th>box_office</th>\n",
       "    </tr>\n",
       "  </thead>\n",
       "  <tbody>\n",
       "    <tr>\n",
       "      <th>0</th>\n",
       "      <td>Открытый простор</td>\n",
       "      <td>221048915</td>\n",
       "      <td>2015-11-27 12:00:00+00:00</td>\n",
       "      <td>Художественный</td>\n",
       "      <td>Тачстоун Пикчерз, Кобальт Пикчерз, Бикон Пикче...</td>\n",
       "      <td>США</td>\n",
       "      <td>Кевин Костнер</td>\n",
       "      <td>Дэвид Валдес, Кевин Костнер, Джейк Эбертс</td>\n",
       "      <td>18+</td>\n",
       "      <td>NaN</td>\n",
       "      <td>NaN</td>\n",
       "      <td>NaN</td>\n",
       "      <td>NaN</td>\n",
       "      <td>7.2</td>\n",
       "      <td>боевик,драма,мелодрама</td>\n",
       "      <td>NaN</td>\n",
       "    </tr>\n",
       "    <tr>\n",
       "      <th>1</th>\n",
       "      <td>Особо важное задание</td>\n",
       "      <td>111013716</td>\n",
       "      <td>2016-09-13 12:00:00+00:00</td>\n",
       "      <td>Художественный</td>\n",
       "      <td>Киностудия \"Мосфильм\"</td>\n",
       "      <td>СССР</td>\n",
       "      <td>Е.Матвеев</td>\n",
       "      <td>NaN</td>\n",
       "      <td>6+</td>\n",
       "      <td>NaN</td>\n",
       "      <td>NaN</td>\n",
       "      <td>NaN</td>\n",
       "      <td>NaN</td>\n",
       "      <td>6.6</td>\n",
       "      <td>драма,военный</td>\n",
       "      <td>NaN</td>\n",
       "    </tr>\n",
       "  </tbody>\n",
       "</table>\n",
       "</div>"
      ],
      "text/plain": [
       "                  title   puNumber           show_start_date            type  \\\n",
       "0      Открытый простор  221048915 2015-11-27 12:00:00+00:00  Художественный   \n",
       "1  Особо важное задание  111013716 2016-09-13 12:00:00+00:00  Художественный   \n",
       "\n",
       "                                         film_studio production_country  \\\n",
       "0  Тачстоун Пикчерз, Кобальт Пикчерз, Бикон Пикче...                США   \n",
       "1                              Киностудия \"Мосфильм\"               СССР   \n",
       "\n",
       "        director                                   producer age_restriction  \\\n",
       "0  Кевин Костнер  Дэвид Валдес, Кевин Костнер, Джейк Эбертс             18+   \n",
       "1      Е.Матвеев                                        NaN              6+   \n",
       "\n",
       "   refundable_support  nonrefundable_support  budget financing_source ratings  \\\n",
       "0                 NaN                    NaN     NaN              NaN     7.2   \n",
       "1                 NaN                    NaN     NaN              NaN     6.6   \n",
       "\n",
       "                   genres  box_office  \n",
       "0  боевик,драма,мелодрама         NaN  \n",
       "1           драма,военный         NaN  "
      ]
     },
     "execution_count": 18,
     "metadata": {},
     "output_type": "execute_result"
    }
   ],
   "source": [
    "data.head(2)"
   ]
  },
  {
   "cell_type": "code",
   "execution_count": 19,
   "metadata": {},
   "outputs": [
    {
     "data": {
      "text/plain": [
       "array(['7.2', '6.6', '6.8', '7.7', '8.3', '8.0', '7.8', '8.1', '7.1',\n",
       "       '6.0', '7.4', '5.8', '8.7', '6.3', '6.9', '5.0', '4.3', '7.3',\n",
       "       '7.0', '6.4', nan, '8.2', '7.5', '6.7', '7.9', '5.9', '6.2', '5.6',\n",
       "       '6.5', '2.4', '7.6', '6.1', '8.6', '8.5', '8.8', '5.5', '5.1',\n",
       "       '5.7', '5.4', '99%', '4.4', '4.5', '5.3', '4.1', '8.4', '2.6',\n",
       "       '3.8', '4.6', '4.8', '4.0', '3.0', '1.6', '4.2', '5.2', '4.7',\n",
       "       '4.9', '3.9', '2.7', '3.3', '2.9', '28%', '3.7', '1.4', '3.1',\n",
       "       '97%', '3.5', '3.2', '2.8', '1.5', '2.1', '2.5', '9.2', '3.4',\n",
       "       '1.1', '3.6', '83%', '64%', '91%', '94%', '62%', '79%', '90%',\n",
       "       '19%', '88%', '1.0', '89%', '1.3', '1.9', '1.8', '1.2', '1.7',\n",
       "       '9.0', '98%', '8.9', '9.1'], dtype=object)"
      ]
     },
     "execution_count": 19,
     "metadata": {},
     "output_type": "execute_result"
    }
   ],
   "source": [
    "data['ratings'].unique()"
   ]
  },
  {
   "cell_type": "markdown",
   "metadata": {},
   "source": [
    "Видно, что колонка *ratings* содержит рейтинги в процентах помимо дробных чисел. Очевидно, что рейтинг 97% означает 9,7. Найдем все значения с процентами и переведем их дробные рейтнги."
   ]
  },
  {
   "cell_type": "code",
   "execution_count": 20,
   "metadata": {},
   "outputs": [],
   "source": [
    "data['ratings'] = data['ratings'].str.replace('%', '').astype(float)"
   ]
  },
  {
   "cell_type": "code",
   "execution_count": 21,
   "metadata": {},
   "outputs": [
    {
     "data": {
      "text/plain": [
       "array([ 7.2,  6.6,  6.8,  7.7,  8.3,  8. ,  7.8,  8.1,  7.1,  6. ,  7.4,\n",
       "        5.8,  8.7,  6.3,  6.9,  5. ,  4.3,  7.3,  7. ,  6.4,  nan,  8.2,\n",
       "        7.5,  6.7,  7.9,  5.9,  6.2,  5.6,  6.5,  2.4,  7.6,  6.1,  8.6,\n",
       "        8.5,  8.8,  5.5,  5.1,  5.7,  5.4, 99. ,  4.4,  4.5,  5.3,  4.1,\n",
       "        8.4,  2.6,  3.8,  4.6,  4.8,  4. ,  3. ,  1.6,  4.2,  5.2,  4.7,\n",
       "        4.9,  3.9,  2.7,  3.3,  2.9, 28. ,  3.7,  1.4,  3.1, 97. ,  3.5,\n",
       "        3.2,  2.8,  1.5,  2.1,  2.5,  9.2,  3.4,  1.1,  3.6, 83. , 64. ,\n",
       "       91. , 94. , 62. , 79. , 90. , 19. , 88. ,  1. , 89. ,  1.3,  1.9,\n",
       "        1.8,  1.2,  1.7,  9. , 98. ,  8.9,  9.1])"
      ]
     },
     "execution_count": 21,
     "metadata": {},
     "output_type": "execute_result"
    }
   ],
   "source": [
    "data['ratings'].unique()"
   ]
  },
  {
   "cell_type": "code",
   "execution_count": 22,
   "metadata": {},
   "outputs": [],
   "source": [
    "data.loc[data['ratings'] > 10, 'ratings'] = data['ratings']/10"
   ]
  },
  {
   "cell_type": "code",
   "execution_count": 23,
   "metadata": {},
   "outputs": [
    {
     "data": {
      "text/plain": [
       "array([7.2, 6.6, 6.8, 7.7, 8.3, 8. , 7.8, 8.1, 7.1, 6. , 7.4, 5.8, 8.7,\n",
       "       6.3, 6.9, 5. , 4.3, 7.3, 7. , 6.4, nan, 8.2, 7.5, 6.7, 7.9, 5.9,\n",
       "       6.2, 5.6, 6.5, 2.4, 7.6, 6.1, 8.6, 8.5, 8.8, 5.5, 5.1, 5.7, 5.4,\n",
       "       9.9, 4.4, 4.5, 5.3, 4.1, 8.4, 2.6, 3.8, 4.6, 4.8, 4. , 3. , 1.6,\n",
       "       4.2, 5.2, 4.7, 4.9, 3.9, 2.7, 3.3, 2.9, 2.8, 3.7, 1.4, 3.1, 9.7,\n",
       "       3.5, 3.2, 1.5, 2.1, 2.5, 9.2, 3.4, 1.1, 3.6, 9.1, 9.4, 9. , 1.9,\n",
       "       1. , 8.9, 1.3, 1.8, 1.2, 1.7, 9.8])"
      ]
     },
     "execution_count": 23,
     "metadata": {},
     "output_type": "execute_result"
    }
   ],
   "source": [
    "data['ratings'].unique()"
   ]
  },
  {
   "cell_type": "code",
   "execution_count": 24,
   "metadata": {},
   "outputs": [
    {
     "data": {
      "text/plain": [
       "title                                 object\n",
       "puNumber                               int64\n",
       "show_start_date          datetime64[ns, UTC]\n",
       "type                                  object\n",
       "film_studio                           object\n",
       "production_country                    object\n",
       "director                              object\n",
       "producer                              object\n",
       "age_restriction                       object\n",
       "refundable_support                   float64\n",
       "nonrefundable_support                float64\n",
       "budget                               float64\n",
       "financing_source                      object\n",
       "ratings                              float64\n",
       "genres                                object\n",
       "box_office                           float64\n",
       "dtype: object"
      ]
     },
     "execution_count": 24,
     "metadata": {},
     "output_type": "execute_result"
    }
   ],
   "source": [
    "data.dtypes"
   ]
  },
  {
   "cell_type": "markdown",
   "metadata": {
    "id": "i0MOLbF-gFyP"
   },
   "source": [
    "### Обработка пропусков в датафрейме\n",
    "\n",
    "Посмотрим, в каких колонках имеются пропущенные значения и сколько их."
   ]
  },
  {
   "cell_type": "code",
   "execution_count": 25,
   "metadata": {},
   "outputs": [
    {
     "data": {
      "text/plain": [
       "7486"
      ]
     },
     "execution_count": 25,
     "metadata": {},
     "output_type": "execute_result"
    }
   ],
   "source": [
    "temp = data.copy() # создаем копию датасета до преобразования\n",
    "len(temp)"
   ]
  },
  {
   "cell_type": "code",
   "execution_count": 26,
   "metadata": {},
   "outputs": [
    {
     "data": {
      "text/plain": [
       "title                       0\n",
       "puNumber                    0\n",
       "show_start_date             0\n",
       "type                        0\n",
       "film_studio                18\n",
       "production_country          2\n",
       "director                    9\n",
       "producer                  568\n",
       "age_restriction             0\n",
       "refundable_support       7154\n",
       "nonrefundable_support    7154\n",
       "budget                   7154\n",
       "financing_source         7154\n",
       "ratings                   967\n",
       "genres                    976\n",
       "box_office               4328\n",
       "dtype: int64"
      ]
     },
     "execution_count": 26,
     "metadata": {},
     "output_type": "execute_result"
    }
   ],
   "source": [
    "data.isna().sum()"
   ]
  },
  {
   "cell_type": "markdown",
   "metadata": {},
   "source": [
    "**film_studio** \n",
    "<br>Пропуски в данной колонке невозможно восстановить, используя имеющиеся данные. Данные пропуски не будут играть большое значение в дальнейшем анализе. Заполним значением \"не определено\"."
   ]
  },
  {
   "cell_type": "code",
   "execution_count": 27,
   "metadata": {},
   "outputs": [],
   "source": [
    "data['film_studio'] = data['film_studio'].fillna('не определено')"
   ]
  },
  {
   "cell_type": "code",
   "execution_count": 28,
   "metadata": {},
   "outputs": [
    {
     "data": {
      "text/html": [
       "<div>\n",
       "<style scoped>\n",
       "    .dataframe tbody tr th:only-of-type {\n",
       "        vertical-align: middle;\n",
       "    }\n",
       "\n",
       "    .dataframe tbody tr th {\n",
       "        vertical-align: top;\n",
       "    }\n",
       "\n",
       "    .dataframe thead th {\n",
       "        text-align: right;\n",
       "    }\n",
       "</style>\n",
       "<table border=\"1\" class=\"dataframe\">\n",
       "  <thead>\n",
       "    <tr style=\"text-align: right;\">\n",
       "      <th></th>\n",
       "      <th>title</th>\n",
       "      <th>puNumber</th>\n",
       "      <th>show_start_date</th>\n",
       "      <th>type</th>\n",
       "      <th>film_studio</th>\n",
       "      <th>production_country</th>\n",
       "      <th>director</th>\n",
       "      <th>producer</th>\n",
       "      <th>age_restriction</th>\n",
       "      <th>refundable_support</th>\n",
       "      <th>nonrefundable_support</th>\n",
       "      <th>budget</th>\n",
       "      <th>financing_source</th>\n",
       "      <th>ratings</th>\n",
       "      <th>genres</th>\n",
       "      <th>box_office</th>\n",
       "    </tr>\n",
       "  </thead>\n",
       "  <tbody>\n",
       "  </tbody>\n",
       "</table>\n",
       "</div>"
      ],
      "text/plain": [
       "Empty DataFrame\n",
       "Columns: [title, puNumber, show_start_date, type, film_studio, production_country, director, producer, age_restriction, refundable_support, nonrefundable_support, budget, financing_source, ratings, genres, box_office]\n",
       "Index: []"
      ]
     },
     "execution_count": 28,
     "metadata": {},
     "output_type": "execute_result"
    }
   ],
   "source": [
    "data.query('film_studio.isna()')"
   ]
  },
  {
   "cell_type": "markdown",
   "metadata": {},
   "source": [
    "**production_country**"
   ]
  },
  {
   "cell_type": "code",
   "execution_count": 29,
   "metadata": {},
   "outputs": [
    {
     "data": {
      "text/html": [
       "<div>\n",
       "<style scoped>\n",
       "    .dataframe tbody tr th:only-of-type {\n",
       "        vertical-align: middle;\n",
       "    }\n",
       "\n",
       "    .dataframe tbody tr th {\n",
       "        vertical-align: top;\n",
       "    }\n",
       "\n",
       "    .dataframe thead th {\n",
       "        text-align: right;\n",
       "    }\n",
       "</style>\n",
       "<table border=\"1\" class=\"dataframe\">\n",
       "  <thead>\n",
       "    <tr style=\"text-align: right;\">\n",
       "      <th></th>\n",
       "      <th>title</th>\n",
       "      <th>puNumber</th>\n",
       "      <th>show_start_date</th>\n",
       "      <th>type</th>\n",
       "      <th>film_studio</th>\n",
       "      <th>production_country</th>\n",
       "      <th>director</th>\n",
       "      <th>producer</th>\n",
       "      <th>age_restriction</th>\n",
       "      <th>refundable_support</th>\n",
       "      <th>nonrefundable_support</th>\n",
       "      <th>budget</th>\n",
       "      <th>financing_source</th>\n",
       "      <th>ratings</th>\n",
       "      <th>genres</th>\n",
       "      <th>box_office</th>\n",
       "    </tr>\n",
       "  </thead>\n",
       "  <tbody>\n",
       "    <tr>\n",
       "      <th>3186</th>\n",
       "      <td>Детский юмористический киножурнал \"Ералаш. Ну ...</td>\n",
       "      <td>111001216</td>\n",
       "      <td>2016-02-09 12:00:00+00:00</td>\n",
       "      <td>Художественный</td>\n",
       "      <td>ООО \"Продюсерский центр ЕРАЛАШ\"</td>\n",
       "      <td>NaN</td>\n",
       "      <td>Р.Светлов, И.Магитон, А.Арутюнян, Л.Мирский, А...</td>\n",
       "      <td>ООО \"Продюсерский центр ЕРАЛАШ\"</td>\n",
       "      <td>0+</td>\n",
       "      <td>NaN</td>\n",
       "      <td>NaN</td>\n",
       "      <td>NaN</td>\n",
       "      <td>NaN</td>\n",
       "      <td>7.2</td>\n",
       "      <td>детский,комедия</td>\n",
       "      <td>0.194527</td>\n",
       "    </tr>\n",
       "    <tr>\n",
       "      <th>4441</th>\n",
       "      <td>Мульт личности. Выпуск 5</td>\n",
       "      <td>214000410</td>\n",
       "      <td>2010-01-25 12:00:00+00:00</td>\n",
       "      <td>Художественный</td>\n",
       "      <td>не определено</td>\n",
       "      <td>NaN</td>\n",
       "      <td>NaN</td>\n",
       "      <td>NaN</td>\n",
       "      <td>0+</td>\n",
       "      <td>NaN</td>\n",
       "      <td>NaN</td>\n",
       "      <td>NaN</td>\n",
       "      <td>NaN</td>\n",
       "      <td>4.0</td>\n",
       "      <td>мультфильм,комедия</td>\n",
       "      <td>NaN</td>\n",
       "    </tr>\n",
       "  </tbody>\n",
       "</table>\n",
       "</div>"
      ],
      "text/plain": [
       "                                                  title   puNumber  \\\n",
       "3186  Детский юмористический киножурнал \"Ералаш. Ну ...  111001216   \n",
       "4441                           Мульт личности. Выпуск 5  214000410   \n",
       "\n",
       "               show_start_date            type  \\\n",
       "3186 2016-02-09 12:00:00+00:00  Художественный   \n",
       "4441 2010-01-25 12:00:00+00:00  Художественный   \n",
       "\n",
       "                          film_studio production_country  \\\n",
       "3186  ООО \"Продюсерский центр ЕРАЛАШ\"                NaN   \n",
       "4441                    не определено                NaN   \n",
       "\n",
       "                                               director  \\\n",
       "3186  Р.Светлов, И.Магитон, А.Арутюнян, Л.Мирский, А...   \n",
       "4441                                                NaN   \n",
       "\n",
       "                             producer age_restriction  refundable_support  \\\n",
       "3186  ООО \"Продюсерский центр ЕРАЛАШ\"              0+                 NaN   \n",
       "4441                              NaN              0+                 NaN   \n",
       "\n",
       "      nonrefundable_support  budget financing_source  ratings  \\\n",
       "3186                    NaN     NaN              NaN      7.2   \n",
       "4441                    NaN     NaN              NaN      4.0   \n",
       "\n",
       "                  genres  box_office  \n",
       "3186     детский,комедия    0.194527  \n",
       "4441  мультфильм,комедия         NaN  "
      ]
     },
     "execution_count": 29,
     "metadata": {},
     "output_type": "execute_result"
    }
   ],
   "source": [
    "data.query('production_country.isna()')"
   ]
  },
  {
   "cell_type": "markdown",
   "metadata": {},
   "source": [
    "Оба фильма были сняты в России"
   ]
  },
  {
   "cell_type": "code",
   "execution_count": 30,
   "metadata": {},
   "outputs": [],
   "source": [
    "data['production_country'] = data['production_country'].fillna('Россия')"
   ]
  },
  {
   "cell_type": "markdown",
   "metadata": {},
   "source": [
    "**director**\n",
    "<br> По большей части без режисеров концерты. Заполним пропуска на \"отсутствует\""
   ]
  },
  {
   "cell_type": "code",
   "execution_count": 31,
   "metadata": {},
   "outputs": [],
   "source": [
    "data['director'] = data['director'].fillna('отсутствует')"
   ]
  },
  {
   "cell_type": "code",
   "execution_count": 32,
   "metadata": {},
   "outputs": [
    {
     "data": {
      "text/html": [
       "<div>\n",
       "<style scoped>\n",
       "    .dataframe tbody tr th:only-of-type {\n",
       "        vertical-align: middle;\n",
       "    }\n",
       "\n",
       "    .dataframe tbody tr th {\n",
       "        vertical-align: top;\n",
       "    }\n",
       "\n",
       "    .dataframe thead th {\n",
       "        text-align: right;\n",
       "    }\n",
       "</style>\n",
       "<table border=\"1\" class=\"dataframe\">\n",
       "  <thead>\n",
       "    <tr style=\"text-align: right;\">\n",
       "      <th></th>\n",
       "      <th>title</th>\n",
       "      <th>puNumber</th>\n",
       "      <th>show_start_date</th>\n",
       "      <th>type</th>\n",
       "      <th>film_studio</th>\n",
       "      <th>production_country</th>\n",
       "      <th>director</th>\n",
       "      <th>producer</th>\n",
       "      <th>age_restriction</th>\n",
       "      <th>refundable_support</th>\n",
       "      <th>nonrefundable_support</th>\n",
       "      <th>budget</th>\n",
       "      <th>financing_source</th>\n",
       "      <th>ratings</th>\n",
       "      <th>genres</th>\n",
       "      <th>box_office</th>\n",
       "    </tr>\n",
       "  </thead>\n",
       "  <tbody>\n",
       "  </tbody>\n",
       "</table>\n",
       "</div>"
      ],
      "text/plain": [
       "Empty DataFrame\n",
       "Columns: [title, puNumber, show_start_date, type, film_studio, production_country, director, producer, age_restriction, refundable_support, nonrefundable_support, budget, financing_source, ratings, genres, box_office]\n",
       "Index: []"
      ]
     },
     "execution_count": 32,
     "metadata": {},
     "output_type": "execute_result"
    }
   ],
   "source": [
    "data.query('director.isna()')"
   ]
  },
  {
   "cell_type": "markdown",
   "metadata": {},
   "source": [
    "**producer**\n",
    "<br>Пропуски в этой колонке также заполним \"не определено\""
   ]
  },
  {
   "cell_type": "code",
   "execution_count": 33,
   "metadata": {},
   "outputs": [],
   "source": [
    "data['producer'] = data['producer'].fillna('не определено')"
   ]
  },
  {
   "cell_type": "markdown",
   "metadata": {},
   "source": [
    "**refundable_support, nonrefundable_support, budget, financing_source**\n",
    "<br>Пропуски в данных колонках указывают на отсутствие российской господдержки у фильма. Заменим пропуски в колонках *refundable_support, nonrefundable_support, budget* на 0 (позже исправим нули в *budget* на более адекватные значения), а в колонке *financing_source* на \"нет\". Переведем колонки в формат int"
   ]
  },
  {
   "cell_type": "code",
   "execution_count": 34,
   "metadata": {},
   "outputs": [
    {
     "data": {
      "text/html": [
       "<div>\n",
       "<style scoped>\n",
       "    .dataframe tbody tr th:only-of-type {\n",
       "        vertical-align: middle;\n",
       "    }\n",
       "\n",
       "    .dataframe tbody tr th {\n",
       "        vertical-align: top;\n",
       "    }\n",
       "\n",
       "    .dataframe thead th {\n",
       "        text-align: right;\n",
       "    }\n",
       "</style>\n",
       "<table border=\"1\" class=\"dataframe\">\n",
       "  <thead>\n",
       "    <tr style=\"text-align: right;\">\n",
       "      <th></th>\n",
       "      <th>title</th>\n",
       "      <th>puNumber</th>\n",
       "      <th>show_start_date</th>\n",
       "      <th>type</th>\n",
       "      <th>film_studio</th>\n",
       "      <th>production_country</th>\n",
       "      <th>director</th>\n",
       "      <th>producer</th>\n",
       "      <th>age_restriction</th>\n",
       "      <th>refundable_support</th>\n",
       "      <th>nonrefundable_support</th>\n",
       "      <th>budget</th>\n",
       "      <th>financing_source</th>\n",
       "      <th>ratings</th>\n",
       "      <th>genres</th>\n",
       "      <th>box_office</th>\n",
       "    </tr>\n",
       "  </thead>\n",
       "  <tbody>\n",
       "    <tr>\n",
       "      <th>2053</th>\n",
       "      <td>14+</td>\n",
       "      <td>111023614</td>\n",
       "      <td>2014-12-19 12:00:00+00:00</td>\n",
       "      <td>Художественный</td>\n",
       "      <td>ООО Киностудия  \"Сентябрь\"</td>\n",
       "      <td>Россия</td>\n",
       "      <td>А.Зайцев</td>\n",
       "      <td>О.Гранина, А.Зайцев</td>\n",
       "      <td>16+</td>\n",
       "      <td>0.0</td>\n",
       "      <td>23000000.0</td>\n",
       "      <td>0.0</td>\n",
       "      <td>Министерство культуры, Фонд кино</td>\n",
       "      <td>6.6</td>\n",
       "      <td>мелодрама</td>\n",
       "      <td>10.234016</td>\n",
       "    </tr>\n",
       "    <tr>\n",
       "      <th>2058</th>\n",
       "      <td>Дуxless 2</td>\n",
       "      <td>111000415</td>\n",
       "      <td>2015-01-26 12:00:00+00:00</td>\n",
       "      <td>Художественный</td>\n",
       "      <td>ООО \"Киностудия \"Слово\", ООО \"Арт Пикчерс Студия\"</td>\n",
       "      <td>Россия</td>\n",
       "      <td>Р.Прыгунов</td>\n",
       "      <td>П.Ануров, Ф.Бондарчук, Д.Рудовский</td>\n",
       "      <td>16+</td>\n",
       "      <td>0.0</td>\n",
       "      <td>75000000.0</td>\n",
       "      <td>0.0</td>\n",
       "      <td>Фонд кино</td>\n",
       "      <td>6.6</td>\n",
       "      <td>драма</td>\n",
       "      <td>446.163511</td>\n",
       "    </tr>\n",
       "    <tr>\n",
       "      <th>2472</th>\n",
       "      <td>Воин (2015)</td>\n",
       "      <td>111017315</td>\n",
       "      <td>2015-09-28 12:00:00+00:00</td>\n",
       "      <td>Художественный</td>\n",
       "      <td>ООО \"Форпост Продакшн\", ООО \"Арт Пикчерс Студия\"</td>\n",
       "      <td>Россия</td>\n",
       "      <td>А.Андрианов</td>\n",
       "      <td>ООО \"Арт Пикчерс Студия\"</td>\n",
       "      <td>12+</td>\n",
       "      <td>10000000.0</td>\n",
       "      <td>70000000.0</td>\n",
       "      <td>0.0</td>\n",
       "      <td>Фонд кино</td>\n",
       "      <td>7.8</td>\n",
       "      <td>боевик,драма,криминал</td>\n",
       "      <td>196.572438</td>\n",
       "    </tr>\n",
       "    <tr>\n",
       "      <th>2532</th>\n",
       "      <td>Бармен.</td>\n",
       "      <td>111009615</td>\n",
       "      <td>2015-05-26 12:00:00+00:00</td>\n",
       "      <td>Художественный</td>\n",
       "      <td>АО \"ВайТ Медиа\", ООО \"Арт Пикчерс Студия\"</td>\n",
       "      <td>Россия</td>\n",
       "      <td>Д.Штурманова</td>\n",
       "      <td>Т.Вайнштейн</td>\n",
       "      <td>16+</td>\n",
       "      <td>20000000.0</td>\n",
       "      <td>0.0</td>\n",
       "      <td>0.0</td>\n",
       "      <td>Фонд кино</td>\n",
       "      <td>6.2</td>\n",
       "      <td>комедия,фэнтези</td>\n",
       "      <td>67.418975</td>\n",
       "    </tr>\n",
       "    <tr>\n",
       "      <th>2615</th>\n",
       "      <td>Савва. Сердце воина</td>\n",
       "      <td>114001715</td>\n",
       "      <td>2015-07-21 12:00:00+00:00</td>\n",
       "      <td>Анимационный</td>\n",
       "      <td>ООО \"Глюкоза Продакшн\", ООО \"Арт Пикчерс Студия\"</td>\n",
       "      <td>Россия</td>\n",
       "      <td>М.Фадеев</td>\n",
       "      <td>А.Чистяков</td>\n",
       "      <td>6+</td>\n",
       "      <td>60000000.0</td>\n",
       "      <td>100000000.0</td>\n",
       "      <td>0.0</td>\n",
       "      <td>Фонд кино</td>\n",
       "      <td>4.6</td>\n",
       "      <td>мультфильм,приключения,фэнтези</td>\n",
       "      <td>184.487551</td>\n",
       "    </tr>\n",
       "    <tr>\n",
       "      <th>2684</th>\n",
       "      <td>Тряпичный союз</td>\n",
       "      <td>111010215</td>\n",
       "      <td>2015-06-08 12:00:00+00:00</td>\n",
       "      <td>Художественный</td>\n",
       "      <td>ООО \"Кинокомпания \"КОКТЕБЕЛЬ\"</td>\n",
       "      <td>Россия</td>\n",
       "      <td>М.Местецкий</td>\n",
       "      <td>Р.Борисевич, А.Кушаев</td>\n",
       "      <td>18+</td>\n",
       "      <td>0.0</td>\n",
       "      <td>59000000.0</td>\n",
       "      <td>0.0</td>\n",
       "      <td>Фонд кино</td>\n",
       "      <td>6.3</td>\n",
       "      <td>комедия,драма</td>\n",
       "      <td>1.957739</td>\n",
       "    </tr>\n",
       "    <tr>\n",
       "      <th>2788</th>\n",
       "      <td>Срочно выйду замуж</td>\n",
       "      <td>111017115</td>\n",
       "      <td>2015-09-30 12:00:00+00:00</td>\n",
       "      <td>Художественный</td>\n",
       "      <td>АО \"ВайТ Медиа\", ООО \"Арт Пикчерс Студия\"</td>\n",
       "      <td>Россия</td>\n",
       "      <td>С Чекалов</td>\n",
       "      <td>Ф.Бондарчук, Т.Вайнштейн, Д.Рудовский</td>\n",
       "      <td>16+</td>\n",
       "      <td>0.0</td>\n",
       "      <td>35000000.0</td>\n",
       "      <td>0.0</td>\n",
       "      <td>Фонд кино</td>\n",
       "      <td>5.1</td>\n",
       "      <td>комедия,мелодрама</td>\n",
       "      <td>72.937783</td>\n",
       "    </tr>\n",
       "    <tr>\n",
       "      <th>2874</th>\n",
       "      <td>Помню - не помню!</td>\n",
       "      <td>111004916</td>\n",
       "      <td>2016-03-01 12:00:00+00:00</td>\n",
       "      <td>Художественный</td>\n",
       "      <td>ООО \"КиноФирма\"</td>\n",
       "      <td>Россия</td>\n",
       "      <td>В.Ровенский</td>\n",
       "      <td>ООО \"КиноФирма\"</td>\n",
       "      <td>12+</td>\n",
       "      <td>0.0</td>\n",
       "      <td>6000000.0</td>\n",
       "      <td>0.0</td>\n",
       "      <td>Министерство культуры</td>\n",
       "      <td>4.3</td>\n",
       "      <td>комедия</td>\n",
       "      <td>15.362931</td>\n",
       "    </tr>\n",
       "    <tr>\n",
       "      <th>3047</th>\n",
       "      <td>Любовь с ограничениями</td>\n",
       "      <td>111008216</td>\n",
       "      <td>2016-04-29 12:00:00+00:00</td>\n",
       "      <td>Художественный</td>\n",
       "      <td>АО \"ВайТ Медиа\", ООО \"Арт Пикчерс Студия\"</td>\n",
       "      <td>Россия</td>\n",
       "      <td>Д.Тюрин</td>\n",
       "      <td>Ф.Бондарчук, Т.Вайнштейн, Д.Рудовский</td>\n",
       "      <td>16+</td>\n",
       "      <td>19000000.0</td>\n",
       "      <td>51000000.0</td>\n",
       "      <td>0.0</td>\n",
       "      <td>Фонд кино</td>\n",
       "      <td>6.3</td>\n",
       "      <td>комедия,мелодрама</td>\n",
       "      <td>70.299052</td>\n",
       "    </tr>\n",
       "    <tr>\n",
       "      <th>3565</th>\n",
       "      <td>Притяжение (2016)</td>\n",
       "      <td>111018116</td>\n",
       "      <td>2016-12-16 12:00:00+00:00</td>\n",
       "      <td>Художественный</td>\n",
       "      <td>ООО \"Водород 2011\",  ООО \"Арт Пикчерс Студия\"</td>\n",
       "      <td>Россия</td>\n",
       "      <td>Ф.Бондарчук</td>\n",
       "      <td>ООО \"Арт Пикчерс Студия\"</td>\n",
       "      <td>12+</td>\n",
       "      <td>0.0</td>\n",
       "      <td>250000000.0</td>\n",
       "      <td>0.0</td>\n",
       "      <td>Фонд кино</td>\n",
       "      <td>5.6</td>\n",
       "      <td>фантастика</td>\n",
       "      <td>1038.321489</td>\n",
       "    </tr>\n",
       "    <tr>\n",
       "      <th>3675</th>\n",
       "      <td>Чудо-юдо</td>\n",
       "      <td>114001817</td>\n",
       "      <td>2017-06-27 12:00:00+00:00</td>\n",
       "      <td>Анимационный</td>\n",
       "      <td>ООО \"КиноФирма\"</td>\n",
       "      <td>Россия</td>\n",
       "      <td>А.Лукичев</td>\n",
       "      <td>ООО \"КиноФирма\"</td>\n",
       "      <td>6+</td>\n",
       "      <td>20000000.0</td>\n",
       "      <td>20000000.0</td>\n",
       "      <td>0.0</td>\n",
       "      <td>Фонд кино</td>\n",
       "      <td>5.2</td>\n",
       "      <td>мультфильм,фэнтези,семейный</td>\n",
       "      <td>55.108015</td>\n",
       "    </tr>\n",
       "    <tr>\n",
       "      <th>3739</th>\n",
       "      <td>Мифы</td>\n",
       "      <td>111004317</td>\n",
       "      <td>2017-06-07 12:00:00+00:00</td>\n",
       "      <td>Художественный</td>\n",
       "      <td>ООО \"ХАЙПФИЛМ\", ООО \"Арт Пикчерс Студия\"</td>\n",
       "      <td>Россия</td>\n",
       "      <td>А.Молочников</td>\n",
       "      <td>Ф.Бондарчук, Д.Рудовский, И.Стюарт, М.Османн, ...</td>\n",
       "      <td>16+</td>\n",
       "      <td>25000000.0</td>\n",
       "      <td>20000000.0</td>\n",
       "      <td>0.0</td>\n",
       "      <td>Фонд кино</td>\n",
       "      <td>4.8</td>\n",
       "      <td>комедия</td>\n",
       "      <td>50.451949</td>\n",
       "    </tr>\n",
       "    <tr>\n",
       "      <th>5673</th>\n",
       "      <td>Селфи</td>\n",
       "      <td>111012117</td>\n",
       "      <td>2018-02-01 12:00:00+00:00</td>\n",
       "      <td>Художественный</td>\n",
       "      <td>ООО \"Киностудия \"Слово\", ООО \"Арт Пикчерс Студия\"</td>\n",
       "      <td>Россия</td>\n",
       "      <td>Н.Хомерики</td>\n",
       "      <td>П.Ануров, Ф.Бондарчук, Д.Рудовский</td>\n",
       "      <td>16+</td>\n",
       "      <td>20000000.0</td>\n",
       "      <td>40000000.0</td>\n",
       "      <td>0.0</td>\n",
       "      <td>Фонд кино</td>\n",
       "      <td>5.8</td>\n",
       "      <td>триллер,драма</td>\n",
       "      <td>225.196400</td>\n",
       "    </tr>\n",
       "    <tr>\n",
       "      <th>5806</th>\n",
       "      <td>Два хвоста</td>\n",
       "      <td>114001018</td>\n",
       "      <td>2018-05-31 12:00:00+00:00</td>\n",
       "      <td>Анимационный</td>\n",
       "      <td>ООО \"ЛИЦЕНЗИОННЫЕ БРЕНДЫ\"</td>\n",
       "      <td>Россия</td>\n",
       "      <td>В.Ровенский, Н.Лопато, В.Азеев</td>\n",
       "      <td>ООО \"ЛИЦЕНЗИОННЫЕ БРЕНДЫ\"</td>\n",
       "      <td>6+</td>\n",
       "      <td>10000000.0</td>\n",
       "      <td>60000000.0</td>\n",
       "      <td>0.0</td>\n",
       "      <td>Фонд кино</td>\n",
       "      <td>5.0</td>\n",
       "      <td>мультфильм,детский</td>\n",
       "      <td>106.514301</td>\n",
       "    </tr>\n",
       "    <tr>\n",
       "      <th>6008</th>\n",
       "      <td>Принцесса и дракон</td>\n",
       "      <td>114003018</td>\n",
       "      <td>2018-08-23 12:00:00+00:00</td>\n",
       "      <td>Анимационный</td>\n",
       "      <td>ООО \"ЛИЦЕНЗИОННЫЕ БРЕНДЫ\"</td>\n",
       "      <td>Россия</td>\n",
       "      <td>М.Нефедова</td>\n",
       "      <td>ООО \"ЛИЦЕНЗИОННЫЕ БРЕНДЫ\"</td>\n",
       "      <td>6+</td>\n",
       "      <td>40000000.0</td>\n",
       "      <td>40000000.0</td>\n",
       "      <td>0.0</td>\n",
       "      <td>Фонд кино</td>\n",
       "      <td>5.2</td>\n",
       "      <td>мультфильм,фэнтези,детский</td>\n",
       "      <td>83.366329</td>\n",
       "    </tr>\n",
       "    <tr>\n",
       "      <th>6323</th>\n",
       "      <td>Баба Яга</td>\n",
       "      <td>114006518</td>\n",
       "      <td>2018-11-08 12:00:00+00:00</td>\n",
       "      <td>Анимационный</td>\n",
       "      <td>ООО \"Арт Пикчерс Студия\"</td>\n",
       "      <td>Россия</td>\n",
       "      <td>В.Саков</td>\n",
       "      <td>ООО \"Арт Пикчерс Студия\", ООО \"КРИЭЙТИВ АНИМЭЙ...</td>\n",
       "      <td>6+</td>\n",
       "      <td>0.0</td>\n",
       "      <td>138969465.0</td>\n",
       "      <td>0.0</td>\n",
       "      <td>Фонд кино</td>\n",
       "      <td>NaN</td>\n",
       "      <td>NaN</td>\n",
       "      <td>1.334699</td>\n",
       "    </tr>\n",
       "    <tr>\n",
       "      <th>6823</th>\n",
       "      <td>Большое путешествие</td>\n",
       "      <td>114002419</td>\n",
       "      <td>2019-04-20 12:00:00+00:00</td>\n",
       "      <td>Анимационный</td>\n",
       "      <td>ООО \"ЛИЦЕНЗИОННЫЕ БРЕНДЫ\"</td>\n",
       "      <td>Россия</td>\n",
       "      <td>Н.Лопато, В.Ровенский</td>\n",
       "      <td>ООО \"ЛИЦЕНЗИОННЫЕ БРЕНДЫ\"</td>\n",
       "      <td>6+</td>\n",
       "      <td>60000000.0</td>\n",
       "      <td>120000000.0</td>\n",
       "      <td>0.0</td>\n",
       "      <td>Фонд кино</td>\n",
       "      <td>6.2</td>\n",
       "      <td>мультфильм,комедия,приключения</td>\n",
       "      <td>147.606827</td>\n",
       "    </tr>\n",
       "  </tbody>\n",
       "</table>\n",
       "</div>"
      ],
      "text/plain": [
       "                       title   puNumber           show_start_date  \\\n",
       "2053                     14+  111023614 2014-12-19 12:00:00+00:00   \n",
       "2058               Дуxless 2  111000415 2015-01-26 12:00:00+00:00   \n",
       "2472             Воин (2015)  111017315 2015-09-28 12:00:00+00:00   \n",
       "2532                 Бармен.  111009615 2015-05-26 12:00:00+00:00   \n",
       "2615     Савва. Сердце воина  114001715 2015-07-21 12:00:00+00:00   \n",
       "2684          Тряпичный союз  111010215 2015-06-08 12:00:00+00:00   \n",
       "2788      Срочно выйду замуж  111017115 2015-09-30 12:00:00+00:00   \n",
       "2874       Помню - не помню!  111004916 2016-03-01 12:00:00+00:00   \n",
       "3047  Любовь с ограничениями  111008216 2016-04-29 12:00:00+00:00   \n",
       "3565       Притяжение (2016)  111018116 2016-12-16 12:00:00+00:00   \n",
       "3675                Чудо-юдо  114001817 2017-06-27 12:00:00+00:00   \n",
       "3739                    Мифы  111004317 2017-06-07 12:00:00+00:00   \n",
       "5673                   Селфи  111012117 2018-02-01 12:00:00+00:00   \n",
       "5806              Два хвоста  114001018 2018-05-31 12:00:00+00:00   \n",
       "6008      Принцесса и дракон  114003018 2018-08-23 12:00:00+00:00   \n",
       "6323                Баба Яга  114006518 2018-11-08 12:00:00+00:00   \n",
       "6823     Большое путешествие  114002419 2019-04-20 12:00:00+00:00   \n",
       "\n",
       "                 type                                        film_studio  \\\n",
       "2053   Художественный                         ООО Киностудия  \"Сентябрь\"   \n",
       "2058   Художественный  ООО \"Киностудия \"Слово\", ООО \"Арт Пикчерс Студия\"   \n",
       "2472   Художественный   ООО \"Форпост Продакшн\", ООО \"Арт Пикчерс Студия\"   \n",
       "2532   Художественный          АО \"ВайТ Медиа\", ООО \"Арт Пикчерс Студия\"   \n",
       "2615     Анимационный   ООО \"Глюкоза Продакшн\", ООО \"Арт Пикчерс Студия\"   \n",
       "2684   Художественный                      ООО \"Кинокомпания \"КОКТЕБЕЛЬ\"   \n",
       "2788   Художественный          АО \"ВайТ Медиа\", ООО \"Арт Пикчерс Студия\"   \n",
       "2874   Художественный                                    ООО \"КиноФирма\"   \n",
       "3047   Художественный          АО \"ВайТ Медиа\", ООО \"Арт Пикчерс Студия\"   \n",
       "3565   Художественный      ООО \"Водород 2011\",  ООО \"Арт Пикчерс Студия\"   \n",
       "3675     Анимационный                                    ООО \"КиноФирма\"   \n",
       "3739   Художественный           ООО \"ХАЙПФИЛМ\", ООО \"Арт Пикчерс Студия\"   \n",
       "5673   Художественный  ООО \"Киностудия \"Слово\", ООО \"Арт Пикчерс Студия\"   \n",
       "5806     Анимационный                          ООО \"ЛИЦЕНЗИОННЫЕ БРЕНДЫ\"   \n",
       "6008     Анимационный                          ООО \"ЛИЦЕНЗИОННЫЕ БРЕНДЫ\"   \n",
       "6323     Анимационный                           ООО \"Арт Пикчерс Студия\"   \n",
       "6823     Анимационный                          ООО \"ЛИЦЕНЗИОННЫЕ БРЕНДЫ\"   \n",
       "\n",
       "     production_country                        director  \\\n",
       "2053             Россия                        А.Зайцев   \n",
       "2058             Россия                      Р.Прыгунов   \n",
       "2472             Россия                     А.Андрианов   \n",
       "2532             Россия                    Д.Штурманова   \n",
       "2615             Россия                        М.Фадеев   \n",
       "2684             Россия                     М.Местецкий   \n",
       "2788             Россия                       С Чекалов   \n",
       "2874             Россия                     В.Ровенский   \n",
       "3047             Россия                         Д.Тюрин   \n",
       "3565             Россия                     Ф.Бондарчук   \n",
       "3675             Россия                       А.Лукичев   \n",
       "3739             Россия                    А.Молочников   \n",
       "5673             Россия                      Н.Хомерики   \n",
       "5806             Россия  В.Ровенский, Н.Лопато, В.Азеев   \n",
       "6008             Россия                      М.Нефедова   \n",
       "6323             Россия                         В.Саков   \n",
       "6823             Россия           Н.Лопато, В.Ровенский   \n",
       "\n",
       "                                               producer age_restriction  \\\n",
       "2053                                О.Гранина, А.Зайцев             16+   \n",
       "2058                 П.Ануров, Ф.Бондарчук, Д.Рудовский             16+   \n",
       "2472                           ООО \"Арт Пикчерс Студия\"             12+   \n",
       "2532                                        Т.Вайнштейн             16+   \n",
       "2615                                         А.Чистяков              6+   \n",
       "2684                              Р.Борисевич, А.Кушаев             18+   \n",
       "2788              Ф.Бондарчук, Т.Вайнштейн, Д.Рудовский             16+   \n",
       "2874                                    ООО \"КиноФирма\"             12+   \n",
       "3047              Ф.Бондарчук, Т.Вайнштейн, Д.Рудовский             16+   \n",
       "3565                           ООО \"Арт Пикчерс Студия\"             12+   \n",
       "3675                                    ООО \"КиноФирма\"              6+   \n",
       "3739  Ф.Бондарчук, Д.Рудовский, И.Стюарт, М.Османн, ...             16+   \n",
       "5673                 П.Ануров, Ф.Бондарчук, Д.Рудовский             16+   \n",
       "5806                          ООО \"ЛИЦЕНЗИОННЫЕ БРЕНДЫ\"              6+   \n",
       "6008                          ООО \"ЛИЦЕНЗИОННЫЕ БРЕНДЫ\"              6+   \n",
       "6323  ООО \"Арт Пикчерс Студия\", ООО \"КРИЭЙТИВ АНИМЭЙ...              6+   \n",
       "6823                          ООО \"ЛИЦЕНЗИОННЫЕ БРЕНДЫ\"              6+   \n",
       "\n",
       "      refundable_support  nonrefundable_support  budget  \\\n",
       "2053                 0.0             23000000.0     0.0   \n",
       "2058                 0.0             75000000.0     0.0   \n",
       "2472          10000000.0             70000000.0     0.0   \n",
       "2532          20000000.0                    0.0     0.0   \n",
       "2615          60000000.0            100000000.0     0.0   \n",
       "2684                 0.0             59000000.0     0.0   \n",
       "2788                 0.0             35000000.0     0.0   \n",
       "2874                 0.0              6000000.0     0.0   \n",
       "3047          19000000.0             51000000.0     0.0   \n",
       "3565                 0.0            250000000.0     0.0   \n",
       "3675          20000000.0             20000000.0     0.0   \n",
       "3739          25000000.0             20000000.0     0.0   \n",
       "5673          20000000.0             40000000.0     0.0   \n",
       "5806          10000000.0             60000000.0     0.0   \n",
       "6008          40000000.0             40000000.0     0.0   \n",
       "6323                 0.0            138969465.0     0.0   \n",
       "6823          60000000.0            120000000.0     0.0   \n",
       "\n",
       "                      financing_source  ratings  \\\n",
       "2053  Министерство культуры, Фонд кино      6.6   \n",
       "2058                         Фонд кино      6.6   \n",
       "2472                         Фонд кино      7.8   \n",
       "2532                         Фонд кино      6.2   \n",
       "2615                         Фонд кино      4.6   \n",
       "2684                         Фонд кино      6.3   \n",
       "2788                         Фонд кино      5.1   \n",
       "2874             Министерство культуры      4.3   \n",
       "3047                         Фонд кино      6.3   \n",
       "3565                         Фонд кино      5.6   \n",
       "3675                         Фонд кино      5.2   \n",
       "3739                         Фонд кино      4.8   \n",
       "5673                         Фонд кино      5.8   \n",
       "5806                         Фонд кино      5.0   \n",
       "6008                         Фонд кино      5.2   \n",
       "6323                         Фонд кино      NaN   \n",
       "6823                         Фонд кино      6.2   \n",
       "\n",
       "                              genres   box_office  \n",
       "2053                       мелодрама    10.234016  \n",
       "2058                           драма   446.163511  \n",
       "2472           боевик,драма,криминал   196.572438  \n",
       "2532                 комедия,фэнтези    67.418975  \n",
       "2615  мультфильм,приключения,фэнтези   184.487551  \n",
       "2684                   комедия,драма     1.957739  \n",
       "2788               комедия,мелодрама    72.937783  \n",
       "2874                         комедия    15.362931  \n",
       "3047               комедия,мелодрама    70.299052  \n",
       "3565                      фантастика  1038.321489  \n",
       "3675     мультфильм,фэнтези,семейный    55.108015  \n",
       "3739                         комедия    50.451949  \n",
       "5673                   триллер,драма   225.196400  \n",
       "5806              мультфильм,детский   106.514301  \n",
       "6008      мультфильм,фэнтези,детский    83.366329  \n",
       "6323                             NaN     1.334699  \n",
       "6823  мультфильм,комедия,приключения   147.606827  "
      ]
     },
     "execution_count": 34,
     "metadata": {},
     "output_type": "execute_result"
    }
   ],
   "source": [
    "data.query('budget == 0')"
   ]
  },
  {
   "cell_type": "code",
   "execution_count": 35,
   "metadata": {},
   "outputs": [
    {
     "data": {
      "text/plain": [
       "array(['Министерство культуры', 'Фонд кино',\n",
       "       'Министерство культуры, Фонд кино'], dtype=object)"
      ]
     },
     "execution_count": 35,
     "metadata": {},
     "output_type": "execute_result"
    }
   ],
   "source": [
    "data.query('~refundable_support.isna()')['financing_source'].unique()"
   ]
  },
  {
   "cell_type": "code",
   "execution_count": 36,
   "metadata": {},
   "outputs": [],
   "source": [
    "data[['refundable_support', 'nonrefundable_support', 'budget']] = (\n",
    "    data[['refundable_support', 'nonrefundable_support', 'budget']].fillna(0))\n",
    "\n",
    "data['financing_source'] = data['financing_source'].fillna('нет')\n",
    "\n",
    "data[['refundable_support', 'nonrefundable_support', 'budget']] = (\n",
    "    data[['refundable_support', 'nonrefundable_support', 'budget']].astype(int))"
   ]
  },
  {
   "cell_type": "markdown",
   "metadata": {},
   "source": [
    "**ratings, genres**\n",
    "<br>Нет возможност заполнить по имеющимся данным. Оставим пропуски"
   ]
  },
  {
   "cell_type": "code",
   "execution_count": 37,
   "metadata": {},
   "outputs": [
    {
     "data": {
      "text/plain": [
       "title                       0\n",
       "puNumber                    0\n",
       "show_start_date             0\n",
       "type                        0\n",
       "film_studio                 0\n",
       "production_country          0\n",
       "director                    0\n",
       "producer                    0\n",
       "age_restriction             0\n",
       "refundable_support          0\n",
       "nonrefundable_support       0\n",
       "budget                      0\n",
       "financing_source            0\n",
       "ratings                   967\n",
       "genres                    976\n",
       "box_office               4328\n",
       "dtype: int64"
      ]
     },
     "execution_count": 37,
     "metadata": {},
     "output_type": "execute_result"
    }
   ],
   "source": [
    "data.isna().sum()"
   ]
  },
  {
   "cell_type": "markdown",
   "metadata": {},
   "source": [
    "**box_office**\n",
    "<br>Оставим пропуски"
   ]
  },
  {
   "cell_type": "markdown",
   "metadata": {
    "id": "4c6k1t9ygFyQ"
   },
   "source": [
    "### Обработка дубликатов в датафрейме"
   ]
  },
  {
   "cell_type": "code",
   "execution_count": 38,
   "metadata": {
    "id": "aKck8RIdgFyQ"
   },
   "outputs": [
    {
     "data": {
      "text/plain": [
       "0"
      ]
     },
     "execution_count": 38,
     "metadata": {},
     "output_type": "execute_result"
    }
   ],
   "source": [
    "data.duplicated().sum()"
   ]
  },
  {
   "cell_type": "markdown",
   "metadata": {},
   "source": [
    "Полностью идентичных строк нет. Есть фильмы, которые имеют несколько дат проката. Скорее всего это вызвано повторными премьерами в кинотеатрах. Имеются строки с одинаковыми значениями в колонках *title, financing_source, ratings, box_office*."
   ]
  },
  {
   "cell_type": "code",
   "execution_count": 39,
   "metadata": {},
   "outputs": [
    {
     "data": {
      "text/html": [
       "<div>\n",
       "<style scoped>\n",
       "    .dataframe tbody tr th:only-of-type {\n",
       "        vertical-align: middle;\n",
       "    }\n",
       "\n",
       "    .dataframe tbody tr th {\n",
       "        vertical-align: top;\n",
       "    }\n",
       "\n",
       "    .dataframe thead th {\n",
       "        text-align: right;\n",
       "    }\n",
       "</style>\n",
       "<table border=\"1\" class=\"dataframe\">\n",
       "  <thead>\n",
       "    <tr style=\"text-align: right;\">\n",
       "      <th></th>\n",
       "      <th>title</th>\n",
       "      <th>puNumber</th>\n",
       "      <th>show_start_date</th>\n",
       "      <th>type</th>\n",
       "      <th>film_studio</th>\n",
       "      <th>production_country</th>\n",
       "      <th>director</th>\n",
       "      <th>producer</th>\n",
       "      <th>age_restriction</th>\n",
       "      <th>refundable_support</th>\n",
       "      <th>nonrefundable_support</th>\n",
       "      <th>budget</th>\n",
       "      <th>financing_source</th>\n",
       "      <th>ratings</th>\n",
       "      <th>genres</th>\n",
       "      <th>box_office</th>\n",
       "    </tr>\n",
       "  </thead>\n",
       "  <tbody>\n",
       "    <tr>\n",
       "      <th>0</th>\n",
       "      <td>Открытый простор</td>\n",
       "      <td>221048915</td>\n",
       "      <td>2015-11-27 12:00:00+00:00</td>\n",
       "      <td>Художественный</td>\n",
       "      <td>Тачстоун Пикчерз, Кобальт Пикчерз, Бикон Пикче...</td>\n",
       "      <td>США</td>\n",
       "      <td>Кевин Костнер</td>\n",
       "      <td>Дэвид Валдес, Кевин Костнер, Джейк Эбертс</td>\n",
       "      <td>18+</td>\n",
       "      <td>0</td>\n",
       "      <td>0</td>\n",
       "      <td>0</td>\n",
       "      <td>нет</td>\n",
       "      <td>7.2</td>\n",
       "      <td>боевик,драма,мелодрама</td>\n",
       "      <td>NaN</td>\n",
       "    </tr>\n",
       "    <tr>\n",
       "      <th>1</th>\n",
       "      <td>Особо важное задание</td>\n",
       "      <td>111013716</td>\n",
       "      <td>2016-09-13 12:00:00+00:00</td>\n",
       "      <td>Художественный</td>\n",
       "      <td>Киностудия \"Мосфильм\"</td>\n",
       "      <td>СССР</td>\n",
       "      <td>Е.Матвеев</td>\n",
       "      <td>не определено</td>\n",
       "      <td>6+</td>\n",
       "      <td>0</td>\n",
       "      <td>0</td>\n",
       "      <td>0</td>\n",
       "      <td>нет</td>\n",
       "      <td>6.6</td>\n",
       "      <td>драма,военный</td>\n",
       "      <td>NaN</td>\n",
       "    </tr>\n",
       "    <tr>\n",
       "      <th>2</th>\n",
       "      <td>Особо опасен</td>\n",
       "      <td>221038416</td>\n",
       "      <td>2016-10-10 12:00:00+00:00</td>\n",
       "      <td>Художественный</td>\n",
       "      <td>Юниверсал Пикчерз, Кикстарт Продакшнз, Марк Пл...</td>\n",
       "      <td>США</td>\n",
       "      <td>Тимур Бекмамбетов</td>\n",
       "      <td>Джим Лемли, Джейсон Нетер, Марк Е.Платт, Яйн Смит</td>\n",
       "      <td>18+</td>\n",
       "      <td>0</td>\n",
       "      <td>0</td>\n",
       "      <td>0</td>\n",
       "      <td>нет</td>\n",
       "      <td>6.8</td>\n",
       "      <td>фантастика,боевик,триллер</td>\n",
       "      <td>NaN</td>\n",
       "    </tr>\n",
       "  </tbody>\n",
       "</table>\n",
       "</div>"
      ],
      "text/plain": [
       "                  title   puNumber           show_start_date            type  \\\n",
       "0      Открытый простор  221048915 2015-11-27 12:00:00+00:00  Художественный   \n",
       "1  Особо важное задание  111013716 2016-09-13 12:00:00+00:00  Художественный   \n",
       "2          Особо опасен  221038416 2016-10-10 12:00:00+00:00  Художественный   \n",
       "\n",
       "                                         film_studio production_country  \\\n",
       "0  Тачстоун Пикчерз, Кобальт Пикчерз, Бикон Пикче...                США   \n",
       "1                              Киностудия \"Мосфильм\"               СССР   \n",
       "2  Юниверсал Пикчерз, Кикстарт Продакшнз, Марк Пл...                США   \n",
       "\n",
       "            director                                           producer  \\\n",
       "0      Кевин Костнер          Дэвид Валдес, Кевин Костнер, Джейк Эбертс   \n",
       "1          Е.Матвеев                                      не определено   \n",
       "2  Тимур Бекмамбетов  Джим Лемли, Джейсон Нетер, Марк Е.Платт, Яйн Смит   \n",
       "\n",
       "  age_restriction  refundable_support  nonrefundable_support  budget  \\\n",
       "0             18+                   0                      0       0   \n",
       "1              6+                   0                      0       0   \n",
       "2             18+                   0                      0       0   \n",
       "\n",
       "  financing_source  ratings                     genres  box_office  \n",
       "0              нет      7.2     боевик,драма,мелодрама         NaN  \n",
       "1              нет      6.6              драма,военный         NaN  \n",
       "2              нет      6.8  фантастика,боевик,триллер         NaN  "
      ]
     },
     "execution_count": 39,
     "metadata": {},
     "output_type": "execute_result"
    }
   ],
   "source": [
    "data.head(3)"
   ]
  },
  {
   "cell_type": "code",
   "execution_count": 40,
   "metadata": {},
   "outputs": [
    {
     "data": {
      "text/html": [
       "<div>\n",
       "<style scoped>\n",
       "    .dataframe tbody tr th:only-of-type {\n",
       "        vertical-align: middle;\n",
       "    }\n",
       "\n",
       "    .dataframe tbody tr th {\n",
       "        vertical-align: top;\n",
       "    }\n",
       "\n",
       "    .dataframe thead th {\n",
       "        text-align: right;\n",
       "    }\n",
       "</style>\n",
       "<table border=\"1\" class=\"dataframe\">\n",
       "  <thead>\n",
       "    <tr style=\"text-align: right;\">\n",
       "      <th></th>\n",
       "      <th>title</th>\n",
       "      <th>puNumber</th>\n",
       "      <th>show_start_date</th>\n",
       "      <th>type</th>\n",
       "      <th>film_studio</th>\n",
       "      <th>production_country</th>\n",
       "      <th>director</th>\n",
       "      <th>producer</th>\n",
       "      <th>age_restriction</th>\n",
       "      <th>refundable_support</th>\n",
       "      <th>nonrefundable_support</th>\n",
       "      <th>budget</th>\n",
       "      <th>financing_source</th>\n",
       "      <th>ratings</th>\n",
       "      <th>genres</th>\n",
       "      <th>box_office</th>\n",
       "    </tr>\n",
       "  </thead>\n",
       "  <tbody>\n",
       "    <tr>\n",
       "      <th>4639</th>\n",
       "      <td>Иоанна - женщина на папском престоле /По роман...</td>\n",
       "      <td>221154310</td>\n",
       "      <td>2010-12-17 12:00:00+00:00</td>\n",
       "      <td>Художественный</td>\n",
       "      <td>Константин Фильм, А Эр Ди Дегето Фильм, Дюне ...</td>\n",
       "      <td>Германия - Великобритания - Италия - Испания</td>\n",
       "      <td>Зенке Вортманн</td>\n",
       "      <td>Оливер Бербен, Дорис Д.Хайнце, Фарук Элтан</td>\n",
       "      <td>16+</td>\n",
       "      <td>0</td>\n",
       "      <td>0</td>\n",
       "      <td>0</td>\n",
       "      <td>нет</td>\n",
       "      <td>7.6</td>\n",
       "      <td>драма,мелодрама,история</td>\n",
       "      <td>NaN</td>\n",
       "    </tr>\n",
       "    <tr>\n",
       "      <th>5068</th>\n",
       "      <td>Анализируй то!</td>\n",
       "      <td>221054410</td>\n",
       "      <td>2010-05-25 12:00:00+00:00</td>\n",
       "      <td>Художественный</td>\n",
       "      <td>Уорнер Бразерс, Виллидж Роадшоу Пикчерз, Эн-Пи...</td>\n",
       "      <td>США</td>\n",
       "      <td>Гарольд Реймис</td>\n",
       "      <td>Джейн Розенталь, Паул Уэйнстейн</td>\n",
       "      <td>12+</td>\n",
       "      <td>0</td>\n",
       "      <td>0</td>\n",
       "      <td>0</td>\n",
       "      <td>нет</td>\n",
       "      <td>6.8</td>\n",
       "      <td>комедия,криминал</td>\n",
       "      <td>NaN</td>\n",
       "    </tr>\n",
       "  </tbody>\n",
       "</table>\n",
       "</div>"
      ],
      "text/plain": [
       "                                                  title   puNumber  \\\n",
       "4639  Иоанна - женщина на папском престоле /По роман...  221154310   \n",
       "5068                                     Анализируй то!  221054410   \n",
       "\n",
       "               show_start_date            type  \\\n",
       "4639 2010-12-17 12:00:00+00:00  Художественный   \n",
       "5068 2010-05-25 12:00:00+00:00  Художественный   \n",
       "\n",
       "                                            film_studio  \\\n",
       "4639   Константин Фильм, А Эр Ди Дегето Фильм, Дюне ...   \n",
       "5068  Уорнер Бразерс, Виллидж Роадшоу Пикчерз, Эн-Пи...   \n",
       "\n",
       "                                production_country        director  \\\n",
       "4639  Германия - Великобритания - Италия - Испания  Зенке Вортманн   \n",
       "5068                                           США  Гарольд Реймис   \n",
       "\n",
       "                                        producer age_restriction  \\\n",
       "4639  Оливер Бербен, Дорис Д.Хайнце, Фарук Элтан             16+   \n",
       "5068             Джейн Розенталь, Паул Уэйнстейн             12+   \n",
       "\n",
       "      refundable_support  nonrefundable_support  budget financing_source  \\\n",
       "4639                   0                      0       0              нет   \n",
       "5068                   0                      0       0              нет   \n",
       "\n",
       "      ratings                   genres  box_office  \n",
       "4639      7.6  драма,мелодрама,история         NaN  \n",
       "5068      6.8         комедия,криминал         NaN  "
      ]
     },
     "execution_count": 40,
     "metadata": {},
     "output_type": "execute_result"
    }
   ],
   "source": [
    "data[data.duplicated(['puNumber'])]"
   ]
  },
  {
   "cell_type": "code",
   "execution_count": 41,
   "metadata": {},
   "outputs": [
    {
     "data": {
      "text/html": [
       "<div>\n",
       "<style scoped>\n",
       "    .dataframe tbody tr th:only-of-type {\n",
       "        vertical-align: middle;\n",
       "    }\n",
       "\n",
       "    .dataframe tbody tr th {\n",
       "        vertical-align: top;\n",
       "    }\n",
       "\n",
       "    .dataframe thead th {\n",
       "        text-align: right;\n",
       "    }\n",
       "</style>\n",
       "<table border=\"1\" class=\"dataframe\">\n",
       "  <thead>\n",
       "    <tr style=\"text-align: right;\">\n",
       "      <th></th>\n",
       "      <th>title</th>\n",
       "      <th>puNumber</th>\n",
       "      <th>show_start_date</th>\n",
       "      <th>type</th>\n",
       "      <th>film_studio</th>\n",
       "      <th>production_country</th>\n",
       "      <th>director</th>\n",
       "      <th>producer</th>\n",
       "      <th>age_restriction</th>\n",
       "      <th>refundable_support</th>\n",
       "      <th>nonrefundable_support</th>\n",
       "      <th>budget</th>\n",
       "      <th>financing_source</th>\n",
       "      <th>ratings</th>\n",
       "      <th>genres</th>\n",
       "      <th>box_office</th>\n",
       "    </tr>\n",
       "  </thead>\n",
       "  <tbody>\n",
       "    <tr>\n",
       "      <th>7474</th>\n",
       "      <td>Вторжение</td>\n",
       "      <td>111022519</td>\n",
       "      <td>2019-12-23 12:00:00+00:00</td>\n",
       "      <td>Художественный</td>\n",
       "      <td>ООО \"Арт Пикчерс Студия\", ООО \"Водород 2011\"</td>\n",
       "      <td>Россия</td>\n",
       "      <td>Ф.Бондарчук</td>\n",
       "      <td>Ф.Бондарчук, М.Врубель, А.Андрющенко, Д.Рудовский</td>\n",
       "      <td>12+</td>\n",
       "      <td>100000000</td>\n",
       "      <td>400000000</td>\n",
       "      <td>944000000</td>\n",
       "      <td>Фонд кино</td>\n",
       "      <td>5.7</td>\n",
       "      <td>фантастика,боевик</td>\n",
       "      <td>NaN</td>\n",
       "    </tr>\n",
       "  </tbody>\n",
       "</table>\n",
       "</div>"
      ],
      "text/plain": [
       "          title   puNumber           show_start_date             type  \\\n",
       "7474  Вторжение  111022519 2019-12-23 12:00:00+00:00   Художественный   \n",
       "\n",
       "                                       film_studio production_country  \\\n",
       "7474  ООО \"Арт Пикчерс Студия\", ООО \"Водород 2011\"             Россия   \n",
       "\n",
       "          director                                           producer  \\\n",
       "7474   Ф.Бондарчук  Ф.Бондарчук, М.Врубель, А.Андрющенко, Д.Рудовский   \n",
       "\n",
       "     age_restriction  refundable_support  nonrefundable_support     budget  \\\n",
       "7474             12+           100000000              400000000  944000000   \n",
       "\n",
       "     financing_source  ratings             genres  box_office  \n",
       "7474        Фонд кино      5.7  фантастика,боевик         NaN  "
      ]
     },
     "metadata": {},
     "output_type": "display_data"
    },
    {
     "data": {
      "text/plain": [
       "508"
      ]
     },
     "execution_count": 41,
     "metadata": {},
     "output_type": "execute_result"
    }
   ],
   "source": [
    "display(data[data.duplicated(['title', 'box_office'])].query('budget != 0'))\n",
    "len(data[data.duplicated(['title', 'box_office'])].query('box_office != 0'))"
   ]
  },
  {
   "cell_type": "code",
   "execution_count": 42,
   "metadata": {},
   "outputs": [
    {
     "name": "stdout",
     "output_type": "stream",
     "text": [
      "7486 7486 0.0\n"
     ]
    }
   ],
   "source": [
    "# Проверим сколько удалено строк датасета\n",
    "a, b = len(temp), len(data)                \n",
    "print(a, b, round((a-b)/a*100, 2))"
   ]
  },
  {
   "cell_type": "markdown",
   "metadata": {
    "id": "52fOPrEBgFyQ"
   },
   "source": [
    "### Проверка категориальных значений"
   ]
  },
  {
   "cell_type": "code",
   "execution_count": 43,
   "metadata": {},
   "outputs": [
    {
     "data": {
      "text/plain": [
       "{'Дени Аркан',\n",
       " 'Тео Пирри',\n",
       " 'Сэфи Неббу',\n",
       " 'Джастин Закэм',\n",
       " 'Стюарт Маундер',\n",
       " 'Эндрю Адамсон',\n",
       " 'Дмитрий Черняков',\n",
       " 'В.Титов',\n",
       " 'Ли Кронин',\n",
       " 'Эндрю Эрвин, Джон Эрвин',\n",
       " 'А.Розов',\n",
       " 'Стивен Кижак',\n",
       " 'Я.Войтова, И.Черджиева',\n",
       " 'О.Массарыгин',\n",
       " 'Малик Бейдер',\n",
       " 'П.Смирнов',\n",
       " 'В.Сигарев',\n",
       " 'Г.Болдугеров',\n",
       " 'Айрис Заки',\n",
       " 'Лора Пойтрас',\n",
       " 'Нестор Саенц Кампос',\n",
       " 'Уте фон Мюнхов-Поль',\n",
       " 'Джоэл Потрикус',\n",
       " 'Кловис Корнийяк',\n",
       " 'Гарт Дэвис',\n",
       " 'Л.Горовец',\n",
       " 'Брайан Лардж',\n",
       " 'Курт Мэттила, Мэтт Чековски',\n",
       " 'Ю.Васильев',\n",
       " 'Анхель Грация',\n",
       " 'Грег Тирнан, Конрад Вернон',\n",
       " 'Ли Даниэлс',\n",
       " 'Дерек Сиенфрэнс',\n",
       " 'И.Пырьев',\n",
       " 'О.Арлаускас, Г.Петросян, С.Горло',\n",
       " 'Пьер Коффин, Крис Рено',\n",
       " 'Феликс Фуксштайнер, Катарина Шёде',\n",
       " 'Ю.Ардашев',\n",
       " 'Ол Паркер',\n",
       " 'Е.Салабай, Е.Шабанова, А.Соколов, И.Пшонкин и др.',\n",
       " 'Джеф Треймейн',\n",
       " 'А.Берденников',\n",
       " 'Н.Меркулова, А.Чупов',\n",
       " 'Конрад Вернон, Грег Тирнан',\n",
       " 'Хирокадзу Корээда',\n",
       " 'Такуя Игараси',\n",
       " 'Р.Мосафир',\n",
       " 'Джеральд Рашинато',\n",
       " 'К.Хрестинин',\n",
       " 'Кит Уорнер',\n",
       " 'Шарль Немес',\n",
       " 'М.Кузовенков',\n",
       " 'Мат Уайткросс',\n",
       " 'Кристиан Волькман',\n",
       " 'Дункан МакФарланд',\n",
       " 'Питер Футт',\n",
       " 'Бен Гез, Александра Кулак',\n",
       " 'Свен Унтервальдт',\n",
       " 'Эндрю Стэнтон, Ли Ункрич',\n",
       " 'Е.Барханов',\n",
       " 'Ю.Мерзляков, Р.Магомадов, А.Ольков',\n",
       " 'Сильвэйн Уайт',\n",
       " 'Майя Кениг',\n",
       " 'Йошихиро Нишимура, Наюки Томомацу',\n",
       " 'Роуэн Этейл',\n",
       " 'Хауме Кольет-Серра',\n",
       " 'А.Поженский',\n",
       " 'А.Ягубец',\n",
       " \"А.Рожнова (псевдоним Александра Р'ЮЖ)\",\n",
       " 'Тони Лойзер, Джеспер Мюллер',\n",
       " 'Нил Маршалл',\n",
       " 'В.Фекленко',\n",
       " 'Пьер Сальвадори',\n",
       " 'А.Муратов',\n",
       " 'Энтони Дж.Коэн',\n",
       " 'Миккель Мунк-Фальс',\n",
       " 'Д.Фадеев',\n",
       " 'Тоуб Хупер',\n",
       " 'С.Снежкин',\n",
       " 'А.Мармонтов',\n",
       " 'Маркус Вельтер',\n",
       " 'Джейсон Мур',\n",
       " 'Джером Сейбл',\n",
       " 'М.Демченко',\n",
       " 'Джоди Хилл',\n",
       " 'Ю.Рыбакова',\n",
       " 'Брюс Бересфорд',\n",
       " 'Леон Динг',\n",
       " 'Джастин Бенсон, Аарон Мурхед',\n",
       " 'Т.Бекмамбетов, О.Харина, Ю.Быков, Д.Киселев, А.Котт, А.Карпиловский, К.Телегина, А.Кавун',\n",
       " 'Джордан Пил',\n",
       " 'Дэвид Юнг',\n",
       " 'Том Грин',\n",
       " 'Дэниэль Монзон',\n",
       " 'М.Новикова',\n",
       " 'Фредерик Пакстон',\n",
       " 'Джесси Нельсон',\n",
       " 'Т.Тания',\n",
       " 'Кайл Райдаут',\n",
       " 'П.Бардин',\n",
       " 'Дэнни Кэннон',\n",
       " 'Р.Фрунтов',\n",
       " 'П.Худяков',\n",
       " 'Майкл Догерти',\n",
       " 'В.Потемкин',\n",
       " 'А.Смирнова',\n",
       " 'А.Богуславский',\n",
       " 'А.Пиманов',\n",
       " 'М.Валто, А.Диксон,  Ж.Крыжовников, Д.Ласу, Т.Лесурд, Д.Оду, М.Пелисиоли, Б.Плимптон, А.Тонен, Л.Фирод',\n",
       " 'Джон Рекуа, Гленн Фикарра',\n",
       " 'В.Кильчевская',\n",
       " 'Абделатиф Кешиш',\n",
       " 'Э.Архангельская, М.Пандурски',\n",
       " 'О. Семёнова',\n",
       " 'М.Медведь',\n",
       " 'Ю.Озеров, С.Гуров',\n",
       " 'Н.Пиотровский',\n",
       " 'Мартин Скорсезе',\n",
       " 'Фрэнк Корачи',\n",
       " 'Джон Харвитц, Хейден Шлоссберг',\n",
       " 'О.Штром',\n",
       " 'Стелла Меги',\n",
       " 'Ю.Перкуль, А.Богатырев, А.Камачо',\n",
       " 'София Коппола',\n",
       " 'Е.Кривцов, В.Кленин',\n",
       " 'Ганс Петтер Моланд',\n",
       " 'А.Басов',\n",
       " 'хореография Фредерика Эштона',\n",
       " 'Антони Кордье',\n",
       " 'В.Панков',\n",
       " 'Джон Уэллс',\n",
       " 'А.Сокуров',\n",
       " 'К.Оганесян',\n",
       " 'Жак Одиар',\n",
       " 'Алик Моухибян, Герин Хованнисян',\n",
       " 'Энди Миттон',\n",
       " 'Гастон Дюпра, Мариано Кон',\n",
       " 'А.Чеботарева',\n",
       " 'О Семёнова',\n",
       " 'А.Алов, В.Наумов',\n",
       " 'Фил Джонстон, Рич Мур',\n",
       " 'Дамон Гамо',\n",
       " 'Рич Мур, Байрон Ховард',\n",
       " 'Брайан Фогель',\n",
       " 'М.Кондрикова',\n",
       " 'Нил МакГрегор',\n",
       " 'Алекс Пастор, Давид Пастор',\n",
       " 'Джон Кафка, Юн-сок Чхве',\n",
       " 'Стивен Лэнс',\n",
       " 'М.Абдулкадыров',\n",
       " 'Маноло Мунгуйя',\n",
       " 'Себастьян Джонс, Рамез Силян',\n",
       " 'А.Войтинский',\n",
       " 'Герард МакМюррей',\n",
       " 'Стэнли Кубрик, Мэтт Уэллс',\n",
       " 'Р.Балаян',\n",
       " 'Паоло Соррентино',\n",
       " 'Алекс Куртцман',\n",
       " 'Розелин Бош',\n",
       " 'Лиза Азуэлос',\n",
       " 'А.Матисон',\n",
       " 'Питер Джексон',\n",
       " 'Жозе Антонио Негрет',\n",
       " 'Стивен Номура Шибле',\n",
       " 'Джон Лукас, Скотт Мкр',\n",
       " 'Дэвид Кроненберг',\n",
       " 'Себастьян Лелио',\n",
       " 'Бен Луин',\n",
       " 'С.Быченко, Т.Обозова',\n",
       " 'Фредерик Ченг',\n",
       " 'Джозеф Седар',\n",
       " 'Т.Березанцева',\n",
       " 'Н.Ардашников',\n",
       " 'А.Манзуров',\n",
       " 'К.Серебренников',\n",
       " 'Э.Кеосаян',\n",
       " 'Давид Шарон',\n",
       " 'Л.Шмурьева (псевдоним Лика Алексеева)',\n",
       " 'Майкл Хэгнер, Кари Джуусонен',\n",
       " 'Э.Назаров',\n",
       " 'Деннис Дуган',\n",
       " 'Вон Стайн',\n",
       " 'Масаюки',\n",
       " 'Маттиас Олоф Эйх',\n",
       " 'Мартен Бурбулон',\n",
       " 'Робин Сип',\n",
       " 'Джона Хилл',\n",
       " 'Мартин Валенте',\n",
       " 'Л.Гладунко',\n",
       " 'Милад Алами',\n",
       " 'Гарет Эванс',\n",
       " 'Гари Шор',\n",
       " 'Л.Трофимова, А.Курганская',\n",
       " 'Е.Борисова',\n",
       " 'Е.Звездаков',\n",
       " 'О.Арлаускайте (псевд.О.Арлаускас)',\n",
       " 'хореография Мариуса Петипа',\n",
       " 'А.Занин, М.Архипов, Н.Барабаш, А.Костандакес, Д.Шабаев',\n",
       " 'И.Фрэз',\n",
       " 'Анн Фонтейн',\n",
       " 'Лука Виотто',\n",
       " 'Мамору Хосода',\n",
       " 'Том Дей',\n",
       " 'Филлип Джей Рот',\n",
       " 'Оливер Стоун',\n",
       " 'К.Шахназаров, А.Бородянский',\n",
       " 'Марин Атлан',\n",
       " 'Майкл Энглер',\n",
       " 'Джонатан Либесман',\n",
       " 'Сэм Левинсон',\n",
       " 'Н.Урвачева',\n",
       " 'МакДжи',\n",
       " 'Брайан Клагман, Ли Стернтал',\n",
       " 'Д.Даниелян',\n",
       " 'С.Крэйг Залер',\n",
       " 'Е.Резников',\n",
       " 'Ю.Попович',\n",
       " 'Боривой Земан',\n",
       " 'Н.Кеппенс, М.Флипс, Ш.Б.Линдхольм, Б.Рэес, М.Бине, П.Баеза, Ф.Браух, М.Пухоль, К.Тэйлхэдс, Й.Тиро, Р.Тирион, П.Пик, А.Манцарис',\n",
       " 'Джонатан Левин',\n",
       " 'Д.Козловский',\n",
       " 'Бретт Рэтнер',\n",
       " 'Исаак Федер',\n",
       " 'Мэтт Пидмонт',\n",
       " 'Давид Феррарио',\n",
       " 'Д.Сергин',\n",
       " 'Хеннинг Кастен',\n",
       " 'Джеффри Фридман, Роб Эпштейн',\n",
       " 'Том Хупер',\n",
       " 'Рэйф Файнс',\n",
       " 'Уильям Кентридж',\n",
       " 'Скотт Чарльз Стюарт',\n",
       " 'А.Зингерман, А.Соколов, И.Евланникова, Д.Червяцов, Е.Салабай, А.Миронов и др.',\n",
       " 'Джастин Курзель',\n",
       " 'Миккель Бренне Сандемусе',\n",
       " 'Беннетт Миллер',\n",
       " 'Эндрю Морган',\n",
       " 'Ким Ки-Дук',\n",
       " 'Каллен Брункер',\n",
       " 'Кинен Айвори Уэйанс',\n",
       " 'Кэтрин Хардуик',\n",
       " 'Кевин Коннолли',\n",
       " 'Рубен Фляйшер',\n",
       " 'Лаура Моранте',\n",
       " 'А.Джунковский',\n",
       " 'И.Волкова',\n",
       " 'Вильгельм Домке-Шульц',\n",
       " 'А.Вейль, Ф.Котларски ',\n",
       " 'А.Марсакова',\n",
       " 'Чарли Бин',\n",
       " 'Анджей Якимовский',\n",
       " 'Аскар Узабаев',\n",
       " 'Е.Трапезникова',\n",
       " 'Д.Кубасов',\n",
       " 'Филипп Леллуш',\n",
       " 'А.Колпин, И.Пшонкин, В.Бедошвили',\n",
       " 'Патрик Брайс',\n",
       " 'Джордж Галло',\n",
       " 'Маркус Грейвз',\n",
       " 'О.Семёнова  ',\n",
       " 'В.Павлович',\n",
       " 'А.Кончаловский',\n",
       " 'Кристофер Лэндон',\n",
       " 'Жан-Пьер Жёне',\n",
       " 'Том Тыквер',\n",
       " 'А.Петрас',\n",
       " 'Алексис Михалик',\n",
       " 'Марк Уотерс',\n",
       " 'Томас Альфредсон',\n",
       " 'Джон С.Бейрд',\n",
       " 'О.Нарлыев',\n",
       " 'Ферзан Оспетек',\n",
       " 'Е.Цымбал',\n",
       " 'Ник Мерфи',\n",
       " 'Януш Жомболай',\n",
       " 'Стэйси Тайтл',\n",
       " 'Дэвид Френкель',\n",
       " 'В.Орехов',\n",
       " 'Кэйити Хара',\n",
       " 'Кэри Фукунага',\n",
       " 'С.Алякимова',\n",
       " 'Фэн Сяоган',\n",
       " 'М.Мкртчян',\n",
       " 'Давид Бисбано',\n",
       " 'А.Оганесян',\n",
       " 'В.Елина, Ю.Кошкина, К.Макаренков, С.Юдаков, Т.Игуменцева',\n",
       " 'Александр Высоковский',\n",
       " 'Н.Федченко',\n",
       " 'Геннадий Тартаковский',\n",
       " 'Говард Холл',\n",
       " 'Джон Хаддлс',\n",
       " 'Грегор Джордан',\n",
       " 'Кристиан Диттер',\n",
       " 'Ю.Морская',\n",
       " 'Том Форд',\n",
       " 'Кенни Ортега',\n",
       " 'Брайан Томсон, Гейл Эдвардс',\n",
       " 'И.Твердовский',\n",
       " 'М.Хлебородов',\n",
       " 'Йоаким Роннинг',\n",
       " 'Эдуардо Санчес',\n",
       " 'Марион Верну',\n",
       " 'Кайл Балда, Пьер Соффин',\n",
       " 'Шерон Магуайр',\n",
       " 'Дана Браун',\n",
       " 'Стефан Рузовицки',\n",
       " 'А.Щербинин',\n",
       " 'А.Верещагин, О.Филипенко, Д.Ушаков',\n",
       " 'О.Головина',\n",
       " 'Е.Кашинцева',\n",
       " 'Макс Мингелла',\n",
       " 'Хорхе Торрегросса',\n",
       " 'Л.Носырев',\n",
       " 'Жан Кристоф Дюссант',\n",
       " 'Джонатан Хопкинс',\n",
       " 'Ян Гэ',\n",
       " 'Андрей Гринько, Макс Сирый',\n",
       " 'О.Кузовков, И.Трусов, А.Беляев, Н.Мальгина, В.Байрамгулов',\n",
       " 'Роман Козич',\n",
       " 'Майкл Фиггис',\n",
       " 'Трей Эдвард Шульц',\n",
       " 'Лунг Ах, Чонг Ти Чуа',\n",
       " 'С.Майоров',\n",
       " 'Томас Винтерберг',\n",
       " 'хореография Кристофера Уилдона',\n",
       " 'Спирос Статулопулос',\n",
       " 'В.Волгин при участии А.Ягубец',\n",
       " 'Александр Ажа',\n",
       " 'Энди де Эммони',\n",
       " 'Грэг МакГилливрэй',\n",
       " 'Г.Калинина',\n",
       " 'Ти Вест',\n",
       " 'А.Абидова (псевдоним Аниса Сабири)',\n",
       " 'Алехандро Аменабар',\n",
       " 'Чуан Лу',\n",
       " 'А.Кулямин',\n",
       " 'А.Лукьянчиков, С.Ушаков',\n",
       " 'А.Дамскер',\n",
       " 'Дени Вильнёв',\n",
       " 'Гарт Дженнингс, Кристоф Лоурделет ',\n",
       " 'Рэйджа Госнелл',\n",
       " 'Франк Дюбоск',\n",
       " 'С.Маховиков',\n",
       " 'Симон Бартесаги',\n",
       " 'Месси Таджедин',\n",
       " 'Андреас Прохазка',\n",
       " 'Джоэл Эдгертон',\n",
       " 'Сторм Эшвуд',\n",
       " 'В.Битоков',\n",
       " 'И.Каграманов, А.Наумов, С.Осипьян, В.Валиуллин, Е.Бродач, К.Васильев',\n",
       " 'Алексей Козлов',\n",
       " 'Стив Пинк',\n",
       " 'Эндрю Стэнтон',\n",
       " 'Я.Лебедев',\n",
       " 'Е.Жиркова, А.Кузина, М.Солошенко, С.Кравцова',\n",
       " 'Г.Гитис',\n",
       " 'Дамиан Шифрон',\n",
       " 'Д.Шумакова',\n",
       " 'Давид Моро',\n",
       " 'Кайжайр Акопян',\n",
       " 'Дэнни Лернер',\n",
       " 'Ричард Шепард',\n",
       " 'Роберт Родригес',\n",
       " 'Давид Лево',\n",
       " 'М.Ксейбати, И.Лопез, Э.Лоурич, К.М.Сабер, К.О.Тул,  Р.Серри, Р.Тьюннард, М.Энгламайр',\n",
       " 'И.Перин',\n",
       " 'Д.Фирсова, И.Туманян, И.Селезнева',\n",
       " 'Е.Шереметьева',\n",
       " 'Итан Коэн',\n",
       " 'Гейл Манкусо',\n",
       " 'Джеймс Бобин',\n",
       " 'Г.Бежанов',\n",
       " 'Майкл Дейвис',\n",
       " 'Хирокадзу Корэ-Эда',\n",
       " 'Марина Кунарова, Ерлан Нурмухамбетов',\n",
       " 'Е.Останина, С.Родкевич',\n",
       " 'М. Найт Шьямалан',\n",
       " 'Франк Гастамбид',\n",
       " 'А.Кириллов',\n",
       " 'Дэни Бун',\n",
       " 'Акива Голдсман',\n",
       " 'Арман Марутян, Ваагн Хачатрян',\n",
       " 'Аудни Аусгейрссон',\n",
       " 'Николас Столлер, Даг Суитлэнд',\n",
       " 'Шери Фольксон',\n",
       " 'Сэм Мендес',\n",
       " 'Майк Фиггис',\n",
       " 'Фил Олден Робинсон',\n",
       " 'Мэттью Беттинелли, Тайлер Джиллетт',\n",
       " 'Луи Гаррель',\n",
       " 'Эрик Лавэн',\n",
       " 'Оускар Йоунассон, Тоби Генкель',\n",
       " 'М.Зыков',\n",
       " 'Каспер Хольтен',\n",
       " 'Алехандро Агрести',\n",
       " 'Пит Вейрич',\n",
       " 'Дэн Бирс',\n",
       " 'Джон Херцфелд',\n",
       " 'Эрен Криви',\n",
       " 'Энтони Фукуа',\n",
       " 'Эйприл Маллен',\n",
       " 'Т.Зубова',\n",
       " 'А.Бушнев',\n",
       " 'О.Фесенко',\n",
       " 'Майкл Гантон, Марта Холмс',\n",
       " 'Браян Левант',\n",
       " 'М.Швейцер',\n",
       " 'А.Соколюк',\n",
       " 'Феликс ван Гронинген',\n",
       " 'Баран Бо Одар',\n",
       " 'Виктор Сейнт Макари',\n",
       " 'А.Пинхасов',\n",
       " 'Ари Астер',\n",
       " 'Тодд Вилдерман, Джилл Калтон',\n",
       " 'Рошди Зем',\n",
       " 'Росс Венокур',\n",
       " 'Джессика Хауснер',\n",
       " 'Эмили Атеф',\n",
       " 'Шейн Салерно',\n",
       " 'В.Есинов',\n",
       " 'С.Алексеев',\n",
       " 'Луис Ортега',\n",
       " 'Лукас Бернард',\n",
       " 'Дэвид Кэмпбэлл',\n",
       " 'Стив Мартино',\n",
       " 'Грант Спьютор',\n",
       " 'Донато Карризи',\n",
       " 'М.Олейник (псевдоним - Мария Полякова)',\n",
       " 'Рон Фрике',\n",
       " 'Дэннис Дуган',\n",
       " 'Деон Тейлор',\n",
       " 'И.Казанков',\n",
       " 'Микаэль Хофстрём',\n",
       " 'А.Хант',\n",
       " 'Билл Кондон ',\n",
       " 'Кенни Янг',\n",
       " 'Ф.Попов',\n",
       " 'А.Васин, Г.Параджанов, О.Бородина',\n",
       " 'Ноам Мурро',\n",
       " 'Крис Батлер',\n",
       " 'С.Жигунов',\n",
       " 'Хлинюр Палмасон',\n",
       " 'Шон Андерс',\n",
       " 'Р.Артемьев (псев.С.Васильев)',\n",
       " 'Дрю Пирс',\n",
       " 'Генри Джуст, Ариэль Шульман',\n",
       " 'Сара Полли',\n",
       " 'Джейк Шрейер',\n",
       " 'Элайджа Мошински',\n",
       " 'Кристиан Дюгей',\n",
       " 'О.Лопато',\n",
       " 'В.Барбэ, М.Свешников',\n",
       " 'Амир Надери',\n",
       " 'Мартин Уильямс',\n",
       " 'И.Тойонов',\n",
       " 'Карлос Салдана',\n",
       " 'Томас Штубер',\n",
       " 'А.Симонов',\n",
       " 'Зандор Йессе, Уте фон Мюнхов-Поль',\n",
       " 'Тим Хилл',\n",
       " 'Майк Митчелл',\n",
       " 'Чхан Ук Пак',\n",
       " 'Даррен Аронофски',\n",
       " 'Нурбек Эген',\n",
       " 'В.Пендраковский, Ю.Рогозин',\n",
       " 'Е.Захаров, А.Соснов',\n",
       " 'Келли Эсбери',\n",
       " 'Джорджо Амато',\n",
       " 'Майкл Чавес',\n",
       " 'Вим Вендерс',\n",
       " 'Джулия Тэймор',\n",
       " 'Лусия Аньелло',\n",
       " 'Гарри Клевен',\n",
       " 'Джейк Зимански',\n",
       " 'Ник Хэмм',\n",
       " 'Пьер Зандрович',\n",
       " 'А.Руже',\n",
       " 'Алла Ковган',\n",
       " 'Анджей Бартковяк',\n",
       " 'А.Цыренжапов, Б.Цыренов, Б.Доржиев, Б.Цыбиков, В.Овчинников',\n",
       " 'Бенжамин Роше',\n",
       " 'А.Титов, Л.Ефимов',\n",
       " 'Г.Голубева',\n",
       " 'Дэвид Маллет',\n",
       " 'А.Поздняков',\n",
       " 'Ахмед Сонмез',\n",
       " 'Джонатан Макхью, Джордан Реннерт',\n",
       " 'Сильви Тестю',\n",
       " 'Мэрлин Агрело',\n",
       " 'Дэниэл Фаррандс',\n",
       " 'В.Шепелев',\n",
       " 'Фернандо Леон Де Араноа',\n",
       " 'О.Ланд',\n",
       " 'Н.Назарова',\n",
       " 'Дарья Жук',\n",
       " 'Роб Хейдон',\n",
       " 'Трэвис Заривны',\n",
       " 'Джиджи Рокатти',\n",
       " 'А.Праздников',\n",
       " 'А.Гаврилов',\n",
       " 'Пако Пласа',\n",
       " 'Уолт Дорн, Майк Митчелл',\n",
       " 'М.Мерзликин',\n",
       " 'Даниэле Лукетти',\n",
       " 'Джадд Апатов',\n",
       " 'В.Орёл',\n",
       " 'А.Краевский',\n",
       " 'Н.Лопато, В.Ровенский',\n",
       " 'Лулу Ванг',\n",
       " 'А.Зельдович',\n",
       " 'К.Воинов',\n",
       " 'Нил Джордан',\n",
       " 'Марк Махон',\n",
       " 'Джон Чу',\n",
       " 'Лоренс Кэздан',\n",
       " 'Б.Юсупов',\n",
       " 'А.Коломеец',\n",
       " 'Трак Бренсс',\n",
       " 'А.Якимчук',\n",
       " 'Марк Майлод',\n",
       " 'В.Кузнецов',\n",
       " 'Том Лу',\n",
       " 'Софи Бартез',\n",
       " 'Панос Косматос',\n",
       " 'В.Козлов',\n",
       " 'Эйтор Далия',\n",
       " 'Атом Эгоян',\n",
       " 'А.Невский',\n",
       " 'Брэйди Корбет',\n",
       " 'Питер Рэмси',\n",
       " 'Д.Резванов, О.Хружков, И.Вейштагин',\n",
       " 'А.Сеитаблаев',\n",
       " 'Лоне Шерфиг',\n",
       " 'Паскаль Шомей',\n",
       " 'Джалиль Леспер',\n",
       " 'Джулиус Эйвери',\n",
       " 'Луи Симон',\n",
       " 'И.Фирсова',\n",
       " 'С.Мкртчян',\n",
       " 'Питер Гринуэй',\n",
       " 'Лукас Мудиссон',\n",
       " 'Эрик Лартиго',\n",
       " 'Сантьяго Лимон',\n",
       " 'Я.Лапшин',\n",
       " 'Д.Дьяченко',\n",
       " 'Вано Бурдули',\n",
       " 'С.Дахин, П.Духовской',\n",
       " 'Е.Обермаер (псевдоним Е.Шапиро-Обермаер)',\n",
       " 'И.Долгина',\n",
       " 'В.Мережко',\n",
       " 'Беппе де Томази',\n",
       " 'Е.Салабай, В.Пономарёв, А.Миронов, И.Пшонкин, А.Рубецкой, Н.Харина, Е.Чернова, А.Бахурин, О.Ужинов',\n",
       " 'Г.Мелконян',\n",
       " 'Том Харпер',\n",
       " 'Г.Константинопольский, Д.Булин, Е.Чичканов, Д.Власова, П.Емелин',\n",
       " 'Спайк Джонс',\n",
       " 'Бо Дзенга',\n",
       " 'А.Самойлов',\n",
       " 'Н.Маханько',\n",
       " 'Е.Бедарев',\n",
       " 'Р.Шарафутдинов, Е.Куркова, М.Соснина, Р.Синкевич',\n",
       " 'Элиз Дюран',\n",
       " 'Д.Вятич-Бережных',\n",
       " 'Дуэйн Адлер',\n",
       " 'Халлвард Браэин',\n",
       " 'Алехандро Ходоровский',\n",
       " 'Хиромаса Йонебаяши',\n",
       " 'Родриго Гарсия',\n",
       " 'О.Гончаренко',\n",
       " 'Джон Камерон Митчел',\n",
       " 'Хершел Фабер',\n",
       " 'И.Осипов',\n",
       " 'Флориан Хенкель фон Доннерсмарк',\n",
       " 'Седрик Анже',\n",
       " 'Йэн Софтли',\n",
       " 'В.Глухушин',\n",
       " 'М.Куклина',\n",
       " 'Том Элкинс',\n",
       " 'Ю.Миронова',\n",
       " 'Ли Толанд Кригер',\n",
       " 'Тим Молтби, Ричард Финн',\n",
       " 'Ричард Айоэйд',\n",
       " 'Биргер Ларсен',\n",
       " 'Лизе И.Осволл',\n",
       " 'Джейсон Айзенер, Саймон Баррет,  Адам Вингард, Эдуардо Санчес, Тимо Тьяджанто, Грегг Хейл, Гарет Эванс',\n",
       " 'Патрик Сиверсен',\n",
       " 'Мадонна',\n",
       " 'А.Кириенко',\n",
       " 'Кике Майло',\n",
       " 'А.Хван',\n",
       " 'Кен Коупис',\n",
       " 'Дэмьен Шазелл',\n",
       " 'Эндрю Росси',\n",
       " 'Джастин Типпинг',\n",
       " 'Аки Каурисмяки',\n",
       " 'Е.Трусевич',\n",
       " 'Хидэаки Анно, Масаюки, Кадзуя Цурумаки',\n",
       " 'Г.Киракосян',\n",
       " 'А.Миронов, Е.Головин, Р.Верещак и др.',\n",
       " 'Д.Адар, П.Антохин, М.Биасин, А.Бурунова, К.Колинз, К.Россет, Д.Эверет',\n",
       " 'И.Волосецкий',\n",
       " 'Тоби Бауманн',\n",
       " 'У.Бош, М.Данкер, Л.Индовина, К.Кэхилл, Р.Люкер, Б.Магнотье, Э.Маргетсон, Т.Эльрих',\n",
       " 'С.Дебижев',\n",
       " 'В.Пудовкин, Д.Васильев',\n",
       " 'А.Рудницкая, С.Винокуров',\n",
       " 'Марианна Яровская',\n",
       " 'Франческо Мунци, Лучио Пеллегрини',\n",
       " 'Бенжамин Гуэди',\n",
       " 'Кали Коури',\n",
       " 'Б.Дышенов',\n",
       " 'Тара Пирния',\n",
       " 'Максим Свешников',\n",
       " 'Кристиан Де Вита',\n",
       " 'Д.Додсон, А.Юрчиков',\n",
       " 'Алехандро Хидальго',\n",
       " 'Энди Мускетти',\n",
       " 'Йорген Лердам',\n",
       " 'Лукино Висконти',\n",
       " 'Ричард Ла Гравенес',\n",
       " 'Крис Миллер',\n",
       " 'Мартин Клэпп, Дорота Кобеля, Джофф Линдси',\n",
       " 'Айбек Дайырбеков',\n",
       " 'Масаюки Кодзима',\n",
       " 'Энтони Марас',\n",
       " 'Камаль Бансаль',\n",
       " 'Джек Каздан',\n",
       " 'Майкл Митчелл, Триша Гам',\n",
       " 'Рёта Накано',\n",
       " 'Скотт Дерриксон',\n",
       " 'И.Белостоцкий, Р.Фрунтов, А.Зеленков, Е.Юликов, С.Морозов, А.Щеглов, Г.Курлаев и др.',\n",
       " 'Н.Арутюнова (псевдоним Н.Семашкевич)',\n",
       " 'Маттео Гарроне',\n",
       " 'Г.Островский',\n",
       " 'Николаз Лопез',\n",
       " 'Т.Малова',\n",
       " 'В.Фанасютина',\n",
       " 'Н.Губенко',\n",
       " 'П.Медведев',\n",
       " 'Летиция Хорхе Ромеро, Анна Гуэвара Росе',\n",
       " 'Фред Кавайе',\n",
       " 'Тодд Луисо',\n",
       " 'А.Кордон',\n",
       " 'В.Пономарёв, А.Миронов, Е.Салабай, А.Хачатурян, Е.Чернова, А.Бахурин',\n",
       " 'М.Немойтин',\n",
       " 'Итэн Коэн, Джоэл Коэн',\n",
       " 'Морган Спарлок',\n",
       " 'Ф.Золоева, В.Гулуев',\n",
       " 'Семен Туманов',\n",
       " 'Фолькер Шлендорф',\n",
       " 'Стефан Херхейм',\n",
       " 'В.Донсков',\n",
       " 'Э.Рязанов',\n",
       " \"Энцо Д'Алло\",\n",
       " 'Э.Змойро, Л.Гайдай, Э.Рязанов, В.Семаков, Н.Трахтенберг, Э.Абалов',\n",
       " 'Брэдли Кинг',\n",
       " 'И.Черницкий',\n",
       " 'Т.Мирошник',\n",
       " 'А.Цицилин',\n",
       " 'А.Пархоменко',\n",
       " 'Роар Утхауг',\n",
       " 'Рикардо Арнаиз, Рауль Гарсиа, Майк Кункель',\n",
       " 'Милорад Крстич',\n",
       " 'Торун Лиан',\n",
       " 'Натан Грино, Байрон Ховард',\n",
       " 'Кен Куопис',\n",
       " 'Стивен Р.Монро',\n",
       " 'Эндрю Лоэр',\n",
       " 'Ю.Суходольский',\n",
       " 'Т.Андрианова (псевд.Т.Вигель)',\n",
       " 'Р.Джей.Катлер',\n",
       " 'Б.Бушмелев',\n",
       " 'Алекс де ла Иглесиа',\n",
       " 'Грегори Джейкобс',\n",
       " 'Пабло Бергер',\n",
       " 'В.Пономарёв, А.Миронов, Е.Салабай, Н.Мальгина',\n",
       " 'Э.Савельева, Т.Березанцева',\n",
       " 'Роб Зомби',\n",
       " 'Джонатан Хейнслей',\n",
       " 'А.Богатырев',\n",
       " 'Эндрю Стентон, Ангус МакЛэйн',\n",
       " 'Нил Бреннан',\n",
       " \"Лайам О'Доннелл\",\n",
       " 'М.Фадеев',\n",
       " 'Галина Миклинова',\n",
       " 'Мануэль Х.Гарсиа',\n",
       " 'А.Стреляная',\n",
       " 'Мик ван Дием',\n",
       " 'Х.Нарлиев',\n",
       " 'А.Кузмин-Тарасов, А.Колчина',\n",
       " 'Фабио Бонифаччи, Франческо Миччикэ',\n",
       " 'Доминик Фарруджия',\n",
       " 'Билл Джирхарт, Роэль Рейн, Дэвид Стрейтон, Кевин Танчароэн, Крис Фишер, Неаса Хардиман',\n",
       " 'П.Сидоров',\n",
       " 'Сид Беннетт',\n",
       " 'Ырыс Окенова',\n",
       " 'С.Сенцов',\n",
       " 'Ли Лиань',\n",
       " 'Роберт Редфорд',\n",
       " 'В.Шамиров',\n",
       " 'Брэд Пейтон',\n",
       " 'Кристиан Гьюдгэст',\n",
       " 'Д.Изместьев',\n",
       " 'Сэм Тейлор Вуд',\n",
       " 'Сара Смит',\n",
       " 'А.Хржановский',\n",
       " 'Хэмиш Гамильтон',\n",
       " 'Мартин Миэ-Ренар',\n",
       " 'И.Цветов (режиссер ч/б фильма - С.Тимошенко)',\n",
       " 'Финн Тейлор',\n",
       " 'Оуэн Эгертон',\n",
       " 'Ю.Сысоев, В.Мистюков, К.Тищенко',\n",
       " 'Эш Браннон',\n",
       " 'Джон Ву',\n",
       " 'Ральф Зиман',\n",
       " 'Стивен С.Кампанелли',\n",
       " 'Оливье Бару',\n",
       " 'П.Ходнев',\n",
       " 'Ленни Абрахамсон',\n",
       " 'Гюстав де Керверн, Бенуа Делепин',\n",
       " 'Скотт Купер',\n",
       " 'Жуанра Фернандез',\n",
       " 'В.Перельман',\n",
       " 'Кристиан Е.Кристиансен',\n",
       " 'Е.Михайлова',\n",
       " 'Е.Клейнот (псевдоним Любовь Андреева)',\n",
       " 'Микаэль Херс',\n",
       " 'Клаудио Фах',\n",
       " 'Г.Дюкарев, А.Рубинштейн, А.Ким, М.Воскобоев, Н.Беляускене',\n",
       " 'Дейвид Добкин',\n",
       " 'Р.Исмайлов',\n",
       " 'Хауме Балагеро',\n",
       " 'Блэр Эриксон',\n",
       " 'Е.Антимоний (псевдоним - Иван Курский)',\n",
       " 'А.Попогребский',\n",
       " 'А.Егоров',\n",
       " \"Эндрю О'Коннор\",\n",
       " 'В.Сунцов',\n",
       " 'Герберт фон Караян. Постановка  Жоржа Вакевича',\n",
       " 'Пьер Годо',\n",
       " 'М.Вайсберг',\n",
       " 'Д.Григорьев',\n",
       " 'С.Айнутдинов',\n",
       " 'А.Почивалов',\n",
       " 'М.Дворянкин',\n",
       " 'А.Зайцев',\n",
       " 'Джеймс Фоули',\n",
       " 'В.Короленков',\n",
       " 'Е.Паршина-Штайн (псевдоним Елена Штайн)',\n",
       " 'Ю.Калинина',\n",
       " 'А.Шустикова',\n",
       " 'Тодд Солондз',\n",
       " 'Стивен Гэган',\n",
       " 'Пако Леон',\n",
       " 'Оливье Накаша, Эрик Толедано',\n",
       " 'Дэвид Линч',\n",
       " 'Кшиштоф Занусси',\n",
       " 'Эрик Дарнелл, Том МакГрат, Конрад Вернон',\n",
       " 'П.Пархоменко',\n",
       " 'Джон Эрик Даудл, Дрю Даудл',\n",
       " 'Нил Бёргер',\n",
       " 'Оскар Сантос Гомес',\n",
       " 'Йоаким Триер',\n",
       " 'Гарри Маршалл',\n",
       " 'И.Евланникова, Д.Моллер, М.Котик',\n",
       " 'И.Максимов',\n",
       " 'Люка Бельво',\n",
       " 'Майкл Майер',\n",
       " 'И.Соловьева, Д.Шмидт, О.Ужинов, Д.Червяцов, М.Нефедова, О.Кузовков',\n",
       " 'В.Кузенков',\n",
       " 'Кевин Мунро',\n",
       " 'Винченцо Натали',\n",
       " 'Джонатан Демме',\n",
       " 'Джефф Уодлоу',\n",
       " 'Куинн Лэшер',\n",
       " 'С.Меринов, О.Чернова, Н.Березовая, А.Игнатов',\n",
       " 'Эндрю Десмонд',\n",
       " 'Мумин Шакиров',\n",
       " 'М.Сергеева',\n",
       " 'Г.Щерба',\n",
       " 'Петер Бросенс, Джессика Хоуп Вудворт',\n",
       " 'Мишель Таверна',\n",
       " 'А.Осипова',\n",
       " 'Саймон Верховен',\n",
       " 'Габе Ибаньес',\n",
       " 'В.Федоров',\n",
       " 'Хулио Медем',\n",
       " 'Джошуа Майкл Штерн',\n",
       " 'Жан-Пьер Жене',\n",
       " 'Керк Де Микко, Крис Сандерс',\n",
       " 'Кертис Хэнсон, Майкл Эптид',\n",
       " 'Оливье Массе-Депасс',\n",
       " 'Е.Шин',\n",
       " 'А.Тарковский',\n",
       " 'Ричард Эйр',\n",
       " 'Г.Михалков, Г.Натансон, В.Сторожева, А.Касаткин, А.Михалков, А.Разенков, Э.Суни и др.',\n",
       " 'Джей Чандрашекхар',\n",
       " 'Дени де ла Орден',\n",
       " 'Матье Амальрик',\n",
       " 'К.Серебряков',\n",
       " 'Ян Хафт',\n",
       " 'Тод Уильямс',\n",
       " 'Майкл Гринспен',\n",
       " 'Кристиан Левринг',\n",
       " 'С.Тарасов',\n",
       " 'Джордан Дауни',\n",
       " 'Шон Дуркин',\n",
       " 'Джей Блейксон',\n",
       " 'Уолли Пфистер',\n",
       " 'Дон МакКеллар',\n",
       " 'Рамаа Мосли',\n",
       " 'Д.Дунаев',\n",
       " 'Т.Лукашевич',\n",
       " 'И.Копылов, С.Щербин',\n",
       " 'Ринат Газизов, Илья Трусов',\n",
       " 'Люк Крэссуэл, Стив МакНиколас',\n",
       " 'Феликс Фуксштайнер',\n",
       " 'Джей Джей Абрамс',\n",
       " 'Джордан Вогт-Робертс',\n",
       " 'С.Ермоленко',\n",
       " 'Дермот Малруни',\n",
       " 'Стефан Обье, Венсан Патар, Бенжамен Реннер',\n",
       " 'Марк Стивен Джонсон',\n",
       " 'Юэн МакГрегор',\n",
       " 'П.Костомаров, А.Расторгуев',\n",
       " 'Е.Егоров',\n",
       " 'В.Дербенев',\n",
       " 'Терри Звигоф',\n",
       " 'Филипп Фалардо',\n",
       " 'Н.Ведмицкая',\n",
       " 'Энди Фикман',\n",
       " 'Микеле Малли',\n",
       " 'А.Шабаров, Д.Булин, Н.Михалкова-Кончаловская, Г.Пирогова, Е.Вещева, Т.Федоровская, Е.Абызов',\n",
       " 'Гор Киракосян',\n",
       " 'Амат Эскаланте',\n",
       " 'В.Плотников, Г.Гитис',\n",
       " 'А.Давыдова',\n",
       " 'Кристиан Мунджиу',\n",
       " 'Э.Ходжикян, А.Ладынин',\n",
       " 'Кэтрин Хардвик',\n",
       " 'В.Саков',\n",
       " 'Седрик Клапиш',\n",
       " 'Жиль Леллуш',\n",
       " 'М.Шевчук',\n",
       " 'А.Сахелашвили',\n",
       " 'В.Дубровицкий',\n",
       " 'Э.Салаватов',\n",
       " 'Е.Салабай, В.Пономарёв, А.Миронов, Е.Головин, А.Бахурин',\n",
       " 'А.Кананович',\n",
       " 'Джейсон Ритмэн',\n",
       " 'А.Лукин',\n",
       " 'Н.Бондарчук',\n",
       " 'А.Кадыкова',\n",
       " 'Бен Грегор',\n",
       " 'Дарио Ардженто',\n",
       " 'Франциска Бух',\n",
       " 'С.Гинзбург',\n",
       " 'А.Пурер (Галин)',\n",
       " 'Джеймс Мэнголд',\n",
       " 'Оливье Маршаль',\n",
       " 'Салли Поттер',\n",
       " 'Энг Ли',\n",
       " 'И.Маслюков',\n",
       " 'Маркус Голлер',\n",
       " 'Ава ДюВерней',\n",
       " 'Мишель Ларок',\n",
       " 'Д.Давыдов',\n",
       " 'Н.Джорджадзе, В.Игнатьев',\n",
       " 'В.Тодоровский',\n",
       " 'Герард Квинто, Эстеве Солер, Дэвид Торрас',\n",
       " 'Джованни Веронези',\n",
       " 'Д.Золототрубов',\n",
       " 'Стефано Инчерти',\n",
       " 'А.Салтыков, А.Митта',\n",
       " 'Кейт Шортланд',\n",
       " 'Бретт Ратнер',\n",
       " 'Майкл Кейтон-Джоунс',\n",
       " 'Альберт Майзелс',\n",
       " 'Тенисон Бардуэлл',\n",
       " 'Анна Соловьева',\n",
       " 'Кэтлин Бельхер',\n",
       " 'Б.Казаков, Е.Серов',\n",
       " 'Андрес Пуустусмаа',\n",
       " 'Грэг Мэнваринг',\n",
       " 'Ма Юань, Донь Да Ке',\n",
       " 'Мигель Гомеш',\n",
       " 'Е.Жигаева',\n",
       " 'И.Малкин, И.Бессарабова',\n",
       " 'Марко Беллоккио',\n",
       " 'Е.Соколов',\n",
       " 'Филиппе Мартинес',\n",
       " 'В.Лонской',\n",
       " 'А.Темников',\n",
       " 'Кристофер Фитчетт ',\n",
       " 'Кевин Гройтерт',\n",
       " 'Энтони Пауэр',\n",
       " 'Джон Лэндис',\n",
       " 'Эрик Дарнелл',\n",
       " 'Синг-Чунг Фу, Бетти Тэнг',\n",
       " 'Чарльз Е.Бастьен, Билл Спирс',\n",
       " 'Джо Джонстон',\n",
       " 'И.Калядин',\n",
       " 'В.Азеев',\n",
       " 'Пер Флю',\n",
       " 'В.Москаленко',\n",
       " 'Миранда Джулай',\n",
       " 'Хайфа Аль-Мансур',\n",
       " 'Н.Батраева',\n",
       " 'А.Мельник',\n",
       " 'Тим Стори',\n",
       " 'Адриан Грюнберг',\n",
       " 'Райан Мерфи',\n",
       " 'Пол Фейг',\n",
       " 'Бенедикт Эндрюс',\n",
       " 'Дорон Пас, Йоав Пас',\n",
       " 'Барт Фрейндлих',\n",
       " 'Франческа Замбелло',\n",
       " 'А.Сильвестров',\n",
       " 'Питер Сигал',\n",
       " 'Фил Горн',\n",
       " 'Б.Худойназаров',\n",
       " 'Аарон Кешалес, Навот Папушадо',\n",
       " 'Ральф Файнс',\n",
       " 'Йен Софтли',\n",
       " 'Ли Тамахори',\n",
       " 'А.Щербович-Вечер',\n",
       " 'Джесс Гордон',\n",
       " 'Дональд Петри',\n",
       " 'С.Дружинина',\n",
       " 'Э.Пискатор, М.Доллер',\n",
       " 'Е.Салабай, Р.Верещак, Е.Головин, А.Миронов, Е.Савчук, Р.Газизов, Е.Шабанова',\n",
       " 'Ю.Чулюкин',\n",
       " 'Андреа Брет',\n",
       " 'Джонатан Кинг',\n",
       " 'Г.Рошаль',\n",
       " 'Зэк Снайдер',\n",
       " 'Милчо Манчевски',\n",
       " 'М.Мошкова, А.Борисова, А.Бахурин, Т.Мошкова, А.Жидков, А.Ковтун',\n",
       " 'Крис Рено',\n",
       " 'Кристофер Б.Лэндон',\n",
       " 'Ольга Львова',\n",
       " 'Джузеппе Стази, Джанкарло Фонтана',\n",
       " 'К.Кокорев',\n",
       " 'Лиза Джонсон',\n",
       " 'Афонсо Пойарт',\n",
       " 'Ромейн Леви',\n",
       " 'И.Ягафаров',\n",
       " 'Ронан Чапалайн и Паскаль Вьонг; Фрэнсис Верзеймер; Джези Кулар и Даниэль Кюнт; Дидье Гросджин  ',\n",
       " 'Зёнке Вортманн',\n",
       " 'К.Белевич (псевдоним - Кирилл Астахов), Г.Ильин',\n",
       " 'Джеримайя С.Чечик',\n",
       " 'И.Белостоцкий',\n",
       " 'Дэвид МакНелли',\n",
       " 'Альберто Родригес',\n",
       " 'М.Кравченко',\n",
       " 'Роберт Карсен',\n",
       " 'Д.Кузьмин',\n",
       " 'А.Бобровский',\n",
       " 'Флориан Галленбергер',\n",
       " 'С.Рубенчик',\n",
       " 'Дани Бон',\n",
       " 'Гильермо Амоедо',\n",
       " 'Мартин Ле Галль',\n",
       " 'Жак Клюгер',\n",
       " 'Пабло Фендрик',\n",
       " 'Г.Мыльников',\n",
       " 'Ваге Саян',\n",
       " 'Кристиан Швохов',\n",
       " 'Андрей Щербан',\n",
       " 'Энтони Руссо, Джо Руссо',\n",
       " 'Нэнси Севард',\n",
       " 'Джули Тэймор',\n",
       " 'А.Мизгирев',\n",
       " 'Джон Эйч Ли',\n",
       " 'А.Рыбников',\n",
       " 'Бенсон Ли',\n",
       " 'А.Беляев',\n",
       " 'Майк Митчел',\n",
       " 'И.Кунилов',\n",
       " 'Е.Гинзбург',\n",
       " 'Джеймс Хант',\n",
       " 'П.Воллрат, Д.Донахьюм, Б.Клеари, Б.Халил, Г.Хугхеш',\n",
       " 'Николай Ленхофф',\n",
       " 'Лиза Аскан',\n",
       " 'Лоран Тирар',\n",
       " 'П.Санаев, Ф.Коршунов',\n",
       " 'А.Красильщиков',\n",
       " 'И.Зайцев, О.Урушев',\n",
       " 'Б. Бум',\n",
       " 'Рудольф ван ден Берг',\n",
       " 'Дэн Вэйфэн',\n",
       " 'Альфонсо Гомес-Рехон',\n",
       " 'Е.Сергеев',\n",
       " 'Дэйв Бортвик',\n",
       " 'Стивен Кантор',\n",
       " 'Вл.Китт',\n",
       " ' Р.Асхаев',\n",
       " 'Николас Ванье',\n",
       " 'Себастьян Шиппер',\n",
       " 'Пэтти Дженкинс',\n",
       " ...}"
      ]
     },
     "execution_count": 43,
     "metadata": {},
     "output_type": "execute_result"
    }
   ],
   "source": [
    "set(data['director'])"
   ]
  },
  {
   "cell_type": "markdown",
   "metadata": {
    "id": "PnXKIVdFgFyR"
   },
   "source": [
    "В категориальных столбцах имеет место проблема разного транслитерирования иностранных собственных имен, например режиссер двух фильмов \"Анализируй это!\" и \"Анилизируй то!\" в одном случае записан как Гарольд Реймис, а в другом как ХЭрольд Рэмис. Помимо этого где-то указаны инициалы вместо имен. Также много строк, где указано несколько режиссеров, продюссеров и студий."
   ]
  },
  {
   "cell_type": "code",
   "execution_count": 44,
   "metadata": {},
   "outputs": [
    {
     "data": {
      "text/html": [
       "<div>\n",
       "<style scoped>\n",
       "    .dataframe tbody tr th:only-of-type {\n",
       "        vertical-align: middle;\n",
       "    }\n",
       "\n",
       "    .dataframe tbody tr th {\n",
       "        vertical-align: top;\n",
       "    }\n",
       "\n",
       "    .dataframe thead th {\n",
       "        text-align: right;\n",
       "    }\n",
       "</style>\n",
       "<table border=\"1\" class=\"dataframe\">\n",
       "  <thead>\n",
       "    <tr style=\"text-align: right;\">\n",
       "      <th></th>\n",
       "      <th>title</th>\n",
       "      <th>puNumber</th>\n",
       "      <th>show_start_date</th>\n",
       "      <th>type</th>\n",
       "      <th>film_studio</th>\n",
       "      <th>production_country</th>\n",
       "      <th>director</th>\n",
       "      <th>producer</th>\n",
       "      <th>age_restriction</th>\n",
       "      <th>refundable_support</th>\n",
       "      <th>nonrefundable_support</th>\n",
       "      <th>budget</th>\n",
       "      <th>financing_source</th>\n",
       "      <th>ratings</th>\n",
       "      <th>genres</th>\n",
       "      <th>box_office</th>\n",
       "    </tr>\n",
       "  </thead>\n",
       "  <tbody>\n",
       "    <tr>\n",
       "      <th>4553</th>\n",
       "      <td>Анализируй это!</td>\n",
       "      <td>221147310</td>\n",
       "      <td>2010-12-15 12:00:00+00:00</td>\n",
       "      <td>Художественный</td>\n",
       "      <td>Уорнер Бразерс, Вилладж Роудшоу Филмз ЛТД</td>\n",
       "      <td>США-Австралия</td>\n",
       "      <td>ХЭрольд Рэмис</td>\n",
       "      <td>Джейн Розенталь, Пола Уейнстейн</td>\n",
       "      <td>16+</td>\n",
       "      <td>0</td>\n",
       "      <td>0</td>\n",
       "      <td>0</td>\n",
       "      <td>нет</td>\n",
       "      <td>7.4</td>\n",
       "      <td>комедия,криминал</td>\n",
       "      <td>NaN</td>\n",
       "    </tr>\n",
       "    <tr>\n",
       "      <th>5067</th>\n",
       "      <td>Анализируй это!</td>\n",
       "      <td>221054410</td>\n",
       "      <td>2010-05-25 12:00:00+00:00</td>\n",
       "      <td>Художественный</td>\n",
       "      <td>Уорнер Бразерс, Вилладж Роудшоу Филмз ЛТД</td>\n",
       "      <td>США-Австралия</td>\n",
       "      <td>ХЭрольд Рэмис</td>\n",
       "      <td>Джейн Розенталь, Пола Уейнстейн</td>\n",
       "      <td>16+</td>\n",
       "      <td>0</td>\n",
       "      <td>0</td>\n",
       "      <td>0</td>\n",
       "      <td>нет</td>\n",
       "      <td>7.4</td>\n",
       "      <td>комедия,криминал</td>\n",
       "      <td>NaN</td>\n",
       "    </tr>\n",
       "    <tr>\n",
       "      <th>5068</th>\n",
       "      <td>Анализируй то!</td>\n",
       "      <td>221054410</td>\n",
       "      <td>2010-05-25 12:00:00+00:00</td>\n",
       "      <td>Художественный</td>\n",
       "      <td>Уорнер Бразерс, Виллидж Роадшоу Пикчерз, Эн-Пи...</td>\n",
       "      <td>США</td>\n",
       "      <td>Гарольд Реймис</td>\n",
       "      <td>Джейн Розенталь, Паул Уэйнстейн</td>\n",
       "      <td>12+</td>\n",
       "      <td>0</td>\n",
       "      <td>0</td>\n",
       "      <td>0</td>\n",
       "      <td>нет</td>\n",
       "      <td>6.8</td>\n",
       "      <td>комедия,криминал</td>\n",
       "      <td>NaN</td>\n",
       "    </tr>\n",
       "  </tbody>\n",
       "</table>\n",
       "</div>"
      ],
      "text/plain": [
       "                title   puNumber           show_start_date            type  \\\n",
       "4553  Анализируй это!  221147310 2010-12-15 12:00:00+00:00  Художественный   \n",
       "5067  Анализируй это!  221054410 2010-05-25 12:00:00+00:00  Художественный   \n",
       "5068   Анализируй то!  221054410 2010-05-25 12:00:00+00:00  Художественный   \n",
       "\n",
       "                                            film_studio production_country  \\\n",
       "4553          Уорнер Бразерс, Вилладж Роудшоу Филмз ЛТД      США-Австралия   \n",
       "5067          Уорнер Бразерс, Вилладж Роудшоу Филмз ЛТД      США-Австралия   \n",
       "5068  Уорнер Бразерс, Виллидж Роадшоу Пикчерз, Эн-Пи...                США   \n",
       "\n",
       "            director                         producer age_restriction  \\\n",
       "4553   ХЭрольд Рэмис  Джейн Розенталь, Пола Уейнстейн             16+   \n",
       "5067   ХЭрольд Рэмис  Джейн Розенталь, Пола Уейнстейн             16+   \n",
       "5068  Гарольд Реймис  Джейн Розенталь, Паул Уэйнстейн             12+   \n",
       "\n",
       "      refundable_support  nonrefundable_support  budget financing_source  \\\n",
       "4553                   0                      0       0              нет   \n",
       "5067                   0                      0       0              нет   \n",
       "5068                   0                      0       0              нет   \n",
       "\n",
       "      ratings            genres  box_office  \n",
       "4553      7.4  комедия,криминал         NaN  \n",
       "5067      7.4  комедия,криминал         NaN  \n",
       "5068      6.8  комедия,криминал         NaN  "
      ]
     },
     "execution_count": 44,
     "metadata": {},
     "output_type": "execute_result"
    }
   ],
   "source": [
    "data.query('title in [\"Анализируй это!\", \"Анализируй то!\"]')"
   ]
  },
  {
   "cell_type": "code",
   "execution_count": 45,
   "metadata": {},
   "outputs": [
    {
     "data": {
      "text/plain": [
       "array(['Художественный', 'Анимационный', 'Прочие', 'Документальный',\n",
       "       'Научно-популярный', ' Художественный', ' Анимационный',\n",
       "       'Музыкально-развлекательный'], dtype=object)"
      ]
     },
     "execution_count": 45,
     "metadata": {},
     "output_type": "execute_result"
    }
   ],
   "source": [
    "data['type'].unique()"
   ]
  },
  {
   "cell_type": "markdown",
   "metadata": {},
   "source": [
    "В колонке *type* есть значения с пробелом перед названием жанра. Устраним"
   ]
  },
  {
   "cell_type": "code",
   "execution_count": 46,
   "metadata": {},
   "outputs": [
    {
     "data": {
      "text/plain": [
       "array(['Художественный', 'Анимационный', 'Прочие', 'Документальный',\n",
       "       'Научно-популярный', 'Музыкально-развлекательный'], dtype=object)"
      ]
     },
     "execution_count": 46,
     "metadata": {},
     "output_type": "execute_result"
    }
   ],
   "source": [
    "data['type'] = data['type'].str.strip()\n",
    "data['type'].unique()"
   ]
  },
  {
   "cell_type": "code",
   "execution_count": 47,
   "metadata": {},
   "outputs": [
    {
     "data": {
      "text/plain": [
       "нет                                 7154\n",
       "Министерство культуры                164\n",
       "Фонд кино                            146\n",
       "Министерство культуры, Фонд кино      22\n",
       "Name: financing_source, dtype: int64"
      ]
     },
     "execution_count": 47,
     "metadata": {},
     "output_type": "execute_result"
    }
   ],
   "source": [
    "data['financing_source'].value_counts()"
   ]
  },
  {
   "cell_type": "code",
   "execution_count": 48,
   "metadata": {},
   "outputs": [
    {
     "data": {
      "text/plain": [
       "16+    2851\n",
       "18+    1605\n",
       "12+    1593\n",
       "0+      811\n",
       "6+      626\n",
       "Name: age_restriction, dtype: int64"
      ]
     },
     "execution_count": 48,
     "metadata": {},
     "output_type": "execute_result"
    }
   ],
   "source": [
    "data['age_restriction'].value_counts()"
   ]
  },
  {
   "cell_type": "markdown",
   "metadata": {
    "id": "XFSN5lrEgFyR"
   },
   "source": [
    "### Проверка количественных значений"
   ]
  },
  {
   "cell_type": "code",
   "execution_count": 49,
   "metadata": {},
   "outputs": [
    {
     "data": {
      "text/html": [
       "<div>\n",
       "<style scoped>\n",
       "    .dataframe tbody tr th:only-of-type {\n",
       "        vertical-align: middle;\n",
       "    }\n",
       "\n",
       "    .dataframe tbody tr th {\n",
       "        vertical-align: top;\n",
       "    }\n",
       "\n",
       "    .dataframe thead th {\n",
       "        text-align: right;\n",
       "    }\n",
       "</style>\n",
       "<table border=\"1\" class=\"dataframe\">\n",
       "  <thead>\n",
       "    <tr style=\"text-align: right;\">\n",
       "      <th></th>\n",
       "      <th>title</th>\n",
       "      <th>puNumber</th>\n",
       "      <th>show_start_date</th>\n",
       "      <th>type</th>\n",
       "      <th>film_studio</th>\n",
       "      <th>production_country</th>\n",
       "      <th>director</th>\n",
       "      <th>producer</th>\n",
       "      <th>age_restriction</th>\n",
       "      <th>refundable_support</th>\n",
       "      <th>nonrefundable_support</th>\n",
       "      <th>budget</th>\n",
       "      <th>financing_source</th>\n",
       "      <th>ratings</th>\n",
       "      <th>genres</th>\n",
       "      <th>box_office</th>\n",
       "    </tr>\n",
       "  </thead>\n",
       "  <tbody>\n",
       "    <tr>\n",
       "      <th>2053</th>\n",
       "      <td>14+</td>\n",
       "      <td>111023614</td>\n",
       "      <td>2014-12-19 12:00:00+00:00</td>\n",
       "      <td>Художественный</td>\n",
       "      <td>ООО Киностудия  \"Сентябрь\"</td>\n",
       "      <td>Россия</td>\n",
       "      <td>А.Зайцев</td>\n",
       "      <td>О.Гранина, А.Зайцев</td>\n",
       "      <td>16+</td>\n",
       "      <td>0</td>\n",
       "      <td>23000000</td>\n",
       "      <td>0</td>\n",
       "      <td>Министерство культуры, Фонд кино</td>\n",
       "      <td>6.6</td>\n",
       "      <td>мелодрама</td>\n",
       "      <td>10.234016</td>\n",
       "    </tr>\n",
       "    <tr>\n",
       "      <th>2058</th>\n",
       "      <td>Дуxless 2</td>\n",
       "      <td>111000415</td>\n",
       "      <td>2015-01-26 12:00:00+00:00</td>\n",
       "      <td>Художественный</td>\n",
       "      <td>ООО \"Киностудия \"Слово\", ООО \"Арт Пикчерс Студия\"</td>\n",
       "      <td>Россия</td>\n",
       "      <td>Р.Прыгунов</td>\n",
       "      <td>П.Ануров, Ф.Бондарчук, Д.Рудовский</td>\n",
       "      <td>16+</td>\n",
       "      <td>0</td>\n",
       "      <td>75000000</td>\n",
       "      <td>0</td>\n",
       "      <td>Фонд кино</td>\n",
       "      <td>6.6</td>\n",
       "      <td>драма</td>\n",
       "      <td>446.163511</td>\n",
       "    </tr>\n",
       "    <tr>\n",
       "      <th>2472</th>\n",
       "      <td>Воин (2015)</td>\n",
       "      <td>111017315</td>\n",
       "      <td>2015-09-28 12:00:00+00:00</td>\n",
       "      <td>Художественный</td>\n",
       "      <td>ООО \"Форпост Продакшн\", ООО \"Арт Пикчерс Студия\"</td>\n",
       "      <td>Россия</td>\n",
       "      <td>А.Андрианов</td>\n",
       "      <td>ООО \"Арт Пикчерс Студия\"</td>\n",
       "      <td>12+</td>\n",
       "      <td>10000000</td>\n",
       "      <td>70000000</td>\n",
       "      <td>0</td>\n",
       "      <td>Фонд кино</td>\n",
       "      <td>7.8</td>\n",
       "      <td>боевик,драма,криминал</td>\n",
       "      <td>196.572438</td>\n",
       "    </tr>\n",
       "    <tr>\n",
       "      <th>2532</th>\n",
       "      <td>Бармен.</td>\n",
       "      <td>111009615</td>\n",
       "      <td>2015-05-26 12:00:00+00:00</td>\n",
       "      <td>Художественный</td>\n",
       "      <td>АО \"ВайТ Медиа\", ООО \"Арт Пикчерс Студия\"</td>\n",
       "      <td>Россия</td>\n",
       "      <td>Д.Штурманова</td>\n",
       "      <td>Т.Вайнштейн</td>\n",
       "      <td>16+</td>\n",
       "      <td>20000000</td>\n",
       "      <td>0</td>\n",
       "      <td>0</td>\n",
       "      <td>Фонд кино</td>\n",
       "      <td>6.2</td>\n",
       "      <td>комедия,фэнтези</td>\n",
       "      <td>67.418975</td>\n",
       "    </tr>\n",
       "    <tr>\n",
       "      <th>2615</th>\n",
       "      <td>Савва. Сердце воина</td>\n",
       "      <td>114001715</td>\n",
       "      <td>2015-07-21 12:00:00+00:00</td>\n",
       "      <td>Анимационный</td>\n",
       "      <td>ООО \"Глюкоза Продакшн\", ООО \"Арт Пикчерс Студия\"</td>\n",
       "      <td>Россия</td>\n",
       "      <td>М.Фадеев</td>\n",
       "      <td>А.Чистяков</td>\n",
       "      <td>6+</td>\n",
       "      <td>60000000</td>\n",
       "      <td>100000000</td>\n",
       "      <td>0</td>\n",
       "      <td>Фонд кино</td>\n",
       "      <td>4.6</td>\n",
       "      <td>мультфильм,приключения,фэнтези</td>\n",
       "      <td>184.487551</td>\n",
       "    </tr>\n",
       "  </tbody>\n",
       "</table>\n",
       "</div>"
      ],
      "text/plain": [
       "                    title   puNumber           show_start_date  \\\n",
       "2053                  14+  111023614 2014-12-19 12:00:00+00:00   \n",
       "2058            Дуxless 2  111000415 2015-01-26 12:00:00+00:00   \n",
       "2472          Воин (2015)  111017315 2015-09-28 12:00:00+00:00   \n",
       "2532              Бармен.  111009615 2015-05-26 12:00:00+00:00   \n",
       "2615  Савва. Сердце воина  114001715 2015-07-21 12:00:00+00:00   \n",
       "\n",
       "                type                                        film_studio  \\\n",
       "2053  Художественный                         ООО Киностудия  \"Сентябрь\"   \n",
       "2058  Художественный  ООО \"Киностудия \"Слово\", ООО \"Арт Пикчерс Студия\"   \n",
       "2472  Художественный   ООО \"Форпост Продакшн\", ООО \"Арт Пикчерс Студия\"   \n",
       "2532  Художественный          АО \"ВайТ Медиа\", ООО \"Арт Пикчерс Студия\"   \n",
       "2615    Анимационный   ООО \"Глюкоза Продакшн\", ООО \"Арт Пикчерс Студия\"   \n",
       "\n",
       "     production_country      director                            producer  \\\n",
       "2053             Россия      А.Зайцев                 О.Гранина, А.Зайцев   \n",
       "2058             Россия    Р.Прыгунов  П.Ануров, Ф.Бондарчук, Д.Рудовский   \n",
       "2472             Россия   А.Андрианов            ООО \"Арт Пикчерс Студия\"   \n",
       "2532             Россия  Д.Штурманова                         Т.Вайнштейн   \n",
       "2615             Россия      М.Фадеев                          А.Чистяков   \n",
       "\n",
       "     age_restriction  refundable_support  nonrefundable_support  budget  \\\n",
       "2053             16+                   0               23000000       0   \n",
       "2058             16+                   0               75000000       0   \n",
       "2472             12+            10000000               70000000       0   \n",
       "2532             16+            20000000                      0       0   \n",
       "2615              6+            60000000              100000000       0   \n",
       "\n",
       "                      financing_source  ratings  \\\n",
       "2053  Министерство культуры, Фонд кино      6.6   \n",
       "2058                         Фонд кино      6.6   \n",
       "2472                         Фонд кино      7.8   \n",
       "2532                         Фонд кино      6.2   \n",
       "2615                         Фонд кино      4.6   \n",
       "\n",
       "                              genres  box_office  \n",
       "2053                       мелодрама   10.234016  \n",
       "2058                           драма  446.163511  \n",
       "2472           боевик,драма,криминал  196.572438  \n",
       "2532                 комедия,фэнтези   67.418975  \n",
       "2615  мультфильм,приключения,фэнтези  184.487551  "
      ]
     },
     "execution_count": 49,
     "metadata": {},
     "output_type": "execute_result"
    }
   ],
   "source": [
    "data.query('budget < refundable_support + nonrefundable_support').head()"
   ]
  },
  {
   "cell_type": "code",
   "execution_count": 50,
   "metadata": {},
   "outputs": [
    {
     "data": {
      "text/plain": [
       "17"
      ]
     },
     "execution_count": 50,
     "metadata": {},
     "output_type": "execute_result"
    }
   ],
   "source": [
    "len(data.query('budget < refundable_support + nonrefundable_support'))"
   ]
  },
  {
   "cell_type": "markdown",
   "metadata": {
    "id": "YbzClBxagFyS"
   },
   "source": [
    "В имеющихся данных есть 17 строк, где бюджет фильма равен нулю, при этом у него имеется господдержка. Эти строки лучше заполнить суммой возвратных и невозвратных средств господдержки, помноженной на среднюю долю господдержки в бюджете."
   ]
  },
  {
   "cell_type": "code",
   "execution_count": 51,
   "metadata": {},
   "outputs": [
    {
     "data": {
      "text/plain": [
       "0.47823298132573816"
      ]
     },
     "execution_count": 51,
     "metadata": {},
     "output_type": "execute_result"
    }
   ],
   "source": [
    "a_temp = data.query('refundable_support + nonrefundable_support > 0')            # оставим данные с известной господдержкой\n",
    "\n",
    "(a_temp['refundable_support'] + a_temp['nonrefundable_support']).mean() / a_temp['budget'].mean() # рассчитаем среднюю долю \n",
    "                                                                                                  # господдержки в фильмах"
   ]
  },
  {
   "cell_type": "code",
   "execution_count": 52,
   "metadata": {},
   "outputs": [
    {
     "data": {
      "text/html": [
       "<div>\n",
       "<style scoped>\n",
       "    .dataframe tbody tr th:only-of-type {\n",
       "        vertical-align: middle;\n",
       "    }\n",
       "\n",
       "    .dataframe tbody tr th {\n",
       "        vertical-align: top;\n",
       "    }\n",
       "\n",
       "    .dataframe thead th {\n",
       "        text-align: right;\n",
       "    }\n",
       "</style>\n",
       "<table border=\"1\" class=\"dataframe\">\n",
       "  <thead>\n",
       "    <tr style=\"text-align: right;\">\n",
       "      <th></th>\n",
       "      <th>title</th>\n",
       "      <th>puNumber</th>\n",
       "      <th>show_start_date</th>\n",
       "      <th>type</th>\n",
       "      <th>film_studio</th>\n",
       "      <th>production_country</th>\n",
       "      <th>director</th>\n",
       "      <th>producer</th>\n",
       "      <th>age_restriction</th>\n",
       "      <th>refundable_support</th>\n",
       "      <th>nonrefundable_support</th>\n",
       "      <th>budget</th>\n",
       "      <th>financing_source</th>\n",
       "      <th>ratings</th>\n",
       "      <th>genres</th>\n",
       "      <th>box_office</th>\n",
       "    </tr>\n",
       "  </thead>\n",
       "  <tbody>\n",
       "    <tr>\n",
       "      <th>1281</th>\n",
       "      <td>Пока еще жива</td>\n",
       "      <td>111005313</td>\n",
       "      <td>2013-10-11 12:00:00+00:00</td>\n",
       "      <td>Художественный</td>\n",
       "      <td>АНО содействия развитию кинематографии \"Ангел-...</td>\n",
       "      <td>Россия</td>\n",
       "      <td>А.Атанесян</td>\n",
       "      <td>А.Атанесян, М.Бабаханов, Р.Бутко</td>\n",
       "      <td>16+</td>\n",
       "      <td>0</td>\n",
       "      <td>26500000</td>\n",
       "      <td>79411900</td>\n",
       "      <td>Министерство культуры</td>\n",
       "      <td>8.1</td>\n",
       "      <td>драма,мелодрама</td>\n",
       "      <td>0.365354</td>\n",
       "    </tr>\n",
       "    <tr>\n",
       "      <th>1448</th>\n",
       "      <td>Бесславные придурки</td>\n",
       "      <td>111003314</td>\n",
       "      <td>2014-03-28 12:00:00+00:00</td>\n",
       "      <td>Художественный</td>\n",
       "      <td>ООО \"Компания \"АТК-Студио\"</td>\n",
       "      <td>Россия</td>\n",
       "      <td>А.Якимчук</td>\n",
       "      <td>А.Тютрюмов</td>\n",
       "      <td>12+</td>\n",
       "      <td>0</td>\n",
       "      <td>26000000</td>\n",
       "      <td>37142857</td>\n",
       "      <td>Министерство культуры</td>\n",
       "      <td>NaN</td>\n",
       "      <td>NaN</td>\n",
       "      <td>0.028140</td>\n",
       "    </tr>\n",
       "    <tr>\n",
       "      <th>1498</th>\n",
       "      <td>Невидимки</td>\n",
       "      <td>111004213</td>\n",
       "      <td>2013-09-10 12:00:00+00:00</td>\n",
       "      <td>Художественный</td>\n",
       "      <td>ООО \"Компания \"РЕАЛ-ДАКОТА\"</td>\n",
       "      <td>Россия</td>\n",
       "      <td>Р.Давлетьяров, С.Комаров</td>\n",
       "      <td>Р.Давлетьяров, А.Котелевский, А.Олейников</td>\n",
       "      <td>12+</td>\n",
       "      <td>0</td>\n",
       "      <td>107847945</td>\n",
       "      <td>176023490</td>\n",
       "      <td>Фонд кино</td>\n",
       "      <td>5.3</td>\n",
       "      <td>комедия,фантастика</td>\n",
       "      <td>19.957031</td>\n",
       "    </tr>\n",
       "    <tr>\n",
       "      <th>1524</th>\n",
       "      <td>БЕРЦЫ</td>\n",
       "      <td>111004314</td>\n",
       "      <td>2014-05-05 12:00:00+00:00</td>\n",
       "      <td>Художественный</td>\n",
       "      <td>ООО \"Студия \"Пассажир\"</td>\n",
       "      <td>Россия</td>\n",
       "      <td>Е.Миндадзе (псевдоним Катя Шагалова)</td>\n",
       "      <td>Л.Антонова</td>\n",
       "      <td>16+</td>\n",
       "      <td>0</td>\n",
       "      <td>28000000</td>\n",
       "      <td>40574140</td>\n",
       "      <td>Министерство культуры</td>\n",
       "      <td>4.2</td>\n",
       "      <td>драма</td>\n",
       "      <td>0.055918</td>\n",
       "    </tr>\n",
       "    <tr>\n",
       "      <th>1792</th>\n",
       "      <td>Братья Ч</td>\n",
       "      <td>111004414</td>\n",
       "      <td>2014-04-23 12:00:00+00:00</td>\n",
       "      <td>Художественный</td>\n",
       "      <td>ООО \"Студия \"Пассажир\"</td>\n",
       "      <td>Россия</td>\n",
       "      <td>М.Угаров</td>\n",
       "      <td>А.Миндадзе, Л.Антонова</td>\n",
       "      <td>16+</td>\n",
       "      <td>0</td>\n",
       "      <td>25000000</td>\n",
       "      <td>40015122</td>\n",
       "      <td>Министерство культуры</td>\n",
       "      <td>6.4</td>\n",
       "      <td>драма</td>\n",
       "      <td>0.232100</td>\n",
       "    </tr>\n",
       "  </tbody>\n",
       "</table>\n",
       "</div>"
      ],
      "text/plain": [
       "                    title   puNumber           show_start_date  \\\n",
       "1281        Пока еще жива  111005313 2013-10-11 12:00:00+00:00   \n",
       "1448  Бесславные придурки  111003314 2014-03-28 12:00:00+00:00   \n",
       "1498            Невидимки  111004213 2013-09-10 12:00:00+00:00   \n",
       "1524                БЕРЦЫ  111004314 2014-05-05 12:00:00+00:00   \n",
       "1792             Братья Ч  111004414 2014-04-23 12:00:00+00:00   \n",
       "\n",
       "                type                                        film_studio  \\\n",
       "1281  Художественный  АНО содействия развитию кинематографии \"Ангел-...   \n",
       "1448  Художественный                         ООО \"Компания \"АТК-Студио\"   \n",
       "1498  Художественный                        ООО \"Компания \"РЕАЛ-ДАКОТА\"   \n",
       "1524  Художественный                             ООО \"Студия \"Пассажир\"   \n",
       "1792  Художественный                             ООО \"Студия \"Пассажир\"   \n",
       "\n",
       "     production_country                              director  \\\n",
       "1281             Россия                            А.Атанесян   \n",
       "1448             Россия                             А.Якимчук   \n",
       "1498             Россия              Р.Давлетьяров, С.Комаров   \n",
       "1524             Россия  Е.Миндадзе (псевдоним Катя Шагалова)   \n",
       "1792             Россия                              М.Угаров   \n",
       "\n",
       "                                       producer age_restriction  \\\n",
       "1281           А.Атанесян, М.Бабаханов, Р.Бутко             16+   \n",
       "1448                                 А.Тютрюмов             12+   \n",
       "1498  Р.Давлетьяров, А.Котелевский, А.Олейников             12+   \n",
       "1524                                 Л.Антонова             16+   \n",
       "1792                     А.Миндадзе, Л.Антонова             16+   \n",
       "\n",
       "      refundable_support  nonrefundable_support     budget  \\\n",
       "1281                   0               26500000   79411900   \n",
       "1448                   0               26000000   37142857   \n",
       "1498                   0              107847945  176023490   \n",
       "1524                   0               28000000   40574140   \n",
       "1792                   0               25000000   40015122   \n",
       "\n",
       "           financing_source  ratings              genres  box_office  \n",
       "1281  Министерство культуры      8.1     драма,мелодрама    0.365354  \n",
       "1448  Министерство культуры      NaN                 NaN    0.028140  \n",
       "1498              Фонд кино      5.3  комедия,фантастика   19.957031  \n",
       "1524  Министерство культуры      4.2               драма    0.055918  \n",
       "1792  Министерство культуры      6.4               драма    0.232100  "
      ]
     },
     "execution_count": 52,
     "metadata": {},
     "output_type": "execute_result"
    }
   ],
   "source": [
    "a_temp.head()"
   ]
  },
  {
   "cell_type": "code",
   "execution_count": 53,
   "metadata": {},
   "outputs": [],
   "source": [
    "data.loc[data['budget'] < data['refundable_support'] + data['nonrefundable_support'], 'budget'] = (\n",
    "    (data['refundable_support'] + data['nonrefundable_support']) / 0.478)"
   ]
  },
  {
   "cell_type": "code",
   "execution_count": 54,
   "metadata": {},
   "outputs": [
    {
     "data": {
      "text/plain": [
       "332"
      ]
     },
     "execution_count": 54,
     "metadata": {},
     "output_type": "execute_result"
    }
   ],
   "source": [
    "len(data.query('budget != 0'))"
   ]
  },
  {
   "cell_type": "code",
   "execution_count": 55,
   "metadata": {},
   "outputs": [
    {
     "data": {
      "text/plain": [
       "0"
      ]
     },
     "execution_count": 55,
     "metadata": {},
     "output_type": "execute_result"
    }
   ],
   "source": [
    "len(data.query('(budget == refundable_support + nonrefundable_support) & (budget != 0)'))"
   ]
  },
  {
   "cell_type": "code",
   "execution_count": 56,
   "metadata": {},
   "outputs": [
    {
     "data": {
      "text/html": [
       "<div>\n",
       "<style scoped>\n",
       "    .dataframe tbody tr th:only-of-type {\n",
       "        vertical-align: middle;\n",
       "    }\n",
       "\n",
       "    .dataframe tbody tr th {\n",
       "        vertical-align: top;\n",
       "    }\n",
       "\n",
       "    .dataframe thead th {\n",
       "        text-align: right;\n",
       "    }\n",
       "</style>\n",
       "<table border=\"1\" class=\"dataframe\">\n",
       "  <thead>\n",
       "    <tr style=\"text-align: right;\">\n",
       "      <th></th>\n",
       "      <th>puNumber</th>\n",
       "      <th>refundable_support</th>\n",
       "      <th>nonrefundable_support</th>\n",
       "      <th>budget</th>\n",
       "      <th>ratings</th>\n",
       "      <th>box_office</th>\n",
       "    </tr>\n",
       "  </thead>\n",
       "  <tbody>\n",
       "    <tr>\n",
       "      <th>count</th>\n",
       "      <td>7.486000e+03</td>\n",
       "      <td>7.486000e+03</td>\n",
       "      <td>7.486000e+03</td>\n",
       "      <td>7.486000e+03</td>\n",
       "      <td>6519.000000</td>\n",
       "      <td>3158.000000</td>\n",
       "    </tr>\n",
       "    <tr>\n",
       "      <th>mean</th>\n",
       "      <td>1.351785e+08</td>\n",
       "      <td>5.261822e+05</td>\n",
       "      <td>2.172280e+06</td>\n",
       "      <td>6.031570e+06</td>\n",
       "      <td>6.488173</td>\n",
       "      <td>76.478696</td>\n",
       "    </tr>\n",
       "    <tr>\n",
       "      <th>std</th>\n",
       "      <td>3.838218e+07</td>\n",
       "      <td>5.781108e+06</td>\n",
       "      <td>1.614894e+07</td>\n",
       "      <td>4.858171e+07</td>\n",
       "      <td>1.114638</td>\n",
       "      <td>240.353123</td>\n",
       "    </tr>\n",
       "    <tr>\n",
       "      <th>min</th>\n",
       "      <td>0.000000e+00</td>\n",
       "      <td>0.000000e+00</td>\n",
       "      <td>0.000000e+00</td>\n",
       "      <td>0.000000e+00</td>\n",
       "      <td>1.000000</td>\n",
       "      <td>0.000000</td>\n",
       "    </tr>\n",
       "    <tr>\n",
       "      <th>25%</th>\n",
       "      <td>1.120250e+08</td>\n",
       "      <td>0.000000e+00</td>\n",
       "      <td>0.000000e+00</td>\n",
       "      <td>0.000000e+00</td>\n",
       "      <td>5.900000</td>\n",
       "      <td>0.086239</td>\n",
       "    </tr>\n",
       "    <tr>\n",
       "      <th>50%</th>\n",
       "      <td>1.210155e+08</td>\n",
       "      <td>0.000000e+00</td>\n",
       "      <td>0.000000e+00</td>\n",
       "      <td>0.000000e+00</td>\n",
       "      <td>6.600000</td>\n",
       "      <td>2.327988</td>\n",
       "    </tr>\n",
       "    <tr>\n",
       "      <th>75%</th>\n",
       "      <td>1.240033e+08</td>\n",
       "      <td>0.000000e+00</td>\n",
       "      <td>0.000000e+00</td>\n",
       "      <td>0.000000e+00</td>\n",
       "      <td>7.200000</td>\n",
       "      <td>23.979671</td>\n",
       "    </tr>\n",
       "    <tr>\n",
       "      <th>max</th>\n",
       "      <td>2.310011e+08</td>\n",
       "      <td>1.800000e+08</td>\n",
       "      <td>4.000000e+08</td>\n",
       "      <td>2.305074e+09</td>\n",
       "      <td>9.900000</td>\n",
       "      <td>3073.568691</td>\n",
       "    </tr>\n",
       "  </tbody>\n",
       "</table>\n",
       "</div>"
      ],
      "text/plain": [
       "           puNumber  refundable_support  nonrefundable_support        budget  \\\n",
       "count  7.486000e+03        7.486000e+03           7.486000e+03  7.486000e+03   \n",
       "mean   1.351785e+08        5.261822e+05           2.172280e+06  6.031570e+06   \n",
       "std    3.838218e+07        5.781108e+06           1.614894e+07  4.858171e+07   \n",
       "min    0.000000e+00        0.000000e+00           0.000000e+00  0.000000e+00   \n",
       "25%    1.120250e+08        0.000000e+00           0.000000e+00  0.000000e+00   \n",
       "50%    1.210155e+08        0.000000e+00           0.000000e+00  0.000000e+00   \n",
       "75%    1.240033e+08        0.000000e+00           0.000000e+00  0.000000e+00   \n",
       "max    2.310011e+08        1.800000e+08           4.000000e+08  2.305074e+09   \n",
       "\n",
       "           ratings   box_office  \n",
       "count  6519.000000  3158.000000  \n",
       "mean      6.488173    76.478696  \n",
       "std       1.114638   240.353123  \n",
       "min       1.000000     0.000000  \n",
       "25%       5.900000     0.086239  \n",
       "50%       6.600000     2.327988  \n",
       "75%       7.200000    23.979671  \n",
       "max       9.900000  3073.568691  "
      ]
     },
     "execution_count": 56,
     "metadata": {},
     "output_type": "execute_result"
    }
   ],
   "source": [
    "data.describe()"
   ]
  },
  {
   "cell_type": "markdown",
   "metadata": {
    "id": "Eu6oWp2CgFyS"
   },
   "source": [
    "### Добавление новых столбцов\n"
   ]
  },
  {
   "cell_type": "markdown",
   "metadata": {
    "id": "7GgW-UpAgFyS"
   },
   "source": [
    "Создадим столбец с информацией о годе проката. Выделим год из даты премьеры фильма."
   ]
  },
  {
   "cell_type": "code",
   "execution_count": 57,
   "metadata": {
    "id": "I-yd1DkWgFyT"
   },
   "outputs": [],
   "source": [
    "data['year'] = data['show_start_date'].dt.year"
   ]
  },
  {
   "cell_type": "code",
   "execution_count": 58,
   "metadata": {},
   "outputs": [
    {
     "data": {
      "text/html": [
       "<div>\n",
       "<style scoped>\n",
       "    .dataframe tbody tr th:only-of-type {\n",
       "        vertical-align: middle;\n",
       "    }\n",
       "\n",
       "    .dataframe tbody tr th {\n",
       "        vertical-align: top;\n",
       "    }\n",
       "\n",
       "    .dataframe thead th {\n",
       "        text-align: right;\n",
       "    }\n",
       "</style>\n",
       "<table border=\"1\" class=\"dataframe\">\n",
       "  <thead>\n",
       "    <tr style=\"text-align: right;\">\n",
       "      <th></th>\n",
       "      <th>title</th>\n",
       "      <th>puNumber</th>\n",
       "      <th>show_start_date</th>\n",
       "      <th>type</th>\n",
       "      <th>film_studio</th>\n",
       "      <th>production_country</th>\n",
       "      <th>director</th>\n",
       "      <th>producer</th>\n",
       "      <th>age_restriction</th>\n",
       "      <th>refundable_support</th>\n",
       "      <th>nonrefundable_support</th>\n",
       "      <th>budget</th>\n",
       "      <th>financing_source</th>\n",
       "      <th>ratings</th>\n",
       "      <th>genres</th>\n",
       "      <th>box_office</th>\n",
       "      <th>year</th>\n",
       "    </tr>\n",
       "  </thead>\n",
       "  <tbody>\n",
       "    <tr>\n",
       "      <th>0</th>\n",
       "      <td>Открытый простор</td>\n",
       "      <td>221048915</td>\n",
       "      <td>2015-11-27 12:00:00+00:00</td>\n",
       "      <td>Художественный</td>\n",
       "      <td>Тачстоун Пикчерз, Кобальт Пикчерз, Бикон Пикче...</td>\n",
       "      <td>США</td>\n",
       "      <td>Кевин Костнер</td>\n",
       "      <td>Дэвид Валдес, Кевин Костнер, Джейк Эбертс</td>\n",
       "      <td>18+</td>\n",
       "      <td>0</td>\n",
       "      <td>0</td>\n",
       "      <td>0.0</td>\n",
       "      <td>нет</td>\n",
       "      <td>7.2</td>\n",
       "      <td>боевик,драма,мелодрама</td>\n",
       "      <td>NaN</td>\n",
       "      <td>2015</td>\n",
       "    </tr>\n",
       "    <tr>\n",
       "      <th>1</th>\n",
       "      <td>Особо важное задание</td>\n",
       "      <td>111013716</td>\n",
       "      <td>2016-09-13 12:00:00+00:00</td>\n",
       "      <td>Художественный</td>\n",
       "      <td>Киностудия \"Мосфильм\"</td>\n",
       "      <td>СССР</td>\n",
       "      <td>Е.Матвеев</td>\n",
       "      <td>не определено</td>\n",
       "      <td>6+</td>\n",
       "      <td>0</td>\n",
       "      <td>0</td>\n",
       "      <td>0.0</td>\n",
       "      <td>нет</td>\n",
       "      <td>6.6</td>\n",
       "      <td>драма,военный</td>\n",
       "      <td>NaN</td>\n",
       "      <td>2016</td>\n",
       "    </tr>\n",
       "    <tr>\n",
       "      <th>2</th>\n",
       "      <td>Особо опасен</td>\n",
       "      <td>221038416</td>\n",
       "      <td>2016-10-10 12:00:00+00:00</td>\n",
       "      <td>Художественный</td>\n",
       "      <td>Юниверсал Пикчерз, Кикстарт Продакшнз, Марк Пл...</td>\n",
       "      <td>США</td>\n",
       "      <td>Тимур Бекмамбетов</td>\n",
       "      <td>Джим Лемли, Джейсон Нетер, Марк Е.Платт, Яйн Смит</td>\n",
       "      <td>18+</td>\n",
       "      <td>0</td>\n",
       "      <td>0</td>\n",
       "      <td>0.0</td>\n",
       "      <td>нет</td>\n",
       "      <td>6.8</td>\n",
       "      <td>фантастика,боевик,триллер</td>\n",
       "      <td>NaN</td>\n",
       "      <td>2016</td>\n",
       "    </tr>\n",
       "  </tbody>\n",
       "</table>\n",
       "</div>"
      ],
      "text/plain": [
       "                  title   puNumber           show_start_date            type  \\\n",
       "0      Открытый простор  221048915 2015-11-27 12:00:00+00:00  Художественный   \n",
       "1  Особо важное задание  111013716 2016-09-13 12:00:00+00:00  Художественный   \n",
       "2          Особо опасен  221038416 2016-10-10 12:00:00+00:00  Художественный   \n",
       "\n",
       "                                         film_studio production_country  \\\n",
       "0  Тачстоун Пикчерз, Кобальт Пикчерз, Бикон Пикче...                США   \n",
       "1                              Киностудия \"Мосфильм\"               СССР   \n",
       "2  Юниверсал Пикчерз, Кикстарт Продакшнз, Марк Пл...                США   \n",
       "\n",
       "            director                                           producer  \\\n",
       "0      Кевин Костнер          Дэвид Валдес, Кевин Костнер, Джейк Эбертс   \n",
       "1          Е.Матвеев                                      не определено   \n",
       "2  Тимур Бекмамбетов  Джим Лемли, Джейсон Нетер, Марк Е.Платт, Яйн Смит   \n",
       "\n",
       "  age_restriction  refundable_support  nonrefundable_support  budget  \\\n",
       "0             18+                   0                      0     0.0   \n",
       "1              6+                   0                      0     0.0   \n",
       "2             18+                   0                      0     0.0   \n",
       "\n",
       "  financing_source  ratings                     genres  box_office  year  \n",
       "0              нет      7.2     боевик,драма,мелодрама         NaN  2015  \n",
       "1              нет      6.6              драма,военный         NaN  2016  \n",
       "2              нет      6.8  фантастика,боевик,триллер         NaN  2016  "
      ]
     },
     "execution_count": 58,
     "metadata": {},
     "output_type": "execute_result"
    }
   ],
   "source": [
    "data.head(3)"
   ]
  },
  {
   "cell_type": "markdown",
   "metadata": {
    "id": "nFTDLDYOgFyT"
   },
   "source": [
    "Создадим два столбца: с именем и фамилией главного режиссёра и основным жанром фильма. В столбцы войдут первые значения из списка режиссёров и жанров соответственно."
   ]
  },
  {
   "cell_type": "code",
   "execution_count": 59,
   "metadata": {
    "id": "LSbRZKbMgFyU"
   },
   "outputs": [],
   "source": [
    "data['first_director'] = data['director'].str.split(',').str.get(0)\n",
    "data['first_genre'] = data['genres'].str.split(',').str.get(0)\n",
    "data['first_director'] = data['first_director'].str.strip() # Удалим пробелы в начале и конце"
   ]
  },
  {
   "cell_type": "code",
   "execution_count": 60,
   "metadata": {},
   "outputs": [
    {
     "data": {
      "text/html": [
       "<div>\n",
       "<style scoped>\n",
       "    .dataframe tbody tr th:only-of-type {\n",
       "        vertical-align: middle;\n",
       "    }\n",
       "\n",
       "    .dataframe tbody tr th {\n",
       "        vertical-align: top;\n",
       "    }\n",
       "\n",
       "    .dataframe thead th {\n",
       "        text-align: right;\n",
       "    }\n",
       "</style>\n",
       "<table border=\"1\" class=\"dataframe\">\n",
       "  <thead>\n",
       "    <tr style=\"text-align: right;\">\n",
       "      <th></th>\n",
       "      <th>title</th>\n",
       "      <th>puNumber</th>\n",
       "      <th>show_start_date</th>\n",
       "      <th>type</th>\n",
       "      <th>film_studio</th>\n",
       "      <th>production_country</th>\n",
       "      <th>director</th>\n",
       "      <th>producer</th>\n",
       "      <th>age_restriction</th>\n",
       "      <th>refundable_support</th>\n",
       "      <th>nonrefundable_support</th>\n",
       "      <th>budget</th>\n",
       "      <th>financing_source</th>\n",
       "      <th>ratings</th>\n",
       "      <th>genres</th>\n",
       "      <th>box_office</th>\n",
       "      <th>year</th>\n",
       "      <th>first_director</th>\n",
       "      <th>first_genre</th>\n",
       "    </tr>\n",
       "  </thead>\n",
       "  <tbody>\n",
       "    <tr>\n",
       "      <th>0</th>\n",
       "      <td>Открытый простор</td>\n",
       "      <td>221048915</td>\n",
       "      <td>2015-11-27 12:00:00+00:00</td>\n",
       "      <td>Художественный</td>\n",
       "      <td>Тачстоун Пикчерз, Кобальт Пикчерз, Бикон Пикче...</td>\n",
       "      <td>США</td>\n",
       "      <td>Кевин Костнер</td>\n",
       "      <td>Дэвид Валдес, Кевин Костнер, Джейк Эбертс</td>\n",
       "      <td>18+</td>\n",
       "      <td>0</td>\n",
       "      <td>0</td>\n",
       "      <td>0.0</td>\n",
       "      <td>нет</td>\n",
       "      <td>7.2</td>\n",
       "      <td>боевик,драма,мелодрама</td>\n",
       "      <td>NaN</td>\n",
       "      <td>2015</td>\n",
       "      <td>Кевин Костнер</td>\n",
       "      <td>боевик</td>\n",
       "    </tr>\n",
       "    <tr>\n",
       "      <th>1</th>\n",
       "      <td>Особо важное задание</td>\n",
       "      <td>111013716</td>\n",
       "      <td>2016-09-13 12:00:00+00:00</td>\n",
       "      <td>Художественный</td>\n",
       "      <td>Киностудия \"Мосфильм\"</td>\n",
       "      <td>СССР</td>\n",
       "      <td>Е.Матвеев</td>\n",
       "      <td>не определено</td>\n",
       "      <td>6+</td>\n",
       "      <td>0</td>\n",
       "      <td>0</td>\n",
       "      <td>0.0</td>\n",
       "      <td>нет</td>\n",
       "      <td>6.6</td>\n",
       "      <td>драма,военный</td>\n",
       "      <td>NaN</td>\n",
       "      <td>2016</td>\n",
       "      <td>Е.Матвеев</td>\n",
       "      <td>драма</td>\n",
       "    </tr>\n",
       "    <tr>\n",
       "      <th>2</th>\n",
       "      <td>Особо опасен</td>\n",
       "      <td>221038416</td>\n",
       "      <td>2016-10-10 12:00:00+00:00</td>\n",
       "      <td>Художественный</td>\n",
       "      <td>Юниверсал Пикчерз, Кикстарт Продакшнз, Марк Пл...</td>\n",
       "      <td>США</td>\n",
       "      <td>Тимур Бекмамбетов</td>\n",
       "      <td>Джим Лемли, Джейсон Нетер, Марк Е.Платт, Яйн Смит</td>\n",
       "      <td>18+</td>\n",
       "      <td>0</td>\n",
       "      <td>0</td>\n",
       "      <td>0.0</td>\n",
       "      <td>нет</td>\n",
       "      <td>6.8</td>\n",
       "      <td>фантастика,боевик,триллер</td>\n",
       "      <td>NaN</td>\n",
       "      <td>2016</td>\n",
       "      <td>Тимур Бекмамбетов</td>\n",
       "      <td>фантастика</td>\n",
       "    </tr>\n",
       "  </tbody>\n",
       "</table>\n",
       "</div>"
      ],
      "text/plain": [
       "                  title   puNumber           show_start_date            type  \\\n",
       "0      Открытый простор  221048915 2015-11-27 12:00:00+00:00  Художественный   \n",
       "1  Особо важное задание  111013716 2016-09-13 12:00:00+00:00  Художественный   \n",
       "2          Особо опасен  221038416 2016-10-10 12:00:00+00:00  Художественный   \n",
       "\n",
       "                                         film_studio production_country  \\\n",
       "0  Тачстоун Пикчерз, Кобальт Пикчерз, Бикон Пикче...                США   \n",
       "1                              Киностудия \"Мосфильм\"               СССР   \n",
       "2  Юниверсал Пикчерз, Кикстарт Продакшнз, Марк Пл...                США   \n",
       "\n",
       "            director                                           producer  \\\n",
       "0      Кевин Костнер          Дэвид Валдес, Кевин Костнер, Джейк Эбертс   \n",
       "1          Е.Матвеев                                      не определено   \n",
       "2  Тимур Бекмамбетов  Джим Лемли, Джейсон Нетер, Марк Е.Платт, Яйн Смит   \n",
       "\n",
       "  age_restriction  refundable_support  nonrefundable_support  budget  \\\n",
       "0             18+                   0                      0     0.0   \n",
       "1              6+                   0                      0     0.0   \n",
       "2             18+                   0                      0     0.0   \n",
       "\n",
       "  financing_source  ratings                     genres  box_office  year  \\\n",
       "0              нет      7.2     боевик,драма,мелодрама         NaN  2015   \n",
       "1              нет      6.6              драма,военный         NaN  2016   \n",
       "2              нет      6.8  фантастика,боевик,триллер         NaN  2016   \n",
       "\n",
       "      first_director first_genre  \n",
       "0      Кевин Костнер      боевик  \n",
       "1          Е.Матвеев       драма  \n",
       "2  Тимур Бекмамбетов  фантастика  "
      ]
     },
     "execution_count": 60,
     "metadata": {},
     "output_type": "execute_result"
    }
   ],
   "source": [
    "data.head(3)"
   ]
  },
  {
   "cell_type": "markdown",
   "metadata": {
    "id": "1FsCXHwdgFyU"
   },
   "source": [
    "Посчитаем, какую долю от общего бюджета фильма составляет государственная поддержка."
   ]
  },
  {
   "cell_type": "code",
   "execution_count": 61,
   "metadata": {},
   "outputs": [],
   "source": [
    "data['support_share'] = round((data['refundable_support'] + data['nonrefundable_support']) / data['budget'], 2)\n",
    "data['support_share'] = data['support_share'].fillna(0)"
   ]
  },
  {
   "cell_type": "code",
   "execution_count": 62,
   "metadata": {},
   "outputs": [
    {
     "data": {
      "text/html": [
       "<div>\n",
       "<style scoped>\n",
       "    .dataframe tbody tr th:only-of-type {\n",
       "        vertical-align: middle;\n",
       "    }\n",
       "\n",
       "    .dataframe tbody tr th {\n",
       "        vertical-align: top;\n",
       "    }\n",
       "\n",
       "    .dataframe thead th {\n",
       "        text-align: right;\n",
       "    }\n",
       "</style>\n",
       "<table border=\"1\" class=\"dataframe\">\n",
       "  <thead>\n",
       "    <tr style=\"text-align: right;\">\n",
       "      <th></th>\n",
       "      <th>title</th>\n",
       "      <th>puNumber</th>\n",
       "      <th>show_start_date</th>\n",
       "      <th>type</th>\n",
       "      <th>film_studio</th>\n",
       "      <th>production_country</th>\n",
       "      <th>director</th>\n",
       "      <th>producer</th>\n",
       "      <th>age_restriction</th>\n",
       "      <th>refundable_support</th>\n",
       "      <th>nonrefundable_support</th>\n",
       "      <th>budget</th>\n",
       "      <th>financing_source</th>\n",
       "      <th>ratings</th>\n",
       "      <th>genres</th>\n",
       "      <th>box_office</th>\n",
       "      <th>year</th>\n",
       "      <th>first_director</th>\n",
       "      <th>first_genre</th>\n",
       "      <th>support_share</th>\n",
       "    </tr>\n",
       "  </thead>\n",
       "  <tbody>\n",
       "    <tr>\n",
       "      <th>0</th>\n",
       "      <td>Открытый простор</td>\n",
       "      <td>221048915</td>\n",
       "      <td>2015-11-27 12:00:00+00:00</td>\n",
       "      <td>Художественный</td>\n",
       "      <td>Тачстоун Пикчерз, Кобальт Пикчерз, Бикон Пикче...</td>\n",
       "      <td>США</td>\n",
       "      <td>Кевин Костнер</td>\n",
       "      <td>Дэвид Валдес, Кевин Костнер, Джейк Эбертс</td>\n",
       "      <td>18+</td>\n",
       "      <td>0</td>\n",
       "      <td>0</td>\n",
       "      <td>0.0</td>\n",
       "      <td>нет</td>\n",
       "      <td>7.2</td>\n",
       "      <td>боевик,драма,мелодрама</td>\n",
       "      <td>NaN</td>\n",
       "      <td>2015</td>\n",
       "      <td>Кевин Костнер</td>\n",
       "      <td>боевик</td>\n",
       "      <td>0.0</td>\n",
       "    </tr>\n",
       "    <tr>\n",
       "      <th>1</th>\n",
       "      <td>Особо важное задание</td>\n",
       "      <td>111013716</td>\n",
       "      <td>2016-09-13 12:00:00+00:00</td>\n",
       "      <td>Художественный</td>\n",
       "      <td>Киностудия \"Мосфильм\"</td>\n",
       "      <td>СССР</td>\n",
       "      <td>Е.Матвеев</td>\n",
       "      <td>не определено</td>\n",
       "      <td>6+</td>\n",
       "      <td>0</td>\n",
       "      <td>0</td>\n",
       "      <td>0.0</td>\n",
       "      <td>нет</td>\n",
       "      <td>6.6</td>\n",
       "      <td>драма,военный</td>\n",
       "      <td>NaN</td>\n",
       "      <td>2016</td>\n",
       "      <td>Е.Матвеев</td>\n",
       "      <td>драма</td>\n",
       "      <td>0.0</td>\n",
       "    </tr>\n",
       "  </tbody>\n",
       "</table>\n",
       "</div>"
      ],
      "text/plain": [
       "                  title   puNumber           show_start_date            type  \\\n",
       "0      Открытый простор  221048915 2015-11-27 12:00:00+00:00  Художественный   \n",
       "1  Особо важное задание  111013716 2016-09-13 12:00:00+00:00  Художественный   \n",
       "\n",
       "                                         film_studio production_country  \\\n",
       "0  Тачстоун Пикчерз, Кобальт Пикчерз, Бикон Пикче...                США   \n",
       "1                              Киностудия \"Мосфильм\"               СССР   \n",
       "\n",
       "        director                                   producer age_restriction  \\\n",
       "0  Кевин Костнер  Дэвид Валдес, Кевин Костнер, Джейк Эбертс             18+   \n",
       "1      Е.Матвеев                              не определено              6+   \n",
       "\n",
       "   refundable_support  nonrefundable_support  budget financing_source  \\\n",
       "0                   0                      0     0.0              нет   \n",
       "1                   0                      0     0.0              нет   \n",
       "\n",
       "   ratings                  genres  box_office  year first_director  \\\n",
       "0      7.2  боевик,драма,мелодрама         NaN  2015  Кевин Костнер   \n",
       "1      6.6           драма,военный         NaN  2016      Е.Матвеев   \n",
       "\n",
       "  first_genre  support_share  \n",
       "0      боевик            0.0  \n",
       "1       драма            0.0  "
      ]
     },
     "execution_count": 62,
     "metadata": {},
     "output_type": "execute_result"
    }
   ],
   "source": [
    "data.head(2)"
   ]
  },
  {
   "cell_type": "markdown",
   "metadata": {
    "id": "6t4EukPLgFyV"
   },
   "source": [
    "## Исследовательский анализ данных\n"
   ]
  },
  {
   "cell_type": "markdown",
   "metadata": {
    "id": "vAH8WCzugFyV"
   },
   "source": [
    "Посмотрим, сколько фильмов выходило в прокат каждый год. Посчитаем, какую долю составляют фильмы с указанной информацией о прокате в кинотеатрах. Проанализируем, как эта доля менялась по годам. \n",
    "<br>Заменим пропущенные значения в *box_office* на 0 (чтобы не вызвать ошибки в дальнейшем коде). Строк, где указано, что сборы = 0 мало, поэтому примем, что значение 0 будет означать, что данных по сборам нет."
   ]
  },
  {
   "cell_type": "code",
   "execution_count": 63,
   "metadata": {},
   "outputs": [
    {
     "data": {
      "text/plain": [
       "24"
      ]
     },
     "execution_count": 63,
     "metadata": {},
     "output_type": "execute_result"
    }
   ],
   "source": [
    "len(data.query('box_office == 0'))"
   ]
  },
  {
   "cell_type": "code",
   "execution_count": 64,
   "metadata": {},
   "outputs": [],
   "source": [
    "data['box_office'] = data['box_office'].fillna(0)"
   ]
  },
  {
   "cell_type": "code",
   "execution_count": 65,
   "metadata": {
    "id": "ABeV47y7gFyW"
   },
   "outputs": [
    {
     "data": {
      "image/png": "[encoded data removed]",
      "text/plain": [
       "<Figure size 504x432 with 1 Axes>"
      ]
     },
     "metadata": {
      "needs_background": "light"
     },
     "output_type": "display_data"
    }
   ],
   "source": [
    "data['year'].hist(bins=10, label='Всего фильмов выпущено', figsize = (7, 6))\n",
    "data.query('box_office > 0')['year'].hist(bins=10, label='Фильмы, у которых имеются данные о сборах')\n",
    "\n",
    "plt.title('Распределение прокатов фильмов по годам')\n",
    "plt.xlabel('Год проката')\n",
    "plt.ylabel('Количество прокатов')\n",
    "plt.legend()\n",
    "plt.show()"
   ]
  },
  {
   "cell_type": "code",
   "execution_count": 66,
   "metadata": {},
   "outputs": [
    {
     "data": {
      "text/plain": [
       "2019    530\n",
       "2016    525\n",
       "2018    475\n",
       "2015    462\n",
       "2017    357\n",
       "2014    273\n",
       "2013    179\n",
       "2012    123\n",
       "2011    109\n",
       "2010    101\n",
       "Name: year, dtype: int64"
      ]
     },
     "execution_count": 66,
     "metadata": {},
     "output_type": "execute_result"
    }
   ],
   "source": [
    "data.query('box_office > 0')['year'].value_counts()"
   ]
  },
  {
   "cell_type": "code",
   "execution_count": 67,
   "metadata": {},
   "outputs": [
    {
     "data": {
      "text/plain": [
       "year\n",
       "2010    0.102538\n",
       "2011    0.175241\n",
       "2012    0.207420\n",
       "2013    0.284127\n",
       "2014    0.338290\n",
       "2015    0.655319\n",
       "2016    0.641809\n",
       "2017    0.706931\n",
       "2018    0.533109\n",
       "2019    0.569892\n",
       "Name: box_office, dtype: float64"
      ]
     },
     "metadata": {},
     "output_type": "display_data"
    },
    {
     "data": {
      "image/png": "[encoded data removed]",
      "text/plain": [
       "<Figure size 432x288 with 1 Axes>"
      ]
     },
     "metadata": {
      "needs_background": "light"
     },
     "output_type": "display_data"
    }
   ],
   "source": [
    "temp = data.groupby('year')['box_office'].apply(lambda x: (x > 0).sum() / x.count())\n",
    "display(temp)\n",
    "temp.plot(\n",
    "    style='o-', grid=True, \n",
    "    title='Доля фильмов с известными сборами', \n",
    "    xlabel='Год проката', \n",
    "    ylabel='Соотношение');"
   ]
  },
  {
   "cell_type": "markdown",
   "metadata": {},
   "source": [
    "Как видно из гистограммы, наибольшее количество фильмов был выпущено в прокат в 2010, 2018 и 2019 годах, а наименьшее в 2017 году. Нетрудно заметить тенденцию роста (от года к году) как общего количества выпускаемых фильмов, так и количества фильмов с известными сборами. Отчасти просадка по фильмам в 2017 году может быть связана как со скандалами в голливуде (когда репутация киноиндустрии была подорвана), так и с проблемами в российской киноиндустрии (например скандал с \"Матильдой\"). Наибольшая доля фильмов с известнымми сборами приходится именно на 2017 год."
   ]
  },
  {
   "cell_type": "markdown",
   "metadata": {
    "id": "BEOdcIrIgFyW"
   },
   "source": [
    "Посмотрим, как менялась динамика проката по годам."
   ]
  },
  {
   "cell_type": "code",
   "execution_count": 68,
   "metadata": {
    "id": "tfEhofYvgFyX"
   },
   "outputs": [
    {
     "data": {
      "text/plain": [
       "year\n",
       "2010        2.428654\n",
       "2011       14.102765\n",
       "2012        6.955423\n",
       "2013       29.799706\n",
       "2014     7444.951859\n",
       "2015    39497.365196\n",
       "2016    47866.299742\n",
       "2017    48563.707218\n",
       "2018    49668.403134\n",
       "2019    48425.708780\n",
       "Name: box_office, dtype: float64"
      ]
     },
     "metadata": {},
     "output_type": "display_data"
    },
    {
     "data": {
      "image/png": "[encoded data removed]",
      "text/plain": [
       "<Figure size 432x288 with 1 Axes>"
      ]
     },
     "metadata": {
      "needs_background": "light"
     },
     "output_type": "display_data"
    }
   ],
   "source": [
    "temp = data.groupby('year')['box_office'].apply(lambda x: x.sum())\n",
    "display(temp)\n",
    "temp.plot(\n",
    "    kind='bar', grid=True, \n",
    "    title='Сборы по годам, млн.руб',\n",
    "    xlabel='Год проката', \n",
    "    ylabel='Сборы');"
   ]
  },
  {
   "cell_type": "markdown",
   "metadata": {},
   "source": [
    "Больше всех денег удалось собрать в 2018 году (49,7 млрд.руб). Меньше всех в 2010 (2,4 млн.руб). Во многом это связано с инфляцией (удорожанием билетов) и ростом раскрытия информации по сборам (ранее было приняты за 0 отсутствующие значения по сборам)."
   ]
  },
  {
   "cell_type": "code",
   "execution_count": 69,
   "metadata": {
    "id": "jmp-rgg9gFyY"
   },
   "outputs": [
    {
     "data": {
      "text/html": [
       "<div>\n",
       "<style scoped>\n",
       "    .dataframe tbody tr th:only-of-type {\n",
       "        vertical-align: middle;\n",
       "    }\n",
       "\n",
       "    .dataframe tbody tr th {\n",
       "        vertical-align: top;\n",
       "    }\n",
       "\n",
       "    .dataframe thead tr th {\n",
       "        text-align: left;\n",
       "    }\n",
       "\n",
       "    .dataframe thead tr:last-of-type th {\n",
       "        text-align: right;\n",
       "    }\n",
       "</style>\n",
       "<table border=\"1\" class=\"dataframe\">\n",
       "  <thead>\n",
       "    <tr>\n",
       "      <th></th>\n",
       "      <th>mean</th>\n",
       "      <th>median</th>\n",
       "    </tr>\n",
       "    <tr>\n",
       "      <th></th>\n",
       "      <th>box_office</th>\n",
       "      <th>box_office</th>\n",
       "    </tr>\n",
       "    <tr>\n",
       "      <th>year</th>\n",
       "      <th></th>\n",
       "      <th></th>\n",
       "    </tr>\n",
       "  </thead>\n",
       "  <tbody>\n",
       "    <tr>\n",
       "      <th>2010</th>\n",
       "      <td>0.002466</td>\n",
       "      <td>0.000000</td>\n",
       "    </tr>\n",
       "    <tr>\n",
       "      <th>2011</th>\n",
       "      <td>0.022673</td>\n",
       "      <td>0.000000</td>\n",
       "    </tr>\n",
       "    <tr>\n",
       "      <th>2012</th>\n",
       "      <td>0.011729</td>\n",
       "      <td>0.000000</td>\n",
       "    </tr>\n",
       "    <tr>\n",
       "      <th>2013</th>\n",
       "      <td>0.047301</td>\n",
       "      <td>0.000000</td>\n",
       "    </tr>\n",
       "    <tr>\n",
       "      <th>2014</th>\n",
       "      <td>9.225467</td>\n",
       "      <td>0.000000</td>\n",
       "    </tr>\n",
       "    <tr>\n",
       "      <th>2015</th>\n",
       "      <td>56.024631</td>\n",
       "      <td>0.739938</td>\n",
       "    </tr>\n",
       "    <tr>\n",
       "      <th>2016</th>\n",
       "      <td>58.516259</td>\n",
       "      <td>0.479832</td>\n",
       "    </tr>\n",
       "    <tr>\n",
       "      <th>2017</th>\n",
       "      <td>96.165757</td>\n",
       "      <td>2.522174</td>\n",
       "    </tr>\n",
       "    <tr>\n",
       "      <th>2018</th>\n",
       "      <td>55.744560</td>\n",
       "      <td>0.289040</td>\n",
       "    </tr>\n",
       "    <tr>\n",
       "      <th>2019</th>\n",
       "      <td>52.070655</td>\n",
       "      <td>0.597710</td>\n",
       "    </tr>\n",
       "  </tbody>\n",
       "</table>\n",
       "</div>"
      ],
      "text/plain": [
       "           mean     median\n",
       "     box_office box_office\n",
       "year                      \n",
       "2010   0.002466   0.000000\n",
       "2011   0.022673   0.000000\n",
       "2012   0.011729   0.000000\n",
       "2013   0.047301   0.000000\n",
       "2014   9.225467   0.000000\n",
       "2015  56.024631   0.739938\n",
       "2016  58.516259   0.479832\n",
       "2017  96.165757   2.522174\n",
       "2018  55.744560   0.289040\n",
       "2019  52.070655   0.597710"
      ]
     },
     "execution_count": 69,
     "metadata": {},
     "output_type": "execute_result"
    }
   ],
   "source": [
    "data.pivot_table(index='year', values='box_office', aggfunc=[np.mean, np.median])"
   ]
  },
  {
   "cell_type": "markdown",
   "metadata": {},
   "source": [
    "Как видим, до 2015 года медианное значение сборов = 0, т.е. до 2015 года больше половины фильмов не имели данных по сборам. Наибольшие же значения среднего и медианного значений характерны для 2017 года. Это связано с большим количеством фильмов, у которых известны сборы (не равны 0)"
   ]
  },
  {
   "cell_type": "markdown",
   "metadata": {},
   "source": [
    "Исключим фильмы с отсутствующими данными по сборам"
   ]
  },
  {
   "cell_type": "code",
   "execution_count": 70,
   "metadata": {},
   "outputs": [
    {
     "data": {
      "text/plain": [
       "3134"
      ]
     },
     "execution_count": 70,
     "metadata": {},
     "output_type": "execute_result"
    }
   ],
   "source": [
    "data_wtht_box_office = data.query('box_office > 0')\n",
    "len(data_wtht_box_office)"
   ]
  },
  {
   "cell_type": "code",
   "execution_count": 71,
   "metadata": {},
   "outputs": [
    {
     "data": {
      "text/html": [
       "<div>\n",
       "<style scoped>\n",
       "    .dataframe tbody tr th:only-of-type {\n",
       "        vertical-align: middle;\n",
       "    }\n",
       "\n",
       "    .dataframe tbody tr th {\n",
       "        vertical-align: top;\n",
       "    }\n",
       "\n",
       "    .dataframe thead tr th {\n",
       "        text-align: left;\n",
       "    }\n",
       "\n",
       "    .dataframe thead tr:last-of-type th {\n",
       "        text-align: right;\n",
       "    }\n",
       "</style>\n",
       "<table border=\"1\" class=\"dataframe\">\n",
       "  <thead>\n",
       "    <tr>\n",
       "      <th></th>\n",
       "      <th>mean</th>\n",
       "      <th>median</th>\n",
       "    </tr>\n",
       "    <tr>\n",
       "      <th></th>\n",
       "      <th>box_office</th>\n",
       "      <th>box_office</th>\n",
       "    </tr>\n",
       "    <tr>\n",
       "      <th>year</th>\n",
       "      <th></th>\n",
       "      <th></th>\n",
       "    </tr>\n",
       "  </thead>\n",
       "  <tbody>\n",
       "    <tr>\n",
       "      <th>2010</th>\n",
       "      <td>0.024046</td>\n",
       "      <td>0.001710</td>\n",
       "    </tr>\n",
       "    <tr>\n",
       "      <th>2011</th>\n",
       "      <td>0.129383</td>\n",
       "      <td>0.003000</td>\n",
       "    </tr>\n",
       "    <tr>\n",
       "      <th>2012</th>\n",
       "      <td>0.056548</td>\n",
       "      <td>0.006220</td>\n",
       "    </tr>\n",
       "    <tr>\n",
       "      <th>2013</th>\n",
       "      <td>0.166479</td>\n",
       "      <td>0.003580</td>\n",
       "    </tr>\n",
       "    <tr>\n",
       "      <th>2014</th>\n",
       "      <td>27.270886</td>\n",
       "      <td>0.020400</td>\n",
       "    </tr>\n",
       "    <tr>\n",
       "      <th>2015</th>\n",
       "      <td>85.492132</td>\n",
       "      <td>5.003450</td>\n",
       "    </tr>\n",
       "    <tr>\n",
       "      <th>2016</th>\n",
       "      <td>91.173904</td>\n",
       "      <td>3.915041</td>\n",
       "    </tr>\n",
       "    <tr>\n",
       "      <th>2017</th>\n",
       "      <td>136.032793</td>\n",
       "      <td>9.968340</td>\n",
       "    </tr>\n",
       "    <tr>\n",
       "      <th>2018</th>\n",
       "      <td>104.565059</td>\n",
       "      <td>8.891102</td>\n",
       "    </tr>\n",
       "    <tr>\n",
       "      <th>2019</th>\n",
       "      <td>91.369262</td>\n",
       "      <td>4.627798</td>\n",
       "    </tr>\n",
       "  </tbody>\n",
       "</table>\n",
       "</div>"
      ],
      "text/plain": [
       "            mean     median\n",
       "      box_office box_office\n",
       "year                       \n",
       "2010    0.024046   0.001710\n",
       "2011    0.129383   0.003000\n",
       "2012    0.056548   0.006220\n",
       "2013    0.166479   0.003580\n",
       "2014   27.270886   0.020400\n",
       "2015   85.492132   5.003450\n",
       "2016   91.173904   3.915041\n",
       "2017  136.032793   9.968340\n",
       "2018  104.565059   8.891102\n",
       "2019   91.369262   4.627798"
      ]
     },
     "execution_count": 71,
     "metadata": {},
     "output_type": "execute_result"
    }
   ],
   "source": [
    "data_wtht_box_office.pivot_table(index='year', values='box_office', aggfunc=[np.mean, np.median])"
   ]
  },
  {
   "cell_type": "markdown",
   "metadata": {
    "id": "Ok89WFwJgFyZ"
   },
   "source": [
    "Посмотрим, влияет ли возрастное ограничение аудитории на сборы фильма в прокате в период с 2015 по 2019 год."
   ]
  },
  {
   "cell_type": "code",
   "execution_count": 72,
   "metadata": {
    "id": "jsSbEqfjgFya"
   },
   "outputs": [],
   "source": [
    "temp = data.query('year > 2014')\n",
    "temp_1 = temp.pivot_table(index='year', columns='age_restriction', values='box_office', aggfunc='sum')"
   ]
  },
  {
   "cell_type": "code",
   "execution_count": 73,
   "metadata": {},
   "outputs": [
    {
     "data": {
      "text/html": [
       "<div>\n",
       "<style scoped>\n",
       "    .dataframe tbody tr th:only-of-type {\n",
       "        vertical-align: middle;\n",
       "    }\n",
       "\n",
       "    .dataframe tbody tr th {\n",
       "        vertical-align: top;\n",
       "    }\n",
       "\n",
       "    .dataframe thead th {\n",
       "        text-align: right;\n",
       "    }\n",
       "</style>\n",
       "<table border=\"1\" class=\"dataframe\">\n",
       "  <thead>\n",
       "    <tr style=\"text-align: right;\">\n",
       "      <th>age_restriction</th>\n",
       "      <th>0+</th>\n",
       "      <th>12+</th>\n",
       "      <th>16+</th>\n",
       "      <th>18+</th>\n",
       "      <th>6+</th>\n",
       "    </tr>\n",
       "    <tr>\n",
       "      <th>year</th>\n",
       "      <th></th>\n",
       "      <th></th>\n",
       "      <th></th>\n",
       "      <th></th>\n",
       "      <th></th>\n",
       "    </tr>\n",
       "  </thead>\n",
       "  <tbody>\n",
       "    <tr>\n",
       "      <th>2015</th>\n",
       "      <td>379.054578</td>\n",
       "      <td>13616.082009</td>\n",
       "      <td>11368.120870</td>\n",
       "      <td>5432.308367</td>\n",
       "      <td>8701.799371</td>\n",
       "    </tr>\n",
       "    <tr>\n",
       "      <th>2016</th>\n",
       "      <td>150.228849</td>\n",
       "      <td>12204.446524</td>\n",
       "      <td>16664.548542</td>\n",
       "      <td>6793.929819</td>\n",
       "      <td>12053.146008</td>\n",
       "    </tr>\n",
       "    <tr>\n",
       "      <th>2017</th>\n",
       "      <td>229.598930</td>\n",
       "      <td>7851.427661</td>\n",
       "      <td>18745.042900</td>\n",
       "      <td>9651.495581</td>\n",
       "      <td>12086.142146</td>\n",
       "    </tr>\n",
       "    <tr>\n",
       "      <th>2018</th>\n",
       "      <td>32.449002</td>\n",
       "      <td>14267.291661</td>\n",
       "      <td>16503.602347</td>\n",
       "      <td>8760.085501</td>\n",
       "      <td>10104.974623</td>\n",
       "    </tr>\n",
       "    <tr>\n",
       "      <th>2019</th>\n",
       "      <td>17.746067</td>\n",
       "      <td>12680.198774</td>\n",
       "      <td>12753.418985</td>\n",
       "      <td>10121.796304</td>\n",
       "      <td>12852.548651</td>\n",
       "    </tr>\n",
       "  </tbody>\n",
       "</table>\n",
       "</div>"
      ],
      "text/plain": [
       "age_restriction          0+           12+           16+           18+  \\\n",
       "year                                                                    \n",
       "2015             379.054578  13616.082009  11368.120870   5432.308367   \n",
       "2016             150.228849  12204.446524  16664.548542   6793.929819   \n",
       "2017             229.598930   7851.427661  18745.042900   9651.495581   \n",
       "2018              32.449002  14267.291661  16503.602347   8760.085501   \n",
       "2019              17.746067  12680.198774  12753.418985  10121.796304   \n",
       "\n",
       "age_restriction            6+  \n",
       "year                           \n",
       "2015              8701.799371  \n",
       "2016             12053.146008  \n",
       "2017             12086.142146  \n",
       "2018             10104.974623  \n",
       "2019             12852.548651  "
      ]
     },
     "execution_count": 73,
     "metadata": {},
     "output_type": "execute_result"
    }
   ],
   "source": [
    "temp_1"
   ]
  },
  {
   "cell_type": "code",
   "execution_count": 74,
   "metadata": {},
   "outputs": [
    {
     "data": {
      "text/plain": [
       "age_restriction\n",
       "0+       379.054578\n",
       "12+    14267.291661\n",
       "16+    18745.042900\n",
       "18+    10121.796304\n",
       "6+     12852.548651\n",
       "dtype: float64"
      ]
     },
     "metadata": {},
     "output_type": "display_data"
    },
    {
     "data": {
      "image/png": "[encoded data removed]",
      "text/plain": [
       "<Figure size 720x576 with 1 Axes>"
      ]
     },
     "metadata": {
      "needs_background": "light"
     },
     "output_type": "display_data"
    }
   ],
   "source": [
    "display(temp_1.max())\n",
    "temp_1.plot(\n",
    "    kind='bar', width=.9, figsize=(10, 8), grid=True, \n",
    "    title='Распределение сборов по возрастным ограничениям фильма, млн.руб',\n",
    "    xlabel='Год проката', \n",
    "    ylabel='Сборы')\n",
    "plt.legend(title='Возрастная категория');"
   ]
  },
  {
   "cell_type": "code",
   "execution_count": 75,
   "metadata": {},
   "outputs": [
    {
     "data": {
      "text/html": [
       "<div>\n",
       "<style scoped>\n",
       "    .dataframe tbody tr th:only-of-type {\n",
       "        vertical-align: middle;\n",
       "    }\n",
       "\n",
       "    .dataframe tbody tr th {\n",
       "        vertical-align: top;\n",
       "    }\n",
       "\n",
       "    .dataframe thead th {\n",
       "        text-align: right;\n",
       "    }\n",
       "</style>\n",
       "<table border=\"1\" class=\"dataframe\">\n",
       "  <thead>\n",
       "    <tr style=\"text-align: right;\">\n",
       "      <th></th>\n",
       "      <th>box_office</th>\n",
       "    </tr>\n",
       "    <tr>\n",
       "      <th>age_restriction</th>\n",
       "      <th></th>\n",
       "    </tr>\n",
       "  </thead>\n",
       "  <tbody>\n",
       "    <tr>\n",
       "      <th>0+</th>\n",
       "      <td>809.077426</td>\n",
       "    </tr>\n",
       "    <tr>\n",
       "      <th>12+</th>\n",
       "      <td>60619.446628</td>\n",
       "    </tr>\n",
       "    <tr>\n",
       "      <th>16+</th>\n",
       "      <td>76034.733644</td>\n",
       "    </tr>\n",
       "    <tr>\n",
       "      <th>18+</th>\n",
       "      <td>40759.615572</td>\n",
       "    </tr>\n",
       "    <tr>\n",
       "      <th>6+</th>\n",
       "      <td>55798.610800</td>\n",
       "    </tr>\n",
       "  </tbody>\n",
       "</table>\n",
       "</div>"
      ],
      "text/plain": [
       "                   box_office\n",
       "age_restriction              \n",
       "0+                 809.077426\n",
       "12+              60619.446628\n",
       "16+              76034.733644\n",
       "18+              40759.615572\n",
       "6+               55798.610800"
      ]
     },
     "execution_count": 75,
     "metadata": {},
     "output_type": "execute_result"
    }
   ],
   "source": [
    "temp.groupby('age_restriction').agg({'box_office': 'sum'})  # Сумма сборов по возрастным категорям начиная с 2015 года"
   ]
  },
  {
   "cell_type": "code",
   "execution_count": 76,
   "metadata": {},
   "outputs": [
    {
     "data": {
      "text/html": [
       "<div>\n",
       "<style scoped>\n",
       "    .dataframe tbody tr th:only-of-type {\n",
       "        vertical-align: middle;\n",
       "    }\n",
       "\n",
       "    .dataframe tbody tr th {\n",
       "        vertical-align: top;\n",
       "    }\n",
       "\n",
       "    .dataframe thead th {\n",
       "        text-align: right;\n",
       "    }\n",
       "</style>\n",
       "<table border=\"1\" class=\"dataframe\">\n",
       "  <thead>\n",
       "    <tr style=\"text-align: right;\">\n",
       "      <th></th>\n",
       "      <th>box_office</th>\n",
       "    </tr>\n",
       "    <tr>\n",
       "      <th>age_restriction</th>\n",
       "      <th></th>\n",
       "    </tr>\n",
       "  </thead>\n",
       "  <tbody>\n",
       "    <tr>\n",
       "      <th>0+</th>\n",
       "      <td>206.478186</td>\n",
       "    </tr>\n",
       "    <tr>\n",
       "      <th>12+</th>\n",
       "      <td>3073.568691</td>\n",
       "    </tr>\n",
       "    <tr>\n",
       "      <th>16+</th>\n",
       "      <td>2576.613777</td>\n",
       "    </tr>\n",
       "    <tr>\n",
       "      <th>18+</th>\n",
       "      <td>1890.368076</td>\n",
       "    </tr>\n",
       "    <tr>\n",
       "      <th>6+</th>\n",
       "      <td>2779.686144</td>\n",
       "    </tr>\n",
       "  </tbody>\n",
       "</table>\n",
       "</div>"
      ],
      "text/plain": [
       "                  box_office\n",
       "age_restriction             \n",
       "0+                206.478186\n",
       "12+              3073.568691\n",
       "16+              2576.613777\n",
       "18+              1890.368076\n",
       "6+               2779.686144"
      ]
     },
     "execution_count": 76,
     "metadata": {},
     "output_type": "execute_result"
    }
   ],
   "source": [
    "temp.groupby('age_restriction').agg({'box_office': 'max'})  # максимальный сбор по 1 фильму за год с 2015 года"
   ]
  },
  {
   "cell_type": "markdown",
   "metadata": {},
   "source": [
    "По построенной гистограмме видно, что начиная с 2015 года фильмы для публики старше 16 лет собирают больше всего денег в кинотеатре. Только в 2019 году сборы были чуть меньше, чем у категории \"6+\". Фильмы с ограничением 0+ почти не собирают денег, поскольку данная категория вообще не имеет смысла (в кинотеартры редко ходят зрители до 6 лет). Больше всего в прокате собрали денег фильмы 16+ (76 млрд.руб), при этом самые кассовые фильмы были с ограничением 6+ и 12+."
   ]
  },
  {
   "cell_type": "code",
   "execution_count": 77,
   "metadata": {},
   "outputs": [
    {
     "data": {
      "image/png": "[encoded data removed]",
      "text/plain": [
       "<Figure size 720x576 with 1 Axes>"
      ]
     },
     "metadata": {
      "needs_background": "light"
     },
     "output_type": "display_data"
    }
   ],
   "source": [
    "plt.figure(figsize=(10, 8))\n",
    "sns.boxplot(data=temp, x='age_restriction', y='box_office').set(\n",
    "    title='Диаграммы размаха для возрастных категорий', xlabel='Возрастная категория', ylabel='Сборы');"
   ]
  },
  {
   "cell_type": "code",
   "execution_count": 96,
   "metadata": {},
   "outputs": [
    {
     "data": {
      "image/png": "[encoded data removed]",
      "text/plain": [
       "<Figure size 576x576 with 1 Axes>"
      ]
     },
     "metadata": {
      "needs_background": "light"
     },
     "output_type": "display_data"
    }
   ],
   "source": [
    "temp = data.copy()\n",
    "\n",
    "# для удобства укоротим названия категорий\n",
    "def get_first_value(s, sep = ','):  # Функция для выбора первого элемента из перечисления\n",
    "    value_lst = s.split(sep=sep)\n",
    "    return value_lst[0]\n",
    "\n",
    "temp['age_restriction'] = temp['age_restriction'].apply(lambda x: get_first_value(x, sep='-'))\n",
    "\n",
    "# сохраним маску для среза по годам\n",
    "year_mask = temp['year'] >= 2015\n",
    "\n",
    "plt.figure(figsize=(8, 8))\n",
    "(sns.boxplot(data = temp.loc[year_mask], y = 'box_office', x='age_restriction', showfliers=False, showmeans=True)\n",
    "    .set(title = 'Кассовые сборы в зависимости от возрастной категории', \n",
    "         xlabel = 'Возрастные категории', ylabel = 'Кассовый сбор'))\n",
    "\n",
    "plt.text(1.7, 110,'Треугольник показывает среднее значение')\n",
    "plt.show()"
   ]
  },
  {
   "cell_type": "markdown",
   "metadata": {},
   "source": [
    "В результате выполненного анализа можно сделать выводы, что наибольшее количество фильмов было выпущено в прокат в 2010, 2018 и 2019 годах, а наименьшее в 2017 году. Нетрудно заметить тенденцию роста (от года к году) как общего количества выпускаемых фильмов, так и количества фильмов с известными сборами. Отчасти просадка по фильмам в 2017 году может быть связана как со скандалами в голливуде (когда репутация киноиндустрии была подорвана), так и с проблемами в российской киноиндустрии (например скандал с \"Матильдой\"). Наибольшая доля фильмов с известнымми сборами приходится именно на 2017 год.\n",
    "<br>Больше всех денег удалось собрать в 2018 году (49,7 млрд.руб). Меньше всех в 2010 (2,4 млн.руб). Во многом это связано с инфляцией (удорожанием билетов) и ростом раскрытия информации по сборам (ранее было приняты за 0 отсутствующие значения по сборам).\n",
    "<br>До 2015 года медианное значение сборов = 0, т.е. до 2015 года больше половины фильмов не имели данных по сборам. Наибольшие же значения среднего и медианного значений характерны для 2017 года. Это связано с большим количеством фильмов, у которых известны сборы (не равны 0). В данных имеется большой размах по значениям в верхнюю сторону. Что вполне логично, т.к. большинство фильмов мало известны зрителю и собирают маленькую кассу и лишь некоторые хорошо известные фильмы зарабатывают много.\n",
    "<br>Начиная с 2015 года фильмы для публики старше 16 лет собирают больше всего денег в кинотеатре. Только в 2019 году сборы были чуть меньше, чем у категории \"6+\". Фильмы с ограничением \"0+\" почти не собирают денег, поскольку данная категория вообще не имеет смысла (в кинотеартры редко ходят зрители до 6 лет). Больше всего в прокате собрали денег фильмы \"16+\" (76 млрд.руб), при этом самые кассовые фильмы были с ограничением \"6+\" и \"12+\".\n",
    "</font>"
   ]
  },
  {
   "cell_type": "markdown",
   "metadata": {
    "id": "l_Kg6Ku4gFya"
   },
   "source": [
    "## Исследование фильмов, которые получили государственную поддержку\n",
    "\n",
    "Посмотрим, сколько выделяют средств на поддержку кино. Проверим, хорошо ли окупаются такие фильмы, какой у них рейтинг."
   ]
  },
  {
   "cell_type": "code",
   "execution_count": 79,
   "metadata": {
    "id": "W9QKpjUdgFyb"
   },
   "outputs": [
    {
     "name": "stderr",
     "output_type": "stream",
     "text": [
      "/tmp/ipykernel_126/3408568226.py:2: SettingWithCopyWarning: \n",
      "A value is trying to be set on a copy of a slice from a DataFrame.\n",
      "Try using .loc[row_indexer,col_indexer] = value instead\n",
      "\n",
      "See the caveats in the documentation: https://pandas.pydata.org/pandas-docs/stable/user_guide/indexing.html#returning-a-view-versus-a-copy\n",
      "  data_gp['budget'] = data_gp['budget']/1000000\n"
     ]
    },
    {
     "data": {
      "text/plain": [
       "production_country\n",
       "Россия                                        316\n",
       "Россия - Грузия                                 1\n",
       "Россия, Армения                                 1\n",
       "Россия, Бельгия, Финляндия                      1\n",
       "Россия, Германия                                2\n",
       "Россия, Германия, Великобритания                1\n",
       "Россия, Германия, Казахстан, Польша, Китай      1\n",
       "Россия, Италия                                  2\n",
       "Россия, Латвия, Чешская Республика              1\n",
       "Россия, Сербия                                  1\n",
       "Россия, Украина, Польша                         1\n",
       "Россия, Франция, Латвия                         1\n",
       "Россия-Китай                                    1\n",
       "Россия-Словакия-Чехия                           1\n",
       "Россия-Украина                                  1\n",
       "Name: budget, dtype: int64"
      ]
     },
     "execution_count": 79,
     "metadata": {},
     "output_type": "execute_result"
    }
   ],
   "source": [
    "data_gp = data.query('financing_source != \"нет\"')   # df из фильмов с господдержкой\n",
    "data_gp['budget'] = data_gp['budget']/1000000\n",
    "data_gp.groupby('production_country')['budget'].count()"
   ]
  },
  {
   "cell_type": "markdown",
   "metadata": {},
   "source": [
    "Как видно господдержку получают также и фильмы, снятые несколькими государствами (помимо России), но таких фильмов всего по 1, 2 шт. на каждый комплект государств."
   ]
  },
  {
   "cell_type": "code",
   "execution_count": 80,
   "metadata": {},
   "outputs": [
    {
     "data": {
      "text/plain": [
       "count     332.000000\n",
       "mean      136.001012\n",
       "std       188.791201\n",
       "min        12.552301\n",
       "25%        46.158500\n",
       "50%        75.000068\n",
       "75%       154.431690\n",
       "max      2305.074303\n",
       "Name: budget, dtype: float64"
      ]
     },
     "execution_count": 80,
     "metadata": {},
     "output_type": "execute_result"
    }
   ],
   "source": [
    "data_gp['budget'].describe()"
   ]
  },
  {
   "cell_type": "code",
   "execution_count": 81,
   "metadata": {},
   "outputs": [
    {
     "data": {
      "text/plain": [
       "count     332.000000\n",
       "mean      126.847920\n",
       "std       328.762574\n",
       "min         0.000000\n",
       "25%         0.909431\n",
       "50%        12.144194\n",
       "75%       103.107406\n",
       "max      3073.568691\n",
       "Name: box_office, dtype: float64"
      ]
     },
     "execution_count": 81,
     "metadata": {},
     "output_type": "execute_result"
    }
   ],
   "source": [
    "data_gp['box_office'].describe()"
   ]
  },
  {
   "cell_type": "code",
   "execution_count": 82,
   "metadata": {},
   "outputs": [
    {
     "data": {
      "text/plain": [
       "(6.020886075949368, 6.462452700378396)"
      ]
     },
     "execution_count": 82,
     "metadata": {},
     "output_type": "execute_result"
    }
   ],
   "source": [
    "data_gp['ratings'].mean(), data.drop_duplicates(subset=['title'])['ratings'].mean()"
   ]
  },
  {
   "cell_type": "markdown",
   "metadata": {},
   "source": [
    "Средний бюджет на фильм с господдержкой составляет 131 млн.руб, а медианный - 71 млн.руб. При этом средние и медианные сборы равны 126 и 12 млн. руб. Средний рейтинг таких фильмов равен 6. При этом общий средний рейтинг по фильмам равен 6,5."
   ]
  },
  {
   "cell_type": "code",
   "execution_count": 83,
   "metadata": {},
   "outputs": [
    {
     "data": {
      "text/plain": [
       "драма          93\n",
       "комедия        74\n",
       "мультфильм     31\n",
       "триллер        15\n",
       "мелодрама      15\n",
       "фэнтези        11\n",
       "фантастика     11\n",
       "ужасы          10\n",
       "военный         9\n",
       "приключения     7\n",
       "семейный        7\n",
       "боевик          6\n",
       "детектив        5\n",
       "мюзикл          4\n",
       "история         4\n",
       "детский         4\n",
       "криминал        3\n",
       "спорт           3\n",
       "биография       3\n",
       "реальное ТВ     1\n",
       "Name: first_genre, dtype: int64"
      ]
     },
     "execution_count": 83,
     "metadata": {},
     "output_type": "execute_result"
    }
   ],
   "source": [
    "data_gp['first_genre'].value_counts()"
   ]
  },
  {
   "cell_type": "markdown",
   "metadata": {},
   "source": [
    "Наиболее активно бюджетные  средства выделяются на драмы и комедии."
   ]
  },
  {
   "cell_type": "markdown",
   "metadata": {},
   "source": [
    "Посмотрим, какой режиссер пользуется большой популярностью у государства и какие он приносит результаты."
   ]
  },
  {
   "cell_type": "code",
   "execution_count": 84,
   "metadata": {},
   "outputs": [
    {
     "data": {
      "text/plain": [
       "Р.Давлетьяров    5\n",
       "С.Андреасян      4\n",
       "Д.Дьяченко       4\n",
       "А.Котт           3\n",
       "А.Аксененко      3\n",
       "Name: first_director, dtype: int64"
      ]
     },
     "execution_count": 84,
     "metadata": {},
     "output_type": "execute_result"
    }
   ],
   "source": [
    "data_gp['first_director'].value_counts().head()"
   ]
  },
  {
   "cell_type": "code",
   "execution_count": 85,
   "metadata": {},
   "outputs": [
    {
     "data": {
      "text/plain": [
       "count      5.000000\n",
       "mean      59.852586\n",
       "std      105.941563\n",
       "min        6.457303\n",
       "25%       10.933432\n",
       "50%       12.748398\n",
       "75%       19.957031\n",
       "max      249.166768\n",
       "Name: box_office, dtype: float64"
      ]
     },
     "execution_count": 85,
     "metadata": {},
     "output_type": "execute_result"
    }
   ],
   "source": [
    "data_gp.query('first_director == \"Р.Давлетьяров\"')['box_office'].describe()"
   ]
  },
  {
   "cell_type": "code",
   "execution_count": 86,
   "metadata": {},
   "outputs": [
    {
     "data": {
      "text/plain": [
       "count      5.000000\n",
       "mean     154.086047\n",
       "std       47.543736\n",
       "min      105.721524\n",
       "25%      111.736163\n",
       "50%      156.360666\n",
       "75%      176.023490\n",
       "max      220.588394\n",
       "Name: budget, dtype: float64"
      ]
     },
     "metadata": {},
     "output_type": "display_data"
    },
    {
     "data": {
      "text/plain": [
       "0.57"
      ]
     },
     "execution_count": 86,
     "metadata": {},
     "output_type": "execute_result"
    }
   ],
   "source": [
    "data_davletyarov = data_gp.query('first_director == \"Р.Давлетьяров\"')\n",
    "display((data_davletyarov['budget']).describe())\n",
    "round(data_davletyarov['support_share'].mean(), 2)"
   ]
  },
  {
   "cell_type": "code",
   "execution_count": 87,
   "metadata": {},
   "outputs": [
    {
     "data": {
      "text/plain": [
       "9"
      ]
     },
     "execution_count": 87,
     "metadata": {},
     "output_type": "execute_result"
    }
   ],
   "source": [
    "len(data.query('first_director == \"Р.Давлетьяров\"'))"
   ]
  },
  {
   "cell_type": "code",
   "execution_count": 88,
   "metadata": {},
   "outputs": [
    {
     "data": {
      "text/plain": [
       "Фонд кино                4\n",
       "нет                      4\n",
       "Министерство культуры    1\n",
       "Name: financing_source, dtype: int64"
      ]
     },
     "execution_count": 88,
     "metadata": {},
     "output_type": "execute_result"
    }
   ],
   "source": [
    "data.query('first_director == \"Р.Давлетьяров\"')['financing_source'].value_counts()"
   ]
  },
  {
   "cell_type": "markdown",
   "metadata": {},
   "source": [
    "Можно сделать вывод, что режиссер Р.Давлетьяров чаще других финансируется государством (средняя доля государственных денег в бюджете = 57%), а большая часть его фильмов (5 из 9) снята при участии государства (4 из этих фильмов проспонсировал Фонд кино). При этом он является убыточным режиссером (средние сборы = 60 млн.руб при средних бюджетах фильма = 154 млн. руб.). Его фильмы не только не окупают общий бюджет, но даже государственную долю. "
   ]
  },
  {
   "cell_type": "code",
   "execution_count": 89,
   "metadata": {},
   "outputs": [
    {
     "data": {
      "text/html": [
       "<div>\n",
       "<style scoped>\n",
       "    .dataframe tbody tr th:only-of-type {\n",
       "        vertical-align: middle;\n",
       "    }\n",
       "\n",
       "    .dataframe tbody tr th {\n",
       "        vertical-align: top;\n",
       "    }\n",
       "\n",
       "    .dataframe thead th {\n",
       "        text-align: right;\n",
       "    }\n",
       "</style>\n",
       "<table border=\"1\" class=\"dataframe\">\n",
       "  <thead>\n",
       "    <tr style=\"text-align: right;\">\n",
       "      <th></th>\n",
       "      <th>ratings</th>\n",
       "    </tr>\n",
       "    <tr>\n",
       "      <th>first_director</th>\n",
       "      <th></th>\n",
       "    </tr>\n",
       "  </thead>\n",
       "  <tbody>\n",
       "    <tr>\n",
       "      <th>Е.Шиляева</th>\n",
       "      <td>9.9</td>\n",
       "    </tr>\n",
       "    <tr>\n",
       "      <th>Т.Мирошник</th>\n",
       "      <td>9.9</td>\n",
       "    </tr>\n",
       "    <tr>\n",
       "      <th>А.Сазонов</th>\n",
       "      <td>9.8</td>\n",
       "    </tr>\n",
       "    <tr>\n",
       "      <th>И.Ромащенко</th>\n",
       "      <td>9.7</td>\n",
       "    </tr>\n",
       "    <tr>\n",
       "      <th>Д.Шабаев</th>\n",
       "      <td>9.4</td>\n",
       "    </tr>\n",
       "    <tr>\n",
       "      <th>Н.Иванова</th>\n",
       "      <td>9.1</td>\n",
       "    </tr>\n",
       "    <tr>\n",
       "      <th>М.Косырев-Нестеров</th>\n",
       "      <td>9.1</td>\n",
       "    </tr>\n",
       "    <tr>\n",
       "      <th>Н.Степанова при участии С.Иванова</th>\n",
       "      <td>9.0</td>\n",
       "    </tr>\n",
       "    <tr>\n",
       "      <th>М.Мошкова</th>\n",
       "      <td>9.0</td>\n",
       "    </tr>\n",
       "    <tr>\n",
       "      <th>А.Селиверстов</th>\n",
       "      <td>8.9</td>\n",
       "    </tr>\n",
       "  </tbody>\n",
       "</table>\n",
       "</div>"
      ],
      "text/plain": [
       "                                   ratings\n",
       "first_director                            \n",
       "Е.Шиляева                              9.9\n",
       "Т.Мирошник                             9.9\n",
       "А.Сазонов                              9.8\n",
       "И.Ромащенко                            9.7\n",
       "Д.Шабаев                               9.4\n",
       "Н.Иванова                              9.1\n",
       "М.Косырев-Нестеров                     9.1\n",
       "Н.Степанова при участии С.Иванова      9.0\n",
       "М.Мошкова                              9.0\n",
       "А.Селиверстов                          8.9"
      ]
     },
     "execution_count": 89,
     "metadata": {},
     "output_type": "execute_result"
    }
   ],
   "source": [
    "data.query('production_country == \"Россия\"').pivot_table(\n",
    "    index='first_director', values='ratings').sort_values(\n",
    "    by='ratings', ascending=False).head(10)"
   ]
  },
  {
   "cell_type": "markdown",
   "metadata": {},
   "source": [
    "За исключением тех режисеров, которые имеют рейтинг фильмов Ю 9,5 публике больше всего нравятся фильмы Д.Шабаева, Н.Ивановой, М.Косырева-Нестерова, Н.Степановой при участии С.Иванова, М.Мошковой. Имеет смысл проспонсировать именно их работы."
   ]
  },
  {
   "cell_type": "code",
   "execution_count": 90,
   "metadata": {},
   "outputs": [
    {
     "data": {
      "text/html": [
       "<div>\n",
       "<style scoped>\n",
       "    .dataframe tbody tr th:only-of-type {\n",
       "        vertical-align: middle;\n",
       "    }\n",
       "\n",
       "    .dataframe tbody tr th {\n",
       "        vertical-align: top;\n",
       "    }\n",
       "\n",
       "    .dataframe thead th {\n",
       "        text-align: right;\n",
       "    }\n",
       "</style>\n",
       "<table border=\"1\" class=\"dataframe\">\n",
       "  <thead>\n",
       "    <tr style=\"text-align: right;\">\n",
       "      <th></th>\n",
       "      <th>title</th>\n",
       "      <th>puNumber</th>\n",
       "      <th>show_start_date</th>\n",
       "      <th>type</th>\n",
       "      <th>film_studio</th>\n",
       "      <th>production_country</th>\n",
       "      <th>director</th>\n",
       "      <th>producer</th>\n",
       "      <th>age_restriction</th>\n",
       "      <th>refundable_support</th>\n",
       "      <th>nonrefundable_support</th>\n",
       "      <th>budget</th>\n",
       "      <th>financing_source</th>\n",
       "      <th>ratings</th>\n",
       "      <th>genres</th>\n",
       "      <th>box_office</th>\n",
       "      <th>year</th>\n",
       "      <th>first_director</th>\n",
       "      <th>first_genre</th>\n",
       "      <th>support_share</th>\n",
       "    </tr>\n",
       "  </thead>\n",
       "  <tbody>\n",
       "    <tr>\n",
       "      <th>1281</th>\n",
       "      <td>Пока еще жива</td>\n",
       "      <td>111005313</td>\n",
       "      <td>2013-10-11 12:00:00+00:00</td>\n",
       "      <td>Художественный</td>\n",
       "      <td>АНО содействия развитию кинематографии \"Ангел-...</td>\n",
       "      <td>Россия</td>\n",
       "      <td>А.Атанесян</td>\n",
       "      <td>А.Атанесян, М.Бабаханов, Р.Бутко</td>\n",
       "      <td>16+</td>\n",
       "      <td>0</td>\n",
       "      <td>26500000</td>\n",
       "      <td>79.411900</td>\n",
       "      <td>Министерство культуры</td>\n",
       "      <td>8.1</td>\n",
       "      <td>драма,мелодрама</td>\n",
       "      <td>0.365354</td>\n",
       "      <td>2013</td>\n",
       "      <td>А.Атанесян</td>\n",
       "      <td>драма</td>\n",
       "      <td>0.33</td>\n",
       "    </tr>\n",
       "    <tr>\n",
       "      <th>1448</th>\n",
       "      <td>Бесславные придурки</td>\n",
       "      <td>111003314</td>\n",
       "      <td>2014-03-28 12:00:00+00:00</td>\n",
       "      <td>Художественный</td>\n",
       "      <td>ООО \"Компания \"АТК-Студио\"</td>\n",
       "      <td>Россия</td>\n",
       "      <td>А.Якимчук</td>\n",
       "      <td>А.Тютрюмов</td>\n",
       "      <td>12+</td>\n",
       "      <td>0</td>\n",
       "      <td>26000000</td>\n",
       "      <td>37.142857</td>\n",
       "      <td>Министерство культуры</td>\n",
       "      <td>NaN</td>\n",
       "      <td>NaN</td>\n",
       "      <td>0.028140</td>\n",
       "      <td>2014</td>\n",
       "      <td>А.Якимчук</td>\n",
       "      <td>NaN</td>\n",
       "      <td>0.70</td>\n",
       "    </tr>\n",
       "    <tr>\n",
       "      <th>1498</th>\n",
       "      <td>Невидимки</td>\n",
       "      <td>111004213</td>\n",
       "      <td>2013-09-10 12:00:00+00:00</td>\n",
       "      <td>Художественный</td>\n",
       "      <td>ООО \"Компания \"РЕАЛ-ДАКОТА\"</td>\n",
       "      <td>Россия</td>\n",
       "      <td>Р.Давлетьяров, С.Комаров</td>\n",
       "      <td>Р.Давлетьяров, А.Котелевский, А.Олейников</td>\n",
       "      <td>12+</td>\n",
       "      <td>0</td>\n",
       "      <td>107847945</td>\n",
       "      <td>176.023490</td>\n",
       "      <td>Фонд кино</td>\n",
       "      <td>5.3</td>\n",
       "      <td>комедия,фантастика</td>\n",
       "      <td>19.957031</td>\n",
       "      <td>2013</td>\n",
       "      <td>Р.Давлетьяров</td>\n",
       "      <td>комедия</td>\n",
       "      <td>0.61</td>\n",
       "    </tr>\n",
       "  </tbody>\n",
       "</table>\n",
       "</div>"
      ],
      "text/plain": [
       "                    title   puNumber           show_start_date  \\\n",
       "1281        Пока еще жива  111005313 2013-10-11 12:00:00+00:00   \n",
       "1448  Бесславные придурки  111003314 2014-03-28 12:00:00+00:00   \n",
       "1498            Невидимки  111004213 2013-09-10 12:00:00+00:00   \n",
       "\n",
       "                type                                        film_studio  \\\n",
       "1281  Художественный  АНО содействия развитию кинематографии \"Ангел-...   \n",
       "1448  Художественный                         ООО \"Компания \"АТК-Студио\"   \n",
       "1498  Художественный                        ООО \"Компания \"РЕАЛ-ДАКОТА\"   \n",
       "\n",
       "     production_country                  director  \\\n",
       "1281             Россия                А.Атанесян   \n",
       "1448             Россия                 А.Якимчук   \n",
       "1498             Россия  Р.Давлетьяров, С.Комаров   \n",
       "\n",
       "                                       producer age_restriction  \\\n",
       "1281           А.Атанесян, М.Бабаханов, Р.Бутко             16+   \n",
       "1448                                 А.Тютрюмов             12+   \n",
       "1498  Р.Давлетьяров, А.Котелевский, А.Олейников             12+   \n",
       "\n",
       "      refundable_support  nonrefundable_support      budget  \\\n",
       "1281                   0               26500000   79.411900   \n",
       "1448                   0               26000000   37.142857   \n",
       "1498                   0              107847945  176.023490   \n",
       "\n",
       "           financing_source  ratings              genres  box_office  year  \\\n",
       "1281  Министерство культуры      8.1     драма,мелодрама    0.365354  2013   \n",
       "1448  Министерство культуры      NaN                 NaN    0.028140  2014   \n",
       "1498              Фонд кино      5.3  комедия,фантастика   19.957031  2013   \n",
       "\n",
       "     first_director first_genre  support_share  \n",
       "1281     А.Атанесян       драма           0.33  \n",
       "1448      А.Якимчук         NaN           0.70  \n",
       "1498  Р.Давлетьяров     комедия           0.61  "
      ]
     },
     "execution_count": 90,
     "metadata": {},
     "output_type": "execute_result"
    }
   ],
   "source": [
    "data_gp.head(3)"
   ]
  },
  {
   "cell_type": "code",
   "execution_count": 91,
   "metadata": {},
   "outputs": [
    {
     "data": {
      "text/plain": [
       "budget     176.648141\n",
       "ratings      6.145070\n",
       "dtype: float64"
      ]
     },
     "metadata": {},
     "output_type": "display_data"
    },
    {
     "data": {
      "text/plain": [
       "budget     124.744884\n",
       "ratings      5.984898\n",
       "dtype: float64"
      ]
     },
     "metadata": {},
     "output_type": "display_data"
    }
   ],
   "source": [
    "display(data_gp.query('box_office > budget')[['budget', 'ratings']].mean()) # Средний бюджет и рейтинг окупаемых фильмов\n",
    "display(data_gp.query('box_office < budget')[['budget', 'ratings']].mean()) # Средний бюджет и рейтинг неокупаемых фильмов"
   ]
  },
  {
   "cell_type": "markdown",
   "metadata": {},
   "source": [
    "Из 332 фильмов, которые получили господдержку только 72 фильма окупились (примерно 22%). Окупаемые фильмы в среденем стоят дороже неокупаемых на 52 млн. руб. А вот рейтинг их примерно одинаково низкий. Судя по всему лишние 52 млн.руб. идут не на качество фильма, а скорее на рекламу."
   ]
  },
  {
   "cell_type": "markdown",
   "metadata": {},
   "source": [
    "Из проведенного исследования видно, что господдержку получают также и фильмы, снятые несколькими государствами (помимо России), но таких фильмов всего по 1, 2 шт. на каждый комплект государств.\n",
    "<br>Средний бюджет на фильм с господдержкой составляет 136 млн.руб, а медианный - 75 млн.руб. При этом средние и медианные сборы равны 127 и 12 млн. руб. Средний рейтинг таких фильмов равен 6. При этом общий средний рейтинг по всем фильмам равен 6,5.\n",
    "<br>Наиболее активно бюджетные  средства выделяются на драмы и комедии.\n",
    "<br>Режиссер Р.Давлетьяров чаще других финансируется государством (средняя доля государственных денег в бюджете = 57%), а большая часть его фильмов (5 из 9) снята при участии государства. При этом он является убыточным режиссером (средние сборы = 60 млн.руб при средних бюджетах фильма = 154 млн. руб.). Его фильмы не только не окупают общий бюджет, но даже государственную долю. \n",
    "<br>За исключением тех режисеров, которые имеют рейтинг фильмов Ю 9,5 публике больше всего нравятся фильмы Д.Шабаева, Н.Ивановой, М.Косырева-Нестерова, Н.Степановой при участии С.Иванова, М.Мошковой. Имеет смысл проспонсировать именно их работы.\n",
    "<br>Из 332 фильмов, которые получили господдержку только 72 фильма окупились (примерно 22%). Более окупаемые фильмы в среденем стоят дороже неокупаемых на 52 млн. руб. А вот рейтинг их примерно одинаково низкий. Судя по всему лишние 52 млн.руб. идут не на качество фильма, а скорее на рекламу."
   ]
  },
  {
   "cell_type": "markdown",
   "metadata": {
    "id": "V2gYwMcPgFyd"
   },
   "source": [
    "## Выводы по исследованию"
   ]
  },
  {
   "cell_type": "markdown",
   "metadata": {
    "id": "AYRg3dzXgFye"
   },
   "source": [
    "**Общая информация о данных**\n",
    "<br>В рамках проекта изучался рынок российского кинопроката. Уделялось особое внимание фильмам, которые получили государственную поддержку. \n",
    "<br>Данные, взятые для анализа, опубликованны на портале открытых данных Министерства культуры. Набор данных содержит информацию о прокатных удостоверениях, сборах и государственной поддержке фильмов, а также информацию с сайта КиноПоиск.\n",
    "Изначально данные состояли из двух датафреймов, которые были объеденены в один. Итоговый датафрейм состоит из 7486 строк. Все значения из файла mkrf_shows вошли в состав нового датафрейма, но не для всех значений из mkrf_movies нашлись значения в mkrf_shows.\n",
    "\n",
    "**Проверка типов данных**\n",
    "<br>В рамках проработки типов данных были выполнены следующие шаги:\n",
    "1. Откорректированы значения в колонке *age_restriction*. Оставлено только количество лет, начиная с которых можно смотреть фильм;\n",
    "2. Дата премьеры фильма приведена к приемлемому виду;\n",
    "3. Изменен тип данных в колонке *ratings* на float. При этом значения рейтинга в процентах были переведены в дробные числа;\n",
    "4. Изменен тип данных в колонках *refundable_support, nonrefundable_support, budget, box_office* на int (после заполнения пропусков).\n",
    "<br>Поскольку сам по себе датафрей занимает мало памяти (877 кВ), то оптимизация по сокращению размера датафрейма не проводилась.\n",
    "\n",
    "**Обработка пропусков в датафрейме**\n",
    "<br>Пропущенны значения в колонках: *film_studio, production_country, director, producer, refundable_support, nonrefundable_support, budget, financing_source, ratings, genres, box_office*.\n",
    "<br>*film_studio*. Пропуски в данной колонке невозможно было восстановить, используя имеющиеся данные. Данные пропуски не будут играть большое значение в дальнейшем анализе, поэтому были заполнены значением \"не определено\".\n",
    "<br>*production_country*. Оба фильма с пропусками в данной колонке были сняты в России, поэтому пропуски в данной колонке были заполнены значением \"Россия\".\n",
    "<br>*director*. По большей части без режисеров концерты. Пропуски заполнены на \"отсутствует\".\n",
    "<br>*producer*. Пропуски в этой колонке также заполнены значением \"не определено\".\n",
    "<br>*refundable_support, nonrefundable_support, budget, financing_source*. Пропуски в данных колонках указывают на отсутствие российской господдержки у фильма. Пропущенные значения в колонках *refundable_support, nonrefundable_support, budget* были заменены на 0 (позже поменяем нули в budget на более адекватные значения), а в колонке *financing_source* на \"нет\". Колонки переведены в формат int.\n",
    "<br>*ratings, genres*. Нет возможност заполнить по имеющимся данным. Пропуски были оставлены.\n",
    "<br>*budget*. Пустые значения были заменены на суммарную господдержку + среднее значение прочих денег в фильмах.\n",
    "\n",
    "**Обработка дубликатов в датафрейме**\n",
    "<br>Полностью идентичных строк нет. Есть фильмы, которые имеют несколько дат проката. Скорее всего это вызвано повторными премьерами в кинотеатрах. Если у этих дублей колонки *title, financing_source, ratings, box_office* имеют идентичные значения, то такие дубликаты были удалены.\n",
    "\n",
    "**Проверка категориальных значений**\n",
    "<br>В ходе проверки категориальных столбцов обнаружилось, что в них имеет место проблема разного транслитерирования иностранных собственных имен, например режиссер двух фильмов \"Анализируй это!\" и \"Анилизируй то!\" в одном случае записан как Гарольд Реймис, а в другом как ХЭрольд Рэмис. Помимо этого где-то указаны инициалы вместо имен, а где то полные имена. Также много строк, где указано несколько режиссеров, продюссеров и студий. В колонке *type* удалены пробелы перед типом некоторых фильмов.\n",
    "<br>Полностью идентичных строк нет. Есть фильмы, которые имеют несколько дат проката. Скорее всего это вызвано повторными премьерами в кинотеатрах. Имеются строки с одинаковыми значениями в колонках *title, financing_source, ratings, box_office*.\n",
    "<br>Есть два дубликата с идентичными номерами прокатных удостоверений, но разными фильмами. Возможно произошла ошибка при сборе данных, либо фильмы выпускались в прокат по одоному удостоверению (если такое возможно). В будущем колонка *puNumber* не будет использоваться для анализа, поэтому номера оставлены без изменений.\n",
    "<br>Имеется большое количество фильмов, которые выпускались в прокат повторно, но удалить их было нельзя, поскольку их много (более 6%).\n",
    "\n",
    "\n",
    "**Проверка количественных значений**\n",
    "<br> Среди количественных значений были обнаружены аномалии: нулевые сборы у фильмов, слишком высокие рейтинги, связанные с работой алгоритмов Кинопоиска.\n",
    "\n",
    "**Добавление новых столбцов**\n",
    "<br>С целью проведения дальнешего анализа был созданы: столбец с информацией о годе проката; два столбца с именем и фамилией главного режиссёра и основным жанром фильма. В столбцы вошли первые значения из списка режиссёров и жанров соответственно; столбец с долей государственной поддержки в общем бюджете фильма.\n",
    "\n",
    "**Исследовательский анализ данных**\n",
    "<br>Больше всех денег удалось собрать в 2018 году (49,7 млрд.руб). Меньше всех в 2010 (2,4 млн.руб). Во многом это связано с инфляцией (удорожанием билетов) и ростом раскрытия информации по сборам (ранее было приняты за 0 отсутствующие значения по сборам).\n",
    "<br>До 2015 года медианное значение сборов = 0, т.е. до 2015 года больше половины фильмов не имели данных по сборам. Наибольшие же значения среднего и медианного значений характерны для 2017 года. Это связано с большим количеством фильмов, у которых известны сборы (не равны 0).\n",
    "<br>Имеется большой разрыв между медиаными и средними значениями по сборам. Даже с исключенными строками с неизвестными сборами разница огромна. Можно сделать вывод, что в данных имеется большой размах по значениям в верхнюю сторону. Что вполне логично, т.к. большинство фильмов мало известны зрителю и собирают маленькую кассу и лишь некоторые хорошо известные фильмы зарабатывают много.\n",
    "<br>По построенной гистограмме видно, что начиная с 2015 года фильмы для публики старше 16 лет собирают больше всего денег в кинотеатре. Только в 2019 году сборы были чуть меньше, чем у категории \"6+\". Фильмы с ограничением 0+ почти не собирают денег, поскольку данная категория вообще не имеет смысла (в кинотеартры редко ходят зрители до 6 лет). Больше всего в прокате собрали денег фильмы 16+ (76 млрд.руб), при этом самые кассовые фильмы были с ограничением 6+ и 12+.\n",
    "\n",
    "**Исследование фильмов, которые получили государственную поддержку**\n",
    "<br>Господдержку получают также и фильмы, снятые несколькими государствами (помимо России), но таких фильмов всего по 1, 2 шт. на каждый комплект государств.\n",
    "<br>Средний бюджет на фильм с господдержкой составляет 131 млн.руб, а медианный - 71 млн.руб. При этом средние и медианные сборы равны 126 и 12 млн. руб. Средний рейтинг таких фильмов равен 6. При этом общий средний рейтинг по фильмам равен 6,5.\n",
    "<br>Наиболее активно бюджетные средства выделяются на драмы и комедии.\n",
    "<br>Режиссер Р.Давлетьяров чаще других финансируется государством (средняя доля государственных денег в бюджете = 57%), а большая часть его фильмов (5 из 9) снята при участии государства (4 из этих фильмов проспонсировал Фонд кино). При этом он является убыточным режиссером (средние сборы = 60 млн.руб при средних бюджетах фильма = 154 млн. руб.). Его фильмы не только не окупают общий бюджет, но даже государственную долю. \n",
    "<br>За исключением тех режисеров, которые имеют рейтинг фильмов Ю 9,5 публике больше всего нравятся фильмы Д.Шабаева, Н.Ивановой, М.Косырева-Нестерова, Н.Степановой при участии С.Иванова, М.Мошковой. Имеет смысл проспонсировать именно их работы.\n",
    "<br>Из 332 фильмов, которые получили господдержку только 72 фильма окупились (примерно 22%). Более окупаемые фильмы в среденем стоят дороже неокупаемых на 52 млн. руб. А вот рейтинг их примерно одинаково низкий. Судя по всему лишние 52 млн.руб. идут не на качество фильма, а скорее на рекламу."
   ]
  }
 ],
 "metadata": {
  "ExecuteTimeLog": [
   {
    "duration": 537,
    "start_time": "2021-07-07T10:12:08.634Z"
   },
   {
    "duration": 206,
    "start_time": "2021-07-07T10:12:30.191Z"
   },
   {
    "duration": 227,
    "start_time": "2021-07-07T10:12:33.078Z"
   },
   {
    "duration": 153,
    "start_time": "2021-07-07T10:13:42.146Z"
   },
   {
    "duration": 233,
    "start_time": "2021-07-07T10:30:09.252Z"
   },
   {
    "duration": 19,
    "start_time": "2021-07-07T10:30:15.577Z"
   },
   {
    "duration": 18,
    "start_time": "2021-07-07T10:30:57.348Z"
   },
   {
    "duration": 19,
    "start_time": "2021-07-07T10:31:17.452Z"
   },
   {
    "duration": 21,
    "start_time": "2021-07-07T10:31:32.227Z"
   },
   {
    "duration": 27,
    "start_time": "2021-07-07T10:32:06.588Z"
   },
   {
    "duration": 23,
    "start_time": "2021-07-07T10:32:43.645Z"
   },
   {
    "duration": 24,
    "start_time": "2021-07-07T10:33:06.948Z"
   },
   {
    "duration": 7,
    "start_time": "2021-07-07T10:33:28.558Z"
   },
   {
    "duration": 23,
    "start_time": "2021-07-07T10:33:43.761Z"
   },
   {
    "duration": 28,
    "start_time": "2021-07-07T10:34:13.466Z"
   },
   {
    "duration": 23,
    "start_time": "2021-07-07T10:35:56.187Z"
   },
   {
    "duration": 6,
    "start_time": "2021-07-07T10:36:48.182Z"
   },
   {
    "duration": 14,
    "start_time": "2021-07-07T10:37:49.641Z"
   },
   {
    "duration": 6,
    "start_time": "2021-07-07T10:38:06.694Z"
   },
   {
    "duration": 6,
    "start_time": "2021-07-07T10:38:13.493Z"
   },
   {
    "duration": 19,
    "start_time": "2021-07-07T10:38:44.056Z"
   },
   {
    "duration": 186,
    "start_time": "2021-07-07T10:48:35.618Z"
   },
   {
    "duration": 24,
    "start_time": "2021-07-07T10:48:51.498Z"
   },
   {
    "duration": 20,
    "start_time": "2021-07-07T10:48:59.415Z"
   },
   {
    "duration": 20,
    "start_time": "2021-07-07T10:53:02.195Z"
   },
   {
    "duration": 188,
    "start_time": "2021-07-07T10:54:40.486Z"
   },
   {
    "duration": 115,
    "start_time": "2021-07-07T10:54:52.552Z"
   },
   {
    "duration": 214,
    "start_time": "2021-07-07T10:54:56.354Z"
   },
   {
    "duration": 47,
    "start_time": "2021-07-07T10:54:58.282Z"
   },
   {
    "duration": 217,
    "start_time": "2021-07-07T10:59:16.075Z"
   },
   {
    "duration": 51,
    "start_time": "2021-07-07T10:59:16.243Z"
   },
   {
    "duration": 578,
    "start_time": "2021-07-07T10:59:18.774Z"
   },
   {
    "duration": 161,
    "start_time": "2021-07-07T10:59:21.238Z"
   },
   {
    "duration": 59,
    "start_time": "2021-07-07T10:59:21.453Z"
   },
   {
    "duration": 3,
    "start_time": "2021-07-07T11:02:10.786Z"
   },
   {
    "duration": 13,
    "start_time": "2021-07-07T11:07:07.722Z"
   },
   {
    "duration": 26,
    "start_time": "2021-07-07T11:07:17.958Z"
   },
   {
    "duration": 22,
    "start_time": "2021-07-07T11:08:17.939Z"
   },
   {
    "duration": 212,
    "start_time": "2021-07-07T11:08:19.665Z"
   },
   {
    "duration": 21,
    "start_time": "2021-07-07T11:08:29.945Z"
   },
   {
    "duration": 31,
    "start_time": "2021-07-07T11:08:38.899Z"
   },
   {
    "duration": 23,
    "start_time": "2021-07-07T11:08:54.527Z"
   },
   {
    "duration": 8,
    "start_time": "2021-07-07T11:18:55.974Z"
   },
   {
    "duration": 7,
    "start_time": "2021-07-07T11:19:03.639Z"
   },
   {
    "duration": 7,
    "start_time": "2021-07-07T11:19:06.444Z"
   },
   {
    "duration": 578,
    "start_time": "2021-07-07T12:09:59.576Z"
   },
   {
    "duration": 195,
    "start_time": "2021-07-07T12:10:00.156Z"
   },
   {
    "duration": 115,
    "start_time": "2021-07-07T12:10:00.353Z"
   },
   {
    "duration": 3,
    "start_time": "2021-07-07T12:10:00.470Z"
   },
   {
    "duration": 32,
    "start_time": "2021-07-07T12:10:00.474Z"
   },
   {
    "duration": 23,
    "start_time": "2021-07-07T12:10:00.508Z"
   },
   {
    "duration": 19,
    "start_time": "2021-07-07T12:10:00.533Z"
   },
   {
    "duration": 44,
    "start_time": "2021-07-07T12:10:00.553Z"
   },
   {
    "duration": 7,
    "start_time": "2021-07-07T12:10:00.600Z"
   },
   {
    "duration": 7,
    "start_time": "2021-07-07T12:19:45.761Z"
   },
   {
    "duration": 21,
    "start_time": "2021-07-07T12:21:35.482Z"
   },
   {
    "duration": 21,
    "start_time": "2021-07-07T12:29:23.569Z"
   },
   {
    "duration": 525,
    "start_time": "2021-07-07T12:29:44.542Z"
   },
   {
    "duration": 214,
    "start_time": "2021-07-07T12:29:45.069Z"
   },
   {
    "duration": 92,
    "start_time": "2021-07-07T12:29:45.285Z"
   },
   {
    "duration": 3,
    "start_time": "2021-07-07T12:29:45.379Z"
   },
   {
    "duration": 28,
    "start_time": "2021-07-07T12:29:45.384Z"
   },
   {
    "duration": 23,
    "start_time": "2021-07-07T12:29:45.413Z"
   },
   {
    "duration": 21,
    "start_time": "2021-07-07T12:29:45.437Z"
   },
   {
    "duration": 41,
    "start_time": "2021-07-07T12:29:45.460Z"
   },
   {
    "duration": 7,
    "start_time": "2021-07-07T12:29:45.502Z"
   },
   {
    "duration": 20,
    "start_time": "2021-07-07T12:29:45.511Z"
   },
   {
    "duration": 12,
    "start_time": "2021-07-07T12:34:02.800Z"
   },
   {
    "duration": 7,
    "start_time": "2021-07-07T12:35:10.479Z"
   },
   {
    "duration": 8,
    "start_time": "2021-07-07T12:35:22.440Z"
   },
   {
    "duration": 6,
    "start_time": "2021-07-07T12:35:35.649Z"
   },
   {
    "duration": 6,
    "start_time": "2021-07-07T12:35:43.107Z"
   },
   {
    "duration": 22,
    "start_time": "2021-07-07T12:38:03.029Z"
   },
   {
    "duration": 10,
    "start_time": "2021-07-07T12:38:06.592Z"
   },
   {
    "duration": 563,
    "start_time": "2021-07-07T12:38:46.493Z"
   },
   {
    "duration": 265,
    "start_time": "2021-07-07T12:38:47.058Z"
   },
   {
    "duration": 94,
    "start_time": "2021-07-07T12:38:47.325Z"
   },
   {
    "duration": 3,
    "start_time": "2021-07-07T12:38:47.422Z"
   },
   {
    "duration": 30,
    "start_time": "2021-07-07T12:38:47.427Z"
   },
   {
    "duration": 16,
    "start_time": "2021-07-07T12:38:53.305Z"
   },
   {
    "duration": 10,
    "start_time": "2021-07-07T12:38:53.499Z"
   },
   {
    "duration": 8,
    "start_time": "2021-07-07T12:39:48.161Z"
   },
   {
    "duration": 27,
    "start_time": "2021-07-07T12:41:17.629Z"
   },
   {
    "duration": 17,
    "start_time": "2021-07-07T12:41:17.867Z"
   },
   {
    "duration": 21,
    "start_time": "2021-07-07T12:41:19.310Z"
   },
   {
    "duration": 7,
    "start_time": "2021-07-07T12:41:19.544Z"
   },
   {
    "duration": 20,
    "start_time": "2021-07-07T12:41:20.504Z"
   },
   {
    "duration": 554,
    "start_time": "2021-07-07T12:56:23.696Z"
   },
   {
    "duration": 200,
    "start_time": "2021-07-07T12:56:25.234Z"
   },
   {
    "duration": 119,
    "start_time": "2021-07-07T12:56:25.480Z"
   },
   {
    "duration": 4,
    "start_time": "2021-07-07T12:56:25.762Z"
   },
   {
    "duration": 26,
    "start_time": "2021-07-07T12:56:27.172Z"
   },
   {
    "duration": 12,
    "start_time": "2021-07-07T12:56:29.051Z"
   },
   {
    "duration": 10,
    "start_time": "2021-07-07T12:56:29.291Z"
   },
   {
    "duration": 8,
    "start_time": "2021-07-07T12:56:29.623Z"
   },
   {
    "duration": 28,
    "start_time": "2021-07-07T12:56:32.137Z"
   },
   {
    "duration": 19,
    "start_time": "2021-07-07T12:56:39.785Z"
   },
   {
    "duration": 20,
    "start_time": "2021-07-07T12:56:44.297Z"
   },
   {
    "duration": 7,
    "start_time": "2021-07-07T12:56:45.392Z"
   },
   {
    "duration": 23,
    "start_time": "2021-07-07T12:56:46.615Z"
   },
   {
    "duration": 4,
    "start_time": "2021-07-07T12:57:06.625Z"
   },
   {
    "duration": 32,
    "start_time": "2021-07-07T12:57:36.690Z"
   },
   {
    "duration": 18,
    "start_time": "2021-07-07T12:58:00.149Z"
   },
   {
    "duration": 15,
    "start_time": "2021-07-07T12:59:16.793Z"
   },
   {
    "duration": 7,
    "start_time": "2021-07-07T13:19:22.624Z"
   },
   {
    "duration": 6,
    "start_time": "2021-07-07T14:17:33.527Z"
   },
   {
    "duration": 9,
    "start_time": "2021-07-07T14:17:48.409Z"
   },
   {
    "duration": 8,
    "start_time": "2021-07-07T14:20:13.060Z"
   },
   {
    "duration": 8,
    "start_time": "2021-07-07T14:20:37.957Z"
   },
   {
    "duration": 8,
    "start_time": "2021-07-07T14:20:47.470Z"
   },
   {
    "duration": 9,
    "start_time": "2021-07-07T14:20:54.503Z"
   },
   {
    "duration": 10,
    "start_time": "2021-07-07T14:28:57.763Z"
   },
   {
    "duration": 3,
    "start_time": "2021-07-07T14:30:23.377Z"
   },
   {
    "duration": 3,
    "start_time": "2021-07-07T14:30:36.489Z"
   },
   {
    "duration": 103,
    "start_time": "2021-07-07T14:30:52.351Z"
   },
   {
    "duration": 8,
    "start_time": "2021-07-07T14:30:54.763Z"
   },
   {
    "duration": 8,
    "start_time": "2021-07-07T14:31:29.301Z"
   },
   {
    "duration": 13,
    "start_time": "2021-07-07T14:31:44.516Z"
   },
   {
    "duration": 7,
    "start_time": "2021-07-07T14:33:10.972Z"
   },
   {
    "duration": 11,
    "start_time": "2021-07-07T14:33:27.780Z"
   },
   {
    "duration": 8,
    "start_time": "2021-07-07T14:34:44.588Z"
   },
   {
    "duration": 57,
    "start_time": "2021-07-07T14:35:59.042Z"
   },
   {
    "duration": 3,
    "start_time": "2021-07-07T14:36:28.168Z"
   },
   {
    "duration": 5,
    "start_time": "2021-07-07T14:36:46.254Z"
   },
   {
    "duration": 4,
    "start_time": "2021-07-07T14:36:52.714Z"
   },
   {
    "duration": 3,
    "start_time": "2021-07-07T14:36:56.612Z"
   },
   {
    "duration": 4,
    "start_time": "2021-07-07T14:36:57.049Z"
   },
   {
    "duration": 3,
    "start_time": "2021-07-07T14:39:21.214Z"
   },
   {
    "duration": 7,
    "start_time": "2021-07-07T14:39:52.406Z"
   },
   {
    "duration": 11,
    "start_time": "2021-07-07T14:39:58.576Z"
   },
   {
    "duration": 9,
    "start_time": "2021-07-07T14:40:26.301Z"
   },
   {
    "duration": 10,
    "start_time": "2021-07-07T14:40:31.704Z"
   },
   {
    "duration": 11,
    "start_time": "2021-07-07T14:40:36.249Z"
   },
   {
    "duration": 10,
    "start_time": "2021-07-07T14:40:39.783Z"
   },
   {
    "duration": 9,
    "start_time": "2021-07-07T14:40:48.558Z"
   },
   {
    "duration": 10,
    "start_time": "2021-07-07T14:40:57.143Z"
   },
   {
    "duration": 9,
    "start_time": "2021-07-07T14:41:06.074Z"
   },
   {
    "duration": 4324,
    "start_time": "2021-07-07T14:41:22.004Z"
   },
   {
    "duration": 11,
    "start_time": "2021-07-07T14:41:33.392Z"
   },
   {
    "duration": 9,
    "start_time": "2021-07-07T14:41:39.288Z"
   },
   {
    "duration": 569,
    "start_time": "2021-07-07T14:42:14.387Z"
   },
   {
    "duration": 197,
    "start_time": "2021-07-07T14:42:14.959Z"
   },
   {
    "duration": 84,
    "start_time": "2021-07-07T14:42:16.052Z"
   },
   {
    "duration": 4,
    "start_time": "2021-07-07T14:42:16.900Z"
   },
   {
    "duration": 27,
    "start_time": "2021-07-07T14:42:19.898Z"
   },
   {
    "duration": 12,
    "start_time": "2021-07-07T14:42:21.577Z"
   },
   {
    "duration": 9,
    "start_time": "2021-07-07T14:42:21.813Z"
   },
   {
    "duration": 9,
    "start_time": "2021-07-07T14:42:22.569Z"
   },
   {
    "duration": 29,
    "start_time": "2021-07-07T14:42:25.837Z"
   },
   {
    "duration": 20,
    "start_time": "2021-07-07T14:42:27.003Z"
   },
   {
    "duration": 21,
    "start_time": "2021-07-07T14:42:28.767Z"
   },
   {
    "duration": 7,
    "start_time": "2021-07-07T14:42:29.838Z"
   },
   {
    "duration": 4,
    "start_time": "2021-07-07T14:43:25.493Z"
   },
   {
    "duration": 7,
    "start_time": "2021-07-07T14:43:26.573Z"
   },
   {
    "duration": 10,
    "start_time": "2021-07-07T14:43:31.639Z"
   },
   {
    "duration": 9,
    "start_time": "2021-07-07T14:43:32.046Z"
   },
   {
    "duration": 10,
    "start_time": "2021-07-07T14:43:33.301Z"
   },
   {
    "duration": 12,
    "start_time": "2021-07-07T14:43:33.658Z"
   },
   {
    "duration": 8,
    "start_time": "2021-07-07T14:43:34.552Z"
   },
   {
    "duration": 9,
    "start_time": "2021-07-07T14:43:35.058Z"
   },
   {
    "duration": 12,
    "start_time": "2021-07-07T14:43:35.914Z"
   },
   {
    "duration": 17,
    "start_time": "2021-07-07T14:45:34.368Z"
   },
   {
    "duration": 512,
    "start_time": "2021-07-07T14:51:58.236Z"
   },
   {
    "duration": 223,
    "start_time": "2021-07-07T14:51:58.750Z"
   },
   {
    "duration": 93,
    "start_time": "2021-07-07T14:51:58.977Z"
   },
   {
    "duration": 4,
    "start_time": "2021-07-07T14:51:59.071Z"
   },
   {
    "duration": 37,
    "start_time": "2021-07-07T14:51:59.077Z"
   },
   {
    "duration": 18,
    "start_time": "2021-07-07T14:51:59.116Z"
   },
   {
    "duration": 10,
    "start_time": "2021-07-07T14:51:59.137Z"
   },
   {
    "duration": 8,
    "start_time": "2021-07-07T14:51:59.149Z"
   },
   {
    "duration": 54,
    "start_time": "2021-07-07T14:51:59.158Z"
   },
   {
    "duration": 18,
    "start_time": "2021-07-07T14:51:59.213Z"
   },
   {
    "duration": 22,
    "start_time": "2021-07-07T14:51:59.232Z"
   },
   {
    "duration": 36,
    "start_time": "2021-07-07T14:51:59.255Z"
   },
   {
    "duration": 7,
    "start_time": "2021-07-07T14:51:59.293Z"
   },
   {
    "duration": 10,
    "start_time": "2021-07-07T14:51:59.302Z"
   },
   {
    "duration": 9,
    "start_time": "2021-07-07T14:51:59.313Z"
   },
   {
    "duration": 11,
    "start_time": "2021-07-07T14:51:59.324Z"
   },
   {
    "duration": 8,
    "start_time": "2021-07-07T14:51:59.337Z"
   },
   {
    "duration": 46,
    "start_time": "2021-07-07T14:51:59.347Z"
   },
   {
    "duration": 22,
    "start_time": "2021-07-07T14:51:59.395Z"
   },
   {
    "duration": 24,
    "start_time": "2021-07-07T14:57:32.911Z"
   },
   {
    "duration": 7,
    "start_time": "2021-07-07T14:58:22.070Z"
   },
   {
    "duration": 4,
    "start_time": "2021-07-07T14:59:11.239Z"
   },
   {
    "duration": 25,
    "start_time": "2021-07-07T15:07:22.208Z"
   },
   {
    "duration": 16,
    "start_time": "2021-07-07T15:08:25.560Z"
   },
   {
    "duration": 15,
    "start_time": "2021-07-07T15:08:40.647Z"
   },
   {
    "duration": 14,
    "start_time": "2021-07-07T15:08:46.669Z"
   },
   {
    "duration": 533,
    "start_time": "2021-07-07T15:18:07.440Z"
   },
   {
    "duration": 173,
    "start_time": "2021-07-07T15:18:07.974Z"
   },
   {
    "duration": 84,
    "start_time": "2021-07-07T15:18:08.149Z"
   },
   {
    "duration": 3,
    "start_time": "2021-07-07T15:18:08.235Z"
   },
   {
    "duration": 30,
    "start_time": "2021-07-07T15:18:08.240Z"
   },
   {
    "duration": 22,
    "start_time": "2021-07-07T15:18:08.272Z"
   },
   {
    "duration": 11,
    "start_time": "2021-07-07T15:18:08.295Z"
   },
   {
    "duration": 11,
    "start_time": "2021-07-07T15:18:08.309Z"
   },
   {
    "duration": 40,
    "start_time": "2021-07-07T15:18:08.322Z"
   },
   {
    "duration": 42,
    "start_time": "2021-07-07T15:18:08.364Z"
   },
   {
    "duration": 22,
    "start_time": "2021-07-07T15:18:08.408Z"
   },
   {
    "duration": 5,
    "start_time": "2021-07-07T15:18:08.432Z"
   },
   {
    "duration": 13,
    "start_time": "2021-07-07T15:18:08.439Z"
   },
   {
    "duration": 9,
    "start_time": "2021-07-07T15:18:08.454Z"
   },
   {
    "duration": 32,
    "start_time": "2021-07-07T15:18:08.465Z"
   },
   {
    "duration": 10,
    "start_time": "2021-07-07T15:18:08.501Z"
   },
   {
    "duration": 7,
    "start_time": "2021-07-07T15:18:08.513Z"
   },
   {
    "duration": 11,
    "start_time": "2021-07-07T15:18:08.521Z"
   },
   {
    "duration": 17,
    "start_time": "2021-07-07T15:18:08.534Z"
   },
   {
    "duration": 44,
    "start_time": "2021-07-07T15:18:08.553Z"
   },
   {
    "duration": 22,
    "start_time": "2021-07-07T15:18:08.599Z"
   },
   {
    "duration": 61,
    "start_time": "2021-07-07T15:18:08.622Z"
   },
   {
    "duration": 7,
    "start_time": "2021-07-07T15:18:39.457Z"
   },
   {
    "duration": 5,
    "start_time": "2021-07-07T16:05:17.020Z"
   },
   {
    "duration": 5,
    "start_time": "2021-07-07T16:51:28.794Z"
   },
   {
    "duration": 546,
    "start_time": "2021-07-07T16:52:26.306Z"
   },
   {
    "duration": 203,
    "start_time": "2021-07-07T16:52:27.523Z"
   },
   {
    "duration": 85,
    "start_time": "2021-07-07T16:52:27.736Z"
   },
   {
    "duration": 4,
    "start_time": "2021-07-07T16:52:27.899Z"
   },
   {
    "duration": 25,
    "start_time": "2021-07-07T16:52:28.674Z"
   },
   {
    "duration": 8,
    "start_time": "2021-07-07T16:52:32.956Z"
   },
   {
    "duration": 18,
    "start_time": "2021-07-07T16:52:35.616Z"
   },
   {
    "duration": 6,
    "start_time": "2021-07-07T16:52:36.913Z"
   },
   {
    "duration": 11,
    "start_time": "2021-07-07T16:52:40.258Z"
   },
   {
    "duration": 10,
    "start_time": "2021-07-07T16:52:46.251Z"
   },
   {
    "duration": 8,
    "start_time": "2021-07-07T16:52:47.182Z"
   },
   {
    "duration": 27,
    "start_time": "2021-07-07T16:53:20.391Z"
   },
   {
    "duration": 20,
    "start_time": "2021-07-07T16:53:22.022Z"
   },
   {
    "duration": 23,
    "start_time": "2021-07-07T16:53:23.690Z"
   },
   {
    "duration": 8,
    "start_time": "2021-07-07T16:53:24.261Z"
   },
   {
    "duration": 4,
    "start_time": "2021-07-07T16:53:38.733Z"
   },
   {
    "duration": 7,
    "start_time": "2021-07-07T16:53:40.445Z"
   },
   {
    "duration": 11,
    "start_time": "2021-07-07T16:53:41.348Z"
   },
   {
    "duration": 13,
    "start_time": "2021-07-07T16:53:45.250Z"
   },
   {
    "duration": 12,
    "start_time": "2021-07-07T16:53:45.467Z"
   },
   {
    "duration": 4,
    "start_time": "2021-07-07T16:55:32.704Z"
   },
   {
    "duration": 12,
    "start_time": "2021-07-07T16:55:49.012Z"
   },
   {
    "duration": 18,
    "start_time": "2021-07-07T16:55:49.547Z"
   },
   {
    "duration": 611,
    "start_time": "2021-07-07T16:58:35.156Z"
   },
   {
    "duration": 200,
    "start_time": "2021-07-07T16:58:35.770Z"
   },
   {
    "duration": 86,
    "start_time": "2021-07-07T16:58:35.972Z"
   },
   {
    "duration": 3,
    "start_time": "2021-07-07T16:58:36.060Z"
   },
   {
    "duration": 27,
    "start_time": "2021-07-07T16:58:36.065Z"
   },
   {
    "duration": 8,
    "start_time": "2021-07-07T16:58:36.094Z"
   },
   {
    "duration": 17,
    "start_time": "2021-07-07T16:58:36.103Z"
   },
   {
    "duration": 5,
    "start_time": "2021-07-07T16:58:36.123Z"
   },
   {
    "duration": 11,
    "start_time": "2021-07-07T16:58:36.130Z"
   },
   {
    "duration": 7,
    "start_time": "2021-07-07T16:58:36.143Z"
   },
   {
    "duration": 37,
    "start_time": "2021-07-07T16:58:36.152Z"
   },
   {
    "duration": 27,
    "start_time": "2021-07-07T16:58:36.191Z"
   },
   {
    "duration": 19,
    "start_time": "2021-07-07T16:58:36.219Z"
   },
   {
    "duration": 49,
    "start_time": "2021-07-07T16:58:36.240Z"
   },
   {
    "duration": 6,
    "start_time": "2021-07-07T16:58:36.291Z"
   },
   {
    "duration": 3,
    "start_time": "2021-07-07T16:58:36.299Z"
   },
   {
    "duration": 13,
    "start_time": "2021-07-07T16:58:36.304Z"
   },
   {
    "duration": 10,
    "start_time": "2021-07-07T16:58:36.319Z"
   },
   {
    "duration": 10,
    "start_time": "2021-07-07T16:58:36.331Z"
   },
   {
    "duration": 44,
    "start_time": "2021-07-07T16:58:36.343Z"
   },
   {
    "duration": 4,
    "start_time": "2021-07-07T16:58:36.388Z"
   },
   {
    "duration": 13,
    "start_time": "2021-07-07T16:58:36.394Z"
   },
   {
    "duration": 16,
    "start_time": "2021-07-07T16:58:36.410Z"
   },
   {
    "duration": 8,
    "start_time": "2021-07-07T17:02:31.629Z"
   },
   {
    "duration": 8,
    "start_time": "2021-07-07T17:02:34.308Z"
   },
   {
    "duration": 6,
    "start_time": "2021-07-07T17:05:13.483Z"
   },
   {
    "duration": 17,
    "start_time": "2021-07-07T17:05:20.606Z"
   },
   {
    "duration": 7,
    "start_time": "2021-07-07T17:05:34.638Z"
   },
   {
    "duration": 3,
    "start_time": "2021-07-07T17:06:31.883Z"
   },
   {
    "duration": 570,
    "start_time": "2021-07-07T17:06:37.165Z"
   },
   {
    "duration": 174,
    "start_time": "2021-07-07T17:06:37.737Z"
   },
   {
    "duration": 47,
    "start_time": "2021-07-07T17:06:37.913Z"
   },
   {
    "duration": 3,
    "start_time": "2021-07-07T17:06:37.962Z"
   },
   {
    "duration": 27,
    "start_time": "2021-07-07T17:06:37.967Z"
   },
   {
    "duration": 7,
    "start_time": "2021-07-07T17:06:37.996Z"
   },
   {
    "duration": 16,
    "start_time": "2021-07-07T17:06:38.005Z"
   },
   {
    "duration": 6,
    "start_time": "2021-07-07T17:06:38.024Z"
   },
   {
    "duration": 12,
    "start_time": "2021-07-07T17:06:38.031Z"
   },
   {
    "duration": 41,
    "start_time": "2021-07-07T17:06:38.045Z"
   },
   {
    "duration": 8,
    "start_time": "2021-07-07T17:06:38.088Z"
   },
   {
    "duration": 26,
    "start_time": "2021-07-07T17:06:38.098Z"
   },
   {
    "duration": 17,
    "start_time": "2021-07-07T17:06:38.126Z"
   },
   {
    "duration": 43,
    "start_time": "2021-07-07T17:06:38.144Z"
   },
   {
    "duration": 6,
    "start_time": "2021-07-07T17:06:38.188Z"
   },
   {
    "duration": 5,
    "start_time": "2021-07-07T17:06:38.195Z"
   },
   {
    "duration": 9,
    "start_time": "2021-07-07T17:06:38.201Z"
   },
   {
    "duration": 12,
    "start_time": "2021-07-07T17:06:38.212Z"
   },
   {
    "duration": 11,
    "start_time": "2021-07-07T17:06:38.226Z"
   },
   {
    "duration": 47,
    "start_time": "2021-07-07T17:06:38.239Z"
   },
   {
    "duration": 4,
    "start_time": "2021-07-07T17:06:38.288Z"
   },
   {
    "duration": 13,
    "start_time": "2021-07-07T17:06:38.293Z"
   },
   {
    "duration": 5,
    "start_time": "2021-07-07T17:06:38.309Z"
   },
   {
    "duration": 18,
    "start_time": "2021-07-07T17:06:38.325Z"
   },
   {
    "duration": 20,
    "start_time": "2021-07-07T17:07:02.805Z"
   },
   {
    "duration": 19,
    "start_time": "2021-07-07T17:07:08.527Z"
   },
   {
    "duration": 19,
    "start_time": "2021-07-07T17:07:12.758Z"
   },
   {
    "duration": 22,
    "start_time": "2021-07-07T17:07:17.497Z"
   },
   {
    "duration": 19,
    "start_time": "2021-07-07T17:07:19.645Z"
   },
   {
    "duration": 10,
    "start_time": "2021-07-07T17:07:34.239Z"
   },
   {
    "duration": 17,
    "start_time": "2021-07-07T17:07:54.144Z"
   },
   {
    "duration": 14,
    "start_time": "2021-07-07T17:08:14.357Z"
   },
   {
    "duration": 616,
    "start_time": "2021-07-07T17:08:45.254Z"
   },
   {
    "duration": 178,
    "start_time": "2021-07-07T17:08:45.872Z"
   },
   {
    "duration": 60,
    "start_time": "2021-07-07T17:08:46.054Z"
   },
   {
    "duration": 3,
    "start_time": "2021-07-07T17:08:46.116Z"
   },
   {
    "duration": 26,
    "start_time": "2021-07-07T17:08:46.121Z"
   },
   {
    "duration": 7,
    "start_time": "2021-07-07T17:08:46.149Z"
   },
   {
    "duration": 17,
    "start_time": "2021-07-07T17:08:46.158Z"
   },
   {
    "duration": 14,
    "start_time": "2021-07-07T17:08:46.176Z"
   },
   {
    "duration": 17,
    "start_time": "2021-07-07T17:08:46.193Z"
   },
   {
    "duration": 9,
    "start_time": "2021-07-07T17:08:46.211Z"
   },
   {
    "duration": 21,
    "start_time": "2021-07-07T17:08:46.221Z"
   },
   {
    "duration": 49,
    "start_time": "2021-07-07T17:08:46.244Z"
   },
   {
    "duration": 24,
    "start_time": "2021-07-07T17:08:46.295Z"
   },
   {
    "duration": 22,
    "start_time": "2021-07-07T17:08:46.321Z"
   },
   {
    "duration": 6,
    "start_time": "2021-07-07T17:08:46.345Z"
   },
   {
    "duration": 5,
    "start_time": "2021-07-07T17:08:46.353Z"
   },
   {
    "duration": 13,
    "start_time": "2021-07-07T17:08:46.386Z"
   },
   {
    "duration": 12,
    "start_time": "2021-07-07T17:08:46.402Z"
   },
   {
    "duration": 10,
    "start_time": "2021-07-07T17:08:46.415Z"
   },
   {
    "duration": 7,
    "start_time": "2021-07-07T17:08:46.427Z"
   },
   {
    "duration": 8,
    "start_time": "2021-07-07T17:08:46.435Z"
   },
   {
    "duration": 68,
    "start_time": "2021-07-07T17:08:46.446Z"
   },
   {
    "duration": 13,
    "start_time": "2021-07-07T17:08:46.516Z"
   },
   {
    "duration": 78,
    "start_time": "2021-07-07T17:08:46.530Z"
   },
   {
    "duration": 40,
    "start_time": "2021-07-07T17:09:08.185Z"
   },
   {
    "duration": 16,
    "start_time": "2021-07-07T17:09:19.324Z"
   },
   {
    "duration": 21,
    "start_time": "2021-07-07T17:09:23.290Z"
   },
   {
    "duration": 13,
    "start_time": "2021-07-07T17:09:54.812Z"
   },
   {
    "duration": 13,
    "start_time": "2021-07-07T17:10:02.039Z"
   },
   {
    "duration": 10,
    "start_time": "2021-07-07T17:10:29.632Z"
   },
   {
    "duration": 13,
    "start_time": "2021-07-07T17:10:52.372Z"
   },
   {
    "duration": 13,
    "start_time": "2021-07-07T17:11:17.270Z"
   },
   {
    "duration": 13,
    "start_time": "2021-07-07T17:14:59.284Z"
   },
   {
    "duration": 547,
    "start_time": "2021-07-07T17:18:52.403Z"
   },
   {
    "duration": 163,
    "start_time": "2021-07-07T17:18:52.952Z"
   },
   {
    "duration": 44,
    "start_time": "2021-07-07T17:18:53.117Z"
   },
   {
    "duration": 3,
    "start_time": "2021-07-07T17:18:53.162Z"
   },
   {
    "duration": 26,
    "start_time": "2021-07-07T17:18:53.167Z"
   },
   {
    "duration": 6,
    "start_time": "2021-07-07T17:18:53.195Z"
   },
   {
    "duration": 15,
    "start_time": "2021-07-07T17:18:53.203Z"
   },
   {
    "duration": 5,
    "start_time": "2021-07-07T17:18:53.220Z"
   },
   {
    "duration": 11,
    "start_time": "2021-07-07T17:18:53.228Z"
   },
   {
    "duration": 9,
    "start_time": "2021-07-07T17:18:53.241Z"
   },
   {
    "duration": 41,
    "start_time": "2021-07-07T17:18:53.252Z"
   },
   {
    "duration": 33,
    "start_time": "2021-07-07T17:18:53.295Z"
   },
   {
    "duration": 19,
    "start_time": "2021-07-07T17:18:53.330Z"
   },
   {
    "duration": 49,
    "start_time": "2021-07-07T17:18:53.350Z"
   },
   {
    "duration": 5,
    "start_time": "2021-07-07T17:18:53.401Z"
   },
   {
    "duration": 5,
    "start_time": "2021-07-07T17:18:53.408Z"
   },
   {
    "duration": 11,
    "start_time": "2021-07-07T17:18:53.414Z"
   },
   {
    "duration": 9,
    "start_time": "2021-07-07T17:18:53.427Z"
   },
   {
    "duration": 10,
    "start_time": "2021-07-07T17:18:53.437Z"
   },
   {
    "duration": 39,
    "start_time": "2021-07-07T17:18:53.448Z"
   },
   {
    "duration": 26,
    "start_time": "2021-07-07T17:18:55.799Z"
   },
   {
    "duration": 598,
    "start_time": "2021-07-07T17:20:17.862Z"
   },
   {
    "duration": 161,
    "start_time": "2021-07-07T17:20:18.462Z"
   },
   {
    "duration": 45,
    "start_time": "2021-07-07T17:20:18.626Z"
   },
   {
    "duration": 4,
    "start_time": "2021-07-07T17:20:18.673Z"
   },
   {
    "duration": 38,
    "start_time": "2021-07-07T17:20:26.877Z"
   },
   {
    "duration": 7,
    "start_time": "2021-07-07T17:20:37.405Z"
   },
   {
    "duration": 19,
    "start_time": "2021-07-07T17:20:51.534Z"
   },
   {
    "duration": 5,
    "start_time": "2021-07-07T17:20:57.228Z"
   },
   {
    "duration": 7,
    "start_time": "2021-07-07T17:21:08.235Z"
   },
   {
    "duration": 19,
    "start_time": "2021-07-07T17:21:42.158Z"
   },
   {
    "duration": 14,
    "start_time": "2021-07-07T17:21:50.225Z"
   },
   {
    "duration": 22,
    "start_time": "2021-07-07T17:22:54.104Z"
   },
   {
    "duration": 5,
    "start_time": "2021-07-07T17:22:56.371Z"
   },
   {
    "duration": 14,
    "start_time": "2021-07-07T17:22:58.316Z"
   },
   {
    "duration": 5,
    "start_time": "2021-07-07T17:22:58.493Z"
   },
   {
    "duration": 35,
    "start_time": "2021-07-07T17:22:59.666Z"
   },
   {
    "duration": 6,
    "start_time": "2021-07-07T17:23:02.410Z"
   },
   {
    "duration": 611,
    "start_time": "2021-07-07T17:24:59.664Z"
   },
   {
    "duration": 178,
    "start_time": "2021-07-07T17:25:01.945Z"
   },
   {
    "duration": 47,
    "start_time": "2021-07-07T17:25:02.125Z"
   },
   {
    "duration": 2,
    "start_time": "2021-07-07T17:25:07.903Z"
   },
   {
    "duration": 254,
    "start_time": "2021-07-07T17:25:08.232Z"
   },
   {
    "duration": 182,
    "start_time": "2021-07-07T17:25:08.671Z"
   },
   {
    "duration": 6,
    "start_time": "2021-07-07T17:25:13.104Z"
   },
   {
    "duration": 36,
    "start_time": "2021-07-07T17:25:13.662Z"
   },
   {
    "duration": 7,
    "start_time": "2021-07-07T17:25:14.528Z"
   },
   {
    "duration": 24,
    "start_time": "2021-07-07T17:25:27.982Z"
   },
   {
    "duration": 3,
    "start_time": "2021-07-07T17:25:48.982Z"
   },
   {
    "duration": 165,
    "start_time": "2021-07-07T17:25:48.987Z"
   },
   {
    "duration": 50,
    "start_time": "2021-07-07T17:25:49.154Z"
   },
   {
    "duration": 4,
    "start_time": "2021-07-07T17:25:49.206Z"
   },
   {
    "duration": 26,
    "start_time": "2021-07-07T17:25:49.212Z"
   },
   {
    "duration": 7,
    "start_time": "2021-07-07T17:25:49.240Z"
   },
   {
    "duration": 16,
    "start_time": "2021-07-07T17:25:49.249Z"
   },
   {
    "duration": 22,
    "start_time": "2021-07-07T17:25:49.266Z"
   },
   {
    "duration": 16,
    "start_time": "2021-07-07T17:25:49.291Z"
   },
   {
    "duration": 9,
    "start_time": "2021-07-07T17:25:49.309Z"
   },
   {
    "duration": 7,
    "start_time": "2021-07-07T17:25:49.319Z"
   },
   {
    "duration": 28,
    "start_time": "2021-07-07T17:25:49.328Z"
   },
   {
    "duration": 44,
    "start_time": "2021-07-07T17:25:49.357Z"
   },
   {
    "duration": 22,
    "start_time": "2021-07-07T17:25:49.403Z"
   },
   {
    "duration": 7,
    "start_time": "2021-07-07T17:25:49.427Z"
   },
   {
    "duration": 3,
    "start_time": "2021-07-07T17:25:49.436Z"
   },
   {
    "duration": 44,
    "start_time": "2021-07-07T17:25:49.441Z"
   },
   {
    "duration": 12,
    "start_time": "2021-07-07T17:25:49.488Z"
   },
   {
    "duration": 13,
    "start_time": "2021-07-07T17:25:49.502Z"
   },
   {
    "duration": 10,
    "start_time": "2021-07-07T17:25:49.516Z"
   },
   {
    "duration": 62,
    "start_time": "2021-07-07T17:25:49.527Z"
   },
   {
    "duration": 26,
    "start_time": "2021-07-07T17:26:51.809Z"
   },
   {
    "duration": 26,
    "start_time": "2021-07-07T17:26:55.759Z"
   },
   {
    "duration": 26,
    "start_time": "2021-07-07T17:27:04.501Z"
   },
   {
    "duration": 25,
    "start_time": "2021-07-07T17:28:24.859Z"
   },
   {
    "duration": 21,
    "start_time": "2021-07-07T17:28:55.250Z"
   },
   {
    "duration": 21,
    "start_time": "2021-07-07T17:28:58.885Z"
   },
   {
    "duration": 7,
    "start_time": "2021-07-07T17:45:40.972Z"
   },
   {
    "duration": 13,
    "start_time": "2021-07-07T17:45:42.529Z"
   },
   {
    "duration": 27,
    "start_time": "2021-07-07T17:45:51.026Z"
   },
   {
    "duration": 518,
    "start_time": "2021-07-07T17:46:15.532Z"
   },
   {
    "duration": 235,
    "start_time": "2021-07-07T17:46:16.053Z"
   },
   {
    "duration": 80,
    "start_time": "2021-07-07T17:46:16.292Z"
   },
   {
    "duration": 5,
    "start_time": "2021-07-07T17:46:16.373Z"
   },
   {
    "duration": 26,
    "start_time": "2021-07-07T17:46:16.380Z"
   },
   {
    "duration": 7,
    "start_time": "2021-07-07T17:46:16.408Z"
   },
   {
    "duration": 16,
    "start_time": "2021-07-07T17:46:16.418Z"
   },
   {
    "duration": 5,
    "start_time": "2021-07-07T17:46:16.436Z"
   },
   {
    "duration": 13,
    "start_time": "2021-07-07T17:46:16.442Z"
   },
   {
    "duration": 35,
    "start_time": "2021-07-07T17:46:16.456Z"
   },
   {
    "duration": 8,
    "start_time": "2021-07-07T17:46:16.493Z"
   },
   {
    "duration": 28,
    "start_time": "2021-07-07T17:46:16.502Z"
   },
   {
    "duration": 17,
    "start_time": "2021-07-07T17:46:16.532Z"
   },
   {
    "duration": 44,
    "start_time": "2021-07-07T17:46:16.551Z"
   },
   {
    "duration": 6,
    "start_time": "2021-07-07T17:46:16.597Z"
   },
   {
    "duration": 4,
    "start_time": "2021-07-07T17:46:16.605Z"
   },
   {
    "duration": 9,
    "start_time": "2021-07-07T17:46:16.610Z"
   },
   {
    "duration": 9,
    "start_time": "2021-07-07T17:46:16.621Z"
   },
   {
    "duration": 10,
    "start_time": "2021-07-07T17:46:16.632Z"
   },
   {
    "duration": 43,
    "start_time": "2021-07-07T17:46:16.644Z"
   },
   {
    "duration": 26,
    "start_time": "2021-07-07T17:46:16.689Z"
   },
   {
    "duration": 19,
    "start_time": "2021-07-07T17:46:16.718Z"
   },
   {
    "duration": 8,
    "start_time": "2021-07-07T17:46:16.738Z"
   },
   {
    "duration": 43,
    "start_time": "2021-07-07T17:46:16.747Z"
   },
   {
    "duration": 19,
    "start_time": "2021-07-07T17:46:16.791Z"
   },
   {
    "duration": 9,
    "start_time": "2021-07-07T17:46:16.812Z"
   },
   {
    "duration": 60,
    "start_time": "2021-07-07T17:46:16.822Z"
   },
   {
    "duration": -8,
    "start_time": "2021-07-07T17:46:16.892Z"
   },
   {
    "duration": 12,
    "start_time": "2021-07-07T17:48:47.707Z"
   },
   {
    "duration": 553,
    "start_time": "2021-07-07T18:10:09.350Z"
   },
   {
    "duration": 230,
    "start_time": "2021-07-07T18:10:09.905Z"
   },
   {
    "duration": 97,
    "start_time": "2021-07-07T18:10:10.137Z"
   },
   {
    "duration": 5,
    "start_time": "2021-07-07T18:10:10.236Z"
   },
   {
    "duration": 29,
    "start_time": "2021-07-07T18:10:10.242Z"
   },
   {
    "duration": 7,
    "start_time": "2021-07-07T18:10:10.272Z"
   },
   {
    "duration": 15,
    "start_time": "2021-07-07T18:10:10.281Z"
   },
   {
    "duration": 4,
    "start_time": "2021-07-07T18:10:10.299Z"
   },
   {
    "duration": 14,
    "start_time": "2021-07-07T18:10:10.305Z"
   },
   {
    "duration": 8,
    "start_time": "2021-07-07T18:10:10.321Z"
   },
   {
    "duration": 8,
    "start_time": "2021-07-07T18:10:10.331Z"
   },
   {
    "duration": 56,
    "start_time": "2021-07-07T18:10:10.341Z"
   },
   {
    "duration": 19,
    "start_time": "2021-07-07T18:10:10.399Z"
   },
   {
    "duration": 23,
    "start_time": "2021-07-07T18:10:10.419Z"
   },
   {
    "duration": 6,
    "start_time": "2021-07-07T18:10:10.444Z"
   },
   {
    "duration": 9,
    "start_time": "2021-07-07T18:10:10.451Z"
   },
   {
    "duration": 30,
    "start_time": "2021-07-07T18:10:10.462Z"
   },
   {
    "duration": 9,
    "start_time": "2021-07-07T18:10:10.494Z"
   },
   {
    "duration": 14,
    "start_time": "2021-07-07T18:10:10.505Z"
   },
   {
    "duration": 7,
    "start_time": "2021-07-07T18:10:10.521Z"
   },
   {
    "duration": 26,
    "start_time": "2021-07-07T18:10:10.530Z"
   },
   {
    "duration": 44,
    "start_time": "2021-07-07T18:10:10.558Z"
   },
   {
    "duration": 7,
    "start_time": "2021-07-07T18:10:10.605Z"
   },
   {
    "duration": 11,
    "start_time": "2021-07-07T18:10:10.614Z"
   },
   {
    "duration": 19,
    "start_time": "2021-07-07T18:10:10.626Z"
   },
   {
    "duration": 44,
    "start_time": "2021-07-07T18:10:10.646Z"
   },
   {
    "duration": 516,
    "start_time": "2021-07-07T18:14:00.826Z"
   },
   {
    "duration": 230,
    "start_time": "2021-07-07T18:14:01.344Z"
   },
   {
    "duration": 105,
    "start_time": "2021-07-07T18:14:01.576Z"
   },
   {
    "duration": 5,
    "start_time": "2021-07-07T18:14:01.683Z"
   },
   {
    "duration": 46,
    "start_time": "2021-07-07T18:14:01.690Z"
   },
   {
    "duration": 7,
    "start_time": "2021-07-07T18:14:01.738Z"
   },
   {
    "duration": 20,
    "start_time": "2021-07-07T18:14:01.747Z"
   },
   {
    "duration": 16,
    "start_time": "2021-07-07T18:14:01.769Z"
   },
   {
    "duration": 14,
    "start_time": "2021-07-07T18:14:01.787Z"
   },
   {
    "duration": 15,
    "start_time": "2021-07-07T18:14:01.803Z"
   },
   {
    "duration": 12,
    "start_time": "2021-07-07T18:14:01.820Z"
   },
   {
    "duration": 35,
    "start_time": "2021-07-07T18:14:01.833Z"
   },
   {
    "duration": 31,
    "start_time": "2021-07-07T18:14:01.869Z"
   },
   {
    "duration": 37,
    "start_time": "2021-07-07T18:14:01.902Z"
   },
   {
    "duration": 8,
    "start_time": "2021-07-07T18:14:01.942Z"
   },
   {
    "duration": 16,
    "start_time": "2021-07-07T18:14:01.952Z"
   },
   {
    "duration": 13,
    "start_time": "2021-07-07T18:14:01.970Z"
   },
   {
    "duration": 32,
    "start_time": "2021-07-07T18:14:01.985Z"
   },
   {
    "duration": 11,
    "start_time": "2021-07-07T18:14:02.019Z"
   },
   {
    "duration": 22,
    "start_time": "2021-07-07T18:14:02.031Z"
   },
   {
    "duration": 27,
    "start_time": "2021-07-07T18:14:02.055Z"
   },
   {
    "duration": 18,
    "start_time": "2021-07-07T18:14:02.084Z"
   },
   {
    "duration": 18,
    "start_time": "2021-07-07T18:14:02.106Z"
   },
   {
    "duration": 11,
    "start_time": "2021-07-07T18:14:02.126Z"
   },
   {
    "duration": 21,
    "start_time": "2021-07-07T18:14:02.138Z"
   },
   {
    "duration": 32,
    "start_time": "2021-07-07T18:14:02.161Z"
   },
   {
    "duration": 28,
    "start_time": "2021-07-07T18:14:44.295Z"
   },
   {
    "duration": 6,
    "start_time": "2021-07-07T18:15:05.834Z"
   },
   {
    "duration": 511,
    "start_time": "2021-07-07T18:15:41.541Z"
   },
   {
    "duration": 183,
    "start_time": "2021-07-07T18:15:42.054Z"
   },
   {
    "duration": 50,
    "start_time": "2021-07-07T18:15:42.239Z"
   },
   {
    "duration": 5,
    "start_time": "2021-07-07T18:15:42.291Z"
   },
   {
    "duration": 48,
    "start_time": "2021-07-07T18:15:42.297Z"
   },
   {
    "duration": 8,
    "start_time": "2021-07-07T18:15:42.346Z"
   },
   {
    "duration": 17,
    "start_time": "2021-07-07T18:15:42.356Z"
   },
   {
    "duration": 15,
    "start_time": "2021-07-07T18:15:42.375Z"
   },
   {
    "duration": 12,
    "start_time": "2021-07-07T18:15:42.392Z"
   },
   {
    "duration": 7,
    "start_time": "2021-07-07T18:15:42.406Z"
   },
   {
    "duration": 7,
    "start_time": "2021-07-07T18:15:42.415Z"
   },
   {
    "duration": 29,
    "start_time": "2021-07-07T18:15:42.423Z"
   },
   {
    "duration": 43,
    "start_time": "2021-07-07T18:15:42.453Z"
   },
   {
    "duration": 18,
    "start_time": "2021-07-07T18:15:42.497Z"
   },
   {
    "duration": 6,
    "start_time": "2021-07-07T18:15:42.516Z"
   },
   {
    "duration": 3,
    "start_time": "2021-07-07T18:15:42.523Z"
   },
   {
    "duration": 18,
    "start_time": "2021-07-07T18:15:42.528Z"
   },
   {
    "duration": 10,
    "start_time": "2021-07-07T18:15:42.547Z"
   },
   {
    "duration": 36,
    "start_time": "2021-07-07T18:15:42.559Z"
   },
   {
    "duration": 8,
    "start_time": "2021-07-07T18:15:42.597Z"
   },
   {
    "duration": 28,
    "start_time": "2021-07-07T18:15:42.606Z"
   },
   {
    "duration": 52,
    "start_time": "2021-07-07T18:15:42.635Z"
   },
   {
    "duration": 7,
    "start_time": "2021-07-07T18:15:42.690Z"
   },
   {
    "duration": 10,
    "start_time": "2021-07-07T18:15:42.699Z"
   },
   {
    "duration": 19,
    "start_time": "2021-07-07T18:15:42.711Z"
   },
   {
    "duration": 9,
    "start_time": "2021-07-07T18:15:42.732Z"
   },
   {
    "duration": 5,
    "start_time": "2021-07-07T18:15:42.743Z"
   },
   {
    "duration": 1450,
    "start_time": "2021-07-07T18:15:51.984Z"
   },
   {
    "duration": 161,
    "start_time": "2021-07-07T18:15:53.435Z"
   },
   {
    "duration": 124,
    "start_time": "2021-07-07T18:15:53.598Z"
   },
   {
    "duration": 5,
    "start_time": "2021-07-07T18:15:53.724Z"
   },
   {
    "duration": 34,
    "start_time": "2021-07-07T18:15:53.730Z"
   },
   {
    "duration": 7,
    "start_time": "2021-07-07T18:15:53.765Z"
   },
   {
    "duration": 15,
    "start_time": "2021-07-07T18:15:53.773Z"
   },
   {
    "duration": 5,
    "start_time": "2021-07-07T18:15:53.791Z"
   },
   {
    "duration": 19,
    "start_time": "2021-07-07T18:15:53.798Z"
   },
   {
    "duration": 9,
    "start_time": "2021-07-07T18:15:53.818Z"
   },
   {
    "duration": 19,
    "start_time": "2021-07-07T18:15:53.828Z"
   },
   {
    "duration": 27,
    "start_time": "2021-07-07T18:15:53.848Z"
   },
   {
    "duration": 16,
    "start_time": "2021-07-07T18:15:53.884Z"
   },
   {
    "duration": 29,
    "start_time": "2021-07-07T18:15:53.901Z"
   },
   {
    "duration": 5,
    "start_time": "2021-07-07T18:15:53.932Z"
   },
   {
    "duration": 15,
    "start_time": "2021-07-07T18:15:53.939Z"
   },
   {
    "duration": 13,
    "start_time": "2021-07-07T18:15:53.956Z"
   },
   {
    "duration": 20,
    "start_time": "2021-07-07T18:15:53.971Z"
   },
   {
    "duration": 14,
    "start_time": "2021-07-07T18:15:53.992Z"
   },
   {
    "duration": 9,
    "start_time": "2021-07-07T18:15:54.009Z"
   },
   {
    "duration": 28,
    "start_time": "2021-07-07T18:15:54.020Z"
   },
   {
    "duration": 50,
    "start_time": "2021-07-07T18:15:54.051Z"
   },
   {
    "duration": 8,
    "start_time": "2021-07-07T18:15:54.105Z"
   },
   {
    "duration": 11,
    "start_time": "2021-07-07T18:15:54.115Z"
   },
   {
    "duration": 20,
    "start_time": "2021-07-07T18:15:54.128Z"
   },
   {
    "duration": 13,
    "start_time": "2021-07-07T18:15:54.184Z"
   },
   {
    "duration": 7,
    "start_time": "2021-07-07T18:15:54.199Z"
   },
   {
    "duration": 7,
    "start_time": "2021-07-07T18:17:08.042Z"
   },
   {
    "duration": 8,
    "start_time": "2021-07-07T18:17:21.008Z"
   },
   {
    "duration": 7,
    "start_time": "2021-07-07T18:17:29.003Z"
   },
   {
    "duration": 8,
    "start_time": "2021-07-07T18:17:32.492Z"
   },
   {
    "duration": 9,
    "start_time": "2021-07-07T18:17:41.758Z"
   },
   {
    "duration": 255,
    "start_time": "2021-07-07T18:20:20.897Z"
   },
   {
    "duration": 173,
    "start_time": "2021-07-07T18:20:26.636Z"
   },
   {
    "duration": 7,
    "start_time": "2021-07-07T18:21:47.164Z"
   },
   {
    "duration": 254,
    "start_time": "2021-07-07T18:23:08.703Z"
   },
   {
    "duration": 21,
    "start_time": "2021-07-07T18:23:22.506Z"
   },
   {
    "duration": 315,
    "start_time": "2021-07-07T18:25:54.801Z"
   },
   {
    "duration": 34,
    "start_time": "2021-07-07T18:26:51.817Z"
   },
   {
    "duration": 327,
    "start_time": "2021-07-07T18:26:56.147Z"
   },
   {
    "duration": 342,
    "start_time": "2021-07-07T18:27:15.887Z"
   },
   {
    "duration": 302,
    "start_time": "2021-07-07T18:28:18.569Z"
   },
   {
    "duration": 226,
    "start_time": "2021-07-07T18:29:20.879Z"
   },
   {
    "duration": 207,
    "start_time": "2021-07-07T18:29:58.114Z"
   },
   {
    "duration": 140,
    "start_time": "2021-07-07T18:32:04.372Z"
   },
   {
    "duration": 158,
    "start_time": "2021-07-07T18:32:32.508Z"
   },
   {
    "duration": 145,
    "start_time": "2021-07-07T18:32:41.365Z"
   },
   {
    "duration": 132,
    "start_time": "2021-07-07T18:32:45.199Z"
   },
   {
    "duration": 11,
    "start_time": "2021-07-07T18:35:24.679Z"
   },
   {
    "duration": 268,
    "start_time": "2021-07-07T18:36:16.145Z"
   },
   {
    "duration": 227,
    "start_time": "2021-07-07T18:37:04.918Z"
   },
   {
    "duration": 3,
    "start_time": "2021-07-07T18:37:33.012Z"
   },
   {
    "duration": 671,
    "start_time": "2021-07-07T18:37:38.295Z"
   },
   {
    "duration": 54,
    "start_time": "2021-07-07T18:37:53.406Z"
   },
   {
    "duration": 631,
    "start_time": "2021-07-07T18:37:56.463Z"
   },
   {
    "duration": 19,
    "start_time": "2021-07-07T18:39:40.535Z"
   },
   {
    "duration": 20,
    "start_time": "2021-07-07T18:40:12.236Z"
   },
   {
    "duration": 633,
    "start_time": "2021-07-07T18:42:00.398Z"
   },
   {
    "duration": 218,
    "start_time": "2021-07-07T18:42:01.033Z"
   },
   {
    "duration": 49,
    "start_time": "2021-07-07T18:42:01.253Z"
   },
   {
    "duration": 5,
    "start_time": "2021-07-07T18:42:01.303Z"
   },
   {
    "duration": 27,
    "start_time": "2021-07-07T18:42:01.310Z"
   },
   {
    "duration": 8,
    "start_time": "2021-07-07T18:42:01.339Z"
   },
   {
    "duration": 20,
    "start_time": "2021-07-07T18:42:01.348Z"
   },
   {
    "duration": 6,
    "start_time": "2021-07-07T18:42:01.386Z"
   },
   {
    "duration": 16,
    "start_time": "2021-07-07T18:42:01.394Z"
   },
   {
    "duration": 9,
    "start_time": "2021-07-07T18:42:01.411Z"
   },
   {
    "duration": 11,
    "start_time": "2021-07-07T18:42:01.421Z"
   },
   {
    "duration": 31,
    "start_time": "2021-07-07T18:42:01.434Z"
   },
   {
    "duration": 18,
    "start_time": "2021-07-07T18:42:01.485Z"
   },
   {
    "duration": 23,
    "start_time": "2021-07-07T18:42:01.505Z"
   },
   {
    "duration": 6,
    "start_time": "2021-07-07T18:42:01.530Z"
   },
   {
    "duration": 10,
    "start_time": "2021-07-07T18:42:01.538Z"
   },
   {
    "duration": 13,
    "start_time": "2021-07-07T18:42:01.550Z"
   },
   {
    "duration": 24,
    "start_time": "2021-07-07T18:42:01.564Z"
   },
   {
    "duration": 20,
    "start_time": "2021-07-07T18:42:01.590Z"
   },
   {
    "duration": 8,
    "start_time": "2021-07-07T18:42:01.611Z"
   },
   {
    "duration": 31,
    "start_time": "2021-07-07T18:42:01.620Z"
   },
   {
    "duration": 39,
    "start_time": "2021-07-07T18:42:01.653Z"
   },
   {
    "duration": 8,
    "start_time": "2021-07-07T18:42:01.696Z"
   },
   {
    "duration": 13,
    "start_time": "2021-07-07T18:42:01.705Z"
   },
   {
    "duration": 20,
    "start_time": "2021-07-07T18:42:01.720Z"
   },
   {
    "duration": 12,
    "start_time": "2021-07-07T18:42:01.741Z"
   },
   {
    "duration": 35,
    "start_time": "2021-07-07T18:42:01.755Z"
   },
   {
    "duration": 14,
    "start_time": "2021-07-07T18:42:01.792Z"
   },
   {
    "duration": 188,
    "start_time": "2021-07-07T18:42:01.808Z"
   },
   {
    "duration": 19,
    "start_time": "2021-07-07T18:42:01.998Z"
   },
   {
    "duration": 175,
    "start_time": "2021-07-07T18:42:02.019Z"
   },
   {
    "duration": 134,
    "start_time": "2021-07-07T18:42:02.196Z"
   },
   {
    "duration": 10,
    "start_time": "2021-07-07T18:42:02.331Z"
   },
   {
    "duration": 19,
    "start_time": "2021-07-07T18:42:02.343Z"
   },
   {
    "duration": 628,
    "start_time": "2021-07-07T18:46:30.701Z"
   },
   {
    "duration": 183,
    "start_time": "2021-07-07T18:46:31.331Z"
   },
   {
    "duration": 48,
    "start_time": "2021-07-07T18:46:31.516Z"
   },
   {
    "duration": 5,
    "start_time": "2021-07-07T18:46:31.566Z"
   },
   {
    "duration": 28,
    "start_time": "2021-07-07T18:46:31.572Z"
   },
   {
    "duration": 8,
    "start_time": "2021-07-07T18:46:31.602Z"
   },
   {
    "duration": 19,
    "start_time": "2021-07-07T18:46:31.611Z"
   },
   {
    "duration": 6,
    "start_time": "2021-07-07T18:46:31.633Z"
   },
   {
    "duration": 17,
    "start_time": "2021-07-07T18:46:31.642Z"
   },
   {
    "duration": 10,
    "start_time": "2021-07-07T18:46:31.684Z"
   },
   {
    "duration": 9,
    "start_time": "2021-07-07T18:46:31.695Z"
   },
   {
    "duration": 28,
    "start_time": "2021-07-07T18:46:31.705Z"
   },
   {
    "duration": 18,
    "start_time": "2021-07-07T18:46:31.735Z"
   },
   {
    "duration": 48,
    "start_time": "2021-07-07T18:46:31.755Z"
   },
   {
    "duration": 6,
    "start_time": "2021-07-07T18:46:31.804Z"
   },
   {
    "duration": 4,
    "start_time": "2021-07-07T18:46:31.812Z"
   },
   {
    "duration": 9,
    "start_time": "2021-07-07T18:46:31.817Z"
   },
   {
    "duration": 10,
    "start_time": "2021-07-07T18:46:31.827Z"
   },
   {
    "duration": 12,
    "start_time": "2021-07-07T18:46:31.838Z"
   },
   {
    "duration": 39,
    "start_time": "2021-07-07T18:46:31.851Z"
   },
   {
    "duration": 24,
    "start_time": "2021-07-07T18:46:31.892Z"
   },
   {
    "duration": 15,
    "start_time": "2021-07-07T18:46:31.918Z"
   },
   {
    "duration": 7,
    "start_time": "2021-07-07T18:46:31.936Z"
   },
   {
    "duration": 8,
    "start_time": "2021-07-07T18:46:31.944Z"
   },
   {
    "duration": 19,
    "start_time": "2021-07-07T18:46:31.984Z"
   },
   {
    "duration": 10,
    "start_time": "2021-07-07T18:46:32.004Z"
   },
   {
    "duration": 5,
    "start_time": "2021-07-07T18:46:32.016Z"
   },
   {
    "duration": 9,
    "start_time": "2021-07-07T18:46:32.023Z"
   },
   {
    "duration": 199,
    "start_time": "2021-07-07T18:46:32.033Z"
   },
   {
    "duration": 19,
    "start_time": "2021-07-07T18:46:32.234Z"
   },
   {
    "duration": 159,
    "start_time": "2021-07-07T18:46:32.255Z"
   },
   {
    "duration": 134,
    "start_time": "2021-07-07T18:46:32.416Z"
   },
   {
    "duration": 10,
    "start_time": "2021-07-07T18:46:32.552Z"
   },
   {
    "duration": 34,
    "start_time": "2021-07-07T18:46:32.563Z"
   },
   {
    "duration": 1039,
    "start_time": "2021-07-08T08:41:09.419Z"
   },
   {
    "duration": 333,
    "start_time": "2021-07-08T08:41:10.459Z"
   },
   {
    "duration": 173,
    "start_time": "2021-07-08T08:41:10.794Z"
   },
   {
    "duration": 5,
    "start_time": "2021-07-08T08:41:10.968Z"
   },
   {
    "duration": 25,
    "start_time": "2021-07-08T08:41:10.975Z"
   },
   {
    "duration": 9,
    "start_time": "2021-07-08T08:41:11.002Z"
   },
   {
    "duration": 18,
    "start_time": "2021-07-08T08:41:11.013Z"
   },
   {
    "duration": 6,
    "start_time": "2021-07-08T08:41:11.033Z"
   },
   {
    "duration": 44,
    "start_time": "2021-07-08T08:41:11.042Z"
   },
   {
    "duration": 10,
    "start_time": "2021-07-08T08:41:11.088Z"
   },
   {
    "duration": 9,
    "start_time": "2021-07-08T08:41:11.100Z"
   },
   {
    "duration": 27,
    "start_time": "2021-07-08T08:41:11.111Z"
   },
   {
    "duration": 46,
    "start_time": "2021-07-08T08:41:11.140Z"
   },
   {
    "duration": 17,
    "start_time": "2021-07-08T08:41:11.187Z"
   },
   {
    "duration": 6,
    "start_time": "2021-07-08T08:41:11.206Z"
   },
   {
    "duration": 5,
    "start_time": "2021-07-08T08:41:11.213Z"
   },
   {
    "duration": 10,
    "start_time": "2021-07-08T08:41:11.219Z"
   },
   {
    "duration": 9,
    "start_time": "2021-07-08T08:41:11.230Z"
   },
   {
    "duration": 45,
    "start_time": "2021-07-08T08:41:11.241Z"
   },
   {
    "duration": 7,
    "start_time": "2021-07-08T08:41:11.287Z"
   },
   {
    "duration": 24,
    "start_time": "2021-07-08T08:41:11.296Z"
   },
   {
    "duration": 16,
    "start_time": "2021-07-08T08:41:11.322Z"
   },
   {
    "duration": 7,
    "start_time": "2021-07-08T08:41:11.341Z"
   },
   {
    "duration": 41,
    "start_time": "2021-07-08T08:41:11.349Z"
   },
   {
    "duration": 17,
    "start_time": "2021-07-08T08:41:11.391Z"
   },
   {
    "duration": 9,
    "start_time": "2021-07-08T08:41:11.410Z"
   },
   {
    "duration": 5,
    "start_time": "2021-07-08T08:41:11.421Z"
   },
   {
    "duration": 6,
    "start_time": "2021-07-08T08:41:11.428Z"
   },
   {
    "duration": 198,
    "start_time": "2021-07-08T08:41:11.435Z"
   },
   {
    "duration": 18,
    "start_time": "2021-07-08T08:41:11.635Z"
   },
   {
    "duration": 155,
    "start_time": "2021-07-08T08:41:11.655Z"
   },
   {
    "duration": 138,
    "start_time": "2021-07-08T08:41:11.811Z"
   },
   {
    "duration": 10,
    "start_time": "2021-07-08T08:41:11.950Z"
   },
   {
    "duration": 29,
    "start_time": "2021-07-08T08:41:11.961Z"
   },
   {
    "duration": 171,
    "start_time": "2021-07-08T08:47:44.522Z"
   },
   {
    "duration": 124,
    "start_time": "2021-07-08T08:47:46.872Z"
   },
   {
    "duration": 191,
    "start_time": "2021-07-08T08:47:58.148Z"
   },
   {
    "duration": 191,
    "start_time": "2021-07-08T08:48:07.412Z"
   },
   {
    "duration": 261,
    "start_time": "2021-07-08T08:48:10.385Z"
   },
   {
    "duration": 255,
    "start_time": "2021-07-08T08:48:14.494Z"
   },
   {
    "duration": 219,
    "start_time": "2021-07-08T08:48:22.752Z"
   },
   {
    "duration": 173,
    "start_time": "2021-07-08T08:49:06.395Z"
   },
   {
    "duration": 180,
    "start_time": "2021-07-08T08:49:21.011Z"
   },
   {
    "duration": 6,
    "start_time": "2021-07-08T08:50:31.697Z"
   },
   {
    "duration": 10,
    "start_time": "2021-07-08T08:50:47.394Z"
   },
   {
    "duration": 11,
    "start_time": "2021-07-08T08:53:49.332Z"
   },
   {
    "duration": 171,
    "start_time": "2021-07-08T08:54:28.408Z"
   },
   {
    "duration": 636,
    "start_time": "2021-07-08T09:02:48.385Z"
   },
   {
    "duration": 227,
    "start_time": "2021-07-08T09:02:49.023Z"
   },
   {
    "duration": 104,
    "start_time": "2021-07-08T09:02:49.252Z"
   },
   {
    "duration": 5,
    "start_time": "2021-07-08T09:02:49.358Z"
   },
   {
    "duration": 27,
    "start_time": "2021-07-08T09:02:49.365Z"
   },
   {
    "duration": 8,
    "start_time": "2021-07-08T09:02:49.394Z"
   },
   {
    "duration": 18,
    "start_time": "2021-07-08T09:02:49.404Z"
   },
   {
    "duration": 6,
    "start_time": "2021-07-08T09:02:49.424Z"
   },
   {
    "duration": 11,
    "start_time": "2021-07-08T09:02:49.433Z"
   },
   {
    "duration": 13,
    "start_time": "2021-07-08T09:02:49.485Z"
   },
   {
    "duration": 9,
    "start_time": "2021-07-08T09:02:49.500Z"
   },
   {
    "duration": 38,
    "start_time": "2021-07-08T09:02:49.511Z"
   },
   {
    "duration": 42,
    "start_time": "2021-07-08T09:02:49.551Z"
   },
   {
    "duration": 21,
    "start_time": "2021-07-08T09:02:49.594Z"
   },
   {
    "duration": 6,
    "start_time": "2021-07-08T09:02:49.616Z"
   },
   {
    "duration": 3,
    "start_time": "2021-07-08T09:02:49.623Z"
   },
   {
    "duration": 9,
    "start_time": "2021-07-08T09:02:49.628Z"
   },
   {
    "duration": 52,
    "start_time": "2021-07-08T09:02:49.638Z"
   },
   {
    "duration": 11,
    "start_time": "2021-07-08T09:02:49.692Z"
   },
   {
    "duration": 8,
    "start_time": "2021-07-08T09:02:49.704Z"
   },
   {
    "duration": 27,
    "start_time": "2021-07-08T09:02:49.713Z"
   },
   {
    "duration": 59,
    "start_time": "2021-07-08T09:02:49.741Z"
   },
   {
    "duration": 8,
    "start_time": "2021-07-08T09:02:49.803Z"
   },
   {
    "duration": 14,
    "start_time": "2021-07-08T09:02:49.813Z"
   },
   {
    "duration": 20,
    "start_time": "2021-07-08T09:02:49.829Z"
   },
   {
    "duration": 44,
    "start_time": "2021-07-08T09:02:49.851Z"
   },
   {
    "duration": 14,
    "start_time": "2021-07-08T09:02:49.896Z"
   },
   {
    "duration": 221,
    "start_time": "2021-07-08T09:02:49.912Z"
   },
   {
    "duration": 6,
    "start_time": "2021-07-08T09:02:50.134Z"
   },
   {
    "duration": 206,
    "start_time": "2021-07-08T09:02:50.142Z"
   },
   {
    "duration": 19,
    "start_time": "2021-07-08T09:02:50.350Z"
   },
   {
    "duration": 21,
    "start_time": "2021-07-08T09:02:50.370Z"
   },
   {
    "duration": 20,
    "start_time": "2021-07-08T09:02:50.393Z"
   },
   {
    "duration": 5,
    "start_time": "2021-07-08T09:02:50.414Z"
   },
   {
    "duration": 5,
    "start_time": "2021-07-08T09:03:34.173Z"
   },
   {
    "duration": 6,
    "start_time": "2021-07-08T09:04:49.062Z"
   },
   {
    "duration": 9,
    "start_time": "2021-07-08T09:04:50.118Z"
   },
   {
    "duration": 14,
    "start_time": "2021-07-08T09:04:58.512Z"
   },
   {
    "duration": 9,
    "start_time": "2021-07-08T09:05:10.988Z"
   },
   {
    "duration": 11,
    "start_time": "2021-07-08T09:05:11.743Z"
   },
   {
    "duration": 7,
    "start_time": "2021-07-08T09:05:25.677Z"
   },
   {
    "duration": 13,
    "start_time": "2021-07-08T09:05:47.189Z"
   },
   {
    "duration": 13,
    "start_time": "2021-07-08T09:05:54.755Z"
   },
   {
    "duration": 4,
    "start_time": "2021-07-08T09:06:29.189Z"
   },
   {
    "duration": 244,
    "start_time": "2021-07-08T09:06:29.195Z"
   },
   {
    "duration": 91,
    "start_time": "2021-07-08T09:06:29.441Z"
   },
   {
    "duration": 4,
    "start_time": "2021-07-08T09:06:29.534Z"
   },
   {
    "duration": 28,
    "start_time": "2021-07-08T09:06:29.540Z"
   },
   {
    "duration": 6,
    "start_time": "2021-07-08T09:06:29.570Z"
   },
   {
    "duration": 18,
    "start_time": "2021-07-08T09:06:29.578Z"
   },
   {
    "duration": 5,
    "start_time": "2021-07-08T09:06:29.597Z"
   },
   {
    "duration": 13,
    "start_time": "2021-07-08T09:06:29.605Z"
   },
   {
    "duration": 8,
    "start_time": "2021-07-08T09:06:29.620Z"
   },
   {
    "duration": 7,
    "start_time": "2021-07-08T09:06:29.630Z"
   },
   {
    "duration": 63,
    "start_time": "2021-07-08T09:06:29.639Z"
   },
   {
    "duration": 17,
    "start_time": "2021-07-08T09:06:29.704Z"
   },
   {
    "duration": 20,
    "start_time": "2021-07-08T09:06:29.723Z"
   },
   {
    "duration": 6,
    "start_time": "2021-07-08T09:06:29.745Z"
   },
   {
    "duration": 3,
    "start_time": "2021-07-08T09:06:29.752Z"
   },
   {
    "duration": 7,
    "start_time": "2021-07-08T09:06:29.785Z"
   },
   {
    "duration": 11,
    "start_time": "2021-07-08T09:06:29.794Z"
   },
   {
    "duration": 15,
    "start_time": "2021-07-08T09:06:29.807Z"
   },
   {
    "duration": 8,
    "start_time": "2021-07-08T09:06:29.823Z"
   },
   {
    "duration": 70,
    "start_time": "2021-07-08T09:06:29.832Z"
   },
   {
    "duration": 17,
    "start_time": "2021-07-08T09:06:29.903Z"
   },
   {
    "duration": 9,
    "start_time": "2021-07-08T09:06:29.921Z"
   },
   {
    "duration": 9,
    "start_time": "2021-07-08T09:06:29.932Z"
   },
   {
    "duration": 57,
    "start_time": "2021-07-08T09:06:29.942Z"
   },
   {
    "duration": 11,
    "start_time": "2021-07-08T09:06:30.001Z"
   },
   {
    "duration": 19,
    "start_time": "2021-07-08T09:06:30.016Z"
   },
   {
    "duration": 217,
    "start_time": "2021-07-08T09:06:30.037Z"
   },
   {
    "duration": 6,
    "start_time": "2021-07-08T09:06:30.255Z"
   },
   {
    "duration": 205,
    "start_time": "2021-07-08T09:06:30.263Z"
   },
   {
    "duration": 27,
    "start_time": "2021-07-08T09:06:30.470Z"
   },
   {
    "duration": 11,
    "start_time": "2021-07-08T09:06:30.500Z"
   },
   {
    "duration": 31,
    "start_time": "2021-07-08T09:06:30.513Z"
   },
   {
    "duration": 18,
    "start_time": "2021-07-08T09:06:30.546Z"
   },
   {
    "duration": 11,
    "start_time": "2021-07-08T09:06:30.566Z"
   },
   {
    "duration": 19,
    "start_time": "2021-07-08T09:06:30.579Z"
   },
   {
    "duration": 20,
    "start_time": "2021-07-08T09:06:49.466Z"
   },
   {
    "duration": 9,
    "start_time": "2021-07-08T09:06:51.994Z"
   },
   {
    "duration": 20,
    "start_time": "2021-07-08T09:06:52.273Z"
   },
   {
    "duration": 246,
    "start_time": "2021-07-08T09:10:21.272Z"
   },
   {
    "duration": 84,
    "start_time": "2021-07-08T09:10:21.436Z"
   },
   {
    "duration": 7,
    "start_time": "2021-07-08T09:10:37.608Z"
   },
   {
    "duration": 189,
    "start_time": "2021-07-08T09:10:38.573Z"
   },
   {
    "duration": 185,
    "start_time": "2021-07-08T09:10:53.181Z"
   },
   {
    "duration": 11,
    "start_time": "2021-07-08T09:10:59.549Z"
   },
   {
    "duration": 42,
    "start_time": "2021-07-08T09:10:59.709Z"
   },
   {
    "duration": 12,
    "start_time": "2021-07-08T09:11:02.857Z"
   },
   {
    "duration": 28,
    "start_time": "2021-07-08T09:11:10.062Z"
   },
   {
    "duration": 249,
    "start_time": "2021-07-08T09:11:37.388Z"
   },
   {
    "duration": 232,
    "start_time": "2021-07-08T09:11:49.485Z"
   },
   {
    "duration": 453,
    "start_time": "2021-07-08T09:12:01.546Z"
   },
   {
    "duration": 440,
    "start_time": "2021-07-08T09:12:12.347Z"
   },
   {
    "duration": 213,
    "start_time": "2021-07-08T09:13:32.196Z"
   },
   {
    "duration": 172,
    "start_time": "2021-07-08T09:14:07.400Z"
   },
   {
    "duration": 185,
    "start_time": "2021-07-08T09:14:14.905Z"
   },
   {
    "duration": 209,
    "start_time": "2021-07-08T09:14:40.109Z"
   },
   {
    "duration": 201,
    "start_time": "2021-07-08T09:14:54.506Z"
   },
   {
    "duration": 622,
    "start_time": "2021-07-08T09:18:14.497Z"
   },
   {
    "duration": 220,
    "start_time": "2021-07-08T09:18:15.121Z"
   },
   {
    "duration": 79,
    "start_time": "2021-07-08T09:18:15.343Z"
   },
   {
    "duration": 4,
    "start_time": "2021-07-08T09:18:15.425Z"
   },
   {
    "duration": 24,
    "start_time": "2021-07-08T09:18:15.431Z"
   },
   {
    "duration": 8,
    "start_time": "2021-07-08T09:18:15.457Z"
   },
   {
    "duration": 16,
    "start_time": "2021-07-08T09:18:15.466Z"
   },
   {
    "duration": 5,
    "start_time": "2021-07-08T09:18:15.484Z"
   },
   {
    "duration": 10,
    "start_time": "2021-07-08T09:18:15.493Z"
   },
   {
    "duration": 8,
    "start_time": "2021-07-08T09:18:15.504Z"
   },
   {
    "duration": 7,
    "start_time": "2021-07-08T09:18:15.513Z"
   },
   {
    "duration": 26,
    "start_time": "2021-07-08T09:18:15.522Z"
   },
   {
    "duration": 49,
    "start_time": "2021-07-08T09:18:15.550Z"
   },
   {
    "duration": 21,
    "start_time": "2021-07-08T09:18:15.601Z"
   },
   {
    "duration": 8,
    "start_time": "2021-07-08T09:18:15.624Z"
   },
   {
    "duration": 3,
    "start_time": "2021-07-08T09:18:15.634Z"
   },
   {
    "duration": 8,
    "start_time": "2021-07-08T09:18:15.639Z"
   },
   {
    "duration": 45,
    "start_time": "2021-07-08T09:18:15.649Z"
   },
   {
    "duration": 13,
    "start_time": "2021-07-08T09:18:15.696Z"
   },
   {
    "duration": 10,
    "start_time": "2021-07-08T09:18:15.711Z"
   },
   {
    "duration": 64,
    "start_time": "2021-07-08T09:18:15.722Z"
   },
   {
    "duration": 19,
    "start_time": "2021-07-08T09:18:15.788Z"
   },
   {
    "duration": 9,
    "start_time": "2021-07-08T09:18:15.809Z"
   },
   {
    "duration": 9,
    "start_time": "2021-07-08T09:18:15.820Z"
   },
   {
    "duration": 18,
    "start_time": "2021-07-08T09:18:15.831Z"
   },
   {
    "duration": 43,
    "start_time": "2021-07-08T09:18:15.851Z"
   },
   {
    "duration": 12,
    "start_time": "2021-07-08T09:18:15.897Z"
   },
   {
    "duration": 219,
    "start_time": "2021-07-08T09:18:15.911Z"
   },
   {
    "duration": 8,
    "start_time": "2021-07-08T09:18:16.132Z"
   },
   {
    "duration": 199,
    "start_time": "2021-07-08T09:18:16.141Z"
   },
   {
    "duration": 18,
    "start_time": "2021-07-08T09:18:16.341Z"
   },
   {
    "duration": 24,
    "start_time": "2021-07-08T09:18:16.361Z"
   },
   {
    "duration": 24,
    "start_time": "2021-07-08T09:18:16.387Z"
   },
   {
    "duration": 211,
    "start_time": "2021-07-08T09:18:16.413Z"
   },
   {
    "duration": 18,
    "start_time": "2021-07-08T09:18:16.626Z"
   },
   {
    "duration": 596,
    "start_time": "2021-07-08T10:06:33.623Z"
   },
   {
    "duration": 181,
    "start_time": "2021-07-08T10:06:34.221Z"
   },
   {
    "duration": 176,
    "start_time": "2021-07-08T10:06:34.635Z"
   },
   {
    "duration": 239,
    "start_time": "2021-07-08T10:06:55.572Z"
   },
   {
    "duration": 6,
    "start_time": "2021-07-08T10:06:57.687Z"
   },
   {
    "duration": 4,
    "start_time": "2021-07-08T10:07:03.956Z"
   },
   {
    "duration": 4,
    "start_time": "2021-07-08T10:07:10.376Z"
   },
   {
    "duration": 4,
    "start_time": "2021-07-08T10:17:19.889Z"
   },
   {
    "duration": 3,
    "start_time": "2021-07-08T10:19:19.407Z"
   },
   {
    "duration": 197,
    "start_time": "2021-07-08T10:19:19.412Z"
   },
   {
    "duration": 127,
    "start_time": "2021-07-08T10:19:19.611Z"
   },
   {
    "duration": 4,
    "start_time": "2021-07-08T10:19:19.740Z"
   },
   {
    "duration": 27,
    "start_time": "2021-07-08T10:19:19.746Z"
   },
   {
    "duration": 7,
    "start_time": "2021-07-08T10:19:19.775Z"
   },
   {
    "duration": 30,
    "start_time": "2021-07-08T10:19:19.784Z"
   },
   {
    "duration": 7,
    "start_time": "2021-07-08T10:19:19.817Z"
   },
   {
    "duration": 26,
    "start_time": "2021-07-08T10:19:19.826Z"
   },
   {
    "duration": 18,
    "start_time": "2021-07-08T10:19:19.854Z"
   },
   {
    "duration": 14,
    "start_time": "2021-07-08T10:19:19.874Z"
   },
   {
    "duration": 48,
    "start_time": "2021-07-08T10:19:19.890Z"
   },
   {
    "duration": 17,
    "start_time": "2021-07-08T10:19:19.940Z"
   },
   {
    "duration": 38,
    "start_time": "2021-07-08T10:19:19.959Z"
   },
   {
    "duration": 8,
    "start_time": "2021-07-08T10:19:19.999Z"
   },
   {
    "duration": 15,
    "start_time": "2021-07-08T10:19:20.009Z"
   },
   {
    "duration": 22,
    "start_time": "2021-07-08T10:19:20.026Z"
   },
   {
    "duration": 10,
    "start_time": "2021-07-08T10:19:20.050Z"
   },
   {
    "duration": 10,
    "start_time": "2021-07-08T10:19:20.062Z"
   },
   {
    "duration": 20,
    "start_time": "2021-07-08T10:19:20.073Z"
   },
   {
    "duration": 29,
    "start_time": "2021-07-08T10:19:20.095Z"
   },
   {
    "duration": 17,
    "start_time": "2021-07-08T10:19:20.126Z"
   },
   {
    "duration": 40,
    "start_time": "2021-07-08T10:19:20.146Z"
   },
   {
    "duration": 15,
    "start_time": "2021-07-08T10:19:20.189Z"
   },
   {
    "duration": 19,
    "start_time": "2021-07-08T10:19:20.206Z"
   },
   {
    "duration": 10,
    "start_time": "2021-07-08T10:19:20.226Z"
   },
   {
    "duration": 11,
    "start_time": "2021-07-08T10:19:20.238Z"
   },
   {
    "duration": 297,
    "start_time": "2021-07-08T10:19:20.250Z"
   },
   {
    "duration": 6,
    "start_time": "2021-07-08T10:19:20.549Z"
   },
   {
    "duration": 191,
    "start_time": "2021-07-08T10:19:20.557Z"
   },
   {
    "duration": 19,
    "start_time": "2021-07-08T10:19:20.750Z"
   },
   {
    "duration": 20,
    "start_time": "2021-07-08T10:19:20.771Z"
   },
   {
    "duration": 15,
    "start_time": "2021-07-08T10:19:20.793Z"
   },
   {
    "duration": 222,
    "start_time": "2021-07-08T10:19:20.809Z"
   },
   {
    "duration": 20,
    "start_time": "2021-07-08T10:19:21.033Z"
   },
   {
    "duration": 27,
    "start_time": "2021-07-08T10:45:04.055Z"
   },
   {
    "duration": 8,
    "start_time": "2021-07-08T10:45:08.478Z"
   },
   {
    "duration": 8,
    "start_time": "2021-07-08T10:45:31.982Z"
   },
   {
    "duration": 10,
    "start_time": "2021-07-08T10:46:01.221Z"
   },
   {
    "duration": 17,
    "start_time": "2021-07-08T10:46:40.011Z"
   },
   {
    "duration": 193,
    "start_time": "2021-07-08T10:48:19.471Z"
   },
   {
    "duration": 225,
    "start_time": "2021-07-08T10:49:26.480Z"
   },
   {
    "duration": 204,
    "start_time": "2021-07-08T10:49:59.992Z"
   },
   {
    "duration": 435,
    "start_time": "2021-07-08T10:50:06.779Z"
   },
   {
    "duration": 199,
    "start_time": "2021-07-08T10:50:14.891Z"
   },
   {
    "duration": 204,
    "start_time": "2021-07-08T10:50:18.501Z"
   },
   {
    "duration": 244,
    "start_time": "2021-07-08T10:50:23.359Z"
   },
   {
    "duration": 192,
    "start_time": "2021-07-08T10:50:29.135Z"
   },
   {
    "duration": 218,
    "start_time": "2021-07-08T10:50:33.092Z"
   },
   {
    "duration": 207,
    "start_time": "2021-07-08T10:52:45.381Z"
   },
   {
    "duration": 5,
    "start_time": "2021-07-08T10:53:34.641Z"
   },
   {
    "duration": 196,
    "start_time": "2021-07-08T10:53:41.478Z"
   },
   {
    "duration": 43,
    "start_time": "2021-07-08T10:53:50.335Z"
   },
   {
    "duration": 32,
    "start_time": "2021-07-08T10:53:55.294Z"
   },
   {
    "duration": 55,
    "start_time": "2021-07-08T10:54:09.675Z"
   },
   {
    "duration": 16,
    "start_time": "2021-07-08T10:54:12.260Z"
   },
   {
    "duration": 15,
    "start_time": "2021-07-08T10:54:49.150Z"
   },
   {
    "duration": 20,
    "start_time": "2021-07-08T10:56:07.596Z"
   },
   {
    "duration": 16,
    "start_time": "2021-07-08T10:58:26.276Z"
   },
   {
    "duration": 22,
    "start_time": "2021-07-08T10:59:00.486Z"
   },
   {
    "duration": 18,
    "start_time": "2021-07-08T11:02:09.653Z"
   },
   {
    "duration": 10,
    "start_time": "2021-07-08T11:03:44.331Z"
   },
   {
    "duration": 10,
    "start_time": "2021-07-08T11:03:54.055Z"
   },
   {
    "duration": 12,
    "start_time": "2021-07-08T11:04:41.967Z"
   },
   {
    "duration": 24,
    "start_time": "2021-07-08T11:07:30.732Z"
   },
   {
    "duration": 6,
    "start_time": "2021-07-08T11:07:37.364Z"
   },
   {
    "duration": 16,
    "start_time": "2021-07-08T11:08:01.819Z"
   },
   {
    "duration": 17,
    "start_time": "2021-07-08T11:09:47.488Z"
   },
   {
    "duration": 246,
    "start_time": "2021-07-08T11:10:00.830Z"
   },
   {
    "duration": 18,
    "start_time": "2021-07-08T11:13:55.195Z"
   },
   {
    "duration": 204,
    "start_time": "2021-07-08T11:14:04.951Z"
   },
   {
    "duration": 19,
    "start_time": "2021-07-08T11:15:10.613Z"
   },
   {
    "duration": 680,
    "start_time": "2021-07-08T11:16:25.793Z"
   },
   {
    "duration": 451,
    "start_time": "2021-07-08T11:16:40.313Z"
   },
   {
    "duration": 469,
    "start_time": "2021-07-08T11:17:21.286Z"
   },
   {
    "duration": 20,
    "start_time": "2021-07-08T11:19:12.554Z"
   },
   {
    "duration": 35,
    "start_time": "2021-07-08T11:20:05.484Z"
   },
   {
    "duration": 53,
    "start_time": "2021-07-08T11:21:40.050Z"
   },
   {
    "duration": 13,
    "start_time": "2021-07-08T11:22:26.059Z"
   },
   {
    "duration": 19,
    "start_time": "2021-07-08T11:22:47.419Z"
   },
   {
    "duration": 25,
    "start_time": "2021-07-08T11:23:19.958Z"
   },
   {
    "duration": 29,
    "start_time": "2021-07-08T11:23:25.415Z"
   },
   {
    "duration": 10,
    "start_time": "2021-07-08T11:24:45.138Z"
   },
   {
    "duration": 19,
    "start_time": "2021-07-08T11:24:54.498Z"
   },
   {
    "duration": 12,
    "start_time": "2021-07-08T11:25:32.225Z"
   },
   {
    "duration": 19,
    "start_time": "2021-07-08T11:25:37.092Z"
   },
   {
    "duration": 17,
    "start_time": "2021-07-08T11:25:58.116Z"
   },
   {
    "duration": 15,
    "start_time": "2021-07-08T11:26:02.258Z"
   },
   {
    "duration": 8,
    "start_time": "2021-07-08T11:26:59.682Z"
   },
   {
    "duration": 184,
    "start_time": "2021-07-08T11:27:21.894Z"
   },
   {
    "duration": 8,
    "start_time": "2021-07-08T11:27:23.824Z"
   },
   {
    "duration": 202,
    "start_time": "2021-07-08T11:27:23.962Z"
   },
   {
    "duration": 360,
    "start_time": "2021-07-08T11:28:33.215Z"
   },
   {
    "duration": 231,
    "start_time": "2021-07-08T11:32:05.542Z"
   },
   {
    "duration": 607,
    "start_time": "2021-07-08T11:36:27.854Z"
   },
   {
    "duration": 241,
    "start_time": "2021-07-08T11:36:28.463Z"
   },
   {
    "duration": 67,
    "start_time": "2021-07-08T11:36:28.709Z"
   },
   {
    "duration": 5,
    "start_time": "2021-07-08T11:36:28.778Z"
   },
   {
    "duration": 32,
    "start_time": "2021-07-08T11:36:28.784Z"
   },
   {
    "duration": 11,
    "start_time": "2021-07-08T11:36:28.819Z"
   },
   {
    "duration": 20,
    "start_time": "2021-07-08T11:36:28.834Z"
   },
   {
    "duration": 36,
    "start_time": "2021-07-08T11:36:28.857Z"
   },
   {
    "duration": 16,
    "start_time": "2021-07-08T11:36:28.895Z"
   },
   {
    "duration": 14,
    "start_time": "2021-07-08T11:36:28.913Z"
   },
   {
    "duration": 9,
    "start_time": "2021-07-08T11:36:28.930Z"
   },
   {
    "duration": 55,
    "start_time": "2021-07-08T11:36:28.941Z"
   },
   {
    "duration": 27,
    "start_time": "2021-07-08T11:36:28.999Z"
   },
   {
    "duration": 30,
    "start_time": "2021-07-08T11:36:29.028Z"
   },
   {
    "duration": 31,
    "start_time": "2021-07-08T11:36:29.060Z"
   },
   {
    "duration": 3,
    "start_time": "2021-07-08T11:36:29.093Z"
   },
   {
    "duration": 12,
    "start_time": "2021-07-08T11:36:29.099Z"
   },
   {
    "duration": 11,
    "start_time": "2021-07-08T11:36:29.112Z"
   },
   {
    "duration": 12,
    "start_time": "2021-07-08T11:36:29.125Z"
   },
   {
    "duration": 9,
    "start_time": "2021-07-08T11:36:29.139Z"
   },
   {
    "duration": 31,
    "start_time": "2021-07-08T11:36:29.191Z"
   },
   {
    "duration": 17,
    "start_time": "2021-07-08T11:36:29.226Z"
   },
   {
    "duration": 7,
    "start_time": "2021-07-08T11:36:29.245Z"
   },
   {
    "duration": 10,
    "start_time": "2021-07-08T11:36:29.254Z"
   },
   {
    "duration": 30,
    "start_time": "2021-07-08T11:36:29.292Z"
   },
   {
    "duration": 11,
    "start_time": "2021-07-08T11:36:29.324Z"
   },
   {
    "duration": 11,
    "start_time": "2021-07-08T11:36:29.337Z"
   },
   {
    "duration": 230,
    "start_time": "2021-07-08T11:36:29.349Z"
   },
   {
    "duration": 13,
    "start_time": "2021-07-08T11:36:29.588Z"
   },
   {
    "duration": 205,
    "start_time": "2021-07-08T11:36:29.603Z"
   },
   {
    "duration": 20,
    "start_time": "2021-07-08T11:36:29.810Z"
   },
   {
    "duration": 9,
    "start_time": "2021-07-08T11:36:29.832Z"
   },
   {
    "duration": 16,
    "start_time": "2021-07-08T11:36:29.843Z"
   },
   {
    "duration": 283,
    "start_time": "2021-07-08T11:36:29.861Z"
   },
   {
    "duration": 50,
    "start_time": "2021-07-08T11:36:30.146Z"
   },
   {
    "duration": 14,
    "start_time": "2021-07-08T11:36:30.198Z"
   },
   {
    "duration": 11,
    "start_time": "2021-07-08T11:36:30.214Z"
   },
   {
    "duration": 245,
    "start_time": "2021-07-08T11:36:30.227Z"
   },
   {
    "duration": 439,
    "start_time": "2021-07-08T11:36:30.474Z"
   },
   {
    "duration": 210,
    "start_time": "2021-07-08T11:36:30.915Z"
   },
   {
    "duration": 15,
    "start_time": "2021-07-08T11:36:31.127Z"
   },
   {
    "duration": 17,
    "start_time": "2021-07-08T11:38:20.451Z"
   },
   {
    "duration": 642,
    "start_time": "2021-07-08T11:46:17.881Z"
   },
   {
    "duration": 210,
    "start_time": "2021-07-08T11:46:18.525Z"
   },
   {
    "duration": 104,
    "start_time": "2021-07-08T11:46:18.741Z"
   },
   {
    "duration": 8,
    "start_time": "2021-07-08T11:46:18.847Z"
   },
   {
    "duration": 25,
    "start_time": "2021-07-08T11:46:18.857Z"
   },
   {
    "duration": 14,
    "start_time": "2021-07-08T11:46:18.884Z"
   },
   {
    "duration": 22,
    "start_time": "2021-07-08T11:46:18.900Z"
   },
   {
    "duration": 5,
    "start_time": "2021-07-08T11:46:18.924Z"
   },
   {
    "duration": 13,
    "start_time": "2021-07-08T11:46:18.931Z"
   },
   {
    "duration": 45,
    "start_time": "2021-07-08T11:46:18.946Z"
   },
   {
    "duration": 12,
    "start_time": "2021-07-08T11:46:18.993Z"
   },
   {
    "duration": 38,
    "start_time": "2021-07-08T11:46:19.006Z"
   },
   {
    "duration": 50,
    "start_time": "2021-07-08T11:46:19.046Z"
   },
   {
    "duration": 29,
    "start_time": "2021-07-08T11:46:19.099Z"
   },
   {
    "duration": 7,
    "start_time": "2021-07-08T11:46:19.130Z"
   },
   {
    "duration": 3,
    "start_time": "2021-07-08T11:46:19.139Z"
   },
   {
    "duration": 11,
    "start_time": "2021-07-08T11:46:19.144Z"
   },
   {
    "duration": 40,
    "start_time": "2021-07-08T11:46:19.157Z"
   },
   {
    "duration": 15,
    "start_time": "2021-07-08T11:46:19.199Z"
   },
   {
    "duration": 10,
    "start_time": "2021-07-08T11:46:19.217Z"
   },
   {
    "duration": 68,
    "start_time": "2021-07-08T11:46:19.230Z"
   },
   {
    "duration": 17,
    "start_time": "2021-07-08T11:46:19.301Z"
   },
   {
    "duration": 7,
    "start_time": "2021-07-08T11:46:19.321Z"
   },
   {
    "duration": 11,
    "start_time": "2021-07-08T11:46:19.330Z"
   },
   {
    "duration": 59,
    "start_time": "2021-07-08T11:46:19.343Z"
   },
   {
    "duration": 17,
    "start_time": "2021-07-08T11:46:19.405Z"
   },
   {
    "duration": 16,
    "start_time": "2021-07-08T11:46:19.424Z"
   },
   {
    "duration": 252,
    "start_time": "2021-07-08T11:46:19.443Z"
   },
   {
    "duration": 9,
    "start_time": "2021-07-08T11:46:19.697Z"
   },
   {
    "duration": 224,
    "start_time": "2021-07-08T11:46:19.708Z"
   },
   {
    "duration": 21,
    "start_time": "2021-07-08T11:46:19.934Z"
   },
   {
    "duration": 9,
    "start_time": "2021-07-08T11:46:19.956Z"
   },
   {
    "duration": 32,
    "start_time": "2021-07-08T11:46:19.967Z"
   },
   {
    "duration": 288,
    "start_time": "2021-07-08T11:46:20.004Z"
   },
   {
    "duration": 23,
    "start_time": "2021-07-08T11:46:20.300Z"
   },
   {
    "duration": 11,
    "start_time": "2021-07-08T11:46:20.325Z"
   },
   {
    "duration": 11,
    "start_time": "2021-07-08T11:46:20.339Z"
   },
   {
    "duration": 259,
    "start_time": "2021-07-08T11:46:20.352Z"
   },
   {
    "duration": 438,
    "start_time": "2021-07-08T11:46:20.613Z"
   },
   {
    "duration": 207,
    "start_time": "2021-07-08T11:46:21.054Z"
   },
   {
    "duration": 27,
    "start_time": "2021-07-08T11:46:21.262Z"
   },
   {
    "duration": 19,
    "start_time": "2021-07-08T11:46:21.291Z"
   },
   {
    "duration": 820,
    "start_time": "2021-07-08T11:49:01.655Z"
   },
   {
    "duration": 372,
    "start_time": "2021-07-08T11:49:02.478Z"
   },
   {
    "duration": 98,
    "start_time": "2021-07-08T11:49:02.853Z"
   },
   {
    "duration": 6,
    "start_time": "2021-07-08T11:49:02.953Z"
   },
   {
    "duration": 39,
    "start_time": "2021-07-08T11:49:02.960Z"
   },
   {
    "duration": 9,
    "start_time": "2021-07-08T11:49:03.003Z"
   },
   {
    "duration": 23,
    "start_time": "2021-07-08T11:49:03.014Z"
   },
   {
    "duration": 6,
    "start_time": "2021-07-08T11:49:03.041Z"
   },
   {
    "duration": 20,
    "start_time": "2021-07-08T11:49:03.049Z"
   },
   {
    "duration": 18,
    "start_time": "2021-07-08T11:49:03.084Z"
   },
   {
    "duration": 14,
    "start_time": "2021-07-08T11:49:03.104Z"
   },
   {
    "duration": 39,
    "start_time": "2021-07-08T11:49:03.119Z"
   },
   {
    "duration": 38,
    "start_time": "2021-07-08T11:49:03.160Z"
   },
   {
    "duration": 26,
    "start_time": "2021-07-08T11:49:03.200Z"
   },
   {
    "duration": 7,
    "start_time": "2021-07-08T11:49:03.227Z"
   },
   {
    "duration": 4,
    "start_time": "2021-07-08T11:49:03.236Z"
   },
   {
    "duration": 15,
    "start_time": "2021-07-08T11:49:03.243Z"
   },
   {
    "duration": 21,
    "start_time": "2021-07-08T11:49:03.285Z"
   },
   {
    "duration": 17,
    "start_time": "2021-07-08T11:49:03.309Z"
   },
   {
    "duration": 10,
    "start_time": "2021-07-08T11:49:03.328Z"
   },
   {
    "duration": 65,
    "start_time": "2021-07-08T11:49:03.340Z"
   },
   {
    "duration": 18,
    "start_time": "2021-07-08T11:49:03.407Z"
   },
   {
    "duration": 8,
    "start_time": "2021-07-08T11:49:03.428Z"
   },
   {
    "duration": 15,
    "start_time": "2021-07-08T11:49:03.438Z"
   },
   {
    "duration": 40,
    "start_time": "2021-07-08T11:49:03.455Z"
   },
   {
    "duration": 12,
    "start_time": "2021-07-08T11:49:03.497Z"
   },
   {
    "duration": 29,
    "start_time": "2021-07-08T11:49:03.511Z"
   },
   {
    "duration": 285,
    "start_time": "2021-07-08T11:49:03.542Z"
   },
   {
    "duration": 8,
    "start_time": "2021-07-08T11:49:03.829Z"
   },
   {
    "duration": 227,
    "start_time": "2021-07-08T11:49:03.838Z"
   },
   {
    "duration": 40,
    "start_time": "2021-07-08T11:49:04.066Z"
   },
   {
    "duration": 10,
    "start_time": "2021-07-08T11:49:04.108Z"
   },
   {
    "duration": 26,
    "start_time": "2021-07-08T11:49:04.121Z"
   },
   {
    "duration": 290,
    "start_time": "2021-07-08T11:49:04.149Z"
   },
   {
    "duration": 26,
    "start_time": "2021-07-08T11:49:04.441Z"
   },
   {
    "duration": 31,
    "start_time": "2021-07-08T11:49:04.470Z"
   },
   {
    "duration": 14,
    "start_time": "2021-07-08T11:49:04.503Z"
   },
   {
    "duration": 259,
    "start_time": "2021-07-08T11:49:04.521Z"
   },
   {
    "duration": 480,
    "start_time": "2021-07-08T11:49:04.782Z"
   },
   {
    "duration": 225,
    "start_time": "2021-07-08T11:49:05.264Z"
   },
   {
    "duration": 22,
    "start_time": "2021-07-08T11:49:05.491Z"
   },
   {
    "duration": 24,
    "start_time": "2021-07-08T11:49:05.515Z"
   },
   {
    "duration": 634,
    "start_time": "2021-07-08T11:52:24.960Z"
   },
   {
    "duration": 199,
    "start_time": "2021-07-08T11:52:25.599Z"
   },
   {
    "duration": 106,
    "start_time": "2021-07-08T11:52:25.803Z"
   },
   {
    "duration": 7,
    "start_time": "2021-07-08T11:52:25.911Z"
   },
   {
    "duration": 29,
    "start_time": "2021-07-08T11:52:25.920Z"
   },
   {
    "duration": 7,
    "start_time": "2021-07-08T11:52:25.951Z"
   },
   {
    "duration": 26,
    "start_time": "2021-07-08T11:52:25.961Z"
   },
   {
    "duration": 11,
    "start_time": "2021-07-08T11:52:25.990Z"
   },
   {
    "duration": 29,
    "start_time": "2021-07-08T11:52:26.005Z"
   },
   {
    "duration": 9,
    "start_time": "2021-07-08T11:52:26.036Z"
   },
   {
    "duration": 8,
    "start_time": "2021-07-08T11:52:26.047Z"
   },
   {
    "duration": 63,
    "start_time": "2021-07-08T11:52:26.057Z"
   },
   {
    "duration": 17,
    "start_time": "2021-07-08T11:52:26.122Z"
   },
   {
    "duration": 43,
    "start_time": "2021-07-08T11:52:26.142Z"
   },
   {
    "duration": 17,
    "start_time": "2021-07-08T11:52:26.187Z"
   },
   {
    "duration": 5,
    "start_time": "2021-07-08T11:52:26.206Z"
   },
   {
    "duration": 12,
    "start_time": "2021-07-08T11:52:26.212Z"
   },
   {
    "duration": 11,
    "start_time": "2021-07-08T11:52:26.226Z"
   },
   {
    "duration": 12,
    "start_time": "2021-07-08T11:52:26.238Z"
   },
   {
    "duration": 38,
    "start_time": "2021-07-08T11:52:26.252Z"
   },
   {
    "duration": 40,
    "start_time": "2021-07-08T11:52:26.292Z"
   },
   {
    "duration": 17,
    "start_time": "2021-07-08T11:52:26.336Z"
   },
   {
    "duration": 39,
    "start_time": "2021-07-08T11:52:26.355Z"
   },
   {
    "duration": 11,
    "start_time": "2021-07-08T11:52:26.395Z"
   },
   {
    "duration": 23,
    "start_time": "2021-07-08T11:52:26.408Z"
   },
   {
    "duration": 12,
    "start_time": "2021-07-08T11:52:26.432Z"
   },
   {
    "duration": 41,
    "start_time": "2021-07-08T11:52:26.446Z"
   },
   {
    "duration": 215,
    "start_time": "2021-07-08T11:52:26.493Z"
   },
   {
    "duration": 8,
    "start_time": "2021-07-08T11:52:26.710Z"
   },
   {
    "duration": 228,
    "start_time": "2021-07-08T11:52:26.720Z"
   },
   {
    "duration": 18,
    "start_time": "2021-07-08T11:52:26.950Z"
   },
   {
    "duration": 35,
    "start_time": "2021-07-08T11:52:26.969Z"
   },
   {
    "duration": 23,
    "start_time": "2021-07-08T11:52:27.006Z"
   },
   {
    "duration": 258,
    "start_time": "2021-07-08T11:52:27.030Z"
   },
   {
    "duration": 24,
    "start_time": "2021-07-08T11:52:27.290Z"
   },
   {
    "duration": 12,
    "start_time": "2021-07-08T11:52:27.316Z"
   },
   {
    "duration": 10,
    "start_time": "2021-07-08T11:52:27.329Z"
   },
   {
    "duration": 298,
    "start_time": "2021-07-08T11:52:27.341Z"
   },
   {
    "duration": 436,
    "start_time": "2021-07-08T11:52:27.641Z"
   },
   {
    "duration": 216,
    "start_time": "2021-07-08T11:52:28.079Z"
   },
   {
    "duration": 20,
    "start_time": "2021-07-08T11:52:28.297Z"
   },
   {
    "duration": 17,
    "start_time": "2021-07-08T11:52:28.319Z"
   },
   {
    "duration": 430,
    "start_time": "2024-06-04T03:32:56.648Z"
   },
   {
    "duration": 159,
    "start_time": "2024-06-04T03:33:22.389Z"
   },
   {
    "duration": 28,
    "start_time": "2024-06-04T03:33:31.376Z"
   },
   {
    "duration": 20,
    "start_time": "2024-06-04T03:34:02.242Z"
   },
   {
    "duration": 170,
    "start_time": "2024-06-04T03:47:33.554Z"
   },
   {
    "duration": 14,
    "start_time": "2024-06-04T03:47:52.093Z"
   },
   {
    "duration": 72,
    "start_time": "2024-06-04T03:48:06.870Z"
   },
   {
    "duration": 7,
    "start_time": "2024-06-04T03:48:11.934Z"
   },
   {
    "duration": 16,
    "start_time": "2024-06-04T03:48:45.358Z"
   },
   {
    "duration": 8,
    "start_time": "2024-06-04T03:48:52.641Z"
   },
   {
    "duration": 10,
    "start_time": "2024-06-04T03:48:54.760Z"
   },
   {
    "duration": 10,
    "start_time": "2024-06-04T03:49:27.184Z"
   },
   {
    "duration": 8,
    "start_time": "2024-06-04T03:50:08.042Z"
   },
   {
    "duration": 6,
    "start_time": "2024-06-04T03:50:41.914Z"
   },
   {
    "duration": 3,
    "start_time": "2024-06-04T03:50:45.744Z"
   },
   {
    "duration": 129,
    "start_time": "2024-06-04T03:50:46.159Z"
   },
   {
    "duration": 7,
    "start_time": "2024-06-04T03:50:46.751Z"
   },
   {
    "duration": 4,
    "start_time": "2024-06-04T03:51:06.139Z"
   },
   {
    "duration": 8,
    "start_time": "2024-06-04T03:51:15.172Z"
   },
   {
    "duration": 6,
    "start_time": "2024-06-04T03:51:57.880Z"
   },
   {
    "duration": 4,
    "start_time": "2024-06-04T03:52:11.558Z"
   },
   {
    "duration": 4,
    "start_time": "2024-06-04T03:52:17.493Z"
   },
   {
    "duration": 6,
    "start_time": "2024-06-04T03:52:25.120Z"
   },
   {
    "duration": 5,
    "start_time": "2024-06-04T03:52:31.427Z"
   },
   {
    "duration": 5,
    "start_time": "2024-06-04T03:53:56.992Z"
   },
   {
    "duration": 6,
    "start_time": "2024-06-04T03:54:24.886Z"
   },
   {
    "duration": 8,
    "start_time": "2024-06-04T03:54:44.485Z"
   },
   {
    "duration": 8,
    "start_time": "2024-06-04T03:54:53.686Z"
   },
   {
    "duration": 213,
    "start_time": "2024-06-04T03:58:12.726Z"
   },
   {
    "duration": 3,
    "start_time": "2024-06-04T03:58:25.113Z"
   },
   {
    "duration": 129,
    "start_time": "2024-06-04T03:58:25.359Z"
   },
   {
    "duration": 15,
    "start_time": "2024-06-04T03:58:32.957Z"
   },
   {
    "duration": 16,
    "start_time": "2024-06-04T03:58:38.672Z"
   },
   {
    "duration": 20,
    "start_time": "2024-06-04T03:58:44.835Z"
   },
   {
    "duration": 15,
    "start_time": "2024-06-04T03:58:54.676Z"
   },
   {
    "duration": 276,
    "start_time": "2024-06-04T04:00:18.463Z"
   },
   {
    "duration": 8,
    "start_time": "2024-06-04T04:01:16.975Z"
   },
   {
    "duration": 31,
    "start_time": "2024-06-04T04:01:23.071Z"
   },
   {
    "duration": 16,
    "start_time": "2024-06-04T04:01:35.720Z"
   },
   {
    "duration": 5,
    "start_time": "2024-06-04T04:03:58.779Z"
   },
   {
    "duration": 137,
    "start_time": "2024-06-04T04:04:02.181Z"
   },
   {
    "duration": 16,
    "start_time": "2024-06-04T04:04:02.407Z"
   },
   {
    "duration": 6,
    "start_time": "2024-06-04T04:04:10.469Z"
   },
   {
    "duration": 2,
    "start_time": "2024-06-04T05:57:00.669Z"
   },
   {
    "duration": 137,
    "start_time": "2024-06-04T05:57:01.086Z"
   },
   {
    "duration": 16,
    "start_time": "2024-06-04T05:57:01.425Z"
   },
   {
    "duration": 7,
    "start_time": "2024-06-04T05:57:01.889Z"
   },
   {
    "duration": 8,
    "start_time": "2024-06-04T05:57:03.101Z"
   },
   {
    "duration": 14,
    "start_time": "2024-06-04T05:57:03.980Z"
   },
   {
    "duration": 2,
    "start_time": "2024-06-04T05:57:10.390Z"
   },
   {
    "duration": 141,
    "start_time": "2024-06-04T05:57:10.704Z"
   },
   {
    "duration": 18,
    "start_time": "2024-06-04T05:57:15.494Z"
   },
   {
    "duration": 18,
    "start_time": "2024-06-04T05:57:43.389Z"
   },
   {
    "duration": 3,
    "start_time": "2024-06-04T05:57:51.898Z"
   },
   {
    "duration": 127,
    "start_time": "2024-06-04T05:57:52.137Z"
   },
   {
    "duration": 24,
    "start_time": "2024-06-04T05:57:52.576Z"
   },
   {
    "duration": 7,
    "start_time": "2024-06-04T05:57:54.260Z"
   },
   {
    "duration": 17,
    "start_time": "2024-06-04T05:57:56.735Z"
   },
   {
    "duration": 8,
    "start_time": "2024-06-04T05:58:03.195Z"
   },
   {
    "duration": 13,
    "start_time": "2024-06-04T05:58:05.067Z"
   },
   {
    "duration": 24,
    "start_time": "2024-06-04T05:58:07.898Z"
   },
   {
    "duration": 14,
    "start_time": "2024-06-04T05:58:26.653Z"
   },
   {
    "duration": 18,
    "start_time": "2024-06-04T05:58:39.384Z"
   },
   {
    "duration": 5,
    "start_time": "2024-06-04T05:59:13.934Z"
   },
   {
    "duration": 59,
    "start_time": "2024-06-04T06:00:11.555Z"
   },
   {
    "duration": 6,
    "start_time": "2024-06-04T06:00:18.034Z"
   },
   {
    "duration": 3,
    "start_time": "2024-06-04T06:00:40.097Z"
   },
   {
    "duration": 143,
    "start_time": "2024-06-04T06:00:40.451Z"
   },
   {
    "duration": 17,
    "start_time": "2024-06-04T06:00:41.300Z"
   },
   {
    "duration": 14,
    "start_time": "2024-06-04T06:00:47.422Z"
   },
   {
    "duration": 2,
    "start_time": "2024-06-04T06:01:30.258Z"
   },
   {
    "duration": 132,
    "start_time": "2024-06-04T06:01:30.422Z"
   },
   {
    "duration": 20,
    "start_time": "2024-06-04T06:01:30.795Z"
   },
   {
    "duration": 11,
    "start_time": "2024-06-04T06:01:31.271Z"
   },
   {
    "duration": 7,
    "start_time": "2024-06-04T06:01:39.255Z"
   },
   {
    "duration": 5,
    "start_time": "2024-06-04T06:01:41.465Z"
   },
   {
    "duration": 7,
    "start_time": "2024-06-04T06:01:53.576Z"
   },
   {
    "duration": 7,
    "start_time": "2024-06-04T06:02:08.084Z"
   },
   {
    "duration": 8,
    "start_time": "2024-06-04T06:02:23.057Z"
   },
   {
    "duration": 4,
    "start_time": "2024-06-04T06:02:42.510Z"
   },
   {
    "duration": 14,
    "start_time": "2024-06-04T06:02:46.349Z"
   },
   {
    "duration": 7,
    "start_time": "2024-06-04T06:02:56.846Z"
   },
   {
    "duration": 3,
    "start_time": "2024-06-04T06:03:07.864Z"
   },
   {
    "duration": 135,
    "start_time": "2024-06-04T06:03:08.208Z"
   },
   {
    "duration": 20,
    "start_time": "2024-06-04T06:03:08.838Z"
   },
   {
    "duration": 17,
    "start_time": "2024-06-04T06:03:10.844Z"
   },
   {
    "duration": 7,
    "start_time": "2024-06-04T06:03:39.594Z"
   },
   {
    "duration": 8,
    "start_time": "2024-06-04T06:03:50.978Z"
   },
   {
    "duration": 3,
    "start_time": "2024-06-04T06:04:37.703Z"
   },
   {
    "duration": 142,
    "start_time": "2024-06-04T06:04:37.919Z"
   },
   {
    "duration": 15,
    "start_time": "2024-06-04T06:04:38.097Z"
   },
   {
    "duration": 11,
    "start_time": "2024-06-04T06:04:38.311Z"
   },
   {
    "duration": 10,
    "start_time": "2024-06-04T06:04:38.841Z"
   },
   {
    "duration": 18,
    "start_time": "2024-06-04T06:04:39.160Z"
   },
   {
    "duration": 7,
    "start_time": "2024-06-04T06:04:40.274Z"
   },
   {
    "duration": 9,
    "start_time": "2024-06-04T06:04:41.029Z"
   },
   {
    "duration": 2,
    "start_time": "2024-06-04T06:05:53.130Z"
   },
   {
    "duration": 129,
    "start_time": "2024-06-04T06:05:53.353Z"
   },
   {
    "duration": 20,
    "start_time": "2024-06-04T06:05:53.534Z"
   },
   {
    "duration": 12,
    "start_time": "2024-06-04T06:05:53.726Z"
   },
   {
    "duration": 9,
    "start_time": "2024-06-04T06:05:54.139Z"
   },
   {
    "duration": 15,
    "start_time": "2024-06-04T06:05:54.387Z"
   },
   {
    "duration": 9,
    "start_time": "2024-06-04T06:05:55.659Z"
   },
   {
    "duration": 9,
    "start_time": "2024-06-04T06:05:56.595Z"
   },
   {
    "duration": 13,
    "start_time": "2024-06-04T06:05:57.166Z"
   },
   {
    "duration": 5,
    "start_time": "2024-06-04T06:05:58.031Z"
   },
   {
    "duration": 6,
    "start_time": "2024-06-04T06:05:58.471Z"
   },
   {
    "duration": 2,
    "start_time": "2024-06-04T06:07:00.255Z"
   },
   {
    "duration": 146,
    "start_time": "2024-06-04T06:07:00.426Z"
   },
   {
    "duration": 18,
    "start_time": "2024-06-04T06:07:00.601Z"
   },
   {
    "duration": 10,
    "start_time": "2024-06-04T06:07:00.806Z"
   },
   {
    "duration": 8,
    "start_time": "2024-06-04T06:07:01.002Z"
   },
   {
    "duration": 17,
    "start_time": "2024-06-04T06:07:01.178Z"
   },
   {
    "duration": 6,
    "start_time": "2024-06-04T06:07:01.587Z"
   },
   {
    "duration": 8,
    "start_time": "2024-06-04T06:07:02.138Z"
   },
   {
    "duration": 32,
    "start_time": "2024-06-04T06:07:02.837Z"
   },
   {
    "duration": 5,
    "start_time": "2024-06-04T06:07:03.509Z"
   },
   {
    "duration": 1813,
    "start_time": "2024-06-04T06:07:03.807Z"
   },
   {
    "duration": 15,
    "start_time": "2024-06-04T06:07:30.687Z"
   },
   {
    "duration": 5,
    "start_time": "2024-06-04T06:07:32.110Z"
   },
   {
    "duration": 8,
    "start_time": "2024-06-04T06:07:32.630Z"
   },
   {
    "duration": 16,
    "start_time": "2024-06-04T06:07:52.450Z"
   },
   {
    "duration": 17,
    "start_time": "2024-06-04T06:07:56.500Z"
   },
   {
    "duration": 17,
    "start_time": "2024-06-04T06:10:03.791Z"
   },
   {
    "duration": 3,
    "start_time": "2024-06-04T06:11:06.678Z"
   },
   {
    "duration": 126,
    "start_time": "2024-06-04T06:11:06.914Z"
   },
   {
    "duration": 16,
    "start_time": "2024-06-04T06:11:07.262Z"
   },
   {
    "duration": 13,
    "start_time": "2024-06-04T06:11:07.709Z"
   },
   {
    "duration": 7,
    "start_time": "2024-06-04T06:11:08.031Z"
   },
   {
    "duration": 924,
    "start_time": "2024-06-04T06:11:08.976Z"
   },
   {
    "duration": 3,
    "start_time": "2024-06-04T06:13:57.353Z"
   },
   {
    "duration": 134,
    "start_time": "2024-06-04T06:13:57.571Z"
   },
   {
    "duration": 17,
    "start_time": "2024-06-04T06:13:57.754Z"
   },
   {
    "duration": 11,
    "start_time": "2024-06-04T06:13:57.939Z"
   },
   {
    "duration": 8,
    "start_time": "2024-06-04T06:13:58.114Z"
   },
   {
    "duration": 54,
    "start_time": "2024-06-04T06:13:58.621Z"
   },
   {
    "duration": 871,
    "start_time": "2024-06-04T06:14:11.121Z"
   },
   {
    "duration": 5,
    "start_time": "2024-06-04T06:14:43.620Z"
   },
   {
    "duration": 11,
    "start_time": "2024-06-04T06:15:03.125Z"
   },
   {
    "duration": 7,
    "start_time": "2024-06-04T06:15:08.013Z"
   },
   {
    "duration": 11,
    "start_time": "2024-06-04T06:15:11.823Z"
   },
   {
    "duration": 5,
    "start_time": "2024-06-04T06:15:12.693Z"
   },
   {
    "duration": 6,
    "start_time": "2024-06-04T06:15:13.226Z"
   },
   {
    "duration": 16,
    "start_time": "2024-06-04T06:29:49.464Z"
   },
   {
    "duration": 21,
    "start_time": "2024-06-04T06:31:24.988Z"
   },
   {
    "duration": 17,
    "start_time": "2024-06-04T06:31:44.066Z"
   },
   {
    "duration": 17,
    "start_time": "2024-06-04T06:32:01.226Z"
   },
   {
    "duration": 12,
    "start_time": "2024-06-04T06:36:37.819Z"
   },
   {
    "duration": 9,
    "start_time": "2024-06-04T06:36:58.943Z"
   },
   {
    "duration": 8,
    "start_time": "2024-06-04T06:37:12.371Z"
   },
   {
    "duration": 15,
    "start_time": "2024-06-04T06:37:59.328Z"
   },
   {
    "duration": 10,
    "start_time": "2024-06-04T06:38:34.811Z"
   },
   {
    "duration": 24,
    "start_time": "2024-06-04T06:38:44.820Z"
   },
   {
    "duration": 18,
    "start_time": "2024-06-04T11:36:44.592Z"
   },
   {
    "duration": 14,
    "start_time": "2024-06-04T11:36:50.973Z"
   },
   {
    "duration": 9,
    "start_time": "2024-06-04T11:37:48.713Z"
   },
   {
    "duration": 7,
    "start_time": "2024-06-04T11:38:00.124Z"
   },
   {
    "duration": 16,
    "start_time": "2024-06-04T11:44:34.086Z"
   },
   {
    "duration": 6,
    "start_time": "2024-06-04T12:48:50.955Z"
   },
   {
    "duration": 5,
    "start_time": "2024-06-04T12:50:10.561Z"
   },
   {
    "duration": 7,
    "start_time": "2024-06-04T12:51:06.570Z"
   },
   {
    "duration": 14,
    "start_time": "2024-06-04T12:52:32.015Z"
   },
   {
    "duration": 16,
    "start_time": "2024-06-04T12:52:47.742Z"
   },
   {
    "duration": 27,
    "start_time": "2024-06-04T12:53:18.597Z"
   },
   {
    "duration": 15,
    "start_time": "2024-06-04T12:53:55.816Z"
   },
   {
    "duration": 9,
    "start_time": "2024-06-04T12:54:02.626Z"
   },
   {
    "duration": 722,
    "start_time": "2024-06-04T12:54:34.841Z"
   },
   {
    "duration": 3,
    "start_time": "2024-06-04T12:54:40.567Z"
   },
   {
    "duration": 134,
    "start_time": "2024-06-04T12:54:40.777Z"
   },
   {
    "duration": 16,
    "start_time": "2024-06-04T12:54:40.960Z"
   },
   {
    "duration": 11,
    "start_time": "2024-06-04T12:54:41.114Z"
   },
   {
    "duration": 11,
    "start_time": "2024-06-04T12:54:41.540Z"
   },
   {
    "duration": 12,
    "start_time": "2024-06-04T12:54:41.728Z"
   },
   {
    "duration": 21,
    "start_time": "2024-06-04T12:54:41.938Z"
   },
   {
    "duration": 4,
    "start_time": "2024-06-04T12:54:42.435Z"
   },
   {
    "duration": 6,
    "start_time": "2024-06-04T12:54:42.885Z"
   },
   {
    "duration": 15,
    "start_time": "2024-06-04T12:54:43.172Z"
   },
   {
    "duration": 7,
    "start_time": "2024-06-04T12:54:46.242Z"
   },
   {
    "duration": 24,
    "start_time": "2024-06-04T12:54:46.661Z"
   },
   {
    "duration": 24,
    "start_time": "2024-06-04T12:54:47.836Z"
   },
   {
    "duration": 449,
    "start_time": "2024-06-04T12:58:46.244Z"
   },
   {
    "duration": 8,
    "start_time": "2024-06-04T12:59:02.313Z"
   },
   {
    "duration": 16,
    "start_time": "2024-06-04T12:59:09.234Z"
   },
   {
    "duration": 73,
    "start_time": "2024-06-04T12:59:40.339Z"
   },
   {
    "duration": 15,
    "start_time": "2024-06-04T12:59:41.501Z"
   },
   {
    "duration": 3,
    "start_time": "2024-06-04T12:59:53.190Z"
   },
   {
    "duration": 129,
    "start_time": "2024-06-04T12:59:53.399Z"
   },
   {
    "duration": 17,
    "start_time": "2024-06-04T12:59:53.604Z"
   },
   {
    "duration": 11,
    "start_time": "2024-06-04T12:59:53.782Z"
   },
   {
    "duration": 5,
    "start_time": "2024-06-04T12:59:54.148Z"
   },
   {
    "duration": 12,
    "start_time": "2024-06-04T12:59:54.347Z"
   },
   {
    "duration": 12,
    "start_time": "2024-06-04T12:59:54.518Z"
   },
   {
    "duration": 5,
    "start_time": "2024-06-04T12:59:54.661Z"
   },
   {
    "duration": 5,
    "start_time": "2024-06-04T12:59:54.881Z"
   },
   {
    "duration": 15,
    "start_time": "2024-06-04T12:59:55.086Z"
   },
   {
    "duration": 6,
    "start_time": "2024-06-04T12:59:56.871Z"
   },
   {
    "duration": 19,
    "start_time": "2024-06-04T12:59:57.343Z"
   },
   {
    "duration": 9,
    "start_time": "2024-06-04T12:59:57.858Z"
   },
   {
    "duration": 16,
    "start_time": "2024-06-04T12:59:58.830Z"
   },
   {
    "duration": 46,
    "start_time": "2024-06-06T03:15:44.453Z"
   },
   {
    "duration": 356,
    "start_time": "2024-06-06T03:15:51.008Z"
   },
   {
    "duration": 219,
    "start_time": "2024-06-06T03:15:51.366Z"
   },
   {
    "duration": 13,
    "start_time": "2024-06-06T03:15:51.586Z"
   },
   {
    "duration": 17,
    "start_time": "2024-06-06T03:15:51.601Z"
   },
   {
    "duration": 18,
    "start_time": "2024-06-06T03:15:51.621Z"
   },
   {
    "duration": 27,
    "start_time": "2024-06-06T03:15:51.640Z"
   },
   {
    "duration": 14,
    "start_time": "2024-06-06T03:15:51.669Z"
   },
   {
    "duration": 4,
    "start_time": "2024-06-06T03:15:51.684Z"
   },
   {
    "duration": 15,
    "start_time": "2024-06-06T03:15:51.690Z"
   },
   {
    "duration": 12,
    "start_time": "2024-06-06T03:15:51.707Z"
   },
   {
    "duration": 4,
    "start_time": "2024-06-06T03:15:51.720Z"
   },
   {
    "duration": 32,
    "start_time": "2024-06-06T03:15:51.725Z"
   },
   {
    "duration": 6,
    "start_time": "2024-06-06T03:15:51.759Z"
   },
   {
    "duration": 45,
    "start_time": "2024-06-06T03:15:51.767Z"
   },
   {
    "duration": 21,
    "start_time": "2024-06-06T03:15:51.813Z"
   },
   {
    "duration": 60,
    "start_time": "2024-06-06T03:21:43.679Z"
   },
   {
    "duration": 16,
    "start_time": "2024-06-06T03:21:48.163Z"
   },
   {
    "duration": 8,
    "start_time": "2024-06-06T03:28:19.097Z"
   },
   {
    "duration": 18,
    "start_time": "2024-06-06T03:28:25.736Z"
   },
   {
    "duration": 11,
    "start_time": "2024-06-06T03:28:34.118Z"
   },
   {
    "duration": 17,
    "start_time": "2024-06-06T03:28:38.819Z"
   },
   {
    "duration": 7,
    "start_time": "2024-06-06T03:29:21.487Z"
   },
   {
    "duration": 18,
    "start_time": "2024-06-06T03:30:27.775Z"
   },
   {
    "duration": 4,
    "start_time": "2024-06-06T03:47:22.042Z"
   },
   {
    "duration": 10,
    "start_time": "2024-06-06T03:47:24.425Z"
   },
   {
    "duration": 13,
    "start_time": "2024-06-06T03:48:50.520Z"
   },
   {
    "duration": 12,
    "start_time": "2024-06-06T03:50:45.669Z"
   },
   {
    "duration": 13,
    "start_time": "2024-06-06T03:50:51.978Z"
   },
   {
    "duration": 4,
    "start_time": "2024-06-06T03:51:45.353Z"
   },
   {
    "duration": 4,
    "start_time": "2024-06-06T03:52:01.599Z"
   },
   {
    "duration": 3,
    "start_time": "2024-06-06T03:52:49.841Z"
   },
   {
    "duration": 17,
    "start_time": "2024-06-06T03:53:48.076Z"
   },
   {
    "duration": 3,
    "start_time": "2024-06-06T03:56:08.041Z"
   },
   {
    "duration": 10,
    "start_time": "2024-06-06T03:56:08.731Z"
   },
   {
    "duration": 20,
    "start_time": "2024-06-06T03:57:40.016Z"
   },
   {
    "duration": 7,
    "start_time": "2024-06-06T03:58:12.690Z"
   },
   {
    "duration": 20,
    "start_time": "2024-06-06T03:58:28.018Z"
   },
   {
    "duration": 4,
    "start_time": "2024-06-06T04:00:10.288Z"
   },
   {
    "duration": 94,
    "start_time": "2024-06-07T03:40:00.954Z"
   },
   {
    "duration": 43,
    "start_time": "2024-06-07T03:40:07.180Z"
   },
   {
    "duration": 392,
    "start_time": "2024-06-07T03:40:47.216Z"
   },
   {
    "duration": 229,
    "start_time": "2024-06-07T03:40:47.610Z"
   },
   {
    "duration": 18,
    "start_time": "2024-06-07T03:40:47.841Z"
   },
   {
    "duration": 10,
    "start_time": "2024-06-07T03:40:47.860Z"
   },
   {
    "duration": 23,
    "start_time": "2024-06-07T03:40:47.873Z"
   },
   {
    "duration": 21,
    "start_time": "2024-06-07T03:40:47.898Z"
   },
   {
    "duration": 16,
    "start_time": "2024-06-07T03:40:47.920Z"
   },
   {
    "duration": 5,
    "start_time": "2024-06-07T03:40:47.937Z"
   },
   {
    "duration": 11,
    "start_time": "2024-06-07T03:40:47.944Z"
   },
   {
    "duration": 26,
    "start_time": "2024-06-07T03:40:47.957Z"
   },
   {
    "duration": 6,
    "start_time": "2024-06-07T03:40:47.984Z"
   },
   {
    "duration": 22,
    "start_time": "2024-06-07T03:40:47.992Z"
   },
   {
    "duration": 7,
    "start_time": "2024-06-07T03:40:48.015Z"
   },
   {
    "duration": 14,
    "start_time": "2024-06-07T03:40:48.025Z"
   },
   {
    "duration": 9,
    "start_time": "2024-06-07T03:40:48.041Z"
   },
   {
    "duration": 34,
    "start_time": "2024-06-07T03:40:48.051Z"
   },
   {
    "duration": 20,
    "start_time": "2024-06-07T03:40:48.086Z"
   },
   {
    "duration": 18,
    "start_time": "2024-06-07T03:40:48.107Z"
   },
   {
    "duration": 5,
    "start_time": "2024-06-07T03:40:48.126Z"
   },
   {
    "duration": 5,
    "start_time": "2024-06-07T03:40:48.132Z"
   },
   {
    "duration": 12,
    "start_time": "2024-06-07T03:40:48.139Z"
   },
   {
    "duration": 33,
    "start_time": "2024-06-07T03:40:48.153Z"
   },
   {
    "duration": 14,
    "start_time": "2024-06-07T03:40:48.188Z"
   },
   {
    "duration": 15,
    "start_time": "2024-06-07T03:41:08.839Z"
   },
   {
    "duration": 374,
    "start_time": "2024-06-07T03:41:44.025Z"
   },
   {
    "duration": 130,
    "start_time": "2024-06-07T03:41:44.401Z"
   },
   {
    "duration": 19,
    "start_time": "2024-06-07T03:41:44.533Z"
   },
   {
    "duration": 11,
    "start_time": "2024-06-07T03:41:44.555Z"
   },
   {
    "duration": 13,
    "start_time": "2024-06-07T03:41:44.568Z"
   },
   {
    "duration": 22,
    "start_time": "2024-06-07T03:41:44.582Z"
   },
   {
    "duration": 13,
    "start_time": "2024-06-07T03:41:44.606Z"
   },
   {
    "duration": 5,
    "start_time": "2024-06-07T03:41:44.621Z"
   },
   {
    "duration": 6,
    "start_time": "2024-06-07T03:41:44.628Z"
   },
   {
    "duration": 24,
    "start_time": "2024-06-07T03:41:44.636Z"
   },
   {
    "duration": 4,
    "start_time": "2024-06-07T03:41:44.683Z"
   },
   {
    "duration": 20,
    "start_time": "2024-06-07T03:41:44.689Z"
   },
   {
    "duration": 7,
    "start_time": "2024-06-07T03:41:44.711Z"
   },
   {
    "duration": 15,
    "start_time": "2024-06-07T03:41:44.719Z"
   },
   {
    "duration": 11,
    "start_time": "2024-06-07T03:41:44.736Z"
   },
   {
    "duration": 35,
    "start_time": "2024-06-07T03:41:44.748Z"
   },
   {
    "duration": 14,
    "start_time": "2024-06-07T03:41:44.785Z"
   },
   {
    "duration": 18,
    "start_time": "2024-06-07T03:41:44.800Z"
   },
   {
    "duration": 8,
    "start_time": "2024-06-07T03:41:44.819Z"
   },
   {
    "duration": 5,
    "start_time": "2024-06-07T03:41:44.829Z"
   },
   {
    "duration": 18,
    "start_time": "2024-06-07T03:41:44.836Z"
   },
   {
    "duration": 27,
    "start_time": "2024-06-07T03:41:44.856Z"
   },
   {
    "duration": 62,
    "start_time": "2024-06-07T03:41:44.885Z"
   },
   {
    "duration": 0,
    "start_time": "2024-06-07T03:41:44.949Z"
   },
   {
    "duration": 27,
    "start_time": "2024-06-07T03:42:43.056Z"
   },
   {
    "duration": 29,
    "start_time": "2024-06-07T03:42:56.712Z"
   },
   {
    "duration": 8,
    "start_time": "2024-06-07T03:43:39.704Z"
   },
   {
    "duration": 6,
    "start_time": "2024-06-07T03:44:36.441Z"
   },
   {
    "duration": 17,
    "start_time": "2024-06-07T03:44:50.349Z"
   },
   {
    "duration": 11,
    "start_time": "2024-06-07T03:47:19.004Z"
   },
   {
    "duration": 6,
    "start_time": "2024-06-07T03:47:19.528Z"
   },
   {
    "duration": 16,
    "start_time": "2024-06-07T03:47:19.847Z"
   },
   {
    "duration": 18,
    "start_time": "2024-06-07T03:47:25.267Z"
   },
   {
    "duration": 447,
    "start_time": "2024-06-07T03:47:39.473Z"
   },
   {
    "duration": 139,
    "start_time": "2024-06-07T03:47:39.922Z"
   },
   {
    "duration": 24,
    "start_time": "2024-06-07T03:47:40.063Z"
   },
   {
    "duration": 53,
    "start_time": "2024-06-07T03:47:40.089Z"
   },
   {
    "duration": 6,
    "start_time": "2024-06-07T03:47:40.144Z"
   },
   {
    "duration": 16,
    "start_time": "2024-06-07T03:47:40.152Z"
   },
   {
    "duration": 10,
    "start_time": "2024-06-07T03:47:40.169Z"
   },
   {
    "duration": 6,
    "start_time": "2024-06-07T03:47:40.181Z"
   },
   {
    "duration": 5,
    "start_time": "2024-06-07T03:47:40.188Z"
   },
   {
    "duration": 26,
    "start_time": "2024-06-07T03:47:40.195Z"
   },
   {
    "duration": 5,
    "start_time": "2024-06-07T03:47:40.223Z"
   },
   {
    "duration": 18,
    "start_time": "2024-06-07T03:47:40.229Z"
   },
   {
    "duration": 7,
    "start_time": "2024-06-07T03:47:40.248Z"
   },
   {
    "duration": 38,
    "start_time": "2024-06-07T03:47:40.256Z"
   },
   {
    "duration": 13,
    "start_time": "2024-06-07T03:47:40.296Z"
   },
   {
    "duration": 6,
    "start_time": "2024-06-07T03:47:40.310Z"
   },
   {
    "duration": 14,
    "start_time": "2024-06-07T03:47:40.317Z"
   },
   {
    "duration": 17,
    "start_time": "2024-06-07T03:47:40.333Z"
   },
   {
    "duration": 30,
    "start_time": "2024-06-07T03:47:40.352Z"
   },
   {
    "duration": 15,
    "start_time": "2024-06-07T03:47:40.384Z"
   },
   {
    "duration": 28,
    "start_time": "2024-06-07T03:47:40.401Z"
   },
   {
    "duration": 9,
    "start_time": "2024-06-07T03:47:40.431Z"
   },
   {
    "duration": 18,
    "start_time": "2024-06-07T03:47:40.442Z"
   },
   {
    "duration": 7,
    "start_time": "2024-06-07T03:47:40.462Z"
   },
   {
    "duration": 19,
    "start_time": "2024-06-07T03:47:40.471Z"
   },
   {
    "duration": 371,
    "start_time": "2024-06-09T02:50:42.419Z"
   },
   {
    "duration": 236,
    "start_time": "2024-06-09T02:50:42.792Z"
   },
   {
    "duration": 16,
    "start_time": "2024-06-09T02:50:43.190Z"
   },
   {
    "duration": 10,
    "start_time": "2024-06-09T02:50:45.762Z"
   },
   {
    "duration": 5,
    "start_time": "2024-06-09T02:51:10.210Z"
   },
   {
    "duration": 18,
    "start_time": "2024-06-09T02:51:10.768Z"
   },
   {
    "duration": 13,
    "start_time": "2024-06-09T02:51:27.275Z"
   },
   {
    "duration": 5,
    "start_time": "2024-06-09T02:51:27.955Z"
   },
   {
    "duration": 6,
    "start_time": "2024-06-09T02:51:30.175Z"
   },
   {
    "duration": 21,
    "start_time": "2024-06-09T02:51:42.705Z"
   },
   {
    "duration": 24,
    "start_time": "2024-06-09T02:52:14.901Z"
   },
   {
    "duration": 5,
    "start_time": "2024-06-09T02:52:42.632Z"
   },
   {
    "duration": 5,
    "start_time": "2024-06-09T02:53:39.493Z"
   },
   {
    "duration": 20,
    "start_time": "2024-06-09T02:56:26.185Z"
   },
   {
    "duration": 11,
    "start_time": "2024-06-09T02:56:35.719Z"
   },
   {
    "duration": 4,
    "start_time": "2024-06-09T02:56:36.650Z"
   },
   {
    "duration": 17,
    "start_time": "2024-06-09T02:56:36.944Z"
   },
   {
    "duration": 18,
    "start_time": "2024-06-09T02:56:37.489Z"
   },
   {
    "duration": 5,
    "start_time": "2024-06-09T02:56:37.873Z"
   },
   {
    "duration": 4,
    "start_time": "2024-06-09T02:56:38.481Z"
   },
   {
    "duration": 13,
    "start_time": "2024-06-09T02:56:38.601Z"
   },
   {
    "duration": 5,
    "start_time": "2024-06-09T02:56:39.221Z"
   },
   {
    "duration": 9,
    "start_time": "2024-06-09T02:56:40.222Z"
   },
   {
    "duration": 7,
    "start_time": "2024-06-09T02:56:40.268Z"
   },
   {
    "duration": 24,
    "start_time": "2024-06-09T02:56:41.399Z"
   },
   {
    "duration": 15,
    "start_time": "2024-06-09T02:58:17.461Z"
   },
   {
    "duration": 583,
    "start_time": "2024-06-09T02:58:36.202Z"
   },
   {
    "duration": 14,
    "start_time": "2024-06-09T02:58:46.061Z"
   },
   {
    "duration": 15,
    "start_time": "2024-06-09T03:00:05.688Z"
   },
   {
    "duration": 16,
    "start_time": "2024-06-09T03:00:33.108Z"
   },
   {
    "duration": 14,
    "start_time": "2024-06-09T03:00:44.708Z"
   },
   {
    "duration": 25,
    "start_time": "2024-06-09T03:05:15.758Z"
   },
   {
    "duration": 20,
    "start_time": "2024-06-09T03:05:31.710Z"
   },
   {
    "duration": 6,
    "start_time": "2024-06-09T03:05:41.598Z"
   },
   {
    "duration": 27,
    "start_time": "2024-06-09T03:08:37.418Z"
   },
   {
    "duration": 21,
    "start_time": "2024-06-09T03:09:45.432Z"
   },
   {
    "duration": 16,
    "start_time": "2024-06-09T03:10:10.148Z"
   },
   {
    "duration": 10,
    "start_time": "2024-06-09T03:11:39.257Z"
   },
   {
    "duration": 9,
    "start_time": "2024-06-09T03:12:09.762Z"
   },
   {
    "duration": 12,
    "start_time": "2024-06-09T03:13:35.797Z"
   },
   {
    "duration": 16,
    "start_time": "2024-06-09T03:14:31.578Z"
   },
   {
    "duration": 25,
    "start_time": "2024-06-09T03:14:44.766Z"
   },
   {
    "duration": 10,
    "start_time": "2024-06-09T03:23:30.652Z"
   },
   {
    "duration": 71,
    "start_time": "2024-06-09T03:23:32.987Z"
   },
   {
    "duration": 10,
    "start_time": "2024-06-09T03:25:05.256Z"
   },
   {
    "duration": 39,
    "start_time": "2024-06-09T03:26:07.394Z"
   },
   {
    "duration": 10,
    "start_time": "2024-06-09T03:26:44.986Z"
   },
   {
    "duration": 13,
    "start_time": "2024-06-09T03:30:37.561Z"
   },
   {
    "duration": 15,
    "start_time": "2024-06-09T03:31:16.464Z"
   },
   {
    "duration": 15,
    "start_time": "2024-06-09T03:31:39.497Z"
   },
   {
    "duration": 16,
    "start_time": "2024-06-09T03:32:00.810Z"
   },
   {
    "duration": 9,
    "start_time": "2024-06-09T03:32:51.900Z"
   },
   {
    "duration": 14,
    "start_time": "2024-06-09T03:34:13.908Z"
   },
   {
    "duration": 2,
    "start_time": "2024-06-09T03:37:55.201Z"
   },
   {
    "duration": 125,
    "start_time": "2024-06-09T03:37:55.391Z"
   },
   {
    "duration": 16,
    "start_time": "2024-06-09T03:37:55.617Z"
   },
   {
    "duration": 11,
    "start_time": "2024-06-09T03:37:55.807Z"
   },
   {
    "duration": 5,
    "start_time": "2024-06-09T03:37:56.250Z"
   },
   {
    "duration": 12,
    "start_time": "2024-06-09T03:37:56.446Z"
   },
   {
    "duration": 13,
    "start_time": "2024-06-09T03:37:56.626Z"
   },
   {
    "duration": 5,
    "start_time": "2024-06-09T03:37:56.906Z"
   },
   {
    "duration": 6,
    "start_time": "2024-06-09T03:37:57.012Z"
   },
   {
    "duration": 23,
    "start_time": "2024-06-09T03:37:57.178Z"
   },
   {
    "duration": 5,
    "start_time": "2024-06-09T03:37:58.437Z"
   },
   {
    "duration": 31,
    "start_time": "2024-06-09T03:37:58.742Z"
   },
   {
    "duration": 9,
    "start_time": "2024-06-09T03:37:58.929Z"
   },
   {
    "duration": 18,
    "start_time": "2024-06-09T03:53:15.367Z"
   },
   {
    "duration": 10,
    "start_time": "2024-06-09T03:54:38.913Z"
   },
   {
    "duration": 8,
    "start_time": "2024-06-09T03:55:23.876Z"
   },
   {
    "duration": 5,
    "start_time": "2024-06-09T03:56:02.312Z"
   },
   {
    "duration": 5,
    "start_time": "2024-06-09T03:56:11.792Z"
   },
   {
    "duration": 6,
    "start_time": "2024-06-09T03:56:22.939Z"
   },
   {
    "duration": 9,
    "start_time": "2024-06-09T03:56:48.694Z"
   },
   {
    "duration": 12,
    "start_time": "2024-06-09T03:57:48.195Z"
   },
   {
    "duration": 27,
    "start_time": "2024-06-09T03:57:49.063Z"
   },
   {
    "duration": 15,
    "start_time": "2024-06-09T03:58:49.625Z"
   },
   {
    "duration": 2,
    "start_time": "2024-06-09T03:59:14.495Z"
   },
   {
    "duration": 126,
    "start_time": "2024-06-09T03:59:14.734Z"
   },
   {
    "duration": 16,
    "start_time": "2024-06-09T03:59:14.871Z"
   },
   {
    "duration": 11,
    "start_time": "2024-06-09T03:59:15.060Z"
   },
   {
    "duration": 6,
    "start_time": "2024-06-09T03:59:15.389Z"
   },
   {
    "duration": 11,
    "start_time": "2024-06-09T03:59:15.550Z"
   },
   {
    "duration": 11,
    "start_time": "2024-06-09T03:59:15.702Z"
   },
   {
    "duration": 5,
    "start_time": "2024-06-09T03:59:15.862Z"
   },
   {
    "duration": 6,
    "start_time": "2024-06-09T03:59:16.049Z"
   },
   {
    "duration": 23,
    "start_time": "2024-06-09T03:59:16.202Z"
   },
   {
    "duration": 7,
    "start_time": "2024-06-09T03:59:19.721Z"
   },
   {
    "duration": 18,
    "start_time": "2024-06-09T03:59:20.319Z"
   },
   {
    "duration": 9,
    "start_time": "2024-06-09T03:59:23.141Z"
   },
   {
    "duration": 5,
    "start_time": "2024-06-09T03:59:38.088Z"
   },
   {
    "duration": 8,
    "start_time": "2024-06-09T04:07:28.577Z"
   },
   {
    "duration": 6,
    "start_time": "2024-06-09T04:15:13.876Z"
   },
   {
    "duration": 4,
    "start_time": "2024-06-09T04:15:20.767Z"
   },
   {
    "duration": 284,
    "start_time": "2024-06-09T04:15:39.790Z"
   },
   {
    "duration": 234,
    "start_time": "2024-06-09T04:16:05.878Z"
   },
   {
    "duration": 7,
    "start_time": "2024-06-09T04:17:35.995Z"
   },
   {
    "duration": 7,
    "start_time": "2024-06-09T04:17:37.214Z"
   },
   {
    "duration": 4,
    "start_time": "2024-06-09T04:18:48.056Z"
   },
   {
    "duration": 7,
    "start_time": "2024-06-09T04:18:54.984Z"
   },
   {
    "duration": 6,
    "start_time": "2024-06-09T04:22:18.505Z"
   },
   {
    "duration": 6,
    "start_time": "2024-06-09T04:22:19.814Z"
   },
   {
    "duration": 9,
    "start_time": "2024-06-09T04:27:19.375Z"
   },
   {
    "duration": 5,
    "start_time": "2024-06-09T04:27:28.380Z"
   },
   {
    "duration": 11,
    "start_time": "2024-06-09T04:31:05.217Z"
   },
   {
    "duration": 15,
    "start_time": "2024-06-09T04:31:06.255Z"
   },
   {
    "duration": 8,
    "start_time": "2024-06-09T04:31:43.275Z"
   },
   {
    "duration": 379,
    "start_time": "2024-06-09T04:32:04.217Z"
   },
   {
    "duration": 136,
    "start_time": "2024-06-09T04:32:04.598Z"
   },
   {
    "duration": 17,
    "start_time": "2024-06-09T04:32:04.735Z"
   },
   {
    "duration": 10,
    "start_time": "2024-06-09T04:32:04.754Z"
   },
   {
    "duration": 8,
    "start_time": "2024-06-09T04:32:04.766Z"
   },
   {
    "duration": 18,
    "start_time": "2024-06-09T04:32:04.775Z"
   },
   {
    "duration": 12,
    "start_time": "2024-06-09T04:32:04.795Z"
   },
   {
    "duration": 57,
    "start_time": "2024-06-09T04:32:04.809Z"
   },
   {
    "duration": 42,
    "start_time": "2024-06-09T04:32:04.868Z"
   },
   {
    "duration": 33,
    "start_time": "2024-06-09T04:32:04.912Z"
   },
   {
    "duration": 4,
    "start_time": "2024-06-09T04:32:04.947Z"
   },
   {
    "duration": 24,
    "start_time": "2024-06-09T04:32:04.953Z"
   },
   {
    "duration": 8,
    "start_time": "2024-06-09T04:32:04.978Z"
   },
   {
    "duration": 33,
    "start_time": "2024-06-09T04:32:04.990Z"
   },
   {
    "duration": 24,
    "start_time": "2024-06-09T04:32:05.025Z"
   },
   {
    "duration": 26,
    "start_time": "2024-06-09T04:32:05.051Z"
   },
   {
    "duration": 23,
    "start_time": "2024-06-09T04:32:05.079Z"
   },
   {
    "duration": 18,
    "start_time": "2024-06-09T04:32:05.104Z"
   },
   {
    "duration": 16,
    "start_time": "2024-06-09T04:32:05.123Z"
   },
   {
    "duration": 25,
    "start_time": "2024-06-09T04:32:05.141Z"
   },
   {
    "duration": 5,
    "start_time": "2024-06-09T04:32:05.168Z"
   },
   {
    "duration": 24,
    "start_time": "2024-06-09T04:32:05.174Z"
   },
   {
    "duration": 22,
    "start_time": "2024-06-09T04:32:05.199Z"
   },
   {
    "duration": 8,
    "start_time": "2024-06-09T04:32:05.223Z"
   },
   {
    "duration": 18,
    "start_time": "2024-06-09T04:32:05.232Z"
   },
   {
    "duration": 29,
    "start_time": "2024-06-09T04:32:05.252Z"
   },
   {
    "duration": 11,
    "start_time": "2024-06-09T04:32:05.283Z"
   },
   {
    "duration": 25,
    "start_time": "2024-06-09T04:32:05.296Z"
   },
   {
    "duration": 24,
    "start_time": "2024-06-09T04:32:05.322Z"
   },
   {
    "duration": 18,
    "start_time": "2024-06-09T04:32:05.348Z"
   },
   {
    "duration": 11,
    "start_time": "2024-06-09T04:32:05.368Z"
   },
   {
    "duration": 28,
    "start_time": "2024-06-09T04:32:05.381Z"
   },
   {
    "duration": 141,
    "start_time": "2024-06-09T04:32:05.411Z"
   },
   {
    "duration": 0,
    "start_time": "2024-06-09T04:32:05.554Z"
   },
   {
    "duration": 0,
    "start_time": "2024-06-09T04:32:05.555Z"
   },
   {
    "duration": 0,
    "start_time": "2024-06-09T04:32:05.556Z"
   },
   {
    "duration": 2,
    "start_time": "2024-06-09T04:33:22.138Z"
   },
   {
    "duration": 126,
    "start_time": "2024-06-09T04:33:22.376Z"
   },
   {
    "duration": 17,
    "start_time": "2024-06-09T04:33:22.554Z"
   },
   {
    "duration": 10,
    "start_time": "2024-06-09T04:33:22.726Z"
   },
   {
    "duration": 5,
    "start_time": "2024-06-09T04:33:23.205Z"
   },
   {
    "duration": 13,
    "start_time": "2024-06-09T04:33:23.392Z"
   },
   {
    "duration": 13,
    "start_time": "2024-06-09T04:33:23.593Z"
   },
   {
    "duration": 5,
    "start_time": "2024-06-09T04:33:23.884Z"
   },
   {
    "duration": 5,
    "start_time": "2024-06-09T04:33:24.034Z"
   },
   {
    "duration": 23,
    "start_time": "2024-06-09T04:33:24.222Z"
   },
   {
    "duration": 4,
    "start_time": "2024-06-09T04:33:25.482Z"
   },
   {
    "duration": 18,
    "start_time": "2024-06-09T04:33:25.665Z"
   },
   {
    "duration": 8,
    "start_time": "2024-06-09T04:33:25.871Z"
   },
   {
    "duration": 6,
    "start_time": "2024-06-09T04:33:26.176Z"
   },
   {
    "duration": 7,
    "start_time": "2024-06-09T04:33:27.171Z"
   },
   {
    "duration": 6,
    "start_time": "2024-06-09T04:33:27.509Z"
   },
   {
    "duration": 5,
    "start_time": "2024-06-09T04:33:28.089Z"
   },
   {
    "duration": 5,
    "start_time": "2024-06-09T04:33:28.851Z"
   },
   {
    "duration": 5,
    "start_time": "2024-06-09T04:33:30.511Z"
   },
   {
    "duration": 10,
    "start_time": "2024-06-09T04:33:35.818Z"
   },
   {
    "duration": 5,
    "start_time": "2024-06-09T04:33:39.533Z"
   },
   {
    "duration": 16,
    "start_time": "2024-06-09T04:33:39.832Z"
   },
   {
    "duration": 19,
    "start_time": "2024-06-09T04:33:40.800Z"
   },
   {
    "duration": 4,
    "start_time": "2024-06-09T04:33:41.686Z"
   },
   {
    "duration": 5,
    "start_time": "2024-06-09T04:33:42.557Z"
   },
   {
    "duration": 14,
    "start_time": "2024-06-09T04:33:43.171Z"
   },
   {
    "duration": 5,
    "start_time": "2024-06-09T04:33:44.336Z"
   },
   {
    "duration": 9,
    "start_time": "2024-06-09T04:33:45.329Z"
   },
   {
    "duration": 8,
    "start_time": "2024-06-09T04:33:46.167Z"
   },
   {
    "duration": 13,
    "start_time": "2024-06-09T04:33:48.512Z"
   },
   {
    "duration": 6,
    "start_time": "2024-06-09T04:33:49.258Z"
   },
   {
    "duration": 27,
    "start_time": "2024-06-09T04:34:13.250Z"
   },
   {
    "duration": 13,
    "start_time": "2024-06-09T04:34:56.321Z"
   },
   {
    "duration": 15,
    "start_time": "2024-06-09T04:35:15.062Z"
   },
   {
    "duration": 32,
    "start_time": "2024-06-09T04:38:54.058Z"
   },
   {
    "duration": 24,
    "start_time": "2024-06-09T04:39:39.340Z"
   },
   {
    "duration": 23,
    "start_time": "2024-06-09T04:40:03.225Z"
   },
   {
    "duration": 11,
    "start_time": "2024-06-09T04:41:53.653Z"
   },
   {
    "duration": 4,
    "start_time": "2024-06-09T04:42:53.422Z"
   },
   {
    "duration": 22,
    "start_time": "2024-06-09T04:43:42.660Z"
   },
   {
    "duration": 11,
    "start_time": "2024-06-09T04:43:54.211Z"
   },
   {
    "duration": 25,
    "start_time": "2024-06-09T04:49:43.417Z"
   },
   {
    "duration": 18,
    "start_time": "2024-06-09T04:49:51.967Z"
   },
   {
    "duration": 10,
    "start_time": "2024-06-09T04:51:00.235Z"
   },
   {
    "duration": 9,
    "start_time": "2024-06-09T04:52:23.475Z"
   },
   {
    "duration": 24,
    "start_time": "2024-06-09T04:54:09.097Z"
   },
   {
    "duration": 62,
    "start_time": "2024-06-09T04:57:52.471Z"
   },
   {
    "duration": 75,
    "start_time": "2024-06-09T04:58:13.469Z"
   },
   {
    "duration": 18,
    "start_time": "2024-06-09T04:59:03.962Z"
   },
   {
    "duration": 14,
    "start_time": "2024-06-09T05:00:37.378Z"
   },
   {
    "duration": 12,
    "start_time": "2024-06-09T05:00:55.368Z"
   },
   {
    "duration": 652,
    "start_time": "2024-06-09T05:01:35.269Z"
   },
   {
    "duration": 11,
    "start_time": "2024-06-09T05:01:51.889Z"
   },
   {
    "duration": 756,
    "start_time": "2024-06-09T05:02:40.898Z"
   },
   {
    "duration": 19,
    "start_time": "2024-06-09T05:03:14.714Z"
   },
   {
    "duration": 6,
    "start_time": "2024-06-09T05:06:45.376Z"
   },
   {
    "duration": 4,
    "start_time": "2024-06-09T09:26:29.065Z"
   },
   {
    "duration": 60,
    "start_time": "2024-06-09T09:26:48.507Z"
   },
   {
    "duration": 442,
    "start_time": "2024-06-09T09:27:01.402Z"
   },
   {
    "duration": 377,
    "start_time": "2024-06-09T09:27:01.846Z"
   },
   {
    "duration": 17,
    "start_time": "2024-06-09T09:27:02.225Z"
   },
   {
    "duration": 47,
    "start_time": "2024-06-09T09:27:02.244Z"
   },
   {
    "duration": 6,
    "start_time": "2024-06-09T09:27:02.293Z"
   },
   {
    "duration": 59,
    "start_time": "2024-06-09T09:27:02.300Z"
   },
   {
    "duration": 18,
    "start_time": "2024-06-09T09:27:02.361Z"
   },
   {
    "duration": 14,
    "start_time": "2024-06-09T09:27:02.381Z"
   },
   {
    "duration": 20,
    "start_time": "2024-06-09T09:27:02.397Z"
   },
   {
    "duration": 42,
    "start_time": "2024-06-09T09:27:02.419Z"
   },
   {
    "duration": 9,
    "start_time": "2024-06-09T09:27:02.463Z"
   },
   {
    "duration": 27,
    "start_time": "2024-06-09T09:27:02.474Z"
   },
   {
    "duration": 9,
    "start_time": "2024-06-09T09:27:02.503Z"
   },
   {
    "duration": 30,
    "start_time": "2024-06-09T09:27:02.514Z"
   },
   {
    "duration": 9,
    "start_time": "2024-06-09T09:27:02.546Z"
   },
   {
    "duration": 7,
    "start_time": "2024-06-09T09:27:02.557Z"
   },
   {
    "duration": 51,
    "start_time": "2024-06-09T09:27:02.565Z"
   },
   {
    "duration": 27,
    "start_time": "2024-06-09T09:27:02.617Z"
   },
   {
    "duration": 26,
    "start_time": "2024-06-09T09:27:02.645Z"
   },
   {
    "duration": 16,
    "start_time": "2024-06-09T09:27:02.673Z"
   },
   {
    "duration": 7,
    "start_time": "2024-06-09T09:27:02.690Z"
   },
   {
    "duration": 27,
    "start_time": "2024-06-09T09:27:02.698Z"
   },
   {
    "duration": 20,
    "start_time": "2024-06-09T09:27:02.726Z"
   },
   {
    "duration": 22,
    "start_time": "2024-06-09T09:27:02.747Z"
   },
   {
    "duration": 10,
    "start_time": "2024-06-09T09:27:02.770Z"
   },
   {
    "duration": 23,
    "start_time": "2024-06-09T09:27:02.781Z"
   },
   {
    "duration": 11,
    "start_time": "2024-06-09T09:27:02.806Z"
   },
   {
    "duration": 32,
    "start_time": "2024-06-09T09:27:02.820Z"
   },
   {
    "duration": 108,
    "start_time": "2024-06-09T09:27:02.854Z"
   },
   {
    "duration": 40,
    "start_time": "2024-06-09T09:27:02.963Z"
   },
   {
    "duration": 46,
    "start_time": "2024-06-09T09:27:03.005Z"
   },
   {
    "duration": 46,
    "start_time": "2024-06-09T09:27:03.053Z"
   },
   {
    "duration": 82,
    "start_time": "2024-06-09T09:27:03.101Z"
   },
   {
    "duration": 192,
    "start_time": "2024-06-09T09:27:03.184Z"
   },
   {
    "duration": 123,
    "start_time": "2024-06-09T09:27:03.377Z"
   },
   {
    "duration": 36,
    "start_time": "2024-06-09T09:28:22.804Z"
   },
   {
    "duration": 87,
    "start_time": "2024-06-09T09:28:55.409Z"
   },
   {
    "duration": 40,
    "start_time": "2024-06-09T09:29:11.032Z"
   },
   {
    "duration": 27,
    "start_time": "2024-06-09T09:29:26.244Z"
   },
   {
    "duration": 40,
    "start_time": "2024-06-09T09:30:25.842Z"
   },
   {
    "duration": 21,
    "start_time": "2024-06-09T09:30:44.714Z"
   },
   {
    "duration": 19,
    "start_time": "2024-06-09T09:33:00.664Z"
   },
   {
    "duration": 18,
    "start_time": "2024-06-09T09:38:37.483Z"
   },
   {
    "duration": 14,
    "start_time": "2024-06-09T09:40:28.436Z"
   },
   {
    "duration": 18,
    "start_time": "2024-06-09T09:40:33.085Z"
   },
   {
    "duration": 19,
    "start_time": "2024-06-09T09:44:04.420Z"
   },
   {
    "duration": 35,
    "start_time": "2024-06-09T09:47:15.041Z"
   },
   {
    "duration": 14,
    "start_time": "2024-06-09T09:53:45.878Z"
   },
   {
    "duration": 27,
    "start_time": "2024-06-09T09:53:50.797Z"
   },
   {
    "duration": 3,
    "start_time": "2024-06-09T09:53:57.204Z"
   },
   {
    "duration": 8,
    "start_time": "2024-06-09T09:56:21.043Z"
   },
   {
    "duration": 430,
    "start_time": "2024-06-09T09:56:25.957Z"
   },
   {
    "duration": 124,
    "start_time": "2024-06-09T09:56:26.391Z"
   },
   {
    "duration": 16,
    "start_time": "2024-06-09T09:56:26.517Z"
   },
   {
    "duration": 11,
    "start_time": "2024-06-09T09:56:26.535Z"
   },
   {
    "duration": 13,
    "start_time": "2024-06-09T09:56:26.548Z"
   },
   {
    "duration": 34,
    "start_time": "2024-06-09T09:56:26.563Z"
   },
   {
    "duration": 17,
    "start_time": "2024-06-09T09:56:26.598Z"
   },
   {
    "duration": 11,
    "start_time": "2024-06-09T09:56:26.617Z"
   },
   {
    "duration": 13,
    "start_time": "2024-06-09T09:56:26.630Z"
   },
   {
    "duration": 14,
    "start_time": "2024-06-09T09:56:26.646Z"
   },
   {
    "duration": 8,
    "start_time": "2024-06-09T09:56:26.661Z"
   },
   {
    "duration": 21,
    "start_time": "2024-06-09T09:56:26.670Z"
   },
   {
    "duration": 18,
    "start_time": "2024-06-09T09:56:26.693Z"
   },
   {
    "duration": 10,
    "start_time": "2024-06-09T09:56:26.713Z"
   },
   {
    "duration": 12,
    "start_time": "2024-06-09T09:56:26.725Z"
   },
   {
    "duration": 9,
    "start_time": "2024-06-09T09:56:26.739Z"
   },
   {
    "duration": 8,
    "start_time": "2024-06-09T09:56:26.750Z"
   },
   {
    "duration": 22,
    "start_time": "2024-06-09T09:56:26.762Z"
   },
   {
    "duration": 29,
    "start_time": "2024-06-09T09:56:26.785Z"
   },
   {
    "duration": 14,
    "start_time": "2024-06-09T09:56:26.816Z"
   },
   {
    "duration": 27,
    "start_time": "2024-06-09T09:56:26.832Z"
   },
   {
    "duration": 42,
    "start_time": "2024-06-09T09:56:26.861Z"
   },
   {
    "duration": 26,
    "start_time": "2024-06-09T09:56:26.905Z"
   },
   {
    "duration": 23,
    "start_time": "2024-06-09T09:56:26.933Z"
   },
   {
    "duration": 9,
    "start_time": "2024-06-09T09:56:26.958Z"
   },
   {
    "duration": 22,
    "start_time": "2024-06-09T09:56:26.968Z"
   },
   {
    "duration": 11,
    "start_time": "2024-06-09T09:56:26.992Z"
   },
   {
    "duration": 16,
    "start_time": "2024-06-09T09:56:27.006Z"
   },
   {
    "duration": 10,
    "start_time": "2024-06-09T09:56:27.024Z"
   },
   {
    "duration": 12,
    "start_time": "2024-06-09T09:56:27.035Z"
   },
   {
    "duration": 6,
    "start_time": "2024-06-09T09:56:27.049Z"
   },
   {
    "duration": 50,
    "start_time": "2024-06-09T09:56:27.057Z"
   },
   {
    "duration": 1212,
    "start_time": "2024-06-09T09:56:27.110Z"
   },
   {
    "duration": 0,
    "start_time": "2024-06-09T09:56:28.324Z"
   },
   {
    "duration": 0,
    "start_time": "2024-06-09T09:56:28.325Z"
   },
   {
    "duration": 0,
    "start_time": "2024-06-09T09:56:28.326Z"
   },
   {
    "duration": 0,
    "start_time": "2024-06-09T09:56:28.328Z"
   },
   {
    "duration": 1132,
    "start_time": "2024-06-09T09:57:18.389Z"
   },
   {
    "duration": 1149,
    "start_time": "2024-06-09T09:58:33.396Z"
   },
   {
    "duration": 7,
    "start_time": "2024-06-09T09:59:01.737Z"
   },
   {
    "duration": 6,
    "start_time": "2024-06-09T09:59:26.913Z"
   },
   {
    "duration": 4,
    "start_time": "2024-06-09T09:59:28.786Z"
   },
   {
    "duration": 15,
    "start_time": "2024-06-09T09:59:54.688Z"
   },
   {
    "duration": 11,
    "start_time": "2024-06-09T10:00:11.652Z"
   },
   {
    "duration": 12,
    "start_time": "2024-06-09T10:01:02.493Z"
   },
   {
    "duration": 466,
    "start_time": "2024-06-09T10:01:23.980Z"
   },
   {
    "duration": 126,
    "start_time": "2024-06-09T10:01:24.448Z"
   },
   {
    "duration": 17,
    "start_time": "2024-06-09T10:01:24.576Z"
   },
   {
    "duration": 14,
    "start_time": "2024-06-09T10:01:24.595Z"
   },
   {
    "duration": 31,
    "start_time": "2024-06-09T10:01:24.611Z"
   },
   {
    "duration": 45,
    "start_time": "2024-06-09T10:01:24.644Z"
   },
   {
    "duration": 13,
    "start_time": "2024-06-09T10:01:24.690Z"
   },
   {
    "duration": 4,
    "start_time": "2024-06-09T10:01:24.704Z"
   },
   {
    "duration": 6,
    "start_time": "2024-06-09T10:01:24.710Z"
   },
   {
    "duration": 5,
    "start_time": "2024-06-09T10:01:24.718Z"
   },
   {
    "duration": 6,
    "start_time": "2024-06-09T10:01:24.724Z"
   },
   {
    "duration": 18,
    "start_time": "2024-06-09T10:01:24.731Z"
   },
   {
    "duration": 7,
    "start_time": "2024-06-09T10:01:24.751Z"
   },
   {
    "duration": 20,
    "start_time": "2024-06-09T10:01:24.792Z"
   },
   {
    "duration": 28,
    "start_time": "2024-06-09T10:01:24.814Z"
   },
   {
    "duration": 9,
    "start_time": "2024-06-09T10:01:24.844Z"
   },
   {
    "duration": 15,
    "start_time": "2024-06-09T10:01:24.854Z"
   },
   {
    "duration": 5,
    "start_time": "2024-06-09T10:01:24.871Z"
   },
   {
    "duration": 6,
    "start_time": "2024-06-09T10:01:24.877Z"
   },
   {
    "duration": 38,
    "start_time": "2024-06-09T10:01:24.885Z"
   },
   {
    "duration": 7,
    "start_time": "2024-06-09T10:01:24.924Z"
   },
   {
    "duration": 32,
    "start_time": "2024-06-09T10:01:24.932Z"
   },
   {
    "duration": 18,
    "start_time": "2024-06-09T10:01:24.966Z"
   },
   {
    "duration": 16,
    "start_time": "2024-06-09T10:01:24.985Z"
   },
   {
    "duration": 13,
    "start_time": "2024-06-09T10:01:25.003Z"
   },
   {
    "duration": 20,
    "start_time": "2024-06-09T10:01:25.017Z"
   },
   {
    "duration": 8,
    "start_time": "2024-06-09T10:01:25.039Z"
   },
   {
    "duration": 14,
    "start_time": "2024-06-09T10:01:25.050Z"
   },
   {
    "duration": 21,
    "start_time": "2024-06-09T10:01:25.066Z"
   },
   {
    "duration": 38,
    "start_time": "2024-06-09T10:01:25.088Z"
   },
   {
    "duration": 47,
    "start_time": "2024-06-09T10:01:25.127Z"
   },
   {
    "duration": 65,
    "start_time": "2024-06-09T10:01:25.176Z"
   },
   {
    "duration": 10,
    "start_time": "2024-06-09T10:01:25.242Z"
   },
   {
    "duration": 43,
    "start_time": "2024-06-09T10:01:25.254Z"
   },
   {
    "duration": 81,
    "start_time": "2024-06-09T10:01:25.299Z"
   },
   {
    "duration": 0,
    "start_time": "2024-06-09T10:01:25.382Z"
   },
   {
    "duration": 0,
    "start_time": "2024-06-09T10:01:25.383Z"
   },
   {
    "duration": 32,
    "start_time": "2024-06-09T10:02:49.937Z"
   },
   {
    "duration": 7,
    "start_time": "2024-06-09T10:04:18.568Z"
   },
   {
    "duration": 29,
    "start_time": "2024-06-09T10:04:30.725Z"
   },
   {
    "duration": 17,
    "start_time": "2024-06-09T10:05:46.107Z"
   },
   {
    "duration": 7,
    "start_time": "2024-06-09T10:13:14.202Z"
   },
   {
    "duration": 10,
    "start_time": "2024-06-09T10:13:18.271Z"
   },
   {
    "duration": 32,
    "start_time": "2024-06-09T10:13:26.116Z"
   },
   {
    "duration": 32,
    "start_time": "2024-06-09T10:19:03.000Z"
   },
   {
    "duration": 32,
    "start_time": "2024-06-09T10:21:44.543Z"
   },
   {
    "duration": 33,
    "start_time": "2024-06-09T10:23:50.160Z"
   },
   {
    "duration": 35,
    "start_time": "2024-06-09T10:24:00.282Z"
   },
   {
    "duration": 23,
    "start_time": "2024-06-09T10:25:08.328Z"
   },
   {
    "duration": 8,
    "start_time": "2024-06-09T10:28:26.816Z"
   },
   {
    "duration": 17,
    "start_time": "2024-06-09T10:28:40.882Z"
   },
   {
    "duration": 27,
    "start_time": "2024-06-09T10:30:08.641Z"
   },
   {
    "duration": 18,
    "start_time": "2024-06-09T10:30:21.396Z"
   },
   {
    "duration": 17,
    "start_time": "2024-06-09T10:30:24.979Z"
   },
   {
    "duration": 12,
    "start_time": "2024-06-09T10:30:43.294Z"
   },
   {
    "duration": 11,
    "start_time": "2024-06-09T10:30:49.159Z"
   },
   {
    "duration": 17,
    "start_time": "2024-06-09T10:30:59.366Z"
   },
   {
    "duration": 26,
    "start_time": "2024-06-09T10:31:29.841Z"
   },
   {
    "duration": 26,
    "start_time": "2024-06-09T10:34:25.570Z"
   },
   {
    "duration": 5,
    "start_time": "2024-06-09T10:36:17.115Z"
   },
   {
    "duration": 24,
    "start_time": "2024-06-09T10:36:43.456Z"
   },
   {
    "duration": 27,
    "start_time": "2024-06-09T10:37:17.395Z"
   },
   {
    "duration": 39,
    "start_time": "2024-06-09T10:37:50.570Z"
   },
   {
    "duration": 36,
    "start_time": "2024-06-09T10:38:03.966Z"
   },
   {
    "duration": 18,
    "start_time": "2024-06-09T10:38:14.248Z"
   },
   {
    "duration": 9,
    "start_time": "2024-06-09T10:38:25.640Z"
   },
   {
    "duration": 457,
    "start_time": "2024-06-09T10:38:30.077Z"
   },
   {
    "duration": 148,
    "start_time": "2024-06-09T10:38:30.536Z"
   },
   {
    "duration": 57,
    "start_time": "2024-06-09T10:38:30.685Z"
   },
   {
    "duration": 88,
    "start_time": "2024-06-09T10:38:30.744Z"
   },
   {
    "duration": 86,
    "start_time": "2024-06-09T10:38:30.834Z"
   },
   {
    "duration": 75,
    "start_time": "2024-06-09T10:38:30.922Z"
   },
   {
    "duration": 156,
    "start_time": "2024-06-09T10:38:30.999Z"
   },
   {
    "duration": 91,
    "start_time": "2024-06-09T10:38:31.157Z"
   },
   {
    "duration": 50,
    "start_time": "2024-06-09T10:38:31.250Z"
   },
   {
    "duration": 27,
    "start_time": "2024-06-09T10:38:31.303Z"
   },
   {
    "duration": 37,
    "start_time": "2024-06-09T10:38:31.333Z"
   },
   {
    "duration": 42,
    "start_time": "2024-06-09T10:38:31.372Z"
   },
   {
    "duration": 11,
    "start_time": "2024-06-09T10:38:31.416Z"
   },
   {
    "duration": 51,
    "start_time": "2024-06-09T10:38:31.429Z"
   },
   {
    "duration": 70,
    "start_time": "2024-06-09T10:38:31.481Z"
   },
   {
    "duration": 82,
    "start_time": "2024-06-09T10:38:31.553Z"
   },
   {
    "duration": 48,
    "start_time": "2024-06-09T10:38:31.637Z"
   },
   {
    "duration": 58,
    "start_time": "2024-06-09T10:38:31.687Z"
   },
   {
    "duration": 44,
    "start_time": "2024-06-09T10:38:31.747Z"
   },
   {
    "duration": 34,
    "start_time": "2024-06-09T10:38:31.793Z"
   },
   {
    "duration": 23,
    "start_time": "2024-06-09T10:38:31.829Z"
   },
   {
    "duration": 68,
    "start_time": "2024-06-09T10:38:31.853Z"
   },
   {
    "duration": 20,
    "start_time": "2024-06-09T10:38:31.923Z"
   },
   {
    "duration": 26,
    "start_time": "2024-06-09T10:38:31.944Z"
   },
   {
    "duration": 39,
    "start_time": "2024-06-09T10:38:31.971Z"
   },
   {
    "duration": 19,
    "start_time": "2024-06-09T10:38:32.013Z"
   },
   {
    "duration": 96,
    "start_time": "2024-06-09T10:38:32.034Z"
   },
   {
    "duration": 63,
    "start_time": "2024-06-09T10:38:32.134Z"
   },
   {
    "duration": 15,
    "start_time": "2024-06-09T10:38:32.199Z"
   },
   {
    "duration": 89,
    "start_time": "2024-06-09T10:38:32.216Z"
   },
   {
    "duration": 3,
    "start_time": "2024-06-09T10:38:32.307Z"
   },
   {
    "duration": 31,
    "start_time": "2024-06-09T10:38:32.311Z"
   },
   {
    "duration": 33,
    "start_time": "2024-06-09T10:38:32.344Z"
   },
   {
    "duration": 74,
    "start_time": "2024-06-09T10:38:32.379Z"
   },
   {
    "duration": 0,
    "start_time": "2024-06-09T10:38:32.455Z"
   },
   {
    "duration": 0,
    "start_time": "2024-06-09T10:38:32.456Z"
   },
   {
    "duration": 0,
    "start_time": "2024-06-09T10:38:32.457Z"
   },
   {
    "duration": 429,
    "start_time": "2024-06-09T10:39:16.699Z"
   },
   {
    "duration": 139,
    "start_time": "2024-06-09T10:39:17.130Z"
   },
   {
    "duration": 23,
    "start_time": "2024-06-09T10:39:17.271Z"
   },
   {
    "duration": 34,
    "start_time": "2024-06-09T10:39:17.296Z"
   },
   {
    "duration": 24,
    "start_time": "2024-06-09T10:39:17.332Z"
   },
   {
    "duration": 24,
    "start_time": "2024-06-09T10:39:17.359Z"
   },
   {
    "duration": 21,
    "start_time": "2024-06-09T10:39:17.385Z"
   },
   {
    "duration": 12,
    "start_time": "2024-06-09T10:39:17.408Z"
   },
   {
    "duration": 6,
    "start_time": "2024-06-09T10:39:17.422Z"
   },
   {
    "duration": 12,
    "start_time": "2024-06-09T10:39:17.432Z"
   },
   {
    "duration": 21,
    "start_time": "2024-06-09T10:39:17.446Z"
   },
   {
    "duration": 8,
    "start_time": "2024-06-09T10:39:17.469Z"
   },
   {
    "duration": 28,
    "start_time": "2024-06-09T10:39:17.479Z"
   },
   {
    "duration": 23,
    "start_time": "2024-06-09T10:39:17.509Z"
   },
   {
    "duration": 14,
    "start_time": "2024-06-09T10:39:17.534Z"
   },
   {
    "duration": 13,
    "start_time": "2024-06-09T10:39:17.550Z"
   },
   {
    "duration": 15,
    "start_time": "2024-06-09T10:39:17.565Z"
   },
   {
    "duration": 11,
    "start_time": "2024-06-09T10:39:17.582Z"
   },
   {
    "duration": 7,
    "start_time": "2024-06-09T10:39:17.595Z"
   },
   {
    "duration": 10,
    "start_time": "2024-06-09T10:39:17.605Z"
   },
   {
    "duration": 12,
    "start_time": "2024-06-09T10:39:17.616Z"
   },
   {
    "duration": 6,
    "start_time": "2024-06-09T10:39:17.631Z"
   },
   {
    "duration": 35,
    "start_time": "2024-06-09T10:39:17.639Z"
   },
   {
    "duration": 34,
    "start_time": "2024-06-09T10:39:17.676Z"
   },
   {
    "duration": 20,
    "start_time": "2024-06-09T10:39:17.712Z"
   },
   {
    "duration": 31,
    "start_time": "2024-06-09T10:39:17.734Z"
   },
   {
    "duration": 52,
    "start_time": "2024-06-09T10:39:17.766Z"
   },
   {
    "duration": 19,
    "start_time": "2024-06-09T10:39:17.821Z"
   },
   {
    "duration": 18,
    "start_time": "2024-06-09T10:39:17.841Z"
   },
   {
    "duration": 5,
    "start_time": "2024-06-09T10:39:17.861Z"
   },
   {
    "duration": 11,
    "start_time": "2024-06-09T10:39:17.868Z"
   },
   {
    "duration": 5,
    "start_time": "2024-06-09T10:39:17.880Z"
   },
   {
    "duration": 44,
    "start_time": "2024-06-09T10:39:17.886Z"
   },
   {
    "duration": 31,
    "start_time": "2024-06-09T10:39:17.931Z"
   },
   {
    "duration": 66,
    "start_time": "2024-06-09T10:39:17.964Z"
   },
   {
    "duration": 0,
    "start_time": "2024-06-09T10:39:18.032Z"
   },
   {
    "duration": 0,
    "start_time": "2024-06-09T10:39:18.034Z"
   },
   {
    "duration": 0,
    "start_time": "2024-06-09T10:39:18.036Z"
   },
   {
    "duration": 18,
    "start_time": "2024-06-09T10:39:46.777Z"
   },
   {
    "duration": 5,
    "start_time": "2024-06-09T10:39:58.161Z"
   },
   {
    "duration": 26,
    "start_time": "2024-06-09T10:40:00.145Z"
   },
   {
    "duration": 481,
    "start_time": "2024-06-09T10:43:59.568Z"
   },
   {
    "duration": 142,
    "start_time": "2024-06-09T10:44:00.051Z"
   },
   {
    "duration": 27,
    "start_time": "2024-06-09T10:44:00.196Z"
   },
   {
    "duration": 191,
    "start_time": "2024-06-09T10:44:00.225Z"
   },
   {
    "duration": 113,
    "start_time": "2024-06-09T10:44:00.418Z"
   },
   {
    "duration": 114,
    "start_time": "2024-06-09T10:44:00.532Z"
   },
   {
    "duration": 97,
    "start_time": "2024-06-09T10:44:00.648Z"
   },
   {
    "duration": 99,
    "start_time": "2024-06-09T10:44:00.747Z"
   },
   {
    "duration": 108,
    "start_time": "2024-06-09T10:44:00.847Z"
   },
   {
    "duration": 151,
    "start_time": "2024-06-09T10:44:00.958Z"
   },
   {
    "duration": 239,
    "start_time": "2024-06-09T10:44:01.111Z"
   },
   {
    "duration": 102,
    "start_time": "2024-06-09T10:44:01.351Z"
   },
   {
    "duration": 184,
    "start_time": "2024-06-09T10:44:01.454Z"
   },
   {
    "duration": 291,
    "start_time": "2024-06-09T10:44:01.640Z"
   },
   {
    "duration": 90,
    "start_time": "2024-06-09T10:44:01.933Z"
   },
   {
    "duration": 95,
    "start_time": "2024-06-09T10:44:02.025Z"
   },
   {
    "duration": 50,
    "start_time": "2024-06-09T10:44:02.122Z"
   },
   {
    "duration": 333,
    "start_time": "2024-06-09T10:44:02.173Z"
   },
   {
    "duration": 101,
    "start_time": "2024-06-09T10:44:02.508Z"
   },
   {
    "duration": 40,
    "start_time": "2024-06-09T10:44:02.611Z"
   },
   {
    "duration": 74,
    "start_time": "2024-06-09T10:44:02.653Z"
   },
   {
    "duration": 132,
    "start_time": "2024-06-09T10:44:02.728Z"
   },
   {
    "duration": 52,
    "start_time": "2024-06-09T10:44:02.861Z"
   },
   {
    "duration": 28,
    "start_time": "2024-06-09T10:44:02.915Z"
   },
   {
    "duration": 250,
    "start_time": "2024-06-09T10:44:02.945Z"
   },
   {
    "duration": 128,
    "start_time": "2024-06-09T10:44:03.197Z"
   },
   {
    "duration": 246,
    "start_time": "2024-06-09T10:44:03.327Z"
   },
   {
    "duration": 42,
    "start_time": "2024-06-09T10:44:03.576Z"
   },
   {
    "duration": 66,
    "start_time": "2024-06-09T10:44:03.620Z"
   },
   {
    "duration": 23,
    "start_time": "2024-06-09T10:44:03.687Z"
   },
   {
    "duration": 36,
    "start_time": "2024-06-09T10:44:03.712Z"
   },
   {
    "duration": 37,
    "start_time": "2024-06-09T10:44:03.750Z"
   },
   {
    "duration": 65,
    "start_time": "2024-06-09T10:44:03.788Z"
   },
   {
    "duration": 53,
    "start_time": "2024-06-09T10:44:03.856Z"
   },
   {
    "duration": 16,
    "start_time": "2024-06-09T10:44:03.912Z"
   },
   {
    "duration": 90,
    "start_time": "2024-06-09T10:44:03.930Z"
   },
   {
    "duration": 12,
    "start_time": "2024-06-09T10:44:12.580Z"
   },
   {
    "duration": 11,
    "start_time": "2024-06-09T10:44:17.510Z"
   },
   {
    "duration": 4,
    "start_time": "2024-06-09T10:45:30.667Z"
   },
   {
    "duration": 25,
    "start_time": "2024-06-09T10:45:34.681Z"
   },
   {
    "duration": 21,
    "start_time": "2024-06-09T10:45:38.654Z"
   },
   {
    "duration": 32,
    "start_time": "2024-06-09T10:47:59.057Z"
   },
   {
    "duration": 84,
    "start_time": "2024-06-09T10:54:45.675Z"
   },
   {
    "duration": 20,
    "start_time": "2024-06-09T10:55:14.162Z"
   },
   {
    "duration": 3,
    "start_time": "2024-06-09T10:58:48.259Z"
   },
   {
    "duration": 11,
    "start_time": "2024-06-09T10:58:56.904Z"
   },
   {
    "duration": 5,
    "start_time": "2024-06-09T10:58:58.697Z"
   },
   {
    "duration": 21,
    "start_time": "2024-06-09T10:59:06.064Z"
   },
   {
    "duration": 10,
    "start_time": "2024-06-09T11:00:35.492Z"
   },
   {
    "duration": 392,
    "start_time": "2024-06-09T11:00:53.652Z"
   },
   {
    "duration": 125,
    "start_time": "2024-06-09T11:00:54.046Z"
   },
   {
    "duration": 21,
    "start_time": "2024-06-09T11:00:54.173Z"
   },
   {
    "duration": 39,
    "start_time": "2024-06-09T11:00:54.195Z"
   },
   {
    "duration": 31,
    "start_time": "2024-06-09T11:00:54.235Z"
   },
   {
    "duration": 24,
    "start_time": "2024-06-09T11:00:54.267Z"
   },
   {
    "duration": 33,
    "start_time": "2024-06-09T11:00:54.292Z"
   },
   {
    "duration": 21,
    "start_time": "2024-06-09T11:00:54.327Z"
   },
   {
    "duration": 8,
    "start_time": "2024-06-09T11:00:54.350Z"
   },
   {
    "duration": 11,
    "start_time": "2024-06-09T11:00:54.361Z"
   },
   {
    "duration": 28,
    "start_time": "2024-06-09T11:00:54.375Z"
   },
   {
    "duration": 24,
    "start_time": "2024-06-09T11:00:54.404Z"
   },
   {
    "duration": 36,
    "start_time": "2024-06-09T11:00:54.430Z"
   },
   {
    "duration": 7,
    "start_time": "2024-06-09T11:00:54.467Z"
   },
   {
    "duration": 19,
    "start_time": "2024-06-09T11:00:54.476Z"
   },
   {
    "duration": 24,
    "start_time": "2024-06-09T11:00:54.497Z"
   },
   {
    "duration": 17,
    "start_time": "2024-06-09T11:00:54.523Z"
   },
   {
    "duration": 20,
    "start_time": "2024-06-09T11:00:54.541Z"
   },
   {
    "duration": 14,
    "start_time": "2024-06-09T11:00:54.562Z"
   },
   {
    "duration": 21,
    "start_time": "2024-06-09T11:00:54.577Z"
   },
   {
    "duration": 23,
    "start_time": "2024-06-09T11:00:54.600Z"
   },
   {
    "duration": 36,
    "start_time": "2024-06-09T11:00:54.625Z"
   },
   {
    "duration": 57,
    "start_time": "2024-06-09T11:00:54.663Z"
   },
   {
    "duration": 25,
    "start_time": "2024-06-09T11:00:54.721Z"
   },
   {
    "duration": 32,
    "start_time": "2024-06-09T11:00:54.747Z"
   },
   {
    "duration": 19,
    "start_time": "2024-06-09T11:00:54.781Z"
   },
   {
    "duration": 38,
    "start_time": "2024-06-09T11:00:54.802Z"
   },
   {
    "duration": 19,
    "start_time": "2024-06-09T11:00:54.843Z"
   },
   {
    "duration": 17,
    "start_time": "2024-06-09T11:00:54.864Z"
   },
   {
    "duration": 28,
    "start_time": "2024-06-09T11:00:54.882Z"
   },
   {
    "duration": 22,
    "start_time": "2024-06-09T11:00:54.912Z"
   },
   {
    "duration": 33,
    "start_time": "2024-06-09T11:00:54.936Z"
   },
   {
    "duration": 45,
    "start_time": "2024-06-09T11:00:54.971Z"
   },
   {
    "duration": 15,
    "start_time": "2024-06-09T11:00:55.018Z"
   },
   {
    "duration": 33,
    "start_time": "2024-06-09T11:00:55.035Z"
   },
   {
    "duration": 37,
    "start_time": "2024-06-09T11:00:55.070Z"
   },
   {
    "duration": 441,
    "start_time": "2024-06-09T11:01:44.261Z"
   },
   {
    "duration": 125,
    "start_time": "2024-06-09T11:01:44.704Z"
   },
   {
    "duration": 28,
    "start_time": "2024-06-09T11:01:44.831Z"
   },
   {
    "duration": 19,
    "start_time": "2024-06-09T11:01:44.862Z"
   },
   {
    "duration": 36,
    "start_time": "2024-06-09T11:01:44.883Z"
   },
   {
    "duration": 12,
    "start_time": "2024-06-09T11:01:44.920Z"
   },
   {
    "duration": 13,
    "start_time": "2024-06-09T11:01:44.934Z"
   },
   {
    "duration": 17,
    "start_time": "2024-06-09T11:01:44.949Z"
   },
   {
    "duration": 8,
    "start_time": "2024-06-09T11:01:44.968Z"
   },
   {
    "duration": 10,
    "start_time": "2024-06-09T11:01:44.979Z"
   },
   {
    "duration": 6,
    "start_time": "2024-06-09T11:01:44.991Z"
   },
   {
    "duration": 45,
    "start_time": "2024-06-09T11:01:44.998Z"
   },
   {
    "duration": 68,
    "start_time": "2024-06-09T11:01:45.045Z"
   },
   {
    "duration": 34,
    "start_time": "2024-06-09T11:01:45.114Z"
   },
   {
    "duration": 28,
    "start_time": "2024-06-09T11:01:45.150Z"
   },
   {
    "duration": 29,
    "start_time": "2024-06-09T11:01:45.180Z"
   },
   {
    "duration": 14,
    "start_time": "2024-06-09T11:01:45.211Z"
   },
   {
    "duration": 19,
    "start_time": "2024-06-09T11:01:45.227Z"
   },
   {
    "duration": 12,
    "start_time": "2024-06-09T11:01:45.248Z"
   },
   {
    "duration": 24,
    "start_time": "2024-06-09T11:01:45.262Z"
   },
   {
    "duration": 18,
    "start_time": "2024-06-09T11:01:45.287Z"
   },
   {
    "duration": 31,
    "start_time": "2024-06-09T11:01:45.307Z"
   },
   {
    "duration": 32,
    "start_time": "2024-06-09T11:01:45.339Z"
   },
   {
    "duration": 28,
    "start_time": "2024-06-09T11:01:45.372Z"
   },
   {
    "duration": 28,
    "start_time": "2024-06-09T11:01:45.401Z"
   },
   {
    "duration": 6,
    "start_time": "2024-06-09T11:01:45.430Z"
   },
   {
    "duration": 28,
    "start_time": "2024-06-09T11:01:45.438Z"
   },
   {
    "duration": 4,
    "start_time": "2024-06-09T11:01:45.469Z"
   },
   {
    "duration": 9,
    "start_time": "2024-06-09T11:01:45.475Z"
   },
   {
    "duration": 12,
    "start_time": "2024-06-09T11:01:45.486Z"
   },
   {
    "duration": 23,
    "start_time": "2024-06-09T11:01:45.499Z"
   },
   {
    "duration": 3,
    "start_time": "2024-06-09T11:01:45.523Z"
   },
   {
    "duration": 31,
    "start_time": "2024-06-09T11:01:45.528Z"
   },
   {
    "duration": 17,
    "start_time": "2024-06-09T11:01:45.561Z"
   },
   {
    "duration": 70,
    "start_time": "2024-06-09T11:01:45.580Z"
   },
   {
    "duration": 0,
    "start_time": "2024-06-09T11:01:45.652Z"
   },
   {
    "duration": 0,
    "start_time": "2024-06-09T11:01:45.653Z"
   },
   {
    "duration": 0,
    "start_time": "2024-06-09T11:01:45.654Z"
   },
   {
    "duration": 6,
    "start_time": "2024-06-09T11:02:20.186Z"
   },
   {
    "duration": 20,
    "start_time": "2024-06-09T11:02:45.682Z"
   },
   {
    "duration": 18,
    "start_time": "2024-06-09T11:04:07.855Z"
   },
   {
    "duration": 9,
    "start_time": "2024-06-09T11:04:08.860Z"
   },
   {
    "duration": 20,
    "start_time": "2024-06-09T11:04:14.640Z"
   },
   {
    "duration": 80,
    "start_time": "2024-06-09T14:33:25.044Z"
   },
   {
    "duration": 412,
    "start_time": "2024-06-09T14:33:52.895Z"
   },
   {
    "duration": 233,
    "start_time": "2024-06-09T14:33:53.310Z"
   },
   {
    "duration": 29,
    "start_time": "2024-06-09T14:33:53.544Z"
   },
   {
    "duration": 16,
    "start_time": "2024-06-09T14:33:53.574Z"
   },
   {
    "duration": 11,
    "start_time": "2024-06-09T14:33:53.592Z"
   },
   {
    "duration": 6,
    "start_time": "2024-06-09T14:33:53.604Z"
   },
   {
    "duration": 28,
    "start_time": "2024-06-09T14:33:54.544Z"
   },
   {
    "duration": 13,
    "start_time": "2024-06-09T14:33:54.574Z"
   },
   {
    "duration": 5,
    "start_time": "2024-06-09T14:33:54.588Z"
   },
   {
    "duration": 5,
    "start_time": "2024-06-09T14:33:54.927Z"
   },
   {
    "duration": 8,
    "start_time": "2024-06-09T14:33:54.934Z"
   },
   {
    "duration": 18,
    "start_time": "2024-06-09T14:33:54.944Z"
   },
   {
    "duration": 21,
    "start_time": "2024-06-09T14:33:55.329Z"
   },
   {
    "duration": 11,
    "start_time": "2024-06-09T14:33:55.352Z"
   },
   {
    "duration": 5,
    "start_time": "2024-06-09T14:33:55.567Z"
   },
   {
    "duration": 16,
    "start_time": "2024-06-09T14:33:55.574Z"
   },
   {
    "duration": 11,
    "start_time": "2024-06-09T14:33:55.591Z"
   },
   {
    "duration": 7,
    "start_time": "2024-06-09T14:34:00.604Z"
   },
   {
    "duration": 106,
    "start_time": "2024-06-09T14:34:00.613Z"
   },
   {
    "duration": 54,
    "start_time": "2024-06-09T14:34:00.721Z"
   },
   {
    "duration": 56,
    "start_time": "2024-06-09T14:34:00.776Z"
   },
   {
    "duration": 41,
    "start_time": "2024-06-09T14:34:00.835Z"
   },
   {
    "duration": 57,
    "start_time": "2024-06-09T14:34:00.878Z"
   },
   {
    "duration": 20,
    "start_time": "2024-06-09T14:34:01.121Z"
   },
   {
    "duration": 138,
    "start_time": "2024-06-09T14:34:01.143Z"
   },
   {
    "duration": 32,
    "start_time": "2024-06-09T14:34:01.283Z"
   },
   {
    "duration": 13,
    "start_time": "2024-06-09T14:34:01.378Z"
   },
   {
    "duration": 31,
    "start_time": "2024-06-09T14:34:01.393Z"
   },
   {
    "duration": 79,
    "start_time": "2024-06-09T14:34:01.426Z"
   },
   {
    "duration": 6,
    "start_time": "2024-06-09T14:34:01.694Z"
   },
   {
    "duration": 939,
    "start_time": "2024-06-09T14:34:01.702Z"
   },
   {
    "duration": 880,
    "start_time": "2024-06-09T14:34:02.643Z"
   },
   {
    "duration": 39,
    "start_time": "2024-06-09T14:34:03.526Z"
   },
   {
    "duration": 14,
    "start_time": "2024-06-09T14:34:03.566Z"
   },
   {
    "duration": 40,
    "start_time": "2024-06-09T14:34:03.582Z"
   },
   {
    "duration": 15,
    "start_time": "2024-06-09T14:34:03.623Z"
   },
   {
    "duration": 9,
    "start_time": "2024-06-09T14:38:25.221Z"
   },
   {
    "duration": 6,
    "start_time": "2024-06-09T14:38:40.128Z"
   },
   {
    "duration": 5,
    "start_time": "2024-06-09T14:38:52.499Z"
   },
   {
    "duration": 13,
    "start_time": "2024-06-09T14:39:32.546Z"
   },
   {
    "duration": 60,
    "start_time": "2024-06-09T14:41:11.479Z"
   },
   {
    "duration": 52,
    "start_time": "2024-06-09T14:41:20.540Z"
   },
   {
    "duration": 5,
    "start_time": "2024-06-09T14:41:28.159Z"
   },
   {
    "duration": 15,
    "start_time": "2024-06-09T14:46:11.205Z"
   },
   {
    "duration": 39,
    "start_time": "2024-06-09T14:50:46.762Z"
   },
   {
    "duration": 15,
    "start_time": "2024-06-09T14:54:26.502Z"
   },
   {
    "duration": 22,
    "start_time": "2024-06-09T14:54:53.589Z"
   },
   {
    "duration": 8,
    "start_time": "2024-06-09T14:58:08.116Z"
   },
   {
    "duration": 360,
    "start_time": "2024-06-10T02:23:45.570Z"
   },
   {
    "duration": 368,
    "start_time": "2024-06-10T02:23:45.932Z"
   },
   {
    "duration": 19,
    "start_time": "2024-06-10T02:23:46.301Z"
   },
   {
    "duration": 24,
    "start_time": "2024-06-10T02:23:46.322Z"
   },
   {
    "duration": 9,
    "start_time": "2024-06-10T02:23:46.348Z"
   },
   {
    "duration": 21,
    "start_time": "2024-06-10T02:23:46.359Z"
   },
   {
    "duration": 19,
    "start_time": "2024-06-10T02:23:46.381Z"
   },
   {
    "duration": 13,
    "start_time": "2024-06-10T02:23:46.401Z"
   },
   {
    "duration": 4,
    "start_time": "2024-06-10T02:23:46.416Z"
   },
   {
    "duration": 5,
    "start_time": "2024-06-10T02:23:46.422Z"
   },
   {
    "duration": 12,
    "start_time": "2024-06-10T02:23:46.429Z"
   },
   {
    "duration": 39,
    "start_time": "2024-06-10T02:23:46.442Z"
   },
   {
    "duration": 16,
    "start_time": "2024-06-10T02:23:46.483Z"
   },
   {
    "duration": 8,
    "start_time": "2024-06-10T02:23:46.500Z"
   },
   {
    "duration": 17,
    "start_time": "2024-06-10T02:23:46.510Z"
   },
   {
    "duration": 13,
    "start_time": "2024-06-10T02:23:46.528Z"
   },
   {
    "duration": 5,
    "start_time": "2024-06-10T02:23:46.542Z"
   },
   {
    "duration": 5,
    "start_time": "2024-06-10T02:23:46.548Z"
   },
   {
    "duration": 8,
    "start_time": "2024-06-10T02:23:46.554Z"
   },
   {
    "duration": 6,
    "start_time": "2024-06-10T02:23:46.563Z"
   },
   {
    "duration": 23,
    "start_time": "2024-06-10T02:23:46.570Z"
   },
   {
    "duration": 19,
    "start_time": "2024-06-10T02:23:46.594Z"
   },
   {
    "duration": 15,
    "start_time": "2024-06-10T02:23:46.615Z"
   },
   {
    "duration": 17,
    "start_time": "2024-06-10T02:23:46.631Z"
   },
   {
    "duration": 4,
    "start_time": "2024-06-10T02:23:46.649Z"
   },
   {
    "duration": 5,
    "start_time": "2024-06-10T02:23:46.654Z"
   },
   {
    "duration": 14,
    "start_time": "2024-06-10T02:23:46.660Z"
   },
   {
    "duration": 4,
    "start_time": "2024-06-10T02:23:46.677Z"
   },
   {
    "duration": 7,
    "start_time": "2024-06-10T02:23:46.682Z"
   },
   {
    "duration": 55,
    "start_time": "2024-06-10T02:23:46.690Z"
   },
   {
    "duration": 9,
    "start_time": "2024-06-10T02:23:46.747Z"
   },
   {
    "duration": 3,
    "start_time": "2024-06-10T02:23:46.757Z"
   },
   {
    "duration": 27,
    "start_time": "2024-06-10T02:23:46.761Z"
   },
   {
    "duration": 8,
    "start_time": "2024-06-10T02:23:46.790Z"
   },
   {
    "duration": 24,
    "start_time": "2024-06-10T02:23:46.799Z"
   },
   {
    "duration": 18,
    "start_time": "2024-06-10T02:23:46.824Z"
   },
   {
    "duration": 14,
    "start_time": "2024-06-10T02:23:46.843Z"
   },
   {
    "duration": 8,
    "start_time": "2024-06-10T02:23:46.858Z"
   },
   {
    "duration": 25,
    "start_time": "2024-06-10T02:27:00.050Z"
   },
   {
    "duration": 27,
    "start_time": "2024-06-10T02:27:23.117Z"
   },
   {
    "duration": 354,
    "start_time": "2024-06-10T02:31:15.564Z"
   },
   {
    "duration": 115,
    "start_time": "2024-06-10T02:31:16.146Z"
   },
   {
    "duration": 19,
    "start_time": "2024-06-10T02:31:16.263Z"
   },
   {
    "duration": 61,
    "start_time": "2024-06-10T02:31:16.284Z"
   },
   {
    "duration": 23,
    "start_time": "2024-06-10T02:31:16.347Z"
   },
   {
    "duration": 23,
    "start_time": "2024-06-10T02:31:16.372Z"
   },
   {
    "duration": 30,
    "start_time": "2024-06-10T02:31:16.396Z"
   },
   {
    "duration": 24,
    "start_time": "2024-06-10T02:31:16.427Z"
   },
   {
    "duration": 109,
    "start_time": "2024-06-10T02:31:16.452Z"
   },
   {
    "duration": 22,
    "start_time": "2024-06-10T02:31:16.562Z"
   },
   {
    "duration": 9,
    "start_time": "2024-06-10T02:31:16.585Z"
   },
   {
    "duration": 25,
    "start_time": "2024-06-10T02:31:16.595Z"
   },
   {
    "duration": 1239,
    "start_time": "2024-06-10T02:31:16.622Z"
   },
   {
    "duration": 0,
    "start_time": "2024-06-10T02:31:17.863Z"
   },
   {
    "duration": 0,
    "start_time": "2024-06-10T02:31:17.864Z"
   },
   {
    "duration": 0,
    "start_time": "2024-06-10T02:31:17.865Z"
   },
   {
    "duration": 0,
    "start_time": "2024-06-10T02:31:17.867Z"
   },
   {
    "duration": 0,
    "start_time": "2024-06-10T02:31:17.868Z"
   },
   {
    "duration": 0,
    "start_time": "2024-06-10T02:31:17.870Z"
   },
   {
    "duration": 0,
    "start_time": "2024-06-10T02:31:17.871Z"
   },
   {
    "duration": 0,
    "start_time": "2024-06-10T02:31:17.872Z"
   },
   {
    "duration": 0,
    "start_time": "2024-06-10T02:31:17.873Z"
   },
   {
    "duration": 0,
    "start_time": "2024-06-10T02:31:17.874Z"
   },
   {
    "duration": 0,
    "start_time": "2024-06-10T02:31:17.876Z"
   },
   {
    "duration": 0,
    "start_time": "2024-06-10T02:31:17.877Z"
   },
   {
    "duration": 0,
    "start_time": "2024-06-10T02:31:17.878Z"
   },
   {
    "duration": 0,
    "start_time": "2024-06-10T02:31:17.879Z"
   },
   {
    "duration": 0,
    "start_time": "2024-06-10T02:31:17.881Z"
   },
   {
    "duration": 0,
    "start_time": "2024-06-10T02:31:17.882Z"
   },
   {
    "duration": 0,
    "start_time": "2024-06-10T02:31:17.882Z"
   },
   {
    "duration": 0,
    "start_time": "2024-06-10T02:31:17.883Z"
   },
   {
    "duration": 0,
    "start_time": "2024-06-10T02:31:17.884Z"
   },
   {
    "duration": 0,
    "start_time": "2024-06-10T02:31:17.885Z"
   },
   {
    "duration": 0,
    "start_time": "2024-06-10T02:31:17.885Z"
   },
   {
    "duration": 0,
    "start_time": "2024-06-10T02:31:17.886Z"
   },
   {
    "duration": 0,
    "start_time": "2024-06-10T02:31:17.887Z"
   },
   {
    "duration": 0,
    "start_time": "2024-06-10T02:31:17.888Z"
   },
   {
    "duration": 0,
    "start_time": "2024-06-10T02:31:17.888Z"
   },
   {
    "duration": 0,
    "start_time": "2024-06-10T02:31:17.889Z"
   },
   {
    "duration": 357,
    "start_time": "2024-06-10T02:31:58.544Z"
   },
   {
    "duration": 115,
    "start_time": "2024-06-10T02:31:58.903Z"
   },
   {
    "duration": 17,
    "start_time": "2024-06-10T02:31:59.020Z"
   },
   {
    "duration": 13,
    "start_time": "2024-06-10T02:31:59.039Z"
   },
   {
    "duration": 17,
    "start_time": "2024-06-10T02:31:59.053Z"
   },
   {
    "duration": 13,
    "start_time": "2024-06-10T02:31:59.071Z"
   },
   {
    "duration": 10,
    "start_time": "2024-06-10T02:31:59.085Z"
   },
   {
    "duration": 24,
    "start_time": "2024-06-10T02:31:59.096Z"
   },
   {
    "duration": 6,
    "start_time": "2024-06-10T02:31:59.122Z"
   },
   {
    "duration": 20,
    "start_time": "2024-06-10T02:31:59.130Z"
   },
   {
    "duration": 19,
    "start_time": "2024-06-10T02:31:59.151Z"
   },
   {
    "duration": 20,
    "start_time": "2024-06-10T02:31:59.171Z"
   },
   {
    "duration": 1264,
    "start_time": "2024-06-10T02:31:59.192Z"
   },
   {
    "duration": 0,
    "start_time": "2024-06-10T02:32:00.458Z"
   },
   {
    "duration": 0,
    "start_time": "2024-06-10T02:32:00.459Z"
   },
   {
    "duration": 0,
    "start_time": "2024-06-10T02:32:00.460Z"
   },
   {
    "duration": 0,
    "start_time": "2024-06-10T02:32:00.461Z"
   },
   {
    "duration": 0,
    "start_time": "2024-06-10T02:32:00.461Z"
   },
   {
    "duration": 0,
    "start_time": "2024-06-10T02:32:00.462Z"
   },
   {
    "duration": 0,
    "start_time": "2024-06-10T02:32:00.463Z"
   },
   {
    "duration": 0,
    "start_time": "2024-06-10T02:32:00.464Z"
   },
   {
    "duration": 0,
    "start_time": "2024-06-10T02:32:00.466Z"
   },
   {
    "duration": 0,
    "start_time": "2024-06-10T02:32:00.466Z"
   },
   {
    "duration": 0,
    "start_time": "2024-06-10T02:32:00.468Z"
   },
   {
    "duration": 0,
    "start_time": "2024-06-10T02:32:00.469Z"
   },
   {
    "duration": 0,
    "start_time": "2024-06-10T02:32:00.470Z"
   },
   {
    "duration": 0,
    "start_time": "2024-06-10T02:32:00.471Z"
   },
   {
    "duration": 0,
    "start_time": "2024-06-10T02:32:00.472Z"
   },
   {
    "duration": 0,
    "start_time": "2024-06-10T02:32:00.473Z"
   },
   {
    "duration": 0,
    "start_time": "2024-06-10T02:32:00.474Z"
   },
   {
    "duration": 0,
    "start_time": "2024-06-10T02:32:00.475Z"
   },
   {
    "duration": 0,
    "start_time": "2024-06-10T02:32:00.476Z"
   },
   {
    "duration": 0,
    "start_time": "2024-06-10T02:32:00.477Z"
   },
   {
    "duration": 0,
    "start_time": "2024-06-10T02:32:00.478Z"
   },
   {
    "duration": 0,
    "start_time": "2024-06-10T02:32:00.479Z"
   },
   {
    "duration": 0,
    "start_time": "2024-06-10T02:32:00.480Z"
   },
   {
    "duration": 0,
    "start_time": "2024-06-10T02:32:00.482Z"
   },
   {
    "duration": 0,
    "start_time": "2024-06-10T02:32:00.483Z"
   },
   {
    "duration": 0,
    "start_time": "2024-06-10T02:32:00.484Z"
   },
   {
    "duration": 23,
    "start_time": "2024-06-10T02:32:30.651Z"
   },
   {
    "duration": 357,
    "start_time": "2024-06-10T02:33:56.440Z"
   },
   {
    "duration": 114,
    "start_time": "2024-06-10T02:33:56.799Z"
   },
   {
    "duration": 19,
    "start_time": "2024-06-10T02:33:56.914Z"
   },
   {
    "duration": 14,
    "start_time": "2024-06-10T02:33:56.935Z"
   },
   {
    "duration": 9,
    "start_time": "2024-06-10T02:33:56.950Z"
   },
   {
    "duration": 5,
    "start_time": "2024-06-10T02:33:56.960Z"
   },
   {
    "duration": 12,
    "start_time": "2024-06-10T02:33:56.966Z"
   },
   {
    "duration": 30,
    "start_time": "2024-06-10T02:33:56.979Z"
   },
   {
    "duration": 3,
    "start_time": "2024-06-10T02:33:57.011Z"
   },
   {
    "duration": 6,
    "start_time": "2024-06-10T02:33:57.016Z"
   },
   {
    "duration": 12,
    "start_time": "2024-06-10T02:33:57.023Z"
   },
   {
    "duration": 6,
    "start_time": "2024-06-10T02:33:57.036Z"
   },
   {
    "duration": 19,
    "start_time": "2024-06-10T02:33:57.043Z"
   },
   {
    "duration": 6,
    "start_time": "2024-06-10T02:33:57.063Z"
   },
   {
    "duration": 4,
    "start_time": "2024-06-10T02:33:57.070Z"
   },
   {
    "duration": 8,
    "start_time": "2024-06-10T02:33:57.075Z"
   },
   {
    "duration": 4,
    "start_time": "2024-06-10T02:33:57.084Z"
   },
   {
    "duration": 5,
    "start_time": "2024-06-10T02:33:57.109Z"
   },
   {
    "duration": 4,
    "start_time": "2024-06-10T02:33:57.115Z"
   },
   {
    "duration": 9,
    "start_time": "2024-06-10T02:33:57.120Z"
   },
   {
    "duration": 24,
    "start_time": "2024-06-10T02:33:57.130Z"
   },
   {
    "duration": 4,
    "start_time": "2024-06-10T02:33:57.155Z"
   },
   {
    "duration": 16,
    "start_time": "2024-06-10T02:33:57.160Z"
   },
   {
    "duration": 16,
    "start_time": "2024-06-10T02:33:57.177Z"
   },
   {
    "duration": 5,
    "start_time": "2024-06-10T02:33:57.194Z"
   },
   {
    "duration": 17,
    "start_time": "2024-06-10T02:33:57.200Z"
   },
   {
    "duration": 23,
    "start_time": "2024-06-10T02:33:57.218Z"
   },
   {
    "duration": 4,
    "start_time": "2024-06-10T02:33:57.244Z"
   },
   {
    "duration": 8,
    "start_time": "2024-06-10T02:33:57.249Z"
   },
   {
    "duration": 13,
    "start_time": "2024-06-10T02:33:57.259Z"
   },
   {
    "duration": 23,
    "start_time": "2024-06-10T02:33:57.273Z"
   },
   {
    "duration": 2,
    "start_time": "2024-06-10T02:33:57.297Z"
   },
   {
    "duration": 37,
    "start_time": "2024-06-10T02:33:57.300Z"
   },
   {
    "duration": 8,
    "start_time": "2024-06-10T02:33:57.339Z"
   },
   {
    "duration": 16,
    "start_time": "2024-06-10T02:33:57.348Z"
   },
   {
    "duration": 30,
    "start_time": "2024-06-10T02:33:57.365Z"
   },
   {
    "duration": 5,
    "start_time": "2024-06-10T02:33:57.397Z"
   },
   {
    "duration": 12,
    "start_time": "2024-06-10T02:33:57.404Z"
   },
   {
    "duration": 24,
    "start_time": "2024-06-10T02:33:57.417Z"
   },
   {
    "duration": 22,
    "start_time": "2024-06-10T02:37:54.282Z"
   },
   {
    "duration": 19,
    "start_time": "2024-06-10T02:38:20.863Z"
   },
   {
    "duration": 6,
    "start_time": "2024-06-10T02:40:02.092Z"
   },
   {
    "duration": 15,
    "start_time": "2024-06-10T02:42:23.142Z"
   },
   {
    "duration": 29,
    "start_time": "2024-06-10T02:42:27.119Z"
   },
   {
    "duration": 6,
    "start_time": "2024-06-10T02:42:51.253Z"
   },
   {
    "duration": 6,
    "start_time": "2024-06-10T02:44:41.596Z"
   },
   {
    "duration": 6,
    "start_time": "2024-06-10T02:45:15.574Z"
   },
   {
    "duration": 5,
    "start_time": "2024-06-10T02:46:49.658Z"
   },
   {
    "duration": 21,
    "start_time": "2024-06-10T02:47:04.692Z"
   },
   {
    "duration": 25,
    "start_time": "2024-06-10T02:47:33.522Z"
   },
   {
    "duration": 9,
    "start_time": "2024-06-10T02:47:54.271Z"
   },
   {
    "duration": 84,
    "start_time": "2024-06-10T02:48:01.737Z"
   },
   {
    "duration": 21,
    "start_time": "2024-06-10T02:48:05.588Z"
   },
   {
    "duration": 20,
    "start_time": "2024-06-10T02:48:32.025Z"
   },
   {
    "duration": 10,
    "start_time": "2024-06-10T02:48:50.284Z"
   },
   {
    "duration": 6,
    "start_time": "2024-06-10T02:49:06.181Z"
   },
   {
    "duration": 11,
    "start_time": "2024-06-10T02:53:04.280Z"
   },
   {
    "duration": 3,
    "start_time": "2024-06-10T02:53:27.335Z"
   },
   {
    "duration": 14,
    "start_time": "2024-06-10T02:53:54.609Z"
   },
   {
    "duration": 17,
    "start_time": "2024-06-10T02:54:02.075Z"
   },
   {
    "duration": 7,
    "start_time": "2024-06-10T02:54:19.537Z"
   },
   {
    "duration": 4,
    "start_time": "2024-06-10T02:59:51.792Z"
   },
   {
    "duration": 369,
    "start_time": "2024-06-10T03:00:05.485Z"
   },
   {
    "duration": 120,
    "start_time": "2024-06-10T03:00:05.856Z"
   },
   {
    "duration": 19,
    "start_time": "2024-06-10T03:00:05.977Z"
   },
   {
    "duration": 21,
    "start_time": "2024-06-10T03:00:05.998Z"
   },
   {
    "duration": 9,
    "start_time": "2024-06-10T03:00:06.026Z"
   },
   {
    "duration": 15,
    "start_time": "2024-06-10T03:00:06.036Z"
   },
   {
    "duration": 17,
    "start_time": "2024-06-10T03:00:06.052Z"
   },
   {
    "duration": 26,
    "start_time": "2024-06-10T03:00:06.071Z"
   },
   {
    "duration": 14,
    "start_time": "2024-06-10T03:00:06.099Z"
   },
   {
    "duration": 6,
    "start_time": "2024-06-10T03:00:06.122Z"
   },
   {
    "duration": 4,
    "start_time": "2024-06-10T03:00:06.129Z"
   },
   {
    "duration": 16,
    "start_time": "2024-06-10T03:00:06.134Z"
   },
   {
    "duration": 110,
    "start_time": "2024-06-10T03:00:06.151Z"
   },
   {
    "duration": 0,
    "start_time": "2024-06-10T03:00:06.263Z"
   },
   {
    "duration": 0,
    "start_time": "2024-06-10T03:00:06.264Z"
   },
   {
    "duration": 0,
    "start_time": "2024-06-10T03:00:06.264Z"
   },
   {
    "duration": 0,
    "start_time": "2024-06-10T03:00:06.265Z"
   },
   {
    "duration": 0,
    "start_time": "2024-06-10T03:00:06.266Z"
   },
   {
    "duration": 0,
    "start_time": "2024-06-10T03:00:06.267Z"
   },
   {
    "duration": 0,
    "start_time": "2024-06-10T03:00:06.267Z"
   },
   {
    "duration": 0,
    "start_time": "2024-06-10T03:00:06.268Z"
   },
   {
    "duration": 0,
    "start_time": "2024-06-10T03:00:06.269Z"
   },
   {
    "duration": 0,
    "start_time": "2024-06-10T03:00:06.273Z"
   },
   {
    "duration": 1,
    "start_time": "2024-06-10T03:00:06.274Z"
   },
   {
    "duration": 0,
    "start_time": "2024-06-10T03:00:06.276Z"
   },
   {
    "duration": 0,
    "start_time": "2024-06-10T03:00:06.277Z"
   },
   {
    "duration": 0,
    "start_time": "2024-06-10T03:00:06.279Z"
   },
   {
    "duration": 0,
    "start_time": "2024-06-10T03:00:06.280Z"
   },
   {
    "duration": 0,
    "start_time": "2024-06-10T03:00:06.281Z"
   },
   {
    "duration": 0,
    "start_time": "2024-06-10T03:00:06.283Z"
   },
   {
    "duration": 0,
    "start_time": "2024-06-10T03:00:06.284Z"
   },
   {
    "duration": 0,
    "start_time": "2024-06-10T03:00:06.285Z"
   },
   {
    "duration": 0,
    "start_time": "2024-06-10T03:00:06.309Z"
   },
   {
    "duration": 0,
    "start_time": "2024-06-10T03:00:06.310Z"
   },
   {
    "duration": 0,
    "start_time": "2024-06-10T03:00:06.310Z"
   },
   {
    "duration": 0,
    "start_time": "2024-06-10T03:00:06.311Z"
   },
   {
    "duration": 0,
    "start_time": "2024-06-10T03:00:06.311Z"
   },
   {
    "duration": 0,
    "start_time": "2024-06-10T03:00:06.312Z"
   },
   {
    "duration": 0,
    "start_time": "2024-06-10T03:00:06.312Z"
   },
   {
    "duration": 0,
    "start_time": "2024-06-10T03:00:06.313Z"
   },
   {
    "duration": 0,
    "start_time": "2024-06-10T03:00:06.313Z"
   },
   {
    "duration": 0,
    "start_time": "2024-06-10T03:00:06.314Z"
   },
   {
    "duration": 14,
    "start_time": "2024-06-10T03:00:16.240Z"
   },
   {
    "duration": 6,
    "start_time": "2024-06-10T03:00:17.498Z"
   },
   {
    "duration": 5,
    "start_time": "2024-06-10T03:00:18.465Z"
   },
   {
    "duration": 6,
    "start_time": "2024-06-10T03:00:19.367Z"
   },
   {
    "duration": 5,
    "start_time": "2024-06-10T03:00:19.633Z"
   },
   {
    "duration": 6,
    "start_time": "2024-06-10T03:00:19.843Z"
   },
   {
    "duration": 4,
    "start_time": "2024-06-10T03:00:20.043Z"
   },
   {
    "duration": 5,
    "start_time": "2024-06-10T03:00:20.264Z"
   },
   {
    "duration": 8,
    "start_time": "2024-06-10T03:00:20.723Z"
   },
   {
    "duration": 4,
    "start_time": "2024-06-10T03:00:21.205Z"
   },
   {
    "duration": 16,
    "start_time": "2024-06-10T03:00:21.491Z"
   },
   {
    "duration": 15,
    "start_time": "2024-06-10T03:00:22.123Z"
   },
   {
    "duration": 4,
    "start_time": "2024-06-10T03:00:22.818Z"
   },
   {
    "duration": 4,
    "start_time": "2024-06-10T03:00:23.447Z"
   },
   {
    "duration": 10,
    "start_time": "2024-06-10T03:00:23.751Z"
   },
   {
    "duration": 4,
    "start_time": "2024-06-10T03:00:24.663Z"
   },
   {
    "duration": 7,
    "start_time": "2024-06-10T03:00:25.291Z"
   },
   {
    "duration": 8,
    "start_time": "2024-06-10T03:00:25.621Z"
   },
   {
    "duration": 8,
    "start_time": "2024-06-10T03:00:26.391Z"
   },
   {
    "duration": 4,
    "start_time": "2024-06-10T03:00:27.377Z"
   },
   {
    "duration": 21,
    "start_time": "2024-06-10T03:00:28.748Z"
   },
   {
    "duration": 13,
    "start_time": "2024-06-10T03:00:29.814Z"
   },
   {
    "duration": 13,
    "start_time": "2024-06-10T07:31:56.950Z"
   },
   {
    "duration": 16,
    "start_time": "2024-06-10T07:32:04.222Z"
   },
   {
    "duration": 4,
    "start_time": "2024-06-10T07:32:05.144Z"
   },
   {
    "duration": 11,
    "start_time": "2024-06-10T07:32:06.826Z"
   },
   {
    "duration": 23,
    "start_time": "2024-06-10T07:32:08.862Z"
   },
   {
    "duration": 6,
    "start_time": "2024-06-10T07:32:09.396Z"
   },
   {
    "duration": 15,
    "start_time": "2024-06-10T07:32:19.597Z"
   },
   {
    "duration": 5,
    "start_time": "2024-06-10T07:32:52.810Z"
   },
   {
    "duration": 7,
    "start_time": "2024-06-10T07:32:53.293Z"
   },
   {
    "duration": 8,
    "start_time": "2024-06-10T07:33:13.492Z"
   },
   {
    "duration": 4,
    "start_time": "2024-06-10T07:33:14.405Z"
   },
   {
    "duration": 7,
    "start_time": "2024-06-10T07:33:14.773Z"
   },
   {
    "duration": 383,
    "start_time": "2024-06-10T07:33:29.823Z"
   },
   {
    "duration": 152,
    "start_time": "2024-06-10T07:33:30.209Z"
   },
   {
    "duration": 30,
    "start_time": "2024-06-10T07:33:30.363Z"
   },
   {
    "duration": 25,
    "start_time": "2024-06-10T07:33:30.395Z"
   },
   {
    "duration": 37,
    "start_time": "2024-06-10T07:33:30.422Z"
   },
   {
    "duration": 45,
    "start_time": "2024-06-10T07:33:30.460Z"
   },
   {
    "duration": 58,
    "start_time": "2024-06-10T07:33:30.507Z"
   },
   {
    "duration": 76,
    "start_time": "2024-06-10T07:33:30.567Z"
   },
   {
    "duration": 51,
    "start_time": "2024-06-10T07:33:30.645Z"
   },
   {
    "duration": 114,
    "start_time": "2024-06-10T07:33:30.698Z"
   },
   {
    "duration": 119,
    "start_time": "2024-06-10T07:33:30.813Z"
   },
   {
    "duration": 249,
    "start_time": "2024-06-10T07:33:30.933Z"
   },
   {
    "duration": 69,
    "start_time": "2024-06-10T07:33:31.183Z"
   },
   {
    "duration": 81,
    "start_time": "2024-06-10T07:33:31.253Z"
   },
   {
    "duration": 196,
    "start_time": "2024-06-10T07:33:31.335Z"
   },
   {
    "duration": 389,
    "start_time": "2024-06-10T07:33:31.532Z"
   },
   {
    "duration": 41,
    "start_time": "2024-06-10T07:33:31.922Z"
   },
   {
    "duration": 23,
    "start_time": "2024-06-10T07:33:31.965Z"
   },
   {
    "duration": 13,
    "start_time": "2024-06-10T07:33:31.989Z"
   },
   {
    "duration": 39,
    "start_time": "2024-06-10T07:33:32.004Z"
   },
   {
    "duration": 36,
    "start_time": "2024-06-10T07:33:32.045Z"
   },
   {
    "duration": 245,
    "start_time": "2024-06-10T07:33:32.082Z"
   },
   {
    "duration": 82,
    "start_time": "2024-06-10T07:33:32.328Z"
   },
   {
    "duration": 33,
    "start_time": "2024-06-10T07:33:32.412Z"
   },
   {
    "duration": 5,
    "start_time": "2024-06-10T07:33:32.447Z"
   },
   {
    "duration": 10,
    "start_time": "2024-06-10T07:33:32.453Z"
   },
   {
    "duration": 61,
    "start_time": "2024-06-10T07:33:32.465Z"
   },
   {
    "duration": 21,
    "start_time": "2024-06-10T07:33:32.530Z"
   },
   {
    "duration": 21,
    "start_time": "2024-06-10T07:33:32.553Z"
   },
   {
    "duration": 10,
    "start_time": "2024-06-10T07:33:32.576Z"
   },
   {
    "duration": 9,
    "start_time": "2024-06-10T07:33:32.588Z"
   },
   {
    "duration": 16,
    "start_time": "2024-06-10T07:33:32.598Z"
   },
   {
    "duration": 25,
    "start_time": "2024-06-10T07:33:32.615Z"
   },
   {
    "duration": 10,
    "start_time": "2024-06-10T07:33:32.642Z"
   },
   {
    "duration": 14,
    "start_time": "2024-06-10T07:33:32.653Z"
   },
   {
    "duration": 26,
    "start_time": "2024-06-10T07:33:32.669Z"
   },
   {
    "duration": 17,
    "start_time": "2024-06-10T07:33:32.697Z"
   },
   {
    "duration": 11,
    "start_time": "2024-06-10T07:33:32.715Z"
   },
   {
    "duration": 16,
    "start_time": "2024-06-10T07:33:32.727Z"
   },
   {
    "duration": 7,
    "start_time": "2024-06-10T07:33:32.744Z"
   },
   {
    "duration": 4,
    "start_time": "2024-06-10T07:33:32.752Z"
   },
   {
    "duration": 9,
    "start_time": "2024-06-10T07:33:32.758Z"
   },
   {
    "duration": 6,
    "start_time": "2024-06-10T07:33:47.097Z"
   },
   {
    "duration": 4,
    "start_time": "2024-06-10T10:37:00.828Z"
   },
   {
    "duration": 64,
    "start_time": "2024-06-10T10:37:18.459Z"
   },
   {
    "duration": 12,
    "start_time": "2024-06-10T10:37:22.839Z"
   },
   {
    "duration": 5,
    "start_time": "2024-06-10T11:01:13.355Z"
   },
   {
    "duration": 4,
    "start_time": "2024-06-10T11:02:56.305Z"
   },
   {
    "duration": 4,
    "start_time": "2024-06-10T11:04:42.685Z"
   },
   {
    "duration": 10,
    "start_time": "2024-06-10T11:08:17.980Z"
   },
   {
    "duration": 12,
    "start_time": "2024-06-10T11:08:26.966Z"
   },
   {
    "duration": 21,
    "start_time": "2024-06-10T11:08:36.927Z"
   },
   {
    "duration": 2,
    "start_time": "2024-06-10T11:25:42.453Z"
   },
   {
    "duration": 3,
    "start_time": "2024-06-10T11:25:44.471Z"
   },
   {
    "duration": 2,
    "start_time": "2024-06-10T11:26:26.849Z"
   },
   {
    "duration": 3,
    "start_time": "2024-06-10T11:26:28.887Z"
   },
   {
    "duration": 3,
    "start_time": "2024-06-10T11:26:53.184Z"
   },
   {
    "duration": 4,
    "start_time": "2024-06-10T11:26:54.542Z"
   },
   {
    "duration": 2,
    "start_time": "2024-06-10T11:27:47.585Z"
   },
   {
    "duration": 3,
    "start_time": "2024-06-10T11:27:48.104Z"
   },
   {
    "duration": 3,
    "start_time": "2024-06-10T11:27:48.612Z"
   },
   {
    "duration": 9,
    "start_time": "2024-06-10T11:29:47.242Z"
   },
   {
    "duration": 42,
    "start_time": "2024-06-10T11:34:14.475Z"
   },
   {
    "duration": 13,
    "start_time": "2024-06-10T11:36:40.343Z"
   },
   {
    "duration": 7,
    "start_time": "2024-06-10T11:38:02.163Z"
   },
   {
    "duration": 14,
    "start_time": "2024-06-10T11:38:16.284Z"
   },
   {
    "duration": 16,
    "start_time": "2024-06-10T11:38:43.300Z"
   },
   {
    "duration": 26,
    "start_time": "2024-06-10T11:38:58.215Z"
   },
   {
    "duration": 16,
    "start_time": "2024-06-10T11:44:17.012Z"
   },
   {
    "duration": 15,
    "start_time": "2024-06-10T11:45:28.970Z"
   },
   {
    "duration": 7,
    "start_time": "2024-06-10T11:45:38.218Z"
   },
   {
    "duration": 13,
    "start_time": "2024-06-10T11:45:41.663Z"
   },
   {
    "duration": 7,
    "start_time": "2024-06-10T11:47:05.038Z"
   },
   {
    "duration": 16,
    "start_time": "2024-06-10T11:47:08.183Z"
   },
   {
    "duration": 10,
    "start_time": "2024-06-10T12:18:54.385Z"
   },
   {
    "duration": 9,
    "start_time": "2024-06-10T12:19:22.341Z"
   },
   {
    "duration": 10,
    "start_time": "2024-06-10T12:21:08.203Z"
   },
   {
    "duration": 14,
    "start_time": "2024-06-10T12:21:11.455Z"
   },
   {
    "duration": 7,
    "start_time": "2024-06-10T12:21:30.135Z"
   },
   {
    "duration": 21,
    "start_time": "2024-06-10T12:21:34.027Z"
   },
   {
    "duration": 13,
    "start_time": "2024-06-10T12:23:06.255Z"
   },
   {
    "duration": 344,
    "start_time": "2024-06-10T12:26:12.371Z"
   },
   {
    "duration": 114,
    "start_time": "2024-06-10T12:26:12.717Z"
   },
   {
    "duration": 19,
    "start_time": "2024-06-10T12:26:12.832Z"
   },
   {
    "duration": 13,
    "start_time": "2024-06-10T12:26:12.852Z"
   },
   {
    "duration": 8,
    "start_time": "2024-06-10T12:26:12.866Z"
   },
   {
    "duration": 5,
    "start_time": "2024-06-10T12:26:12.875Z"
   },
   {
    "duration": 12,
    "start_time": "2024-06-10T12:26:12.881Z"
   },
   {
    "duration": 25,
    "start_time": "2024-06-10T12:26:12.894Z"
   },
   {
    "duration": 6,
    "start_time": "2024-06-10T12:26:12.920Z"
   },
   {
    "duration": 5,
    "start_time": "2024-06-10T12:26:12.929Z"
   },
   {
    "duration": 10,
    "start_time": "2024-06-10T12:26:12.935Z"
   },
   {
    "duration": 17,
    "start_time": "2024-06-10T12:26:12.947Z"
   },
   {
    "duration": 41,
    "start_time": "2024-06-10T12:26:12.966Z"
   },
   {
    "duration": 6,
    "start_time": "2024-06-10T12:26:13.008Z"
   },
   {
    "duration": 28,
    "start_time": "2024-06-10T12:26:13.016Z"
   },
   {
    "duration": 7,
    "start_time": "2024-06-10T12:26:13.046Z"
   },
   {
    "duration": 6,
    "start_time": "2024-06-10T12:26:13.055Z"
   },
   {
    "duration": 10,
    "start_time": "2024-06-10T12:26:13.062Z"
   },
   {
    "duration": 6,
    "start_time": "2024-06-10T12:26:13.074Z"
   },
   {
    "duration": 5,
    "start_time": "2024-06-10T12:26:13.081Z"
   },
   {
    "duration": 12,
    "start_time": "2024-06-10T12:26:13.087Z"
   },
   {
    "duration": 12,
    "start_time": "2024-06-10T12:26:13.100Z"
   },
   {
    "duration": 19,
    "start_time": "2024-06-10T12:26:13.113Z"
   },
   {
    "duration": 17,
    "start_time": "2024-06-10T12:26:13.133Z"
   },
   {
    "duration": 3,
    "start_time": "2024-06-10T12:26:13.151Z"
   },
   {
    "duration": 11,
    "start_time": "2024-06-10T12:26:13.155Z"
   },
   {
    "duration": 17,
    "start_time": "2024-06-10T12:26:13.167Z"
   },
   {
    "duration": 32,
    "start_time": "2024-06-10T12:26:13.187Z"
   },
   {
    "duration": 22,
    "start_time": "2024-06-10T12:26:13.220Z"
   },
   {
    "duration": 8,
    "start_time": "2024-06-10T12:26:13.244Z"
   },
   {
    "duration": 11,
    "start_time": "2024-06-10T12:26:13.253Z"
   },
   {
    "duration": 4,
    "start_time": "2024-06-10T12:26:13.265Z"
   },
   {
    "duration": 34,
    "start_time": "2024-06-10T12:26:13.270Z"
   },
   {
    "duration": 9,
    "start_time": "2024-06-10T12:26:13.306Z"
   },
   {
    "duration": 30,
    "start_time": "2024-06-10T12:26:13.316Z"
   },
   {
    "duration": 20,
    "start_time": "2024-06-10T12:26:13.347Z"
   },
   {
    "duration": 18,
    "start_time": "2024-06-10T12:26:13.368Z"
   },
   {
    "duration": 12,
    "start_time": "2024-06-10T12:26:13.388Z"
   },
   {
    "duration": 22,
    "start_time": "2024-06-10T12:26:13.401Z"
   },
   {
    "duration": 16,
    "start_time": "2024-06-10T12:26:13.424Z"
   },
   {
    "duration": 8,
    "start_time": "2024-06-10T12:26:13.442Z"
   },
   {
    "duration": 11,
    "start_time": "2024-06-10T12:26:13.451Z"
   },
   {
    "duration": 44,
    "start_time": "2024-06-10T12:26:13.463Z"
   },
   {
    "duration": 8,
    "start_time": "2024-06-10T12:26:13.508Z"
   },
   {
    "duration": 11,
    "start_time": "2024-06-10T12:26:13.517Z"
   },
   {
    "duration": 15,
    "start_time": "2024-06-10T12:26:13.530Z"
   },
   {
    "duration": 1280,
    "start_time": "2024-06-10T12:26:13.546Z"
   },
   {
    "duration": 0,
    "start_time": "2024-06-10T12:26:14.827Z"
   },
   {
    "duration": 0,
    "start_time": "2024-06-10T12:26:14.828Z"
   },
   {
    "duration": 0,
    "start_time": "2024-06-10T12:26:14.829Z"
   },
   {
    "duration": 0,
    "start_time": "2024-06-10T12:26:14.830Z"
   },
   {
    "duration": 14,
    "start_time": "2024-06-10T12:44:37.383Z"
   },
   {
    "duration": 7,
    "start_time": "2024-06-10T12:44:56.462Z"
   },
   {
    "duration": 26,
    "start_time": "2024-06-10T12:44:58.187Z"
   },
   {
    "duration": 361,
    "start_time": "2024-06-10T12:46:04.240Z"
   },
   {
    "duration": 116,
    "start_time": "2024-06-10T12:46:04.603Z"
   },
   {
    "duration": 26,
    "start_time": "2024-06-10T12:46:04.720Z"
   },
   {
    "duration": 20,
    "start_time": "2024-06-10T12:46:04.749Z"
   },
   {
    "duration": 8,
    "start_time": "2024-06-10T12:46:04.771Z"
   },
   {
    "duration": 9,
    "start_time": "2024-06-10T12:46:04.781Z"
   },
   {
    "duration": 22,
    "start_time": "2024-06-10T12:46:04.791Z"
   },
   {
    "duration": 9,
    "start_time": "2024-06-10T12:46:04.814Z"
   },
   {
    "duration": 3,
    "start_time": "2024-06-10T12:46:04.825Z"
   },
   {
    "duration": 10,
    "start_time": "2024-06-10T12:46:04.830Z"
   },
   {
    "duration": 5,
    "start_time": "2024-06-10T12:46:04.841Z"
   },
   {
    "duration": 8,
    "start_time": "2024-06-10T12:46:04.847Z"
   },
   {
    "duration": 16,
    "start_time": "2024-06-10T12:46:04.856Z"
   },
   {
    "duration": 7,
    "start_time": "2024-06-10T12:46:04.873Z"
   },
   {
    "duration": 31,
    "start_time": "2024-06-10T12:46:04.881Z"
   },
   {
    "duration": 9,
    "start_time": "2024-06-10T12:46:04.913Z"
   },
   {
    "duration": 6,
    "start_time": "2024-06-10T12:46:04.924Z"
   },
   {
    "duration": 5,
    "start_time": "2024-06-10T12:46:04.932Z"
   },
   {
    "duration": 17,
    "start_time": "2024-06-10T12:46:04.938Z"
   },
   {
    "duration": 5,
    "start_time": "2024-06-10T12:46:04.956Z"
   },
   {
    "duration": 7,
    "start_time": "2024-06-10T12:46:04.962Z"
   },
   {
    "duration": 4,
    "start_time": "2024-06-10T12:46:04.970Z"
   },
   {
    "duration": 35,
    "start_time": "2024-06-10T12:46:04.975Z"
   },
   {
    "duration": 43,
    "start_time": "2024-06-10T12:46:05.011Z"
   },
   {
    "duration": 4,
    "start_time": "2024-06-10T12:46:05.055Z"
   },
   {
    "duration": 4,
    "start_time": "2024-06-10T12:46:05.060Z"
   },
   {
    "duration": 15,
    "start_time": "2024-06-10T12:46:05.066Z"
   },
   {
    "duration": 6,
    "start_time": "2024-06-10T12:46:05.085Z"
   },
   {
    "duration": 14,
    "start_time": "2024-06-10T12:46:05.093Z"
   },
   {
    "duration": 13,
    "start_time": "2024-06-10T12:46:05.108Z"
   },
   {
    "duration": 7,
    "start_time": "2024-06-10T12:46:05.123Z"
   },
   {
    "duration": 19,
    "start_time": "2024-06-10T12:46:05.131Z"
   },
   {
    "duration": 23,
    "start_time": "2024-06-10T12:46:05.151Z"
   },
   {
    "duration": 9,
    "start_time": "2024-06-10T12:46:05.175Z"
   },
   {
    "duration": 16,
    "start_time": "2024-06-10T12:46:05.185Z"
   },
   {
    "duration": 28,
    "start_time": "2024-06-10T12:46:05.203Z"
   },
   {
    "duration": 17,
    "start_time": "2024-06-10T12:46:05.233Z"
   },
   {
    "duration": 10,
    "start_time": "2024-06-10T12:46:05.251Z"
   },
   {
    "duration": 15,
    "start_time": "2024-06-10T12:46:05.262Z"
   },
   {
    "duration": 10,
    "start_time": "2024-06-10T12:46:05.278Z"
   },
   {
    "duration": 4,
    "start_time": "2024-06-10T12:46:05.289Z"
   },
   {
    "duration": 18,
    "start_time": "2024-06-10T12:46:05.295Z"
   },
   {
    "duration": 5,
    "start_time": "2024-06-10T12:46:05.314Z"
   },
   {
    "duration": 17,
    "start_time": "2024-06-10T12:46:05.321Z"
   },
   {
    "duration": 15,
    "start_time": "2024-06-10T12:46:05.340Z"
   },
   {
    "duration": 14,
    "start_time": "2024-06-10T12:46:05.356Z"
   },
   {
    "duration": 40,
    "start_time": "2024-06-10T12:46:05.371Z"
   },
   {
    "duration": 22,
    "start_time": "2024-06-10T12:46:05.412Z"
   },
   {
    "duration": 4,
    "start_time": "2024-06-10T12:46:05.435Z"
   },
   {
    "duration": 4,
    "start_time": "2024-06-10T12:46:05.440Z"
   },
   {
    "duration": 6,
    "start_time": "2024-06-10T12:46:05.446Z"
   },
   {
    "duration": 413,
    "start_time": "2024-06-10T12:49:39.987Z"
   },
   {
    "duration": 115,
    "start_time": "2024-06-10T12:49:40.402Z"
   },
   {
    "duration": 18,
    "start_time": "2024-06-10T12:49:40.518Z"
   },
   {
    "duration": 13,
    "start_time": "2024-06-10T12:49:40.538Z"
   },
   {
    "duration": 8,
    "start_time": "2024-06-10T12:49:40.553Z"
   },
   {
    "duration": 4,
    "start_time": "2024-06-10T12:49:40.563Z"
   },
   {
    "duration": 21,
    "start_time": "2024-06-10T12:49:40.569Z"
   },
   {
    "duration": 22,
    "start_time": "2024-06-10T12:49:40.591Z"
   },
   {
    "duration": 4,
    "start_time": "2024-06-10T12:49:40.614Z"
   },
   {
    "duration": 32,
    "start_time": "2024-06-10T12:49:40.620Z"
   },
   {
    "duration": 3,
    "start_time": "2024-06-10T12:49:40.654Z"
   },
   {
    "duration": 8,
    "start_time": "2024-06-10T12:49:40.658Z"
   },
   {
    "duration": 14,
    "start_time": "2024-06-10T12:49:40.667Z"
   },
   {
    "duration": 5,
    "start_time": "2024-06-10T12:49:40.683Z"
   },
   {
    "duration": 6,
    "start_time": "2024-06-10T12:49:40.689Z"
   },
   {
    "duration": 8,
    "start_time": "2024-06-10T12:49:40.696Z"
   },
   {
    "duration": 4,
    "start_time": "2024-06-10T12:49:40.705Z"
   },
   {
    "duration": 4,
    "start_time": "2024-06-10T12:49:40.711Z"
   },
   {
    "duration": 5,
    "start_time": "2024-06-10T12:49:40.716Z"
   },
   {
    "duration": 4,
    "start_time": "2024-06-10T12:49:40.722Z"
   },
   {
    "duration": 8,
    "start_time": "2024-06-10T12:49:40.727Z"
   },
   {
    "duration": 22,
    "start_time": "2024-06-10T12:49:40.737Z"
   },
   {
    "duration": 12,
    "start_time": "2024-06-10T12:49:40.761Z"
   },
   {
    "duration": 15,
    "start_time": "2024-06-10T12:49:40.774Z"
   },
   {
    "duration": 20,
    "start_time": "2024-06-10T12:49:40.790Z"
   },
   {
    "duration": 10,
    "start_time": "2024-06-10T12:49:40.811Z"
   },
   {
    "duration": 16,
    "start_time": "2024-06-10T12:49:40.823Z"
   },
   {
    "duration": 4,
    "start_time": "2024-06-10T12:49:40.842Z"
   },
   {
    "duration": 22,
    "start_time": "2024-06-10T12:49:40.848Z"
   },
   {
    "duration": 8,
    "start_time": "2024-06-10T12:49:40.871Z"
   },
   {
    "duration": 15,
    "start_time": "2024-06-10T12:49:40.880Z"
   },
   {
    "duration": 8,
    "start_time": "2024-06-10T12:49:40.897Z"
   },
   {
    "duration": 22,
    "start_time": "2024-06-10T12:49:40.906Z"
   },
   {
    "duration": 8,
    "start_time": "2024-06-10T12:49:40.929Z"
   },
   {
    "duration": 15,
    "start_time": "2024-06-10T12:49:40.938Z"
   },
   {
    "duration": 21,
    "start_time": "2024-06-10T12:49:40.954Z"
   },
   {
    "duration": 6,
    "start_time": "2024-06-10T12:49:40.976Z"
   },
   {
    "duration": 8,
    "start_time": "2024-06-10T12:49:40.983Z"
   },
   {
    "duration": 15,
    "start_time": "2024-06-10T12:49:41.009Z"
   },
   {
    "duration": 6,
    "start_time": "2024-06-10T12:49:41.025Z"
   },
   {
    "duration": 5,
    "start_time": "2024-06-10T12:49:41.032Z"
   },
   {
    "duration": 7,
    "start_time": "2024-06-10T12:49:41.038Z"
   },
   {
    "duration": 4,
    "start_time": "2024-06-10T12:49:41.046Z"
   },
   {
    "duration": 4,
    "start_time": "2024-06-10T12:49:41.051Z"
   },
   {
    "duration": 3,
    "start_time": "2024-06-10T12:49:41.056Z"
   },
   {
    "duration": 12,
    "start_time": "2024-06-10T12:49:41.061Z"
   },
   {
    "duration": 43,
    "start_time": "2024-06-10T12:49:41.110Z"
   },
   {
    "duration": 22,
    "start_time": "2024-06-10T12:49:41.154Z"
   },
   {
    "duration": 5,
    "start_time": "2024-06-10T12:57:39.014Z"
   },
   {
    "duration": 14,
    "start_time": "2024-06-10T12:57:57.539Z"
   },
   {
    "duration": 5,
    "start_time": "2024-06-10T13:01:53.663Z"
   },
   {
    "duration": 415,
    "start_time": "2024-06-10T13:04:10.502Z"
   },
   {
    "duration": 116,
    "start_time": "2024-06-10T13:04:10.919Z"
   },
   {
    "duration": 20,
    "start_time": "2024-06-10T13:04:11.037Z"
   },
   {
    "duration": 13,
    "start_time": "2024-06-10T13:04:11.058Z"
   },
   {
    "duration": 9,
    "start_time": "2024-06-10T13:04:11.073Z"
   },
   {
    "duration": 5,
    "start_time": "2024-06-10T13:04:11.083Z"
   },
   {
    "duration": 13,
    "start_time": "2024-06-10T13:04:11.089Z"
   },
   {
    "duration": 10,
    "start_time": "2024-06-10T13:04:11.104Z"
   },
   {
    "duration": 6,
    "start_time": "2024-06-10T13:04:11.115Z"
   },
   {
    "duration": 5,
    "start_time": "2024-06-10T13:04:11.123Z"
   },
   {
    "duration": 9,
    "start_time": "2024-06-10T13:04:11.130Z"
   },
   {
    "duration": 7,
    "start_time": "2024-06-10T13:04:11.140Z"
   },
   {
    "duration": 16,
    "start_time": "2024-06-10T13:04:11.148Z"
   },
   {
    "duration": 7,
    "start_time": "2024-06-10T13:04:11.165Z"
   },
   {
    "duration": 4,
    "start_time": "2024-06-10T13:04:11.173Z"
   },
   {
    "duration": 31,
    "start_time": "2024-06-10T13:04:11.179Z"
   },
   {
    "duration": 5,
    "start_time": "2024-06-10T13:04:11.212Z"
   },
   {
    "duration": 5,
    "start_time": "2024-06-10T13:04:11.218Z"
   },
   {
    "duration": 5,
    "start_time": "2024-06-10T13:04:11.224Z"
   },
   {
    "duration": 5,
    "start_time": "2024-06-10T13:04:11.230Z"
   },
   {
    "duration": 8,
    "start_time": "2024-06-10T13:04:11.236Z"
   },
   {
    "duration": 4,
    "start_time": "2024-06-10T13:04:11.246Z"
   },
   {
    "duration": 14,
    "start_time": "2024-06-10T13:04:11.251Z"
   },
   {
    "duration": 48,
    "start_time": "2024-06-10T13:04:11.266Z"
   },
   {
    "duration": 25,
    "start_time": "2024-06-10T13:04:11.315Z"
   },
   {
    "duration": 10,
    "start_time": "2024-06-10T13:04:11.342Z"
   },
   {
    "duration": 12,
    "start_time": "2024-06-10T13:04:11.353Z"
   },
   {
    "duration": 3,
    "start_time": "2024-06-10T13:04:11.369Z"
   },
   {
    "duration": 8,
    "start_time": "2024-06-10T13:04:11.373Z"
   },
   {
    "duration": 7,
    "start_time": "2024-06-10T13:04:11.382Z"
   },
   {
    "duration": 8,
    "start_time": "2024-06-10T13:04:11.390Z"
   },
   {
    "duration": 10,
    "start_time": "2024-06-10T13:04:11.399Z"
   },
   {
    "duration": 22,
    "start_time": "2024-06-10T13:04:11.410Z"
   },
   {
    "duration": 20,
    "start_time": "2024-06-10T13:04:11.437Z"
   },
   {
    "duration": 20,
    "start_time": "2024-06-10T13:04:11.458Z"
   },
   {
    "duration": 16,
    "start_time": "2024-06-10T13:04:11.479Z"
   },
   {
    "duration": 5,
    "start_time": "2024-06-10T13:04:11.508Z"
   },
   {
    "duration": 22,
    "start_time": "2024-06-10T13:04:11.514Z"
   },
   {
    "duration": 15,
    "start_time": "2024-06-10T13:04:11.538Z"
   },
   {
    "duration": 6,
    "start_time": "2024-06-10T13:04:11.554Z"
   },
   {
    "duration": 4,
    "start_time": "2024-06-10T13:04:11.562Z"
   },
   {
    "duration": 8,
    "start_time": "2024-06-10T13:04:11.567Z"
   },
   {
    "duration": 7,
    "start_time": "2024-06-10T13:04:11.576Z"
   },
   {
    "duration": 9,
    "start_time": "2024-06-10T13:04:11.584Z"
   },
   {
    "duration": 18,
    "start_time": "2024-06-10T13:04:11.594Z"
   },
   {
    "duration": 13,
    "start_time": "2024-06-10T13:04:11.613Z"
   },
   {
    "duration": 50,
    "start_time": "2024-06-10T13:04:11.627Z"
   },
   {
    "duration": 39,
    "start_time": "2024-06-10T13:04:11.678Z"
   },
   {
    "duration": 8,
    "start_time": "2024-06-10T13:04:11.718Z"
   },
   {
    "duration": 51,
    "start_time": "2024-06-10T22:39:23.489Z"
   },
   {
    "duration": 429,
    "start_time": "2024-06-10T22:39:55.970Z"
   },
   {
    "duration": 245,
    "start_time": "2024-06-10T22:39:56.401Z"
   },
   {
    "duration": 26,
    "start_time": "2024-06-10T22:39:56.648Z"
   },
   {
    "duration": 26,
    "start_time": "2024-06-10T22:39:56.676Z"
   },
   {
    "duration": 12,
    "start_time": "2024-06-10T22:39:56.704Z"
   },
   {
    "duration": 17,
    "start_time": "2024-06-10T22:39:56.718Z"
   },
   {
    "duration": 11,
    "start_time": "2024-06-10T22:39:56.737Z"
   },
   {
    "duration": 12,
    "start_time": "2024-06-10T22:39:56.761Z"
   },
   {
    "duration": 5,
    "start_time": "2024-06-10T22:39:56.774Z"
   },
   {
    "duration": 10,
    "start_time": "2024-06-10T22:39:56.782Z"
   },
   {
    "duration": 8,
    "start_time": "2024-06-10T22:39:56.793Z"
   },
   {
    "duration": 8,
    "start_time": "2024-06-10T22:39:56.803Z"
   },
   {
    "duration": 17,
    "start_time": "2024-06-10T22:39:56.812Z"
   },
   {
    "duration": 32,
    "start_time": "2024-06-10T22:39:56.831Z"
   },
   {
    "duration": 5,
    "start_time": "2024-06-10T22:39:56.864Z"
   },
   {
    "duration": 8,
    "start_time": "2024-06-10T22:39:56.871Z"
   },
   {
    "duration": 90,
    "start_time": "2024-06-10T22:39:56.880Z"
   },
   {
    "duration": 13,
    "start_time": "2024-06-10T22:39:56.971Z"
   },
   {
    "duration": 7,
    "start_time": "2024-06-10T22:39:56.986Z"
   },
   {
    "duration": 9,
    "start_time": "2024-06-10T22:39:56.995Z"
   },
   {
    "duration": 12,
    "start_time": "2024-06-10T22:39:57.006Z"
   },
   {
    "duration": 8,
    "start_time": "2024-06-10T22:39:57.020Z"
   },
   {
    "duration": 24,
    "start_time": "2024-06-10T22:39:57.030Z"
   },
   {
    "duration": 25,
    "start_time": "2024-06-10T22:39:57.061Z"
   },
   {
    "duration": 5,
    "start_time": "2024-06-10T22:39:57.088Z"
   },
   {
    "duration": 17,
    "start_time": "2024-06-10T22:39:57.095Z"
   },
   {
    "duration": 90,
    "start_time": "2024-06-10T22:39:57.114Z"
   },
   {
    "duration": 16,
    "start_time": "2024-06-10T22:39:57.208Z"
   },
   {
    "duration": 21,
    "start_time": "2024-06-10T22:39:57.225Z"
   },
   {
    "duration": 9,
    "start_time": "2024-06-10T22:39:57.247Z"
   },
   {
    "duration": 9,
    "start_time": "2024-06-10T22:39:57.258Z"
   },
   {
    "duration": 4,
    "start_time": "2024-06-10T22:39:57.269Z"
   },
   {
    "duration": 25,
    "start_time": "2024-06-10T22:39:57.274Z"
   },
   {
    "duration": 10,
    "start_time": "2024-06-10T22:39:57.300Z"
   },
   {
    "duration": 30,
    "start_time": "2024-06-10T22:39:57.312Z"
   },
   {
    "duration": 28,
    "start_time": "2024-06-10T22:39:57.343Z"
   },
   {
    "duration": 5,
    "start_time": "2024-06-10T22:39:57.372Z"
   },
   {
    "duration": 37,
    "start_time": "2024-06-10T22:39:57.378Z"
   },
   {
    "duration": 33,
    "start_time": "2024-06-10T22:39:57.417Z"
   },
   {
    "duration": 36,
    "start_time": "2024-06-10T22:39:57.451Z"
   },
   {
    "duration": 21,
    "start_time": "2024-06-10T22:39:57.489Z"
   },
   {
    "duration": 40,
    "start_time": "2024-06-10T22:39:57.512Z"
   },
   {
    "duration": 43,
    "start_time": "2024-06-10T22:39:57.553Z"
   },
   {
    "duration": 13,
    "start_time": "2024-06-10T22:39:57.597Z"
   },
   {
    "duration": 6,
    "start_time": "2024-06-10T22:39:57.611Z"
   },
   {
    "duration": 14,
    "start_time": "2024-06-10T22:39:57.619Z"
   },
   {
    "duration": 84,
    "start_time": "2024-06-10T22:39:57.635Z"
   },
   {
    "duration": 17,
    "start_time": "2024-06-10T22:39:57.721Z"
   },
   {
    "duration": 15,
    "start_time": "2024-06-10T22:39:57.740Z"
   },
   {
    "duration": 27,
    "start_time": "2024-06-10T22:40:39.561Z"
   },
   {
    "duration": 30,
    "start_time": "2024-06-10T22:41:33.322Z"
   },
   {
    "duration": 5,
    "start_time": "2024-06-10T22:43:39.281Z"
   },
   {
    "duration": 29,
    "start_time": "2024-06-10T22:43:42.762Z"
   },
   {
    "duration": 6,
    "start_time": "2024-06-10T22:44:11.351Z"
   },
   {
    "duration": 29,
    "start_time": "2024-06-10T22:44:14.590Z"
   },
   {
    "duration": 20,
    "start_time": "2024-06-10T22:44:46.689Z"
   },
   {
    "duration": 18,
    "start_time": "2024-06-10T22:45:04.545Z"
   },
   {
    "duration": 525,
    "start_time": "2024-06-10T22:47:46.141Z"
   },
   {
    "duration": 6,
    "start_time": "2024-06-10T22:48:16.546Z"
   },
   {
    "duration": 123,
    "start_time": "2024-06-10T22:48:38.269Z"
   },
   {
    "duration": 178,
    "start_time": "2024-06-10T22:48:51.629Z"
   },
   {
    "duration": 164,
    "start_time": "2024-06-10T22:54:32.243Z"
   },
   {
    "duration": 153,
    "start_time": "2024-06-10T22:56:17.141Z"
   },
   {
    "duration": 3,
    "start_time": "2024-06-10T22:56:47.229Z"
   },
   {
    "duration": 173,
    "start_time": "2024-06-10T22:57:14.842Z"
   },
   {
    "duration": 165,
    "start_time": "2024-06-10T22:57:59.132Z"
   },
   {
    "duration": 183,
    "start_time": "2024-06-10T22:58:07.742Z"
   },
   {
    "duration": 167,
    "start_time": "2024-06-10T22:58:20.304Z"
   },
   {
    "duration": 221,
    "start_time": "2024-06-10T22:59:03.867Z"
   },
   {
    "duration": 198,
    "start_time": "2024-06-10T23:04:04.936Z"
   },
   {
    "duration": 182,
    "start_time": "2024-06-10T23:04:18.923Z"
   },
   {
    "duration": 65,
    "start_time": "2024-06-10T23:07:27.161Z"
   },
   {
    "duration": 93,
    "start_time": "2024-06-10T23:07:32.962Z"
   },
   {
    "duration": 65,
    "start_time": "2024-06-10T23:15:57.083Z"
   },
   {
    "duration": 29,
    "start_time": "2024-06-10T23:16:04.652Z"
   },
   {
    "duration": 9,
    "start_time": "2024-06-10T23:16:38.402Z"
   },
   {
    "duration": 34,
    "start_time": "2024-06-10T23:17:24.100Z"
   },
   {
    "duration": 10,
    "start_time": "2024-06-10T23:18:12.894Z"
   },
   {
    "duration": 31,
    "start_time": "2024-06-10T23:18:29.328Z"
   },
   {
    "duration": 9,
    "start_time": "2024-06-10T23:19:10.322Z"
   },
   {
    "duration": 121,
    "start_time": "2024-06-10T23:20:43.432Z"
   },
   {
    "duration": 293,
    "start_time": "2024-06-10T23:21:14.631Z"
   },
   {
    "duration": 10,
    "start_time": "2024-06-10T23:22:14.970Z"
   },
   {
    "duration": 122,
    "start_time": "2024-06-10T23:22:29.200Z"
   },
   {
    "duration": 131,
    "start_time": "2024-06-10T23:22:44.931Z"
   },
   {
    "duration": 145,
    "start_time": "2024-06-10T23:29:24.011Z"
   },
   {
    "duration": 159,
    "start_time": "2024-06-10T23:39:32.453Z"
   },
   {
    "duration": 66,
    "start_time": "2024-06-10T23:41:31.286Z"
   },
   {
    "duration": 172,
    "start_time": "2024-06-10T23:41:37.571Z"
   },
   {
    "duration": 152,
    "start_time": "2024-06-10T23:42:35.711Z"
   },
   {
    "duration": 164,
    "start_time": "2024-06-10T23:42:43.648Z"
   },
   {
    "duration": 177,
    "start_time": "2024-06-10T23:43:01.544Z"
   },
   {
    "duration": 145,
    "start_time": "2024-06-10T23:43:05.161Z"
   },
   {
    "duration": 179,
    "start_time": "2024-06-10T23:47:45.129Z"
   },
   {
    "duration": 238,
    "start_time": "2024-06-10T23:48:06.803Z"
   },
   {
    "duration": 147,
    "start_time": "2024-06-10T23:48:43.842Z"
   },
   {
    "duration": 41,
    "start_time": "2024-06-11T02:10:45.739Z"
   },
   {
    "duration": 710,
    "start_time": "2024-06-11T02:10:52.234Z"
   },
   {
    "duration": 226,
    "start_time": "2024-06-11T02:10:52.946Z"
   },
   {
    "duration": 21,
    "start_time": "2024-06-11T02:10:53.173Z"
   },
   {
    "duration": 23,
    "start_time": "2024-06-11T02:10:53.196Z"
   },
   {
    "duration": 10,
    "start_time": "2024-06-11T02:10:53.221Z"
   },
   {
    "duration": 9,
    "start_time": "2024-06-11T02:10:53.232Z"
   },
   {
    "duration": 25,
    "start_time": "2024-06-11T02:10:53.242Z"
   },
   {
    "duration": 18,
    "start_time": "2024-06-11T02:10:53.268Z"
   },
   {
    "duration": 4,
    "start_time": "2024-06-11T02:10:53.287Z"
   },
   {
    "duration": 7,
    "start_time": "2024-06-11T02:10:53.293Z"
   },
   {
    "duration": 16,
    "start_time": "2024-06-11T02:10:53.301Z"
   },
   {
    "duration": 5,
    "start_time": "2024-06-11T02:10:53.318Z"
   },
   {
    "duration": 23,
    "start_time": "2024-06-11T02:10:53.324Z"
   },
   {
    "duration": 15,
    "start_time": "2024-06-11T02:10:53.348Z"
   },
   {
    "duration": 11,
    "start_time": "2024-06-11T02:10:53.364Z"
   },
   {
    "duration": 5,
    "start_time": "2024-06-11T02:10:53.377Z"
   },
   {
    "duration": 4,
    "start_time": "2024-06-11T02:10:53.384Z"
   },
   {
    "duration": 31,
    "start_time": "2024-06-11T02:10:53.389Z"
   },
   {
    "duration": 6,
    "start_time": "2024-06-11T02:10:53.421Z"
   },
   {
    "duration": 8,
    "start_time": "2024-06-11T02:10:53.428Z"
   },
   {
    "duration": 17,
    "start_time": "2024-06-11T02:10:53.437Z"
   },
   {
    "duration": 4,
    "start_time": "2024-06-11T02:10:53.455Z"
   },
   {
    "duration": 11,
    "start_time": "2024-06-11T02:10:53.460Z"
   },
   {
    "duration": 14,
    "start_time": "2024-06-11T02:10:53.473Z"
   },
   {
    "duration": 3,
    "start_time": "2024-06-11T02:10:53.488Z"
   },
   {
    "duration": 11,
    "start_time": "2024-06-11T02:10:53.492Z"
   },
   {
    "duration": 25,
    "start_time": "2024-06-11T02:10:53.505Z"
   },
   {
    "duration": 6,
    "start_time": "2024-06-11T02:10:53.532Z"
   },
   {
    "duration": 8,
    "start_time": "2024-06-11T02:10:53.539Z"
   },
   {
    "duration": 6,
    "start_time": "2024-06-11T02:10:53.548Z"
   },
   {
    "duration": 14,
    "start_time": "2024-06-11T02:10:53.555Z"
   },
   {
    "duration": 4,
    "start_time": "2024-06-11T02:10:53.571Z"
   },
   {
    "duration": 24,
    "start_time": "2024-06-11T02:10:53.576Z"
   },
   {
    "duration": 8,
    "start_time": "2024-06-11T02:10:53.601Z"
   },
   {
    "duration": 14,
    "start_time": "2024-06-11T02:10:53.610Z"
   },
   {
    "duration": 31,
    "start_time": "2024-06-11T02:10:53.625Z"
   },
   {
    "duration": 7,
    "start_time": "2024-06-11T02:10:53.657Z"
   },
   {
    "duration": 11,
    "start_time": "2024-06-11T02:10:53.665Z"
   },
   {
    "duration": 22,
    "start_time": "2024-06-11T02:10:53.677Z"
   },
   {
    "duration": 10,
    "start_time": "2024-06-11T02:10:53.701Z"
   },
   {
    "duration": 6,
    "start_time": "2024-06-11T02:10:53.713Z"
   },
   {
    "duration": 9,
    "start_time": "2024-06-11T02:10:53.721Z"
   },
   {
    "duration": 6,
    "start_time": "2024-06-11T02:10:53.731Z"
   },
   {
    "duration": 6,
    "start_time": "2024-06-11T02:10:53.738Z"
   },
   {
    "duration": 4,
    "start_time": "2024-06-11T02:10:53.745Z"
   },
   {
    "duration": 11,
    "start_time": "2024-06-11T02:10:53.750Z"
   },
   {
    "duration": 48,
    "start_time": "2024-06-11T02:10:53.762Z"
   },
   {
    "duration": 12,
    "start_time": "2024-06-11T02:10:53.811Z"
   },
   {
    "duration": 14,
    "start_time": "2024-06-11T02:10:53.824Z"
   },
   {
    "duration": 13,
    "start_time": "2024-06-11T02:10:53.839Z"
   },
   {
    "duration": 154,
    "start_time": "2024-06-11T02:10:53.853Z"
   },
   {
    "duration": 115,
    "start_time": "2024-06-11T02:10:54.008Z"
   },
   {
    "duration": 180,
    "start_time": "2024-06-11T02:11:26.811Z"
   },
   {
    "duration": 13,
    "start_time": "2024-06-11T02:24:56.056Z"
   },
   {
    "duration": 135,
    "start_time": "2024-06-11T02:30:27.593Z"
   },
   {
    "duration": 103,
    "start_time": "2024-06-11T02:37:22.491Z"
   },
   {
    "duration": 112,
    "start_time": "2024-06-11T02:38:04.681Z"
   },
   {
    "duration": 103,
    "start_time": "2024-06-11T02:38:36.524Z"
   },
   {
    "duration": 104,
    "start_time": "2024-06-11T02:40:23.173Z"
   },
   {
    "duration": 87,
    "start_time": "2024-06-11T02:42:17.155Z"
   },
   {
    "duration": 99,
    "start_time": "2024-06-11T02:42:31.269Z"
   },
   {
    "duration": 100,
    "start_time": "2024-06-11T02:42:37.646Z"
   },
   {
    "duration": 111,
    "start_time": "2024-06-11T02:43:37.202Z"
   },
   {
    "duration": 96,
    "start_time": "2024-06-11T02:43:56.438Z"
   },
   {
    "duration": 99,
    "start_time": "2024-06-11T02:44:15.517Z"
   },
   {
    "duration": 137,
    "start_time": "2024-06-11T02:44:44.489Z"
   },
   {
    "duration": 115,
    "start_time": "2024-06-11T02:48:54.174Z"
   },
   {
    "duration": 69,
    "start_time": "2024-06-11T02:52:02.270Z"
   },
   {
    "duration": 11,
    "start_time": "2024-06-11T02:52:14.343Z"
   },
   {
    "duration": 7,
    "start_time": "2024-06-11T02:54:15.124Z"
   },
   {
    "duration": 2,
    "start_time": "2024-06-11T02:54:48.900Z"
   },
   {
    "duration": 6,
    "start_time": "2024-06-11T02:54:57.746Z"
   },
   {
    "duration": 13,
    "start_time": "2024-06-11T02:55:02.533Z"
   },
   {
    "duration": 19,
    "start_time": "2024-06-11T02:55:34.186Z"
   },
   {
    "duration": 36,
    "start_time": "2024-06-11T02:55:46.782Z"
   },
   {
    "duration": 6,
    "start_time": "2024-06-11T02:56:02.556Z"
   },
   {
    "duration": 7,
    "start_time": "2024-06-11T02:56:27.046Z"
   },
   {
    "duration": 17,
    "start_time": "2024-06-11T02:56:34.421Z"
   },
   {
    "duration": 6,
    "start_time": "2024-06-11T02:57:09.371Z"
   },
   {
    "duration": 6,
    "start_time": "2024-06-11T02:57:27.830Z"
   },
   {
    "duration": 17,
    "start_time": "2024-06-11T02:57:34.774Z"
   },
   {
    "duration": 30,
    "start_time": "2024-06-11T03:00:12.020Z"
   },
   {
    "duration": 18,
    "start_time": "2024-06-11T03:00:55.059Z"
   },
   {
    "duration": 10,
    "start_time": "2024-06-11T03:02:29.546Z"
   },
   {
    "duration": 17,
    "start_time": "2024-06-11T03:03:33.526Z"
   },
   {
    "duration": 10,
    "start_time": "2024-06-11T03:04:14.338Z"
   },
   {
    "duration": 11,
    "start_time": "2024-06-11T03:04:25.621Z"
   },
   {
    "duration": 17,
    "start_time": "2024-06-11T03:04:30.289Z"
   },
   {
    "duration": 578,
    "start_time": "2024-06-11T03:04:44.469Z"
   },
   {
    "duration": 115,
    "start_time": "2024-06-11T03:04:45.049Z"
   },
   {
    "duration": 19,
    "start_time": "2024-06-11T03:04:45.166Z"
   },
   {
    "duration": 47,
    "start_time": "2024-06-11T03:04:45.187Z"
   },
   {
    "duration": 10,
    "start_time": "2024-06-11T03:04:45.235Z"
   },
   {
    "duration": 8,
    "start_time": "2024-06-11T03:04:45.247Z"
   },
   {
    "duration": 12,
    "start_time": "2024-06-11T03:04:45.256Z"
   },
   {
    "duration": 14,
    "start_time": "2024-06-11T03:04:45.269Z"
   },
   {
    "duration": 31,
    "start_time": "2024-06-11T03:04:45.284Z"
   },
   {
    "duration": 12,
    "start_time": "2024-06-11T03:04:45.317Z"
   },
   {
    "duration": 4,
    "start_time": "2024-06-11T03:04:45.331Z"
   },
   {
    "duration": 30,
    "start_time": "2024-06-11T03:04:45.336Z"
   },
   {
    "duration": 99,
    "start_time": "2024-06-11T03:04:45.367Z"
   },
   {
    "duration": 62,
    "start_time": "2024-06-11T03:04:45.467Z"
   },
   {
    "duration": 12,
    "start_time": "2024-06-11T03:04:45.530Z"
   },
   {
    "duration": 8,
    "start_time": "2024-06-11T03:04:45.543Z"
   },
   {
    "duration": 18,
    "start_time": "2024-06-11T03:04:45.552Z"
   },
   {
    "duration": 27,
    "start_time": "2024-06-11T03:04:45.571Z"
   },
   {
    "duration": 57,
    "start_time": "2024-06-11T03:04:45.599Z"
   },
   {
    "duration": 32,
    "start_time": "2024-06-11T03:04:45.657Z"
   },
   {
    "duration": 7,
    "start_time": "2024-06-11T03:04:45.690Z"
   },
   {
    "duration": 4,
    "start_time": "2024-06-11T03:04:45.698Z"
   },
   {
    "duration": 17,
    "start_time": "2024-06-11T03:04:45.703Z"
   },
   {
    "duration": 16,
    "start_time": "2024-06-11T03:04:45.722Z"
   },
   {
    "duration": 3,
    "start_time": "2024-06-11T03:04:45.739Z"
   },
   {
    "duration": 6,
    "start_time": "2024-06-11T03:04:45.743Z"
   },
   {
    "duration": 15,
    "start_time": "2024-06-11T03:04:45.750Z"
   },
   {
    "duration": 4,
    "start_time": "2024-06-11T03:04:45.768Z"
   },
   {
    "duration": 14,
    "start_time": "2024-06-11T03:04:45.773Z"
   },
   {
    "duration": 25,
    "start_time": "2024-06-11T03:04:45.788Z"
   },
   {
    "duration": 12,
    "start_time": "2024-06-11T03:04:45.815Z"
   },
   {
    "duration": 12,
    "start_time": "2024-06-11T03:04:45.828Z"
   },
   {
    "duration": 23,
    "start_time": "2024-06-11T03:04:45.842Z"
   },
   {
    "duration": 9,
    "start_time": "2024-06-11T03:04:45.866Z"
   },
   {
    "duration": 19,
    "start_time": "2024-06-11T03:04:45.876Z"
   },
   {
    "duration": 22,
    "start_time": "2024-06-11T03:04:45.897Z"
   },
   {
    "duration": 10,
    "start_time": "2024-06-11T03:04:45.920Z"
   },
   {
    "duration": 38,
    "start_time": "2024-06-11T03:04:45.931Z"
   },
   {
    "duration": 22,
    "start_time": "2024-06-11T03:04:45.971Z"
   },
   {
    "duration": 5,
    "start_time": "2024-06-11T03:04:45.994Z"
   },
   {
    "duration": 24,
    "start_time": "2024-06-11T03:04:46.001Z"
   },
   {
    "duration": 11,
    "start_time": "2024-06-11T03:04:46.027Z"
   },
   {
    "duration": 9,
    "start_time": "2024-06-11T03:04:46.039Z"
   },
   {
    "duration": 10,
    "start_time": "2024-06-11T03:04:46.050Z"
   },
   {
    "duration": 8,
    "start_time": "2024-06-11T03:04:46.061Z"
   },
   {
    "duration": 17,
    "start_time": "2024-06-11T03:04:46.070Z"
   },
   {
    "duration": 23,
    "start_time": "2024-06-11T03:04:46.088Z"
   },
   {
    "duration": 13,
    "start_time": "2024-06-11T03:04:46.113Z"
   },
   {
    "duration": 5,
    "start_time": "2024-06-11T03:04:46.127Z"
   },
   {
    "duration": 13,
    "start_time": "2024-06-11T03:04:46.134Z"
   },
   {
    "duration": 160,
    "start_time": "2024-06-11T03:04:46.148Z"
   },
   {
    "duration": 138,
    "start_time": "2024-06-11T03:04:46.309Z"
   },
   {
    "duration": 153,
    "start_time": "2024-06-11T03:04:46.448Z"
   },
   {
    "duration": 15,
    "start_time": "2024-06-11T03:04:46.603Z"
   },
   {
    "duration": 5,
    "start_time": "2024-06-11T03:04:46.619Z"
   },
   {
    "duration": 3,
    "start_time": "2024-06-11T03:13:16.664Z"
   },
   {
    "duration": 127,
    "start_time": "2024-06-11T03:13:19.352Z"
   },
   {
    "duration": 107,
    "start_time": "2024-06-11T03:13:22.822Z"
   },
   {
    "duration": 119,
    "start_time": "2024-06-11T03:13:29.716Z"
   },
   {
    "duration": 518,
    "start_time": "2024-06-11T03:13:58.638Z"
   },
   {
    "duration": 124,
    "start_time": "2024-06-11T03:13:59.159Z"
   },
   {
    "duration": 15,
    "start_time": "2024-06-11T03:13:59.284Z"
   },
   {
    "duration": 12,
    "start_time": "2024-06-11T03:13:59.300Z"
   },
   {
    "duration": 16,
    "start_time": "2024-06-11T03:13:59.313Z"
   },
   {
    "duration": 9,
    "start_time": "2024-06-11T03:13:59.330Z"
   },
   {
    "duration": 9,
    "start_time": "2024-06-11T03:13:59.340Z"
   },
   {
    "duration": 9,
    "start_time": "2024-06-11T03:13:59.350Z"
   },
   {
    "duration": 3,
    "start_time": "2024-06-11T03:13:59.360Z"
   },
   {
    "duration": 4,
    "start_time": "2024-06-11T03:13:59.365Z"
   },
   {
    "duration": 3,
    "start_time": "2024-06-11T03:13:59.370Z"
   },
   {
    "duration": 28,
    "start_time": "2024-06-11T03:13:59.374Z"
   },
   {
    "duration": 14,
    "start_time": "2024-06-11T03:13:59.403Z"
   },
   {
    "duration": 17,
    "start_time": "2024-06-11T03:13:59.418Z"
   },
   {
    "duration": 5,
    "start_time": "2024-06-11T03:13:59.436Z"
   },
   {
    "duration": 6,
    "start_time": "2024-06-11T03:13:59.443Z"
   },
   {
    "duration": 5,
    "start_time": "2024-06-11T03:13:59.450Z"
   },
   {
    "duration": 4,
    "start_time": "2024-06-11T03:13:59.457Z"
   },
   {
    "duration": 4,
    "start_time": "2024-06-11T03:13:59.463Z"
   },
   {
    "duration": 33,
    "start_time": "2024-06-11T03:13:59.469Z"
   },
   {
    "duration": 7,
    "start_time": "2024-06-11T03:13:59.504Z"
   },
   {
    "duration": 4,
    "start_time": "2024-06-11T03:13:59.512Z"
   },
   {
    "duration": 13,
    "start_time": "2024-06-11T03:13:59.517Z"
   },
   {
    "duration": 27,
    "start_time": "2024-06-11T03:13:59.531Z"
   },
   {
    "duration": 4,
    "start_time": "2024-06-11T03:13:59.559Z"
   },
   {
    "duration": 4,
    "start_time": "2024-06-11T03:13:59.564Z"
   },
   {
    "duration": 11,
    "start_time": "2024-06-11T03:13:59.569Z"
   },
   {
    "duration": 3,
    "start_time": "2024-06-11T03:13:59.583Z"
   },
   {
    "duration": 17,
    "start_time": "2024-06-11T03:13:59.587Z"
   },
   {
    "duration": 5,
    "start_time": "2024-06-11T03:13:59.605Z"
   },
   {
    "duration": 8,
    "start_time": "2024-06-11T03:13:59.611Z"
   },
   {
    "duration": 13,
    "start_time": "2024-06-11T03:13:59.621Z"
   },
   {
    "duration": 22,
    "start_time": "2024-06-11T03:13:59.635Z"
   },
   {
    "duration": 7,
    "start_time": "2024-06-11T03:13:59.658Z"
   },
   {
    "duration": 19,
    "start_time": "2024-06-11T03:13:59.666Z"
   },
   {
    "duration": 26,
    "start_time": "2024-06-11T03:13:59.686Z"
   },
   {
    "duration": 3,
    "start_time": "2024-06-11T03:13:59.713Z"
   },
   {
    "duration": 11,
    "start_time": "2024-06-11T03:13:59.717Z"
   },
   {
    "duration": 12,
    "start_time": "2024-06-11T03:13:59.730Z"
   },
   {
    "duration": 5,
    "start_time": "2024-06-11T03:13:59.743Z"
   },
   {
    "duration": 6,
    "start_time": "2024-06-11T03:13:59.749Z"
   },
   {
    "duration": 8,
    "start_time": "2024-06-11T03:13:59.756Z"
   },
   {
    "duration": 3,
    "start_time": "2024-06-11T03:13:59.765Z"
   },
   {
    "duration": 16,
    "start_time": "2024-06-11T03:13:59.769Z"
   },
   {
    "duration": 16,
    "start_time": "2024-06-11T03:13:59.786Z"
   },
   {
    "duration": 11,
    "start_time": "2024-06-11T03:13:59.803Z"
   },
   {
    "duration": 19,
    "start_time": "2024-06-11T03:13:59.815Z"
   },
   {
    "duration": 25,
    "start_time": "2024-06-11T03:13:59.835Z"
   },
   {
    "duration": 5,
    "start_time": "2024-06-11T03:13:59.861Z"
   },
   {
    "duration": 11,
    "start_time": "2024-06-11T03:13:59.867Z"
   },
   {
    "duration": 3,
    "start_time": "2024-06-11T03:13:59.879Z"
   },
   {
    "duration": 154,
    "start_time": "2024-06-11T03:13:59.883Z"
   },
   {
    "duration": 116,
    "start_time": "2024-06-11T03:14:00.038Z"
   },
   {
    "duration": 157,
    "start_time": "2024-06-11T03:14:00.155Z"
   },
   {
    "duration": 19,
    "start_time": "2024-06-11T03:14:00.314Z"
   },
   {
    "duration": 15,
    "start_time": "2024-06-11T03:16:58.749Z"
   },
   {
    "duration": 145,
    "start_time": "2024-06-11T03:19:48.394Z"
   },
   {
    "duration": 15,
    "start_time": "2024-06-11T03:20:01.753Z"
   },
   {
    "duration": 17,
    "start_time": "2024-06-11T03:20:33.908Z"
   },
   {
    "duration": 16,
    "start_time": "2024-06-11T03:20:46.213Z"
   },
   {
    "duration": 17,
    "start_time": "2024-06-11T03:20:52.991Z"
   },
   {
    "duration": 16,
    "start_time": "2024-06-11T03:21:07.663Z"
   },
   {
    "duration": 73,
    "start_time": "2024-06-11T03:22:09.321Z"
   },
   {
    "duration": 17,
    "start_time": "2024-06-11T03:22:16.427Z"
   },
   {
    "duration": 13,
    "start_time": "2024-06-11T03:23:20.804Z"
   },
   {
    "duration": 8,
    "start_time": "2024-06-11T03:23:25.178Z"
   },
   {
    "duration": 162,
    "start_time": "2024-06-11T03:23:45.011Z"
   },
   {
    "duration": 154,
    "start_time": "2024-06-11T03:24:12.185Z"
   },
   {
    "duration": 185,
    "start_time": "2024-06-11T03:24:24.697Z"
   },
   {
    "duration": 164,
    "start_time": "2024-06-11T03:24:28.657Z"
   },
   {
    "duration": 170,
    "start_time": "2024-06-11T03:25:32.787Z"
   },
   {
    "duration": 160,
    "start_time": "2024-06-11T03:25:42.212Z"
   },
   {
    "duration": 164,
    "start_time": "2024-06-11T03:26:50.867Z"
   },
   {
    "duration": 164,
    "start_time": "2024-06-11T03:29:27.730Z"
   },
   {
    "duration": 202,
    "start_time": "2024-06-11T03:29:36.266Z"
   },
   {
    "duration": 214,
    "start_time": "2024-06-11T03:30:31.540Z"
   },
   {
    "duration": 174,
    "start_time": "2024-06-11T03:30:36.825Z"
   },
   {
    "duration": 175,
    "start_time": "2024-06-11T03:30:41.104Z"
   },
   {
    "duration": 170,
    "start_time": "2024-06-11T03:30:52.188Z"
   },
   {
    "duration": 176,
    "start_time": "2024-06-11T03:31:06.391Z"
   },
   {
    "duration": 179,
    "start_time": "2024-06-11T03:31:49.648Z"
   },
   {
    "duration": 18,
    "start_time": "2024-06-11T03:37:27.811Z"
   },
   {
    "duration": 177,
    "start_time": "2024-06-11T03:37:45.567Z"
   },
   {
    "duration": 9,
    "start_time": "2024-06-11T03:37:49.658Z"
   },
   {
    "duration": 9,
    "start_time": "2024-06-11T03:37:57.332Z"
   },
   {
    "duration": 17,
    "start_time": "2024-06-11T03:42:00.399Z"
   },
   {
    "duration": 8,
    "start_time": "2024-06-11T03:42:23.684Z"
   },
   {
    "duration": 13,
    "start_time": "2024-06-11T03:43:18.917Z"
   },
   {
    "duration": 9,
    "start_time": "2024-06-11T03:46:03.299Z"
   },
   {
    "duration": 525,
    "start_time": "2024-06-11T04:34:57.359Z"
   },
   {
    "duration": 119,
    "start_time": "2024-06-11T04:34:57.894Z"
   },
   {
    "duration": 14,
    "start_time": "2024-06-11T04:34:58.014Z"
   },
   {
    "duration": 19,
    "start_time": "2024-06-11T04:34:58.030Z"
   },
   {
    "duration": 8,
    "start_time": "2024-06-11T04:34:58.050Z"
   },
   {
    "duration": 12,
    "start_time": "2024-06-11T04:34:58.060Z"
   },
   {
    "duration": 15,
    "start_time": "2024-06-11T04:34:58.074Z"
   },
   {
    "duration": 11,
    "start_time": "2024-06-11T04:34:58.091Z"
   },
   {
    "duration": 4,
    "start_time": "2024-06-11T04:34:58.104Z"
   },
   {
    "duration": 12,
    "start_time": "2024-06-11T04:34:58.111Z"
   },
   {
    "duration": 31,
    "start_time": "2024-06-11T04:34:58.124Z"
   },
   {
    "duration": 28,
    "start_time": "2024-06-11T04:34:58.156Z"
   },
   {
    "duration": 16,
    "start_time": "2024-06-11T04:34:58.186Z"
   },
   {
    "duration": 6,
    "start_time": "2024-06-11T04:34:58.203Z"
   },
   {
    "duration": 3,
    "start_time": "2024-06-11T04:34:58.210Z"
   },
   {
    "duration": 5,
    "start_time": "2024-06-11T04:34:58.215Z"
   },
   {
    "duration": 7,
    "start_time": "2024-06-11T04:34:58.222Z"
   },
   {
    "duration": 12,
    "start_time": "2024-06-11T04:34:58.231Z"
   },
   {
    "duration": 5,
    "start_time": "2024-06-11T04:34:58.245Z"
   },
   {
    "duration": 5,
    "start_time": "2024-06-11T04:34:58.251Z"
   },
   {
    "duration": 28,
    "start_time": "2024-06-11T04:34:58.257Z"
   },
   {
    "duration": 3,
    "start_time": "2024-06-11T04:34:58.287Z"
   },
   {
    "duration": 12,
    "start_time": "2024-06-11T04:34:58.291Z"
   },
   {
    "duration": 15,
    "start_time": "2024-06-11T04:34:58.304Z"
   },
   {
    "duration": 6,
    "start_time": "2024-06-11T04:34:58.321Z"
   },
   {
    "duration": 4,
    "start_time": "2024-06-11T04:34:58.328Z"
   },
   {
    "duration": 13,
    "start_time": "2024-06-11T04:34:58.333Z"
   },
   {
    "duration": 21,
    "start_time": "2024-06-11T04:34:58.349Z"
   },
   {
    "duration": 18,
    "start_time": "2024-06-11T04:34:58.371Z"
   },
   {
    "duration": 16,
    "start_time": "2024-06-11T04:34:58.390Z"
   },
   {
    "duration": 28,
    "start_time": "2024-06-11T04:34:58.407Z"
   },
   {
    "duration": 13,
    "start_time": "2024-06-11T04:34:58.436Z"
   },
   {
    "duration": 40,
    "start_time": "2024-06-11T04:34:58.450Z"
   },
   {
    "duration": 8,
    "start_time": "2024-06-11T04:34:58.491Z"
   },
   {
    "duration": 13,
    "start_time": "2024-06-11T04:34:58.500Z"
   },
   {
    "duration": 18,
    "start_time": "2024-06-11T04:34:58.515Z"
   },
   {
    "duration": 18,
    "start_time": "2024-06-11T04:34:58.534Z"
   },
   {
    "duration": 19,
    "start_time": "2024-06-11T04:34:58.553Z"
   },
   {
    "duration": 14,
    "start_time": "2024-06-11T04:34:58.573Z"
   },
   {
    "duration": 9,
    "start_time": "2024-06-11T04:34:58.588Z"
   },
   {
    "duration": 24,
    "start_time": "2024-06-11T04:34:58.598Z"
   },
   {
    "duration": 17,
    "start_time": "2024-06-11T04:34:58.623Z"
   },
   {
    "duration": 11,
    "start_time": "2024-06-11T04:34:58.641Z"
   },
   {
    "duration": 14,
    "start_time": "2024-06-11T04:34:58.654Z"
   },
   {
    "duration": 10,
    "start_time": "2024-06-11T04:34:58.669Z"
   },
   {
    "duration": 12,
    "start_time": "2024-06-11T04:34:58.680Z"
   },
   {
    "duration": 19,
    "start_time": "2024-06-11T04:34:58.693Z"
   },
   {
    "duration": 55,
    "start_time": "2024-06-11T04:34:58.713Z"
   },
   {
    "duration": 16,
    "start_time": "2024-06-11T04:34:58.769Z"
   },
   {
    "duration": 12,
    "start_time": "2024-06-11T04:34:58.786Z"
   },
   {
    "duration": 4,
    "start_time": "2024-06-11T04:34:58.800Z"
   },
   {
    "duration": 141,
    "start_time": "2024-06-11T04:34:58.806Z"
   },
   {
    "duration": 122,
    "start_time": "2024-06-11T04:34:58.949Z"
   },
   {
    "duration": 169,
    "start_time": "2024-06-11T04:34:59.072Z"
   },
   {
    "duration": 19,
    "start_time": "2024-06-11T04:34:59.242Z"
   },
   {
    "duration": 15,
    "start_time": "2024-06-11T04:34:59.262Z"
   },
   {
    "duration": 28,
    "start_time": "2024-06-11T04:34:59.278Z"
   },
   {
    "duration": 202,
    "start_time": "2024-06-11T04:34:59.308Z"
   },
   {
    "duration": 8,
    "start_time": "2024-06-11T04:34:59.511Z"
   },
   {
    "duration": 11,
    "start_time": "2024-06-11T04:34:59.520Z"
   },
   {
    "duration": 21,
    "start_time": "2024-06-11T04:47:18.762Z"
   },
   {
    "duration": 23,
    "start_time": "2024-06-11T04:48:01.875Z"
   },
   {
    "duration": 6,
    "start_time": "2024-06-11T04:49:04.067Z"
   },
   {
    "duration": 6,
    "start_time": "2024-06-11T04:51:49.339Z"
   },
   {
    "duration": 5,
    "start_time": "2024-06-11T04:52:53.982Z"
   },
   {
    "duration": 8,
    "start_time": "2024-06-11T04:54:21.479Z"
   },
   {
    "duration": 5,
    "start_time": "2024-06-11T04:55:21.433Z"
   },
   {
    "duration": 5,
    "start_time": "2024-06-11T04:55:46.264Z"
   },
   {
    "duration": 8,
    "start_time": "2024-06-11T04:56:11.821Z"
   },
   {
    "duration": 4,
    "start_time": "2024-06-11T04:58:34.512Z"
   },
   {
    "duration": 7,
    "start_time": "2024-06-11T04:58:39.835Z"
   },
   {
    "duration": 4,
    "start_time": "2024-06-11T05:03:25.077Z"
   },
   {
    "duration": 10,
    "start_time": "2024-06-11T05:03:44.201Z"
   },
   {
    "duration": 132,
    "start_time": "2024-06-11T05:04:13.266Z"
   },
   {
    "duration": 8,
    "start_time": "2024-06-11T05:04:21.066Z"
   },
   {
    "duration": 6,
    "start_time": "2024-06-11T05:04:38.638Z"
   },
   {
    "duration": 44,
    "start_time": "2024-06-11T09:15:57.121Z"
   },
   {
    "duration": 718,
    "start_time": "2024-06-11T09:16:08.219Z"
   },
   {
    "duration": 375,
    "start_time": "2024-06-11T09:16:08.939Z"
   },
   {
    "duration": 16,
    "start_time": "2024-06-11T09:16:09.315Z"
   },
   {
    "duration": 13,
    "start_time": "2024-06-11T09:16:09.333Z"
   },
   {
    "duration": 8,
    "start_time": "2024-06-11T09:16:09.347Z"
   },
   {
    "duration": 10,
    "start_time": "2024-06-11T09:16:09.356Z"
   },
   {
    "duration": 12,
    "start_time": "2024-06-11T09:16:09.367Z"
   },
   {
    "duration": 9,
    "start_time": "2024-06-11T09:16:09.380Z"
   },
   {
    "duration": 3,
    "start_time": "2024-06-11T09:16:09.391Z"
   },
   {
    "duration": 16,
    "start_time": "2024-06-11T09:16:09.396Z"
   },
   {
    "duration": 5,
    "start_time": "2024-06-11T09:16:09.413Z"
   },
   {
    "duration": 7,
    "start_time": "2024-06-11T09:16:09.420Z"
   },
   {
    "duration": 15,
    "start_time": "2024-06-11T09:16:09.428Z"
   },
   {
    "duration": 6,
    "start_time": "2024-06-11T09:16:09.444Z"
   },
   {
    "duration": 9,
    "start_time": "2024-06-11T09:16:09.451Z"
   },
   {
    "duration": 14,
    "start_time": "2024-06-11T09:16:09.461Z"
   },
   {
    "duration": 6,
    "start_time": "2024-06-11T09:16:09.476Z"
   },
   {
    "duration": 11,
    "start_time": "2024-06-11T09:16:09.483Z"
   },
   {
    "duration": 5,
    "start_time": "2024-06-11T09:16:09.495Z"
   },
   {
    "duration": 5,
    "start_time": "2024-06-11T09:16:09.501Z"
   },
   {
    "duration": 15,
    "start_time": "2024-06-11T09:16:09.507Z"
   },
   {
    "duration": 20,
    "start_time": "2024-06-11T09:16:09.523Z"
   },
   {
    "duration": 13,
    "start_time": "2024-06-11T09:16:09.544Z"
   },
   {
    "duration": 27,
    "start_time": "2024-06-11T09:16:09.558Z"
   },
   {
    "duration": 11,
    "start_time": "2024-06-11T09:16:09.587Z"
   },
   {
    "duration": 6,
    "start_time": "2024-06-11T09:16:09.599Z"
   },
   {
    "duration": 16,
    "start_time": "2024-06-11T09:16:09.607Z"
   },
   {
    "duration": 18,
    "start_time": "2024-06-11T09:16:09.626Z"
   },
   {
    "duration": 18,
    "start_time": "2024-06-11T09:16:09.645Z"
   },
   {
    "duration": 22,
    "start_time": "2024-06-11T09:16:09.664Z"
   },
   {
    "duration": 10,
    "start_time": "2024-06-11T09:16:09.687Z"
   },
   {
    "duration": 12,
    "start_time": "2024-06-11T09:16:09.698Z"
   },
   {
    "duration": 37,
    "start_time": "2024-06-11T09:16:09.711Z"
   },
   {
    "duration": 22,
    "start_time": "2024-06-11T09:16:09.750Z"
   },
   {
    "duration": 40,
    "start_time": "2024-06-11T09:16:09.773Z"
   },
   {
    "duration": 23,
    "start_time": "2024-06-11T09:16:09.814Z"
   },
   {
    "duration": 39,
    "start_time": "2024-06-11T09:16:09.838Z"
   },
   {
    "duration": 23,
    "start_time": "2024-06-11T09:16:09.878Z"
   },
   {
    "duration": 40,
    "start_time": "2024-06-11T09:16:09.903Z"
   },
   {
    "duration": 36,
    "start_time": "2024-06-11T09:16:09.945Z"
   },
   {
    "duration": 6,
    "start_time": "2024-06-11T09:16:09.983Z"
   },
   {
    "duration": 21,
    "start_time": "2024-06-11T09:16:09.990Z"
   },
   {
    "duration": 11,
    "start_time": "2024-06-11T09:16:10.012Z"
   },
   {
    "duration": 8,
    "start_time": "2024-06-11T09:16:10.025Z"
   },
   {
    "duration": 22,
    "start_time": "2024-06-11T09:16:10.035Z"
   },
   {
    "duration": 59,
    "start_time": "2024-06-11T09:16:10.058Z"
   },
   {
    "duration": 31,
    "start_time": "2024-06-11T09:16:10.118Z"
   },
   {
    "duration": 19,
    "start_time": "2024-06-11T09:16:10.150Z"
   },
   {
    "duration": 11,
    "start_time": "2024-06-11T09:16:10.171Z"
   },
   {
    "duration": 21,
    "start_time": "2024-06-11T09:16:10.183Z"
   },
   {
    "duration": 14,
    "start_time": "2024-06-11T09:16:10.205Z"
   },
   {
    "duration": 151,
    "start_time": "2024-06-11T09:16:10.221Z"
   },
   {
    "duration": 158,
    "start_time": "2024-06-11T09:16:10.373Z"
   },
   {
    "duration": 135,
    "start_time": "2024-06-11T09:16:10.532Z"
   },
   {
    "duration": 18,
    "start_time": "2024-06-11T09:16:10.668Z"
   },
   {
    "duration": 21,
    "start_time": "2024-06-11T09:16:10.688Z"
   },
   {
    "duration": 8,
    "start_time": "2024-06-11T09:16:10.711Z"
   },
   {
    "duration": 209,
    "start_time": "2024-06-11T09:16:10.721Z"
   },
   {
    "duration": 9,
    "start_time": "2024-06-11T09:16:10.932Z"
   },
   {
    "duration": 21,
    "start_time": "2024-06-11T09:16:10.943Z"
   },
   {
    "duration": 9,
    "start_time": "2024-06-11T09:16:10.965Z"
   },
   {
    "duration": 6,
    "start_time": "2024-06-11T09:16:10.976Z"
   },
   {
    "duration": 23,
    "start_time": "2024-06-11T09:16:10.983Z"
   },
   {
    "duration": 6,
    "start_time": "2024-06-11T09:16:11.007Z"
   },
   {
    "duration": 14,
    "start_time": "2024-06-11T09:16:28.166Z"
   },
   {
    "duration": 6,
    "start_time": "2024-06-11T09:17:16.804Z"
   },
   {
    "duration": 4,
    "start_time": "2024-06-11T09:20:03.549Z"
   },
   {
    "duration": 5,
    "start_time": "2024-06-11T09:20:48.359Z"
   },
   {
    "duration": 5,
    "start_time": "2024-06-11T09:24:08.232Z"
   },
   {
    "duration": 6,
    "start_time": "2024-06-11T09:25:36.012Z"
   },
   {
    "duration": 5,
    "start_time": "2024-06-11T09:25:59.815Z"
   },
   {
    "duration": 9,
    "start_time": "2024-06-11T09:27:21.792Z"
   },
   {
    "duration": 9,
    "start_time": "2024-06-11T09:27:48.929Z"
   },
   {
    "duration": 73,
    "start_time": "2024-06-11T09:28:17.070Z"
   },
   {
    "duration": 9,
    "start_time": "2024-06-11T09:28:57.780Z"
   },
   {
    "duration": 11,
    "start_time": "2024-06-11T09:30:00.602Z"
   },
   {
    "duration": 12,
    "start_time": "2024-06-11T09:36:06.245Z"
   },
   {
    "duration": 14,
    "start_time": "2024-06-11T09:37:09.878Z"
   },
   {
    "duration": 11,
    "start_time": "2024-06-11T09:41:16.376Z"
   },
   {
    "duration": 11,
    "start_time": "2024-06-11T09:41:30.892Z"
   },
   {
    "duration": 14,
    "start_time": "2024-06-11T09:42:15.554Z"
   },
   {
    "duration": 14,
    "start_time": "2024-06-11T09:43:03.049Z"
   },
   {
    "duration": 28,
    "start_time": "2024-06-11T09:44:49.355Z"
   },
   {
    "duration": 6,
    "start_time": "2024-06-11T09:45:13.820Z"
   },
   {
    "duration": 15,
    "start_time": "2024-06-11T09:51:54.653Z"
   },
   {
    "duration": 15,
    "start_time": "2024-06-11T09:53:27.103Z"
   },
   {
    "duration": 20,
    "start_time": "2024-06-11T09:56:39.569Z"
   },
   {
    "duration": 21,
    "start_time": "2024-06-11T09:57:20.063Z"
   },
   {
    "duration": 22,
    "start_time": "2024-06-11T09:57:49.143Z"
   },
   {
    "duration": 16,
    "start_time": "2024-06-11T09:58:32.931Z"
   },
   {
    "duration": 21,
    "start_time": "2024-06-11T09:58:39.351Z"
   },
   {
    "duration": 21,
    "start_time": "2024-06-11T10:01:12.262Z"
   },
   {
    "duration": 22,
    "start_time": "2024-06-11T10:04:27.676Z"
   },
   {
    "duration": 23,
    "start_time": "2024-06-11T10:04:46.691Z"
   },
   {
    "duration": 24,
    "start_time": "2024-06-11T10:04:55.613Z"
   },
   {
    "duration": 587,
    "start_time": "2024-06-11T10:07:58.714Z"
   },
   {
    "duration": 116,
    "start_time": "2024-06-11T10:07:59.303Z"
   },
   {
    "duration": 15,
    "start_time": "2024-06-11T10:07:59.420Z"
   },
   {
    "duration": 13,
    "start_time": "2024-06-11T10:07:59.436Z"
   },
   {
    "duration": 8,
    "start_time": "2024-06-11T10:07:59.450Z"
   },
   {
    "duration": 5,
    "start_time": "2024-06-11T10:07:59.459Z"
   },
   {
    "duration": 26,
    "start_time": "2024-06-11T10:07:59.465Z"
   },
   {
    "duration": 12,
    "start_time": "2024-06-11T10:07:59.492Z"
   },
   {
    "duration": 12,
    "start_time": "2024-06-11T10:07:59.505Z"
   },
   {
    "duration": 5,
    "start_time": "2024-06-11T10:07:59.519Z"
   },
   {
    "duration": 5,
    "start_time": "2024-06-11T10:07:59.525Z"
   },
   {
    "duration": 8,
    "start_time": "2024-06-11T10:07:59.531Z"
   },
   {
    "duration": 22,
    "start_time": "2024-06-11T10:07:59.540Z"
   },
   {
    "duration": 6,
    "start_time": "2024-06-11T10:07:59.563Z"
   },
   {
    "duration": 24,
    "start_time": "2024-06-11T10:07:59.570Z"
   },
   {
    "duration": 10,
    "start_time": "2024-06-11T10:07:59.595Z"
   },
   {
    "duration": 6,
    "start_time": "2024-06-11T10:07:59.606Z"
   },
   {
    "duration": 5,
    "start_time": "2024-06-11T10:07:59.613Z"
   },
   {
    "duration": 10,
    "start_time": "2024-06-11T10:07:59.619Z"
   },
   {
    "duration": 15,
    "start_time": "2024-06-11T10:07:59.630Z"
   },
   {
    "duration": 10,
    "start_time": "2024-06-11T10:07:59.646Z"
   },
   {
    "duration": 9,
    "start_time": "2024-06-11T10:07:59.658Z"
   },
   {
    "duration": 15,
    "start_time": "2024-06-11T10:07:59.668Z"
   },
   {
    "duration": 14,
    "start_time": "2024-06-11T10:07:59.685Z"
   },
   {
    "duration": 10,
    "start_time": "2024-06-11T10:07:59.700Z"
   },
   {
    "duration": 9,
    "start_time": "2024-06-11T10:07:59.711Z"
   },
   {
    "duration": 15,
    "start_time": "2024-06-11T10:07:59.721Z"
   },
   {
    "duration": 3,
    "start_time": "2024-06-11T10:07:59.740Z"
   },
   {
    "duration": 9,
    "start_time": "2024-06-11T10:07:59.744Z"
   },
   {
    "duration": 7,
    "start_time": "2024-06-11T10:07:59.754Z"
   },
   {
    "duration": 12,
    "start_time": "2024-06-11T10:07:59.762Z"
   },
   {
    "duration": 4,
    "start_time": "2024-06-11T10:07:59.776Z"
   },
   {
    "duration": 33,
    "start_time": "2024-06-11T10:07:59.781Z"
   },
   {
    "duration": 8,
    "start_time": "2024-06-11T10:07:59.815Z"
   },
   {
    "duration": 30,
    "start_time": "2024-06-11T10:07:59.824Z"
   },
   {
    "duration": 19,
    "start_time": "2024-06-11T10:07:59.855Z"
   },
   {
    "duration": 7,
    "start_time": "2024-06-11T10:07:59.876Z"
   },
   {
    "duration": 7,
    "start_time": "2024-06-11T10:07:59.884Z"
   },
   {
    "duration": 17,
    "start_time": "2024-06-11T10:07:59.893Z"
   },
   {
    "duration": 6,
    "start_time": "2024-06-11T10:07:59.911Z"
   },
   {
    "duration": 14,
    "start_time": "2024-06-11T10:07:59.919Z"
   },
   {
    "duration": 9,
    "start_time": "2024-06-11T10:07:59.934Z"
   },
   {
    "duration": 10,
    "start_time": "2024-06-11T10:07:59.944Z"
   },
   {
    "duration": 18,
    "start_time": "2024-06-11T10:07:59.955Z"
   },
   {
    "duration": 3,
    "start_time": "2024-06-11T10:07:59.975Z"
   },
   {
    "duration": 22,
    "start_time": "2024-06-11T10:07:59.979Z"
   },
   {
    "duration": 82,
    "start_time": "2024-06-11T10:08:00.003Z"
   },
   {
    "duration": 35,
    "start_time": "2024-06-11T10:08:00.087Z"
   },
   {
    "duration": 37,
    "start_time": "2024-06-11T10:08:00.123Z"
   },
   {
    "duration": 46,
    "start_time": "2024-06-11T10:08:00.162Z"
   },
   {
    "duration": 99,
    "start_time": "2024-06-11T10:08:00.209Z"
   },
   {
    "duration": 226,
    "start_time": "2024-06-11T10:08:00.310Z"
   },
   {
    "duration": 117,
    "start_time": "2024-06-11T10:08:00.537Z"
   },
   {
    "duration": 164,
    "start_time": "2024-06-11T10:08:00.655Z"
   },
   {
    "duration": 80,
    "start_time": "2024-06-11T10:08:00.820Z"
   },
   {
    "duration": 37,
    "start_time": "2024-06-11T10:08:00.901Z"
   },
   {
    "duration": 82,
    "start_time": "2024-06-11T10:08:00.939Z"
   },
   {
    "duration": 246,
    "start_time": "2024-06-11T10:08:01.022Z"
   },
   {
    "duration": 8,
    "start_time": "2024-06-11T10:08:01.269Z"
   },
   {
    "duration": 51,
    "start_time": "2024-06-11T10:08:01.279Z"
   },
   {
    "duration": 27,
    "start_time": "2024-06-11T10:08:01.331Z"
   },
   {
    "duration": 90,
    "start_time": "2024-06-11T10:08:01.360Z"
   },
   {
    "duration": 64,
    "start_time": "2024-06-11T10:08:01.452Z"
   },
   {
    "duration": 24,
    "start_time": "2024-06-11T10:08:01.518Z"
   },
   {
    "duration": 21,
    "start_time": "2024-06-11T10:08:01.543Z"
   },
   {
    "duration": 34,
    "start_time": "2024-06-11T10:08:01.566Z"
   },
   {
    "duration": 33,
    "start_time": "2024-06-11T10:08:01.601Z"
   },
   {
    "duration": 24,
    "start_time": "2024-06-11T10:08:01.636Z"
   },
   {
    "duration": 23,
    "start_time": "2024-06-11T10:08:01.662Z"
   },
   {
    "duration": 65,
    "start_time": "2024-06-11T10:08:01.686Z"
   },
   {
    "duration": 18,
    "start_time": "2024-06-11T10:08:01.753Z"
   },
   {
    "duration": 24,
    "start_time": "2024-06-11T10:08:01.773Z"
   },
   {
    "duration": 35,
    "start_time": "2024-06-11T10:08:01.798Z"
   },
   {
    "duration": 74,
    "start_time": "2024-06-11T10:08:01.834Z"
   },
   {
    "duration": 18,
    "start_time": "2024-06-11T10:08:21.034Z"
   },
   {
    "duration": 15,
    "start_time": "2024-06-11T10:08:32.096Z"
   },
   {
    "duration": 15,
    "start_time": "2024-06-11T10:08:40.844Z"
   },
   {
    "duration": 16,
    "start_time": "2024-06-11T10:08:47.970Z"
   },
   {
    "duration": 15,
    "start_time": "2024-06-11T10:08:54.356Z"
   },
   {
    "duration": 15,
    "start_time": "2024-06-11T10:09:06.745Z"
   },
   {
    "duration": 16,
    "start_time": "2024-06-11T10:09:15.023Z"
   },
   {
    "duration": 50,
    "start_time": "2024-06-11T14:06:49.687Z"
   },
   {
    "duration": 896,
    "start_time": "2024-06-11T14:26:02.548Z"
   },
   {
    "duration": 392,
    "start_time": "2024-06-11T14:26:03.446Z"
   },
   {
    "duration": 19,
    "start_time": "2024-06-11T14:26:03.840Z"
   },
   {
    "duration": 16,
    "start_time": "2024-06-11T14:26:03.861Z"
   },
   {
    "duration": 11,
    "start_time": "2024-06-11T14:26:03.879Z"
   },
   {
    "duration": 8,
    "start_time": "2024-06-11T14:26:03.892Z"
   },
   {
    "duration": 13,
    "start_time": "2024-06-11T14:26:03.903Z"
   },
   {
    "duration": 45,
    "start_time": "2024-06-11T14:26:03.918Z"
   },
   {
    "duration": 5,
    "start_time": "2024-06-11T14:26:03.965Z"
   },
   {
    "duration": 8,
    "start_time": "2024-06-11T14:26:03.972Z"
   },
   {
    "duration": 9,
    "start_time": "2024-06-11T14:26:03.981Z"
   },
   {
    "duration": 15,
    "start_time": "2024-06-11T14:26:03.991Z"
   },
   {
    "duration": 32,
    "start_time": "2024-06-11T14:26:04.007Z"
   },
   {
    "duration": 15,
    "start_time": "2024-06-11T14:26:04.040Z"
   },
   {
    "duration": 6,
    "start_time": "2024-06-11T14:26:04.057Z"
   },
   {
    "duration": 52,
    "start_time": "2024-06-11T14:26:04.064Z"
   },
   {
    "duration": 41,
    "start_time": "2024-06-11T14:26:04.118Z"
   },
   {
    "duration": 11,
    "start_time": "2024-06-11T14:26:04.160Z"
   },
   {
    "duration": 27,
    "start_time": "2024-06-11T14:26:04.173Z"
   },
   {
    "duration": 11,
    "start_time": "2024-06-11T14:26:04.202Z"
   },
   {
    "duration": 32,
    "start_time": "2024-06-11T14:26:04.214Z"
   },
   {
    "duration": 32,
    "start_time": "2024-06-11T14:26:04.248Z"
   },
   {
    "duration": 23,
    "start_time": "2024-06-11T14:26:04.282Z"
   },
   {
    "duration": 23,
    "start_time": "2024-06-11T14:26:04.306Z"
   },
   {
    "duration": 16,
    "start_time": "2024-06-11T14:26:04.331Z"
   },
   {
    "duration": 8,
    "start_time": "2024-06-11T14:26:04.348Z"
   },
   {
    "duration": 26,
    "start_time": "2024-06-11T14:26:04.357Z"
   },
   {
    "duration": 6,
    "start_time": "2024-06-11T14:26:04.386Z"
   },
   {
    "duration": 10,
    "start_time": "2024-06-11T14:26:04.393Z"
   },
   {
    "duration": 8,
    "start_time": "2024-06-11T14:26:04.405Z"
   },
   {
    "duration": 12,
    "start_time": "2024-06-11T14:26:04.415Z"
   },
   {
    "duration": 5,
    "start_time": "2024-06-11T14:26:04.428Z"
   },
   {
    "duration": 66,
    "start_time": "2024-06-11T14:26:04.435Z"
   },
   {
    "duration": 12,
    "start_time": "2024-06-11T14:26:04.503Z"
   },
   {
    "duration": 16,
    "start_time": "2024-06-11T14:26:04.517Z"
   },
   {
    "duration": 30,
    "start_time": "2024-06-11T14:26:04.536Z"
   },
   {
    "duration": 20,
    "start_time": "2024-06-11T14:26:04.578Z"
   },
   {
    "duration": 5,
    "start_time": "2024-06-11T14:26:04.600Z"
   },
   {
    "duration": 12,
    "start_time": "2024-06-11T14:26:04.811Z"
   },
   {
    "duration": 34,
    "start_time": "2024-06-11T14:26:04.825Z"
   },
   {
    "duration": 15,
    "start_time": "2024-06-11T14:26:04.861Z"
   },
   {
    "duration": 5,
    "start_time": "2024-06-11T14:26:05.034Z"
   },
   {
    "duration": 45,
    "start_time": "2024-06-11T14:26:05.040Z"
   },
   {
    "duration": 29,
    "start_time": "2024-06-11T14:26:05.087Z"
   },
   {
    "duration": 22,
    "start_time": "2024-06-11T14:26:05.118Z"
   },
   {
    "duration": 4,
    "start_time": "2024-06-11T14:26:05.417Z"
   },
   {
    "duration": 33,
    "start_time": "2024-06-11T14:26:05.426Z"
   },
   {
    "duration": 29,
    "start_time": "2024-06-11T14:26:05.635Z"
   },
   {
    "duration": 18,
    "start_time": "2024-06-11T14:26:05.666Z"
   },
   {
    "duration": 6,
    "start_time": "2024-06-11T14:26:05.845Z"
   },
   {
    "duration": 17,
    "start_time": "2024-06-11T14:26:05.853Z"
   },
   {
    "duration": 4,
    "start_time": "2024-06-11T14:26:06.023Z"
   },
   {
    "duration": 281,
    "start_time": "2024-06-11T14:26:06.035Z"
   },
   {
    "duration": 240,
    "start_time": "2024-06-11T14:26:06.318Z"
   },
   {
    "duration": 177,
    "start_time": "2024-06-11T14:26:06.560Z"
   },
   {
    "duration": 31,
    "start_time": "2024-06-11T14:26:06.740Z"
   },
   {
    "duration": 16,
    "start_time": "2024-06-11T14:26:06.773Z"
   },
   {
    "duration": 18,
    "start_time": "2024-06-11T14:26:06.790Z"
   },
   {
    "duration": 257,
    "start_time": "2024-06-11T14:26:06.810Z"
   },
   {
    "duration": 11,
    "start_time": "2024-06-11T14:26:07.069Z"
   },
   {
    "duration": 10,
    "start_time": "2024-06-11T14:26:07.082Z"
   },
   {
    "duration": 10,
    "start_time": "2024-06-11T14:26:07.173Z"
   },
   {
    "duration": 8,
    "start_time": "2024-06-11T14:26:07.354Z"
   },
   {
    "duration": 11,
    "start_time": "2024-06-11T14:26:07.364Z"
   },
   {
    "duration": 5,
    "start_time": "2024-06-11T14:26:07.377Z"
   },
   {
    "duration": 8,
    "start_time": "2024-06-11T14:26:07.562Z"
   },
   {
    "duration": 6,
    "start_time": "2024-06-11T14:26:07.761Z"
   },
   {
    "duration": 12,
    "start_time": "2024-06-11T14:26:07.768Z"
   },
   {
    "duration": 16,
    "start_time": "2024-06-11T14:26:07.781Z"
   },
   {
    "duration": 6,
    "start_time": "2024-06-11T14:26:07.799Z"
   },
   {
    "duration": 17,
    "start_time": "2024-06-11T14:26:08.014Z"
   },
   {
    "duration": 32,
    "start_time": "2024-06-11T14:26:53.016Z"
   },
   {
    "duration": 836,
    "start_time": "2024-06-11T15:10:02.803Z"
   },
   {
    "duration": 410,
    "start_time": "2024-06-11T15:10:03.641Z"
   },
   {
    "duration": 18,
    "start_time": "2024-06-11T15:10:04.055Z"
   },
   {
    "duration": 20,
    "start_time": "2024-06-11T15:10:04.075Z"
   },
   {
    "duration": 10,
    "start_time": "2024-06-11T15:10:04.097Z"
   },
   {
    "duration": 9,
    "start_time": "2024-06-11T15:10:04.109Z"
   },
   {
    "duration": 17,
    "start_time": "2024-06-11T15:10:04.119Z"
   },
   {
    "duration": 25,
    "start_time": "2024-06-11T15:10:04.137Z"
   },
   {
    "duration": 5,
    "start_time": "2024-06-11T15:10:04.163Z"
   },
   {
    "duration": 9,
    "start_time": "2024-06-11T15:10:04.170Z"
   },
   {
    "duration": 8,
    "start_time": "2024-06-11T15:10:04.181Z"
   },
   {
    "duration": 20,
    "start_time": "2024-06-11T15:10:04.190Z"
   },
   {
    "duration": 26,
    "start_time": "2024-06-11T15:10:04.213Z"
   },
   {
    "duration": 14,
    "start_time": "2024-06-11T15:10:04.241Z"
   },
   {
    "duration": 6,
    "start_time": "2024-06-11T15:10:04.257Z"
   },
   {
    "duration": 24,
    "start_time": "2024-06-11T15:10:04.264Z"
   },
   {
    "duration": 10,
    "start_time": "2024-06-11T15:10:04.290Z"
   },
   {
    "duration": 37,
    "start_time": "2024-06-11T15:10:04.302Z"
   },
   {
    "duration": 13,
    "start_time": "2024-06-11T15:10:04.340Z"
   },
   {
    "duration": 15,
    "start_time": "2024-06-11T15:10:04.355Z"
   },
   {
    "duration": 23,
    "start_time": "2024-06-11T15:10:04.372Z"
   },
   {
    "duration": 5,
    "start_time": "2024-06-11T15:10:04.397Z"
   },
   {
    "duration": 20,
    "start_time": "2024-06-11T15:10:04.404Z"
   },
   {
    "duration": 18,
    "start_time": "2024-06-11T15:10:04.426Z"
   },
   {
    "duration": 3,
    "start_time": "2024-06-11T15:10:04.446Z"
   },
   {
    "duration": 11,
    "start_time": "2024-06-11T15:10:04.455Z"
   },
   {
    "duration": 16,
    "start_time": "2024-06-11T15:10:04.467Z"
   },
   {
    "duration": 4,
    "start_time": "2024-06-11T15:10:04.485Z"
   },
   {
    "duration": 17,
    "start_time": "2024-06-11T15:10:04.490Z"
   },
   {
    "duration": 12,
    "start_time": "2024-06-11T15:10:04.508Z"
   },
   {
    "duration": 9,
    "start_time": "2024-06-11T15:10:04.521Z"
   },
   {
    "duration": 7,
    "start_time": "2024-06-11T15:10:04.532Z"
   },
   {
    "duration": 53,
    "start_time": "2024-06-11T15:10:04.540Z"
   },
   {
    "duration": 10,
    "start_time": "2024-06-11T15:10:04.595Z"
   },
   {
    "duration": 16,
    "start_time": "2024-06-11T15:10:04.607Z"
   },
   {
    "duration": 28,
    "start_time": "2024-06-11T15:10:04.624Z"
   },
   {
    "duration": 34,
    "start_time": "2024-06-11T15:10:04.654Z"
   },
   {
    "duration": 20,
    "start_time": "2024-06-11T15:10:04.690Z"
   },
   {
    "duration": 22,
    "start_time": "2024-06-11T15:10:04.712Z"
   },
   {
    "duration": 19,
    "start_time": "2024-06-11T15:10:04.738Z"
   },
   {
    "duration": 22,
    "start_time": "2024-06-11T15:10:04.758Z"
   },
   {
    "duration": 9,
    "start_time": "2024-06-11T15:10:04.782Z"
   },
   {
    "duration": 26,
    "start_time": "2024-06-11T15:10:04.793Z"
   },
   {
    "duration": 11,
    "start_time": "2024-06-11T15:10:04.820Z"
   },
   {
    "duration": 65,
    "start_time": "2024-06-11T15:10:04.832Z"
   },
   {
    "duration": 13,
    "start_time": "2024-06-11T15:10:04.899Z"
   },
   {
    "duration": 15,
    "start_time": "2024-06-11T15:10:04.913Z"
   },
   {
    "duration": 54,
    "start_time": "2024-06-11T15:10:04.929Z"
   },
   {
    "duration": 16,
    "start_time": "2024-06-11T15:10:04.985Z"
   },
   {
    "duration": 45,
    "start_time": "2024-06-11T15:10:05.003Z"
   },
   {
    "duration": 33,
    "start_time": "2024-06-11T15:10:05.049Z"
   },
   {
    "duration": 24,
    "start_time": "2024-06-11T15:10:05.084Z"
   },
   {
    "duration": 211,
    "start_time": "2024-06-11T15:10:05.109Z"
   },
   {
    "duration": 150,
    "start_time": "2024-06-11T15:10:05.322Z"
   },
   {
    "duration": 208,
    "start_time": "2024-06-11T15:10:05.474Z"
   },
   {
    "duration": 20,
    "start_time": "2024-06-11T15:10:05.684Z"
   },
   {
    "duration": 43,
    "start_time": "2024-06-11T15:10:05.706Z"
   },
   {
    "duration": 25,
    "start_time": "2024-06-11T15:10:05.751Z"
   },
   {
    "duration": 248,
    "start_time": "2024-06-11T15:10:05.778Z"
   },
   {
    "duration": 10,
    "start_time": "2024-06-11T15:10:06.027Z"
   },
   {
    "duration": 18,
    "start_time": "2024-06-11T15:10:06.039Z"
   },
   {
    "duration": 13,
    "start_time": "2024-06-11T15:10:06.058Z"
   },
   {
    "duration": 24,
    "start_time": "2024-06-11T15:10:06.072Z"
   },
   {
    "duration": 19,
    "start_time": "2024-06-11T15:10:06.098Z"
   },
   {
    "duration": 16,
    "start_time": "2024-06-11T15:10:06.119Z"
   },
   {
    "duration": 10,
    "start_time": "2024-06-11T15:10:06.137Z"
   },
   {
    "duration": 6,
    "start_time": "2024-06-11T15:10:06.149Z"
   },
   {
    "duration": 10,
    "start_time": "2024-06-11T15:10:06.156Z"
   },
   {
    "duration": 21,
    "start_time": "2024-06-11T15:10:06.168Z"
   },
   {
    "duration": 8,
    "start_time": "2024-06-11T15:10:06.191Z"
   },
   {
    "duration": 19,
    "start_time": "2024-06-11T15:10:06.200Z"
   },
   {
    "duration": 8,
    "start_time": "2024-06-11T17:37:57.511Z"
   },
   {
    "duration": 657,
    "start_time": "2024-06-11T17:38:10.877Z"
   },
   {
    "duration": 137,
    "start_time": "2024-06-11T17:38:11.536Z"
   },
   {
    "duration": 18,
    "start_time": "2024-06-11T17:38:11.675Z"
   },
   {
    "duration": 16,
    "start_time": "2024-06-11T17:38:11.695Z"
   },
   {
    "duration": 9,
    "start_time": "2024-06-11T17:38:11.713Z"
   },
   {
    "duration": 18,
    "start_time": "2024-06-11T17:38:11.724Z"
   },
   {
    "duration": 19,
    "start_time": "2024-06-11T17:38:11.743Z"
   },
   {
    "duration": 12,
    "start_time": "2024-06-11T17:38:11.764Z"
   },
   {
    "duration": 9,
    "start_time": "2024-06-11T17:38:11.777Z"
   },
   {
    "duration": 5,
    "start_time": "2024-06-11T17:38:11.789Z"
   },
   {
    "duration": 4,
    "start_time": "2024-06-11T17:38:11.795Z"
   },
   {
    "duration": 13,
    "start_time": "2024-06-11T17:38:11.800Z"
   },
   {
    "duration": 49,
    "start_time": "2024-06-11T17:38:11.815Z"
   },
   {
    "duration": 8,
    "start_time": "2024-06-11T17:38:11.865Z"
   },
   {
    "duration": 22,
    "start_time": "2024-06-11T17:38:11.874Z"
   },
   {
    "duration": 20,
    "start_time": "2024-06-11T17:38:11.899Z"
   },
   {
    "duration": 8,
    "start_time": "2024-06-11T17:38:11.921Z"
   },
   {
    "duration": 7,
    "start_time": "2024-06-11T17:38:11.931Z"
   },
   {
    "duration": 16,
    "start_time": "2024-06-11T17:38:11.940Z"
   },
   {
    "duration": 9,
    "start_time": "2024-06-11T17:38:11.957Z"
   },
   {
    "duration": 5,
    "start_time": "2024-06-11T17:38:11.968Z"
   },
   {
    "duration": 31,
    "start_time": "2024-06-11T17:38:11.975Z"
   },
   {
    "duration": 16,
    "start_time": "2024-06-11T17:38:12.008Z"
   },
   {
    "duration": 18,
    "start_time": "2024-06-11T17:38:12.026Z"
   },
   {
    "duration": 25,
    "start_time": "2024-06-11T17:38:12.045Z"
   },
   {
    "duration": 11,
    "start_time": "2024-06-11T17:38:12.072Z"
   },
   {
    "duration": 15,
    "start_time": "2024-06-11T17:38:12.086Z"
   },
   {
    "duration": 28,
    "start_time": "2024-06-11T17:38:12.107Z"
   },
   {
    "duration": 17,
    "start_time": "2024-06-11T17:38:12.137Z"
   },
   {
    "duration": 26,
    "start_time": "2024-06-11T17:38:12.156Z"
   },
   {
    "duration": 21,
    "start_time": "2024-06-11T17:38:12.184Z"
   },
   {
    "duration": 14,
    "start_time": "2024-06-11T17:38:12.208Z"
   },
   {
    "duration": 12,
    "start_time": "2024-06-11T17:38:12.224Z"
   },
   {
    "duration": 25,
    "start_time": "2024-06-11T17:38:12.238Z"
   },
   {
    "duration": 10,
    "start_time": "2024-06-11T17:38:12.265Z"
   },
   {
    "duration": 3,
    "start_time": "2024-06-11T17:38:12.277Z"
   },
   {
    "duration": 18,
    "start_time": "2024-06-11T17:38:12.281Z"
   },
   {
    "duration": 32,
    "start_time": "2024-06-11T17:38:12.301Z"
   },
   {
    "duration": 26,
    "start_time": "2024-06-11T17:38:12.334Z"
   },
   {
    "duration": 23,
    "start_time": "2024-06-11T17:38:12.362Z"
   },
   {
    "duration": 32,
    "start_time": "2024-06-11T17:38:12.387Z"
   },
   {
    "duration": 21,
    "start_time": "2024-06-11T17:38:12.421Z"
   },
   {
    "duration": 17,
    "start_time": "2024-06-11T17:38:12.444Z"
   },
   {
    "duration": 9,
    "start_time": "2024-06-11T17:38:12.463Z"
   },
   {
    "duration": 4,
    "start_time": "2024-06-11T17:38:12.474Z"
   },
   {
    "duration": 17,
    "start_time": "2024-06-11T17:38:12.480Z"
   },
   {
    "duration": 7,
    "start_time": "2024-06-11T17:38:12.498Z"
   },
   {
    "duration": 16,
    "start_time": "2024-06-11T17:38:12.507Z"
   },
   {
    "duration": 32,
    "start_time": "2024-06-11T17:38:12.524Z"
   },
   {
    "duration": 16,
    "start_time": "2024-06-11T17:38:12.557Z"
   },
   {
    "duration": 16,
    "start_time": "2024-06-11T17:38:12.574Z"
   },
   {
    "duration": 19,
    "start_time": "2024-06-11T17:38:12.592Z"
   },
   {
    "duration": 7,
    "start_time": "2024-06-11T17:38:12.613Z"
   },
   {
    "duration": 208,
    "start_time": "2024-06-11T17:38:12.622Z"
   },
   {
    "duration": 158,
    "start_time": "2024-06-11T17:38:12.832Z"
   },
   {
    "duration": 225,
    "start_time": "2024-06-11T17:38:12.991Z"
   },
   {
    "duration": 21,
    "start_time": "2024-06-11T17:38:13.217Z"
   },
   {
    "duration": 27,
    "start_time": "2024-06-11T17:38:13.239Z"
   },
   {
    "duration": 10,
    "start_time": "2024-06-11T17:38:13.267Z"
   },
   {
    "duration": 265,
    "start_time": "2024-06-11T17:38:13.278Z"
   },
   {
    "duration": 14,
    "start_time": "2024-06-11T17:38:13.544Z"
   },
   {
    "duration": 12,
    "start_time": "2024-06-11T17:38:13.560Z"
   },
   {
    "duration": 20,
    "start_time": "2024-06-11T17:38:13.573Z"
   },
   {
    "duration": 8,
    "start_time": "2024-06-11T17:38:13.594Z"
   },
   {
    "duration": 10,
    "start_time": "2024-06-11T17:38:13.604Z"
   },
   {
    "duration": 5,
    "start_time": "2024-06-11T17:38:13.615Z"
   },
   {
    "duration": 35,
    "start_time": "2024-06-11T17:38:13.622Z"
   },
   {
    "duration": 7,
    "start_time": "2024-06-11T17:38:13.659Z"
   },
   {
    "duration": 22,
    "start_time": "2024-06-11T17:38:13.668Z"
   },
   {
    "duration": 16,
    "start_time": "2024-06-11T17:38:13.692Z"
   },
   {
    "duration": 9,
    "start_time": "2024-06-11T17:38:13.709Z"
   },
   {
    "duration": 39,
    "start_time": "2024-06-11T17:38:13.719Z"
   },
   {
    "duration": 52,
    "start_time": "2024-06-11T17:39:45.584Z"
   },
   {
    "duration": 4,
    "start_time": "2024-06-11T17:45:15.492Z"
   },
   {
    "duration": 708,
    "start_time": "2024-06-11T17:45:25.142Z"
   },
   {
    "duration": 143,
    "start_time": "2024-06-11T17:45:25.852Z"
   },
   {
    "duration": 19,
    "start_time": "2024-06-11T17:45:25.997Z"
   },
   {
    "duration": 26,
    "start_time": "2024-06-11T17:45:26.017Z"
   },
   {
    "duration": 20,
    "start_time": "2024-06-11T17:45:26.046Z"
   },
   {
    "duration": 19,
    "start_time": "2024-06-11T17:45:26.068Z"
   },
   {
    "duration": 19,
    "start_time": "2024-06-11T17:45:26.089Z"
   },
   {
    "duration": 25,
    "start_time": "2024-06-11T17:45:26.110Z"
   },
   {
    "duration": 21,
    "start_time": "2024-06-11T17:45:26.137Z"
   },
   {
    "duration": 10,
    "start_time": "2024-06-11T17:45:26.160Z"
   },
   {
    "duration": 20,
    "start_time": "2024-06-11T17:45:26.172Z"
   },
   {
    "duration": 6,
    "start_time": "2024-06-11T17:45:26.193Z"
   },
   {
    "duration": 17,
    "start_time": "2024-06-11T17:45:26.201Z"
   },
   {
    "duration": 18,
    "start_time": "2024-06-11T17:45:26.221Z"
   },
   {
    "duration": 11,
    "start_time": "2024-06-11T17:45:26.240Z"
   },
   {
    "duration": 10,
    "start_time": "2024-06-11T17:45:26.256Z"
   },
   {
    "duration": 39,
    "start_time": "2024-06-11T17:45:26.268Z"
   },
   {
    "duration": 15,
    "start_time": "2024-06-11T17:45:26.308Z"
   },
   {
    "duration": 14,
    "start_time": "2024-06-11T17:45:26.325Z"
   },
   {
    "duration": 11,
    "start_time": "2024-06-11T17:45:26.341Z"
   },
   {
    "duration": 9,
    "start_time": "2024-06-11T17:45:26.354Z"
   },
   {
    "duration": 14,
    "start_time": "2024-06-11T17:45:26.364Z"
   },
   {
    "duration": 15,
    "start_time": "2024-06-11T17:45:26.379Z"
   },
   {
    "duration": 27,
    "start_time": "2024-06-11T17:45:26.396Z"
   },
   {
    "duration": 19,
    "start_time": "2024-06-11T17:45:26.425Z"
   },
   {
    "duration": 13,
    "start_time": "2024-06-11T17:45:26.445Z"
   },
   {
    "duration": 6,
    "start_time": "2024-06-11T17:45:26.460Z"
   },
   {
    "duration": 48,
    "start_time": "2024-06-11T17:45:26.467Z"
   },
   {
    "duration": 4,
    "start_time": "2024-06-11T17:45:26.516Z"
   },
   {
    "duration": 9,
    "start_time": "2024-06-11T17:45:26.522Z"
   },
   {
    "duration": 10,
    "start_time": "2024-06-11T17:45:26.533Z"
   },
   {
    "duration": 9,
    "start_time": "2024-06-11T17:45:26.545Z"
   },
   {
    "duration": 5,
    "start_time": "2024-06-11T17:45:26.555Z"
   },
   {
    "duration": 29,
    "start_time": "2024-06-11T17:45:26.562Z"
   },
   {
    "duration": 10,
    "start_time": "2024-06-11T17:45:26.593Z"
   },
   {
    "duration": 10,
    "start_time": "2024-06-11T17:45:26.605Z"
   },
   {
    "duration": 9,
    "start_time": "2024-06-11T17:45:26.616Z"
   },
   {
    "duration": 39,
    "start_time": "2024-06-11T17:45:26.627Z"
   },
   {
    "duration": 21,
    "start_time": "2024-06-11T17:45:26.668Z"
   },
   {
    "duration": 12,
    "start_time": "2024-06-11T17:45:26.691Z"
   },
   {
    "duration": 15,
    "start_time": "2024-06-11T17:45:26.712Z"
   },
   {
    "duration": 37,
    "start_time": "2024-06-11T17:45:26.729Z"
   },
   {
    "duration": 10,
    "start_time": "2024-06-11T17:45:26.768Z"
   },
   {
    "duration": 6,
    "start_time": "2024-06-11T17:45:26.780Z"
   },
   {
    "duration": 9,
    "start_time": "2024-06-11T17:45:26.788Z"
   },
   {
    "duration": 5,
    "start_time": "2024-06-11T17:45:26.799Z"
   },
   {
    "duration": 7,
    "start_time": "2024-06-11T17:45:26.806Z"
   },
   {
    "duration": 43,
    "start_time": "2024-06-11T17:45:26.814Z"
   },
   {
    "duration": 16,
    "start_time": "2024-06-11T17:45:26.858Z"
   },
   {
    "duration": 32,
    "start_time": "2024-06-11T17:45:26.876Z"
   },
   {
    "duration": 28,
    "start_time": "2024-06-11T17:45:26.910Z"
   },
   {
    "duration": 7,
    "start_time": "2024-06-11T17:45:26.940Z"
   },
   {
    "duration": 17,
    "start_time": "2024-06-11T17:45:26.955Z"
   },
   {
    "duration": 4,
    "start_time": "2024-06-11T17:45:26.973Z"
   },
   {
    "duration": 217,
    "start_time": "2024-06-11T17:45:26.979Z"
   },
   {
    "duration": 152,
    "start_time": "2024-06-11T17:45:27.197Z"
   },
   {
    "duration": 203,
    "start_time": "2024-06-11T17:45:27.355Z"
   },
   {
    "duration": 20,
    "start_time": "2024-06-11T17:45:27.560Z"
   },
   {
    "duration": 20,
    "start_time": "2024-06-11T17:45:27.582Z"
   },
   {
    "duration": 10,
    "start_time": "2024-06-11T17:45:27.604Z"
   },
   {
    "duration": 259,
    "start_time": "2024-06-11T17:45:27.615Z"
   },
   {
    "duration": 10,
    "start_time": "2024-06-11T17:45:27.876Z"
   },
   {
    "duration": 19,
    "start_time": "2024-06-11T17:45:27.888Z"
   },
   {
    "duration": 47,
    "start_time": "2024-06-11T17:45:27.909Z"
   },
   {
    "duration": 29,
    "start_time": "2024-06-11T17:45:27.957Z"
   },
   {
    "duration": 41,
    "start_time": "2024-06-11T17:45:27.988Z"
   },
   {
    "duration": 30,
    "start_time": "2024-06-11T17:45:28.030Z"
   },
   {
    "duration": 35,
    "start_time": "2024-06-11T17:45:28.062Z"
   },
   {
    "duration": 38,
    "start_time": "2024-06-11T17:45:28.099Z"
   },
   {
    "duration": 35,
    "start_time": "2024-06-11T17:45:28.139Z"
   },
   {
    "duration": 30,
    "start_time": "2024-06-11T17:45:28.176Z"
   },
   {
    "duration": 24,
    "start_time": "2024-06-11T17:45:28.208Z"
   },
   {
    "duration": 25,
    "start_time": "2024-06-11T17:45:28.233Z"
   },
   {
    "duration": 72,
    "start_time": "2024-06-12T05:14:59.559Z"
   },
   {
    "duration": 40,
    "start_time": "2024-06-12T05:16:33.659Z"
   },
   {
    "duration": 705,
    "start_time": "2024-06-12T05:16:57.879Z"
   },
   {
    "duration": 382,
    "start_time": "2024-06-12T05:16:58.586Z"
   },
   {
    "duration": 16,
    "start_time": "2024-06-12T05:16:59.869Z"
   },
   {
    "duration": 7,
    "start_time": "2024-06-12T05:17:00.739Z"
   },
   {
    "duration": 19,
    "start_time": "2024-06-12T05:17:28.663Z"
   },
   {
    "duration": 9,
    "start_time": "2024-06-12T05:17:29.742Z"
   },
   {
    "duration": 12,
    "start_time": "2024-06-12T05:28:33.441Z"
   },
   {
    "duration": 2,
    "start_time": "2024-06-12T05:28:47.846Z"
   },
   {
    "duration": 117,
    "start_time": "2024-06-12T05:28:47.850Z"
   },
   {
    "duration": 12,
    "start_time": "2024-06-12T05:28:47.969Z"
   },
   {
    "duration": 7,
    "start_time": "2024-06-12T05:28:48.796Z"
   },
   {
    "duration": 14,
    "start_time": "2024-06-12T05:28:49.446Z"
   },
   {
    "duration": 9,
    "start_time": "2024-06-12T05:28:50.196Z"
   },
   {
    "duration": 6,
    "start_time": "2024-06-12T05:28:52.972Z"
   },
   {
    "duration": 9,
    "start_time": "2024-06-12T05:28:54.017Z"
   },
   {
    "duration": 13,
    "start_time": "2024-06-12T05:28:55.544Z"
   },
   {
    "duration": 4,
    "start_time": "2024-06-12T05:28:57.048Z"
   },
   {
    "duration": 4,
    "start_time": "2024-06-12T05:28:58.019Z"
   },
   {
    "duration": 3,
    "start_time": "2024-06-12T05:29:23.011Z"
   },
   {
    "duration": 4,
    "start_time": "2024-06-12T05:29:26.123Z"
   },
   {
    "duration": 15,
    "start_time": "2024-06-12T05:29:26.845Z"
   },
   {
    "duration": 6,
    "start_time": "2024-06-12T05:29:27.751Z"
   },
   {
    "duration": 13,
    "start_time": "2024-06-12T05:29:28.552Z"
   },
   {
    "duration": 4,
    "start_time": "2024-06-12T05:29:37.076Z"
   },
   {
    "duration": 6,
    "start_time": "2024-06-12T05:30:42.728Z"
   },
   {
    "duration": 5,
    "start_time": "2024-06-12T05:30:43.127Z"
   },
   {
    "duration": 6,
    "start_time": "2024-06-12T05:30:44.655Z"
   },
   {
    "duration": 5,
    "start_time": "2024-06-12T05:30:48.406Z"
   },
   {
    "duration": 5,
    "start_time": "2024-06-12T05:30:56.953Z"
   },
   {
    "duration": 4,
    "start_time": "2024-06-12T05:32:49.989Z"
   },
   {
    "duration": 4,
    "start_time": "2024-06-12T05:32:51.608Z"
   },
   {
    "duration": 9,
    "start_time": "2024-06-12T05:32:52.251Z"
   },
   {
    "duration": 4,
    "start_time": "2024-06-12T05:32:53.598Z"
   },
   {
    "duration": 12,
    "start_time": "2024-06-12T05:32:54.010Z"
   },
   {
    "duration": 15,
    "start_time": "2024-06-12T05:32:55.109Z"
   },
   {
    "duration": 3,
    "start_time": "2024-06-12T05:33:01.398Z"
   },
   {
    "duration": 7,
    "start_time": "2024-06-12T05:33:07.688Z"
   },
   {
    "duration": 10,
    "start_time": "2024-06-12T05:33:08.277Z"
   },
   {
    "duration": 4,
    "start_time": "2024-06-12T05:33:12.496Z"
   },
   {
    "duration": 9,
    "start_time": "2024-06-12T05:33:16.057Z"
   },
   {
    "duration": 4,
    "start_time": "2024-06-12T05:34:23.016Z"
   },
   {
    "duration": 7,
    "start_time": "2024-06-12T05:34:23.839Z"
   },
   {
    "duration": 7,
    "start_time": "2024-06-12T05:34:24.533Z"
   },
   {
    "duration": 49,
    "start_time": "2024-06-13T02:38:23.712Z"
   },
   {
    "duration": 812,
    "start_time": "2024-06-13T02:38:28.801Z"
   },
   {
    "duration": 240,
    "start_time": "2024-06-13T02:38:29.618Z"
   },
   {
    "duration": 19,
    "start_time": "2024-06-13T02:38:29.861Z"
   },
   {
    "duration": 31,
    "start_time": "2024-06-13T02:38:29.882Z"
   },
   {
    "duration": 14,
    "start_time": "2024-06-13T02:38:29.914Z"
   },
   {
    "duration": 17,
    "start_time": "2024-06-13T02:38:29.930Z"
   },
   {
    "duration": 27,
    "start_time": "2024-06-13T02:38:29.949Z"
   },
   {
    "duration": 16,
    "start_time": "2024-06-13T02:38:29.978Z"
   },
   {
    "duration": 35,
    "start_time": "2024-06-13T02:38:29.998Z"
   },
   {
    "duration": 61,
    "start_time": "2024-06-13T02:38:30.035Z"
   },
   {
    "duration": 99,
    "start_time": "2024-06-13T02:38:30.098Z"
   },
   {
    "duration": 80,
    "start_time": "2024-06-13T02:38:30.198Z"
   },
   {
    "duration": 73,
    "start_time": "2024-06-13T02:38:30.280Z"
   },
   {
    "duration": 140,
    "start_time": "2024-06-13T02:38:30.355Z"
   },
   {
    "duration": 91,
    "start_time": "2024-06-13T02:38:30.497Z"
   },
   {
    "duration": 69,
    "start_time": "2024-06-13T02:38:30.590Z"
   },
   {
    "duration": 54,
    "start_time": "2024-06-13T02:38:30.661Z"
   },
   {
    "duration": 53,
    "start_time": "2024-06-13T02:38:30.717Z"
   },
   {
    "duration": 61,
    "start_time": "2024-06-13T02:38:30.772Z"
   },
   {
    "duration": 58,
    "start_time": "2024-06-13T02:38:30.835Z"
   },
   {
    "duration": 47,
    "start_time": "2024-06-13T02:38:30.895Z"
   },
   {
    "duration": 37,
    "start_time": "2024-06-13T02:38:30.944Z"
   },
   {
    "duration": 39,
    "start_time": "2024-06-13T02:38:30.983Z"
   },
   {
    "duration": 54,
    "start_time": "2024-06-13T02:38:31.023Z"
   },
   {
    "duration": 54,
    "start_time": "2024-06-13T02:38:31.079Z"
   },
   {
    "duration": 46,
    "start_time": "2024-06-13T02:38:31.135Z"
   },
   {
    "duration": 24,
    "start_time": "2024-06-13T02:38:31.186Z"
   },
   {
    "duration": 38,
    "start_time": "2024-06-13T02:38:31.212Z"
   },
   {
    "duration": 44,
    "start_time": "2024-06-13T02:38:31.251Z"
   },
   {
    "duration": 50,
    "start_time": "2024-06-13T02:38:31.297Z"
   },
   {
    "duration": 46,
    "start_time": "2024-06-13T02:38:31.349Z"
   },
   {
    "duration": 46,
    "start_time": "2024-06-13T02:38:31.397Z"
   },
   {
    "duration": 48,
    "start_time": "2024-06-13T02:38:31.445Z"
   },
   {
    "duration": 47,
    "start_time": "2024-06-13T02:38:31.495Z"
   },
   {
    "duration": 19,
    "start_time": "2024-06-13T02:38:31.544Z"
   },
   {
    "duration": 32,
    "start_time": "2024-06-13T02:38:31.565Z"
   },
   {
    "duration": 94,
    "start_time": "2024-06-13T02:38:31.599Z"
   },
   {
    "duration": 0,
    "start_time": "2024-06-13T02:38:31.695Z"
   },
   {
    "duration": 0,
    "start_time": "2024-06-13T02:38:31.696Z"
   },
   {
    "duration": 0,
    "start_time": "2024-06-13T02:38:31.697Z"
   },
   {
    "duration": 0,
    "start_time": "2024-06-13T02:38:31.698Z"
   },
   {
    "duration": 0,
    "start_time": "2024-06-13T02:38:31.700Z"
   },
   {
    "duration": 0,
    "start_time": "2024-06-13T02:38:31.701Z"
   },
   {
    "duration": 0,
    "start_time": "2024-06-13T02:38:31.702Z"
   },
   {
    "duration": 0,
    "start_time": "2024-06-13T02:38:31.703Z"
   },
   {
    "duration": 0,
    "start_time": "2024-06-13T02:38:31.705Z"
   },
   {
    "duration": 0,
    "start_time": "2024-06-13T02:38:31.706Z"
   },
   {
    "duration": 0,
    "start_time": "2024-06-13T02:38:31.707Z"
   },
   {
    "duration": 0,
    "start_time": "2024-06-13T02:38:31.709Z"
   },
   {
    "duration": 0,
    "start_time": "2024-06-13T02:38:31.710Z"
   },
   {
    "duration": 0,
    "start_time": "2024-06-13T02:38:31.712Z"
   },
   {
    "duration": 0,
    "start_time": "2024-06-13T02:38:31.713Z"
   },
   {
    "duration": 0,
    "start_time": "2024-06-13T02:38:31.715Z"
   },
   {
    "duration": 0,
    "start_time": "2024-06-13T02:38:31.716Z"
   },
   {
    "duration": 0,
    "start_time": "2024-06-13T02:38:31.718Z"
   },
   {
    "duration": 0,
    "start_time": "2024-06-13T02:38:31.719Z"
   },
   {
    "duration": 0,
    "start_time": "2024-06-13T02:38:31.760Z"
   },
   {
    "duration": 0,
    "start_time": "2024-06-13T02:38:31.762Z"
   },
   {
    "duration": 0,
    "start_time": "2024-06-13T02:38:31.763Z"
   },
   {
    "duration": 0,
    "start_time": "2024-06-13T02:38:31.764Z"
   },
   {
    "duration": 0,
    "start_time": "2024-06-13T02:38:31.765Z"
   },
   {
    "duration": 0,
    "start_time": "2024-06-13T02:38:31.767Z"
   },
   {
    "duration": 0,
    "start_time": "2024-06-13T02:38:31.768Z"
   },
   {
    "duration": 0,
    "start_time": "2024-06-13T02:38:31.769Z"
   },
   {
    "duration": 0,
    "start_time": "2024-06-13T02:38:31.770Z"
   },
   {
    "duration": 0,
    "start_time": "2024-06-13T02:38:31.771Z"
   },
   {
    "duration": 0,
    "start_time": "2024-06-13T02:38:31.773Z"
   },
   {
    "duration": 0,
    "start_time": "2024-06-13T02:38:31.774Z"
   },
   {
    "duration": 0,
    "start_time": "2024-06-13T02:38:31.775Z"
   },
   {
    "duration": 0,
    "start_time": "2024-06-13T02:38:31.776Z"
   },
   {
    "duration": 0,
    "start_time": "2024-06-13T02:38:31.778Z"
   },
   {
    "duration": 0,
    "start_time": "2024-06-13T02:38:31.778Z"
   },
   {
    "duration": 0,
    "start_time": "2024-06-13T02:38:31.779Z"
   },
   {
    "duration": 0,
    "start_time": "2024-06-13T02:38:31.780Z"
   },
   {
    "duration": 0,
    "start_time": "2024-06-13T02:38:31.782Z"
   },
   {
    "duration": 0,
    "start_time": "2024-06-13T02:38:31.782Z"
   },
   {
    "duration": 0,
    "start_time": "2024-06-13T02:38:31.784Z"
   },
   {
    "duration": 0,
    "start_time": "2024-06-13T02:38:31.785Z"
   },
   {
    "duration": 0,
    "start_time": "2024-06-13T02:38:31.786Z"
   },
   {
    "duration": 0,
    "start_time": "2024-06-13T02:38:31.787Z"
   },
   {
    "duration": 0,
    "start_time": "2024-06-13T02:38:31.788Z"
   },
   {
    "duration": 0,
    "start_time": "2024-06-13T02:38:31.790Z"
   },
   {
    "duration": 0,
    "start_time": "2024-06-13T02:38:31.790Z"
   },
   {
    "duration": 0,
    "start_time": "2024-06-13T02:38:31.792Z"
   },
   {
    "duration": 683,
    "start_time": "2024-06-13T02:39:07.970Z"
   },
   {
    "duration": 128,
    "start_time": "2024-06-13T02:39:08.655Z"
   },
   {
    "duration": 20,
    "start_time": "2024-06-13T02:39:08.784Z"
   },
   {
    "duration": 7,
    "start_time": "2024-06-13T02:39:08.806Z"
   },
   {
    "duration": 5,
    "start_time": "2024-06-13T02:39:08.815Z"
   },
   {
    "duration": 17,
    "start_time": "2024-06-13T02:39:08.822Z"
   },
   {
    "duration": 20,
    "start_time": "2024-06-13T02:39:08.841Z"
   },
   {
    "duration": 11,
    "start_time": "2024-06-13T02:39:08.863Z"
   },
   {
    "duration": 33,
    "start_time": "2024-06-13T02:39:08.875Z"
   },
   {
    "duration": 18,
    "start_time": "2024-06-13T02:39:08.912Z"
   },
   {
    "duration": 6,
    "start_time": "2024-06-13T02:39:08.932Z"
   },
   {
    "duration": 6,
    "start_time": "2024-06-13T02:39:08.939Z"
   },
   {
    "duration": 4,
    "start_time": "2024-06-13T02:39:08.962Z"
   },
   {
    "duration": 20,
    "start_time": "2024-06-13T02:39:08.968Z"
   },
   {
    "duration": 8,
    "start_time": "2024-06-13T02:39:08.990Z"
   },
   {
    "duration": 19,
    "start_time": "2024-06-13T02:39:09.000Z"
   },
   {
    "duration": 8,
    "start_time": "2024-06-13T02:39:09.021Z"
   },
   {
    "duration": 45,
    "start_time": "2024-06-13T02:39:09.031Z"
   },
   {
    "duration": 37,
    "start_time": "2024-06-13T02:39:09.078Z"
   },
   {
    "duration": 8,
    "start_time": "2024-06-13T02:39:09.117Z"
   },
   {
    "duration": 7,
    "start_time": "2024-06-13T02:39:09.126Z"
   },
   {
    "duration": 9,
    "start_time": "2024-06-13T02:39:09.135Z"
   },
   {
    "duration": 5,
    "start_time": "2024-06-13T02:39:09.146Z"
   },
   {
    "duration": 8,
    "start_time": "2024-06-13T02:39:09.152Z"
   },
   {
    "duration": 5,
    "start_time": "2024-06-13T02:39:09.162Z"
   },
   {
    "duration": 10,
    "start_time": "2024-06-13T02:39:09.168Z"
   },
   {
    "duration": 12,
    "start_time": "2024-06-13T02:39:09.180Z"
   },
   {
    "duration": 14,
    "start_time": "2024-06-13T02:39:09.197Z"
   },
   {
    "duration": 19,
    "start_time": "2024-06-13T02:39:09.213Z"
   },
   {
    "duration": 32,
    "start_time": "2024-06-13T02:39:09.233Z"
   },
   {
    "duration": 5,
    "start_time": "2024-06-13T02:39:09.267Z"
   },
   {
    "duration": 16,
    "start_time": "2024-06-13T02:39:09.274Z"
   },
   {
    "duration": 6,
    "start_time": "2024-06-13T02:39:09.292Z"
   },
   {
    "duration": 13,
    "start_time": "2024-06-13T02:39:09.299Z"
   },
   {
    "duration": 109,
    "start_time": "2024-06-13T02:39:09.314Z"
   },
   {
    "duration": 0,
    "start_time": "2024-06-13T02:39:09.424Z"
   },
   {
    "duration": 0,
    "start_time": "2024-06-13T02:39:09.426Z"
   },
   {
    "duration": 0,
    "start_time": "2024-06-13T02:39:09.427Z"
   },
   {
    "duration": 0,
    "start_time": "2024-06-13T02:39:09.428Z"
   },
   {
    "duration": 0,
    "start_time": "2024-06-13T02:39:09.430Z"
   },
   {
    "duration": 0,
    "start_time": "2024-06-13T02:39:09.431Z"
   },
   {
    "duration": 0,
    "start_time": "2024-06-13T02:39:09.433Z"
   },
   {
    "duration": 0,
    "start_time": "2024-06-13T02:39:09.434Z"
   },
   {
    "duration": 0,
    "start_time": "2024-06-13T02:39:09.435Z"
   },
   {
    "duration": 0,
    "start_time": "2024-06-13T02:39:09.436Z"
   },
   {
    "duration": 0,
    "start_time": "2024-06-13T02:39:09.438Z"
   },
   {
    "duration": 0,
    "start_time": "2024-06-13T02:39:09.461Z"
   },
   {
    "duration": 0,
    "start_time": "2024-06-13T02:39:09.462Z"
   },
   {
    "duration": 0,
    "start_time": "2024-06-13T02:39:09.463Z"
   },
   {
    "duration": 0,
    "start_time": "2024-06-13T02:39:09.465Z"
   },
   {
    "duration": 0,
    "start_time": "2024-06-13T02:39:09.466Z"
   },
   {
    "duration": 0,
    "start_time": "2024-06-13T02:39:09.467Z"
   },
   {
    "duration": 0,
    "start_time": "2024-06-13T02:39:09.468Z"
   },
   {
    "duration": 0,
    "start_time": "2024-06-13T02:39:09.469Z"
   },
   {
    "duration": 0,
    "start_time": "2024-06-13T02:39:09.470Z"
   },
   {
    "duration": 0,
    "start_time": "2024-06-13T02:39:09.471Z"
   },
   {
    "duration": 0,
    "start_time": "2024-06-13T02:39:09.472Z"
   },
   {
    "duration": 0,
    "start_time": "2024-06-13T02:39:09.473Z"
   },
   {
    "duration": 0,
    "start_time": "2024-06-13T02:39:09.474Z"
   },
   {
    "duration": 0,
    "start_time": "2024-06-13T02:39:09.475Z"
   },
   {
    "duration": 0,
    "start_time": "2024-06-13T02:39:09.477Z"
   },
   {
    "duration": 0,
    "start_time": "2024-06-13T02:39:09.478Z"
   },
   {
    "duration": 0,
    "start_time": "2024-06-13T02:39:09.479Z"
   },
   {
    "duration": 1,
    "start_time": "2024-06-13T02:39:09.480Z"
   },
   {
    "duration": 0,
    "start_time": "2024-06-13T02:39:09.482Z"
   },
   {
    "duration": 0,
    "start_time": "2024-06-13T02:39:09.483Z"
   },
   {
    "duration": 0,
    "start_time": "2024-06-13T02:39:09.484Z"
   },
   {
    "duration": 0,
    "start_time": "2024-06-13T02:39:09.485Z"
   },
   {
    "duration": 0,
    "start_time": "2024-06-13T02:39:09.486Z"
   },
   {
    "duration": 0,
    "start_time": "2024-06-13T02:39:09.487Z"
   },
   {
    "duration": 0,
    "start_time": "2024-06-13T02:39:09.488Z"
   },
   {
    "duration": 0,
    "start_time": "2024-06-13T02:39:09.488Z"
   },
   {
    "duration": 0,
    "start_time": "2024-06-13T02:39:09.490Z"
   },
   {
    "duration": 0,
    "start_time": "2024-06-13T02:39:09.490Z"
   },
   {
    "duration": 0,
    "start_time": "2024-06-13T02:39:09.492Z"
   },
   {
    "duration": 0,
    "start_time": "2024-06-13T02:39:09.493Z"
   },
   {
    "duration": 0,
    "start_time": "2024-06-13T02:39:09.494Z"
   },
   {
    "duration": 0,
    "start_time": "2024-06-13T02:39:09.494Z"
   },
   {
    "duration": 1,
    "start_time": "2024-06-13T02:39:09.495Z"
   },
   {
    "duration": 0,
    "start_time": "2024-06-13T02:39:09.497Z"
   },
   {
    "duration": 0,
    "start_time": "2024-06-13T02:39:09.498Z"
   },
   {
    "duration": 0,
    "start_time": "2024-06-13T02:39:09.563Z"
   },
   {
    "duration": 0,
    "start_time": "2024-06-13T02:39:09.564Z"
   },
   {
    "duration": 0,
    "start_time": "2024-06-13T02:39:09.565Z"
   },
   {
    "duration": 26,
    "start_time": "2024-06-13T02:39:27.859Z"
   },
   {
    "duration": 506,
    "start_time": "2024-06-13T02:40:29.947Z"
   },
   {
    "duration": 23,
    "start_time": "2024-06-13T02:40:50.369Z"
   },
   {
    "duration": 26,
    "start_time": "2024-06-13T02:41:00.501Z"
   },
   {
    "duration": 59,
    "start_time": "2024-06-13T02:41:55.792Z"
   },
   {
    "duration": 89,
    "start_time": "2024-06-13T02:42:00.276Z"
   },
   {
    "duration": 29,
    "start_time": "2024-06-13T02:42:03.705Z"
   },
   {
    "duration": 27,
    "start_time": "2024-06-13T02:42:37.632Z"
   },
   {
    "duration": 26,
    "start_time": "2024-06-13T02:43:50.139Z"
   },
   {
    "duration": 9,
    "start_time": "2024-06-13T02:43:50.807Z"
   },
   {
    "duration": 10,
    "start_time": "2024-06-13T02:43:51.343Z"
   },
   {
    "duration": 11,
    "start_time": "2024-06-13T02:43:55.691Z"
   },
   {
    "duration": 6,
    "start_time": "2024-06-13T02:43:56.763Z"
   },
   {
    "duration": 23,
    "start_time": "2024-06-13T02:43:59.792Z"
   },
   {
    "duration": 4,
    "start_time": "2024-06-13T02:44:01.501Z"
   },
   {
    "duration": 14,
    "start_time": "2024-06-13T02:44:02.102Z"
   },
   {
    "duration": 15,
    "start_time": "2024-06-13T02:44:02.453Z"
   },
   {
    "duration": 743,
    "start_time": "2024-06-13T02:46:46.482Z"
   },
   {
    "duration": 131,
    "start_time": "2024-06-13T02:46:47.227Z"
   },
   {
    "duration": 20,
    "start_time": "2024-06-13T02:46:47.360Z"
   },
   {
    "duration": 10,
    "start_time": "2024-06-13T02:46:47.382Z"
   },
   {
    "duration": 22,
    "start_time": "2024-06-13T02:46:47.394Z"
   },
   {
    "duration": 17,
    "start_time": "2024-06-13T02:46:47.418Z"
   },
   {
    "duration": 28,
    "start_time": "2024-06-13T02:46:47.437Z"
   },
   {
    "duration": 7,
    "start_time": "2024-06-13T02:46:47.466Z"
   },
   {
    "duration": 15,
    "start_time": "2024-06-13T02:46:47.475Z"
   },
   {
    "duration": 13,
    "start_time": "2024-06-13T02:46:47.492Z"
   },
   {
    "duration": 4,
    "start_time": "2024-06-13T02:46:47.507Z"
   },
   {
    "duration": 7,
    "start_time": "2024-06-13T02:46:47.513Z"
   },
   {
    "duration": 42,
    "start_time": "2024-06-13T02:46:47.522Z"
   },
   {
    "duration": 22,
    "start_time": "2024-06-13T02:46:47.567Z"
   },
   {
    "duration": 7,
    "start_time": "2024-06-13T02:46:47.591Z"
   },
   {
    "duration": 28,
    "start_time": "2024-06-13T02:46:47.600Z"
   },
   {
    "duration": 13,
    "start_time": "2024-06-13T02:46:47.660Z"
   },
   {
    "duration": 21,
    "start_time": "2024-06-13T02:46:47.675Z"
   },
   {
    "duration": 13,
    "start_time": "2024-06-13T02:46:47.699Z"
   },
   {
    "duration": 11,
    "start_time": "2024-06-13T02:46:47.715Z"
   },
   {
    "duration": 36,
    "start_time": "2024-06-13T02:46:47.728Z"
   },
   {
    "duration": 22,
    "start_time": "2024-06-13T02:46:47.766Z"
   },
   {
    "duration": 14,
    "start_time": "2024-06-13T02:46:47.790Z"
   },
   {
    "duration": 14,
    "start_time": "2024-06-13T02:46:47.806Z"
   },
   {
    "duration": 7,
    "start_time": "2024-06-13T02:46:47.822Z"
   },
   {
    "duration": 15,
    "start_time": "2024-06-13T02:46:47.831Z"
   },
   {
    "duration": 7,
    "start_time": "2024-06-13T02:46:47.862Z"
   },
   {
    "duration": 21,
    "start_time": "2024-06-13T02:46:47.879Z"
   },
   {
    "duration": 28,
    "start_time": "2024-06-13T02:46:47.903Z"
   },
   {
    "duration": 30,
    "start_time": "2024-06-13T02:46:47.933Z"
   },
   {
    "duration": 8,
    "start_time": "2024-06-13T02:46:47.966Z"
   },
   {
    "duration": 29,
    "start_time": "2024-06-13T02:46:47.976Z"
   },
   {
    "duration": 11,
    "start_time": "2024-06-13T02:46:48.007Z"
   },
   {
    "duration": 55,
    "start_time": "2024-06-13T02:46:48.020Z"
   },
   {
    "duration": 10,
    "start_time": "2024-06-13T02:46:48.078Z"
   },
   {
    "duration": 9,
    "start_time": "2024-06-13T02:46:48.090Z"
   },
   {
    "duration": 33,
    "start_time": "2024-06-13T02:46:48.101Z"
   },
   {
    "duration": 61,
    "start_time": "2024-06-13T02:46:48.136Z"
   },
   {
    "duration": 30,
    "start_time": "2024-06-13T02:46:48.198Z"
   },
   {
    "duration": 4,
    "start_time": "2024-06-13T02:46:48.230Z"
   },
   {
    "duration": 89,
    "start_time": "2024-06-13T02:46:48.236Z"
   },
   {
    "duration": 0,
    "start_time": "2024-06-13T02:46:48.327Z"
   },
   {
    "duration": 0,
    "start_time": "2024-06-13T02:46:48.328Z"
   },
   {
    "duration": 0,
    "start_time": "2024-06-13T02:46:48.330Z"
   },
   {
    "duration": 0,
    "start_time": "2024-06-13T02:46:48.332Z"
   },
   {
    "duration": 0,
    "start_time": "2024-06-13T02:46:48.333Z"
   },
   {
    "duration": 0,
    "start_time": "2024-06-13T02:46:48.334Z"
   },
   {
    "duration": 0,
    "start_time": "2024-06-13T02:46:48.336Z"
   },
   {
    "duration": 0,
    "start_time": "2024-06-13T02:46:48.338Z"
   },
   {
    "duration": 0,
    "start_time": "2024-06-13T02:46:48.340Z"
   },
   {
    "duration": 0,
    "start_time": "2024-06-13T02:46:48.362Z"
   },
   {
    "duration": 0,
    "start_time": "2024-06-13T02:46:48.362Z"
   },
   {
    "duration": 0,
    "start_time": "2024-06-13T02:46:48.363Z"
   },
   {
    "duration": 0,
    "start_time": "2024-06-13T02:46:48.365Z"
   },
   {
    "duration": 0,
    "start_time": "2024-06-13T02:46:48.366Z"
   },
   {
    "duration": 0,
    "start_time": "2024-06-13T02:46:48.367Z"
   },
   {
    "duration": 0,
    "start_time": "2024-06-13T02:46:48.368Z"
   },
   {
    "duration": 0,
    "start_time": "2024-06-13T02:46:48.369Z"
   },
   {
    "duration": 0,
    "start_time": "2024-06-13T02:46:48.370Z"
   },
   {
    "duration": 0,
    "start_time": "2024-06-13T02:46:48.371Z"
   },
   {
    "duration": 0,
    "start_time": "2024-06-13T02:46:48.372Z"
   },
   {
    "duration": 0,
    "start_time": "2024-06-13T02:46:48.373Z"
   },
   {
    "duration": 0,
    "start_time": "2024-06-13T02:46:48.374Z"
   },
   {
    "duration": 0,
    "start_time": "2024-06-13T02:46:48.375Z"
   },
   {
    "duration": 0,
    "start_time": "2024-06-13T02:46:48.376Z"
   },
   {
    "duration": 0,
    "start_time": "2024-06-13T02:46:48.377Z"
   },
   {
    "duration": 0,
    "start_time": "2024-06-13T02:46:48.378Z"
   },
   {
    "duration": 0,
    "start_time": "2024-06-13T02:46:48.379Z"
   },
   {
    "duration": 0,
    "start_time": "2024-06-13T02:46:48.381Z"
   },
   {
    "duration": 0,
    "start_time": "2024-06-13T02:46:48.382Z"
   },
   {
    "duration": 0,
    "start_time": "2024-06-13T02:46:48.383Z"
   },
   {
    "duration": 0,
    "start_time": "2024-06-13T02:46:48.385Z"
   },
   {
    "duration": 0,
    "start_time": "2024-06-13T02:46:48.386Z"
   },
   {
    "duration": 0,
    "start_time": "2024-06-13T02:46:48.387Z"
   },
   {
    "duration": 0,
    "start_time": "2024-06-13T02:46:48.388Z"
   },
   {
    "duration": 0,
    "start_time": "2024-06-13T02:46:48.390Z"
   },
   {
    "duration": 0,
    "start_time": "2024-06-13T02:46:48.391Z"
   },
   {
    "duration": 0,
    "start_time": "2024-06-13T02:46:48.392Z"
   },
   {
    "duration": 0,
    "start_time": "2024-06-13T02:46:48.393Z"
   },
   {
    "duration": 0,
    "start_time": "2024-06-13T02:46:48.395Z"
   },
   {
    "duration": 0,
    "start_time": "2024-06-13T02:46:48.396Z"
   },
   {
    "duration": 0,
    "start_time": "2024-06-13T02:46:48.397Z"
   },
   {
    "duration": 0,
    "start_time": "2024-06-13T02:46:48.398Z"
   },
   {
    "duration": 0,
    "start_time": "2024-06-13T02:46:48.461Z"
   },
   {
    "duration": 13,
    "start_time": "2024-06-13T02:47:30.863Z"
   },
   {
    "duration": 14,
    "start_time": "2024-06-13T02:47:53.554Z"
   },
   {
    "duration": 774,
    "start_time": "2024-06-13T02:48:01.293Z"
   },
   {
    "duration": 17,
    "start_time": "2024-06-13T02:49:30.999Z"
   },
   {
    "duration": 26,
    "start_time": "2024-06-13T02:49:42.768Z"
   },
   {
    "duration": 19,
    "start_time": "2024-06-13T02:50:34.577Z"
   },
   {
    "duration": 3,
    "start_time": "2024-06-13T02:54:29.864Z"
   },
   {
    "duration": 8,
    "start_time": "2024-06-13T02:55:10.854Z"
   },
   {
    "duration": 16,
    "start_time": "2024-06-13T02:55:20.946Z"
   },
   {
    "duration": 31,
    "start_time": "2024-06-13T02:55:29.185Z"
   },
   {
    "duration": 18,
    "start_time": "2024-06-13T02:56:02.137Z"
   },
   {
    "duration": 25,
    "start_time": "2024-06-13T02:56:05.001Z"
   },
   {
    "duration": 37,
    "start_time": "2024-06-13T02:56:18.144Z"
   },
   {
    "duration": 38,
    "start_time": "2024-06-13T02:56:23.752Z"
   },
   {
    "duration": 36,
    "start_time": "2024-06-13T02:56:31.220Z"
   },
   {
    "duration": 35,
    "start_time": "2024-06-13T02:56:35.027Z"
   },
   {
    "duration": 715,
    "start_time": "2024-06-13T03:00:00.858Z"
   },
   {
    "duration": 150,
    "start_time": "2024-06-13T03:00:01.575Z"
   },
   {
    "duration": 18,
    "start_time": "2024-06-13T03:00:01.727Z"
   },
   {
    "duration": 124,
    "start_time": "2024-06-13T03:00:01.747Z"
   },
   {
    "duration": 32,
    "start_time": "2024-06-13T03:00:01.873Z"
   },
   {
    "duration": 60,
    "start_time": "2024-06-13T03:00:01.907Z"
   },
   {
    "duration": 42,
    "start_time": "2024-06-13T03:00:01.969Z"
   },
   {
    "duration": 43,
    "start_time": "2024-06-13T03:00:02.013Z"
   },
   {
    "duration": 41,
    "start_time": "2024-06-13T03:00:02.058Z"
   },
   {
    "duration": 15,
    "start_time": "2024-06-13T03:00:02.102Z"
   },
   {
    "duration": 13,
    "start_time": "2024-06-13T03:00:02.119Z"
   },
   {
    "duration": 9,
    "start_time": "2024-06-13T03:00:02.134Z"
   },
   {
    "duration": 10,
    "start_time": "2024-06-13T03:00:02.144Z"
   },
   {
    "duration": 34,
    "start_time": "2024-06-13T03:00:02.155Z"
   },
   {
    "duration": 15,
    "start_time": "2024-06-13T03:00:02.192Z"
   },
   {
    "duration": 36,
    "start_time": "2024-06-13T03:00:02.210Z"
   },
   {
    "duration": 22,
    "start_time": "2024-06-13T03:00:02.248Z"
   },
   {
    "duration": 35,
    "start_time": "2024-06-13T03:00:02.272Z"
   },
   {
    "duration": 17,
    "start_time": "2024-06-13T03:00:02.309Z"
   },
   {
    "duration": 31,
    "start_time": "2024-06-13T03:00:02.328Z"
   },
   {
    "duration": 15,
    "start_time": "2024-06-13T03:00:02.360Z"
   },
   {
    "duration": 22,
    "start_time": "2024-06-13T03:00:02.377Z"
   },
   {
    "duration": 28,
    "start_time": "2024-06-13T03:00:02.401Z"
   },
   {
    "duration": 33,
    "start_time": "2024-06-13T03:00:02.431Z"
   },
   {
    "duration": 36,
    "start_time": "2024-06-13T03:00:02.466Z"
   },
   {
    "duration": 20,
    "start_time": "2024-06-13T03:00:02.504Z"
   },
   {
    "duration": 41,
    "start_time": "2024-06-13T03:00:02.526Z"
   },
   {
    "duration": 41,
    "start_time": "2024-06-13T03:00:02.571Z"
   },
   {
    "duration": 23,
    "start_time": "2024-06-13T03:00:02.614Z"
   },
   {
    "duration": 11,
    "start_time": "2024-06-13T03:00:02.638Z"
   },
   {
    "duration": 46,
    "start_time": "2024-06-13T03:00:02.651Z"
   },
   {
    "duration": 19,
    "start_time": "2024-06-13T03:00:02.699Z"
   },
   {
    "duration": 17,
    "start_time": "2024-06-13T03:00:02.720Z"
   },
   {
    "duration": 28,
    "start_time": "2024-06-13T03:00:02.739Z"
   },
   {
    "duration": 9,
    "start_time": "2024-06-13T03:00:02.768Z"
   },
   {
    "duration": 17,
    "start_time": "2024-06-13T03:00:02.778Z"
   },
   {
    "duration": 12,
    "start_time": "2024-06-13T03:00:02.797Z"
   },
   {
    "duration": 16,
    "start_time": "2024-06-13T03:00:02.811Z"
   },
   {
    "duration": 39,
    "start_time": "2024-06-13T03:00:02.828Z"
   },
   {
    "duration": 4,
    "start_time": "2024-06-13T03:00:02.869Z"
   },
   {
    "duration": 16,
    "start_time": "2024-06-13T03:00:02.875Z"
   },
   {
    "duration": 46,
    "start_time": "2024-06-13T03:00:02.893Z"
   },
   {
    "duration": 20,
    "start_time": "2024-06-13T03:00:02.941Z"
   },
   {
    "duration": 57,
    "start_time": "2024-06-13T03:00:02.963Z"
   },
   {
    "duration": 4,
    "start_time": "2024-06-13T03:00:03.022Z"
   },
   {
    "duration": 77,
    "start_time": "2024-06-13T03:00:03.028Z"
   },
   {
    "duration": 0,
    "start_time": "2024-06-13T03:00:03.107Z"
   },
   {
    "duration": 0,
    "start_time": "2024-06-13T03:00:03.109Z"
   },
   {
    "duration": 0,
    "start_time": "2024-06-13T03:00:03.111Z"
   },
   {
    "duration": 0,
    "start_time": "2024-06-13T03:00:03.112Z"
   },
   {
    "duration": 0,
    "start_time": "2024-06-13T03:00:03.113Z"
   },
   {
    "duration": 0,
    "start_time": "2024-06-13T03:00:03.115Z"
   },
   {
    "duration": 0,
    "start_time": "2024-06-13T03:00:03.117Z"
   },
   {
    "duration": 0,
    "start_time": "2024-06-13T03:00:03.118Z"
   },
   {
    "duration": 0,
    "start_time": "2024-06-13T03:00:03.120Z"
   },
   {
    "duration": 0,
    "start_time": "2024-06-13T03:00:03.122Z"
   },
   {
    "duration": 0,
    "start_time": "2024-06-13T03:00:03.123Z"
   },
   {
    "duration": 0,
    "start_time": "2024-06-13T03:00:03.125Z"
   },
   {
    "duration": 0,
    "start_time": "2024-06-13T03:00:03.126Z"
   },
   {
    "duration": 0,
    "start_time": "2024-06-13T03:00:03.128Z"
   },
   {
    "duration": 0,
    "start_time": "2024-06-13T03:00:03.129Z"
   },
   {
    "duration": 0,
    "start_time": "2024-06-13T03:00:03.161Z"
   },
   {
    "duration": 0,
    "start_time": "2024-06-13T03:00:03.163Z"
   },
   {
    "duration": 0,
    "start_time": "2024-06-13T03:00:03.164Z"
   },
   {
    "duration": 0,
    "start_time": "2024-06-13T03:00:03.165Z"
   },
   {
    "duration": 0,
    "start_time": "2024-06-13T03:00:03.167Z"
   },
   {
    "duration": 0,
    "start_time": "2024-06-13T03:00:03.169Z"
   },
   {
    "duration": 0,
    "start_time": "2024-06-13T03:00:03.170Z"
   },
   {
    "duration": 0,
    "start_time": "2024-06-13T03:00:03.173Z"
   },
   {
    "duration": 0,
    "start_time": "2024-06-13T03:00:03.174Z"
   },
   {
    "duration": 0,
    "start_time": "2024-06-13T03:00:03.176Z"
   },
   {
    "duration": 0,
    "start_time": "2024-06-13T03:00:03.177Z"
   },
   {
    "duration": 0,
    "start_time": "2024-06-13T03:00:03.179Z"
   },
   {
    "duration": 0,
    "start_time": "2024-06-13T03:00:03.180Z"
   },
   {
    "duration": 0,
    "start_time": "2024-06-13T03:00:03.182Z"
   },
   {
    "duration": 0,
    "start_time": "2024-06-13T03:00:03.183Z"
   },
   {
    "duration": 0,
    "start_time": "2024-06-13T03:00:03.185Z"
   },
   {
    "duration": 0,
    "start_time": "2024-06-13T03:00:03.186Z"
   },
   {
    "duration": 0,
    "start_time": "2024-06-13T03:00:03.187Z"
   },
   {
    "duration": 0,
    "start_time": "2024-06-13T03:00:03.189Z"
   },
   {
    "duration": 0,
    "start_time": "2024-06-13T03:00:03.190Z"
   },
   {
    "duration": 0,
    "start_time": "2024-06-13T03:00:03.192Z"
   },
   {
    "duration": 0,
    "start_time": "2024-06-13T03:00:03.193Z"
   },
   {
    "duration": 0,
    "start_time": "2024-06-13T03:00:03.195Z"
   },
   {
    "duration": 0,
    "start_time": "2024-06-13T03:00:03.196Z"
   },
   {
    "duration": 5,
    "start_time": "2024-06-13T03:00:23.938Z"
   },
   {
    "duration": 4,
    "start_time": "2024-06-13T03:01:06.451Z"
   },
   {
    "duration": 2,
    "start_time": "2024-06-13T03:04:06.813Z"
   },
   {
    "duration": 23,
    "start_time": "2024-06-13T03:05:58.785Z"
   },
   {
    "duration": 17,
    "start_time": "2024-06-13T03:08:00.242Z"
   },
   {
    "duration": 5,
    "start_time": "2024-06-13T03:08:00.473Z"
   },
   {
    "duration": 8,
    "start_time": "2024-06-13T03:08:01.618Z"
   },
   {
    "duration": 5,
    "start_time": "2024-06-13T03:08:03.178Z"
   },
   {
    "duration": 4,
    "start_time": "2024-06-13T03:08:05.503Z"
   },
   {
    "duration": 6,
    "start_time": "2024-06-13T03:08:35.823Z"
   },
   {
    "duration": 14,
    "start_time": "2024-06-13T03:08:54.021Z"
   },
   {
    "duration": 10,
    "start_time": "2024-06-13T03:09:08.840Z"
   },
   {
    "duration": 5,
    "start_time": "2024-06-13T03:09:17.027Z"
   },
   {
    "duration": 5,
    "start_time": "2024-06-13T03:09:19.099Z"
   },
   {
    "duration": 9,
    "start_time": "2024-06-13T03:09:59.680Z"
   },
   {
    "duration": 7,
    "start_time": "2024-06-13T03:10:28.664Z"
   },
   {
    "duration": 60,
    "start_time": "2024-06-13T03:11:11.862Z"
   },
   {
    "duration": 8,
    "start_time": "2024-06-13T03:12:25.003Z"
   },
   {
    "duration": 7,
    "start_time": "2024-06-13T03:12:25.553Z"
   },
   {
    "duration": 8,
    "start_time": "2024-06-13T03:12:45.788Z"
   },
   {
    "duration": 6,
    "start_time": "2024-06-13T03:12:49.751Z"
   },
   {
    "duration": 40,
    "start_time": "2024-06-13T03:15:15.906Z"
   },
   {
    "duration": 19,
    "start_time": "2024-06-13T03:15:23.225Z"
   },
   {
    "duration": 7,
    "start_time": "2024-06-13T03:15:23.634Z"
   },
   {
    "duration": 5,
    "start_time": "2024-06-13T03:15:32.507Z"
   },
   {
    "duration": 27,
    "start_time": "2024-06-13T03:16:21.962Z"
   },
   {
    "duration": 7,
    "start_time": "2024-06-13T03:16:33.933Z"
   },
   {
    "duration": 34,
    "start_time": "2024-06-13T03:29:43.650Z"
   },
   {
    "duration": 7,
    "start_time": "2024-06-13T03:33:00.111Z"
   },
   {
    "duration": 27,
    "start_time": "2024-06-13T03:33:25.571Z"
   },
   {
    "duration": 20,
    "start_time": "2024-06-13T03:33:35.043Z"
   },
   {
    "duration": 4,
    "start_time": "2024-06-13T03:34:19.829Z"
   },
   {
    "duration": 3,
    "start_time": "2024-06-13T03:34:36.879Z"
   },
   {
    "duration": 55,
    "start_time": "2024-06-13T03:34:45.110Z"
   },
   {
    "duration": 57,
    "start_time": "2024-06-13T03:35:23.070Z"
   },
   {
    "duration": 8,
    "start_time": "2024-06-13T03:36:29.026Z"
   },
   {
    "duration": 8,
    "start_time": "2024-06-13T03:38:05.227Z"
   },
   {
    "duration": 22,
    "start_time": "2024-06-13T03:38:49.456Z"
   },
   {
    "duration": 23,
    "start_time": "2024-06-13T03:39:22.232Z"
   },
   {
    "duration": 8,
    "start_time": "2024-06-13T03:39:32.240Z"
   },
   {
    "duration": 948,
    "start_time": "2024-06-13T03:44:38.726Z"
   },
   {
    "duration": 8,
    "start_time": "2024-06-13T03:45:06.510Z"
   },
   {
    "duration": 4,
    "start_time": "2024-06-13T03:45:25.056Z"
   },
   {
    "duration": 4,
    "start_time": "2024-06-13T03:45:33.838Z"
   },
   {
    "duration": 9,
    "start_time": "2024-06-13T03:45:51.728Z"
   },
   {
    "duration": 17,
    "start_time": "2024-06-13T03:47:36.137Z"
   },
   {
    "duration": 4,
    "start_time": "2024-06-13T03:47:55.496Z"
   },
   {
    "duration": 4,
    "start_time": "2024-06-13T03:48:00.168Z"
   },
   {
    "duration": 5,
    "start_time": "2024-06-13T03:48:38.268Z"
   },
   {
    "duration": 8,
    "start_time": "2024-06-13T03:48:41.038Z"
   },
   {
    "duration": 63,
    "start_time": "2024-06-13T03:51:58.347Z"
   },
   {
    "duration": 725,
    "start_time": "2024-06-13T03:52:15.786Z"
   },
   {
    "duration": 131,
    "start_time": "2024-06-13T03:52:16.513Z"
   },
   {
    "duration": 20,
    "start_time": "2024-06-13T03:52:16.646Z"
   },
   {
    "duration": 12,
    "start_time": "2024-06-13T03:52:16.668Z"
   },
   {
    "duration": 6,
    "start_time": "2024-06-13T03:52:16.681Z"
   },
   {
    "duration": 23,
    "start_time": "2024-06-13T03:52:16.688Z"
   },
   {
    "duration": 12,
    "start_time": "2024-06-13T03:52:16.713Z"
   },
   {
    "duration": 18,
    "start_time": "2024-06-13T03:52:16.727Z"
   },
   {
    "duration": 21,
    "start_time": "2024-06-13T03:52:16.747Z"
   },
   {
    "duration": 13,
    "start_time": "2024-06-13T03:52:16.771Z"
   },
   {
    "duration": 4,
    "start_time": "2024-06-13T03:52:16.786Z"
   },
   {
    "duration": 7,
    "start_time": "2024-06-13T03:52:16.792Z"
   },
   {
    "duration": 6,
    "start_time": "2024-06-13T03:52:16.801Z"
   },
   {
    "duration": 17,
    "start_time": "2024-06-13T03:52:16.809Z"
   },
   {
    "duration": 38,
    "start_time": "2024-06-13T03:52:16.827Z"
   },
   {
    "duration": 21,
    "start_time": "2024-06-13T03:52:16.866Z"
   },
   {
    "duration": 22,
    "start_time": "2024-06-13T03:52:16.888Z"
   },
   {
    "duration": 18,
    "start_time": "2024-06-13T03:52:16.912Z"
   },
   {
    "duration": 9,
    "start_time": "2024-06-13T03:52:16.932Z"
   },
   {
    "duration": 23,
    "start_time": "2024-06-13T03:52:16.942Z"
   },
   {
    "duration": 5,
    "start_time": "2024-06-13T03:52:16.967Z"
   },
   {
    "duration": 8,
    "start_time": "2024-06-13T03:52:16.974Z"
   },
   {
    "duration": 7,
    "start_time": "2024-06-13T03:52:16.984Z"
   },
   {
    "duration": 16,
    "start_time": "2024-06-13T03:52:16.992Z"
   },
   {
    "duration": 10,
    "start_time": "2024-06-13T03:52:17.010Z"
   },
   {
    "duration": 21,
    "start_time": "2024-06-13T03:52:17.022Z"
   },
   {
    "duration": 18,
    "start_time": "2024-06-13T03:52:17.045Z"
   },
   {
    "duration": 14,
    "start_time": "2024-06-13T03:52:17.069Z"
   },
   {
    "duration": 29,
    "start_time": "2024-06-13T03:52:17.085Z"
   },
   {
    "duration": 6,
    "start_time": "2024-06-13T03:52:17.116Z"
   },
   {
    "duration": 37,
    "start_time": "2024-06-13T03:52:17.124Z"
   },
   {
    "duration": 15,
    "start_time": "2024-06-13T03:52:17.163Z"
   },
   {
    "duration": 7,
    "start_time": "2024-06-13T03:52:17.180Z"
   },
   {
    "duration": 36,
    "start_time": "2024-06-13T03:52:17.188Z"
   },
   {
    "duration": 12,
    "start_time": "2024-06-13T03:52:17.227Z"
   },
   {
    "duration": 26,
    "start_time": "2024-06-13T03:52:17.241Z"
   },
   {
    "duration": 14,
    "start_time": "2024-06-13T03:52:17.269Z"
   },
   {
    "duration": 19,
    "start_time": "2024-06-13T03:52:17.285Z"
   },
   {
    "duration": 46,
    "start_time": "2024-06-13T03:52:17.306Z"
   },
   {
    "duration": 4,
    "start_time": "2024-06-13T03:52:17.354Z"
   },
   {
    "duration": 4,
    "start_time": "2024-06-13T03:52:17.359Z"
   },
   {
    "duration": 16,
    "start_time": "2024-06-13T03:52:17.364Z"
   },
   {
    "duration": 18,
    "start_time": "2024-06-13T03:52:17.382Z"
   },
   {
    "duration": 60,
    "start_time": "2024-06-13T03:52:17.402Z"
   },
   {
    "duration": 4,
    "start_time": "2024-06-13T03:52:17.464Z"
   },
   {
    "duration": 16,
    "start_time": "2024-06-13T03:52:17.469Z"
   },
   {
    "duration": 17,
    "start_time": "2024-06-13T03:52:17.486Z"
   },
   {
    "duration": 5,
    "start_time": "2024-06-13T03:52:17.505Z"
   },
   {
    "duration": 9,
    "start_time": "2024-06-13T03:52:17.511Z"
   },
   {
    "duration": 40,
    "start_time": "2024-06-13T03:52:17.522Z"
   },
   {
    "duration": 7,
    "start_time": "2024-06-13T03:52:17.564Z"
   },
   {
    "duration": 37,
    "start_time": "2024-06-13T03:52:17.572Z"
   },
   {
    "duration": 18,
    "start_time": "2024-06-13T03:52:17.610Z"
   },
   {
    "duration": 34,
    "start_time": "2024-06-13T03:52:17.630Z"
   },
   {
    "duration": 8,
    "start_time": "2024-06-13T03:52:17.665Z"
   },
   {
    "duration": 21,
    "start_time": "2024-06-13T03:52:17.675Z"
   },
   {
    "duration": 11,
    "start_time": "2024-06-13T03:52:17.697Z"
   },
   {
    "duration": 10,
    "start_time": "2024-06-13T03:52:17.709Z"
   },
   {
    "duration": 10,
    "start_time": "2024-06-13T03:52:17.720Z"
   },
   {
    "duration": 5,
    "start_time": "2024-06-13T03:52:17.761Z"
   },
   {
    "duration": 7,
    "start_time": "2024-06-13T03:52:17.768Z"
   },
   {
    "duration": 105,
    "start_time": "2024-06-13T03:52:17.777Z"
   },
   {
    "duration": 0,
    "start_time": "2024-06-13T03:52:17.884Z"
   },
   {
    "duration": 0,
    "start_time": "2024-06-13T03:52:17.885Z"
   },
   {
    "duration": 0,
    "start_time": "2024-06-13T03:52:17.887Z"
   },
   {
    "duration": 0,
    "start_time": "2024-06-13T03:52:17.888Z"
   },
   {
    "duration": 0,
    "start_time": "2024-06-13T03:52:17.889Z"
   },
   {
    "duration": 0,
    "start_time": "2024-06-13T03:52:17.891Z"
   },
   {
    "duration": 0,
    "start_time": "2024-06-13T03:52:17.892Z"
   },
   {
    "duration": 0,
    "start_time": "2024-06-13T03:52:17.893Z"
   },
   {
    "duration": 0,
    "start_time": "2024-06-13T03:52:17.894Z"
   },
   {
    "duration": 0,
    "start_time": "2024-06-13T03:52:17.895Z"
   },
   {
    "duration": 0,
    "start_time": "2024-06-13T03:52:17.896Z"
   },
   {
    "duration": 0,
    "start_time": "2024-06-13T03:52:17.897Z"
   },
   {
    "duration": 1,
    "start_time": "2024-06-13T03:52:17.898Z"
   },
   {
    "duration": 0,
    "start_time": "2024-06-13T03:52:17.900Z"
   },
   {
    "duration": 0,
    "start_time": "2024-06-13T03:52:17.901Z"
   },
   {
    "duration": 0,
    "start_time": "2024-06-13T03:52:17.902Z"
   },
   {
    "duration": 0,
    "start_time": "2024-06-13T03:52:17.903Z"
   },
   {
    "duration": 0,
    "start_time": "2024-06-13T03:52:17.905Z"
   },
   {
    "duration": 0,
    "start_time": "2024-06-13T03:52:17.906Z"
   },
   {
    "duration": 0,
    "start_time": "2024-06-13T03:52:17.907Z"
   },
   {
    "duration": 0,
    "start_time": "2024-06-13T03:52:17.908Z"
   },
   {
    "duration": 0,
    "start_time": "2024-06-13T03:52:17.908Z"
   },
   {
    "duration": 0,
    "start_time": "2024-06-13T03:52:17.910Z"
   },
   {
    "duration": 0,
    "start_time": "2024-06-13T03:52:17.911Z"
   },
   {
    "duration": 0,
    "start_time": "2024-06-13T03:52:17.912Z"
   },
   {
    "duration": 0,
    "start_time": "2024-06-13T03:52:17.913Z"
   },
   {
    "duration": 30,
    "start_time": "2024-06-13T03:52:57.998Z"
   },
   {
    "duration": 17,
    "start_time": "2024-06-13T03:58:44.181Z"
   },
   {
    "duration": 698,
    "start_time": "2024-06-13T04:01:59.251Z"
   },
   {
    "duration": 129,
    "start_time": "2024-06-13T04:01:59.951Z"
   },
   {
    "duration": 19,
    "start_time": "2024-06-13T04:02:00.082Z"
   },
   {
    "duration": 48,
    "start_time": "2024-06-13T04:02:00.103Z"
   },
   {
    "duration": 48,
    "start_time": "2024-06-13T04:02:00.152Z"
   },
   {
    "duration": 66,
    "start_time": "2024-06-13T04:02:00.202Z"
   },
   {
    "duration": 42,
    "start_time": "2024-06-13T04:02:00.270Z"
   },
   {
    "duration": 91,
    "start_time": "2024-06-13T04:02:00.314Z"
   },
   {
    "duration": 36,
    "start_time": "2024-06-13T04:02:00.407Z"
   },
   {
    "duration": 38,
    "start_time": "2024-06-13T04:02:00.447Z"
   },
   {
    "duration": 33,
    "start_time": "2024-06-13T04:02:00.487Z"
   },
   {
    "duration": 32,
    "start_time": "2024-06-13T04:02:00.522Z"
   },
   {
    "duration": 43,
    "start_time": "2024-06-13T04:02:00.555Z"
   },
   {
    "duration": 84,
    "start_time": "2024-06-13T04:02:00.600Z"
   },
   {
    "duration": 81,
    "start_time": "2024-06-13T04:02:00.686Z"
   },
   {
    "duration": 0,
    "start_time": "2024-06-13T04:02:00.770Z"
   },
   {
    "duration": 0,
    "start_time": "2024-06-13T04:02:00.771Z"
   },
   {
    "duration": 0,
    "start_time": "2024-06-13T04:02:00.773Z"
   },
   {
    "duration": 0,
    "start_time": "2024-06-13T04:02:00.774Z"
   },
   {
    "duration": 0,
    "start_time": "2024-06-13T04:02:00.776Z"
   },
   {
    "duration": 0,
    "start_time": "2024-06-13T04:02:00.777Z"
   },
   {
    "duration": 0,
    "start_time": "2024-06-13T04:02:00.778Z"
   },
   {
    "duration": 0,
    "start_time": "2024-06-13T04:02:00.779Z"
   },
   {
    "duration": 0,
    "start_time": "2024-06-13T04:02:00.780Z"
   },
   {
    "duration": 0,
    "start_time": "2024-06-13T04:02:00.781Z"
   },
   {
    "duration": 0,
    "start_time": "2024-06-13T04:02:00.782Z"
   },
   {
    "duration": 0,
    "start_time": "2024-06-13T04:02:00.783Z"
   },
   {
    "duration": 0,
    "start_time": "2024-06-13T04:02:00.784Z"
   },
   {
    "duration": 0,
    "start_time": "2024-06-13T04:02:00.785Z"
   },
   {
    "duration": 0,
    "start_time": "2024-06-13T04:02:00.786Z"
   },
   {
    "duration": 0,
    "start_time": "2024-06-13T04:02:00.787Z"
   },
   {
    "duration": 0,
    "start_time": "2024-06-13T04:02:00.788Z"
   },
   {
    "duration": 0,
    "start_time": "2024-06-13T04:02:00.789Z"
   },
   {
    "duration": 0,
    "start_time": "2024-06-13T04:02:00.790Z"
   },
   {
    "duration": 0,
    "start_time": "2024-06-13T04:02:00.791Z"
   },
   {
    "duration": 0,
    "start_time": "2024-06-13T04:02:00.792Z"
   },
   {
    "duration": 0,
    "start_time": "2024-06-13T04:02:00.792Z"
   },
   {
    "duration": 0,
    "start_time": "2024-06-13T04:02:00.794Z"
   },
   {
    "duration": 0,
    "start_time": "2024-06-13T04:02:00.795Z"
   },
   {
    "duration": 0,
    "start_time": "2024-06-13T04:02:00.796Z"
   },
   {
    "duration": 0,
    "start_time": "2024-06-13T04:02:00.797Z"
   },
   {
    "duration": 0,
    "start_time": "2024-06-13T04:02:00.798Z"
   },
   {
    "duration": 0,
    "start_time": "2024-06-13T04:02:00.800Z"
   },
   {
    "duration": 0,
    "start_time": "2024-06-13T04:02:00.801Z"
   },
   {
    "duration": 0,
    "start_time": "2024-06-13T04:02:00.802Z"
   },
   {
    "duration": 0,
    "start_time": "2024-06-13T04:02:00.803Z"
   },
   {
    "duration": 0,
    "start_time": "2024-06-13T04:02:00.804Z"
   },
   {
    "duration": 0,
    "start_time": "2024-06-13T04:02:00.861Z"
   },
   {
    "duration": 0,
    "start_time": "2024-06-13T04:02:00.862Z"
   },
   {
    "duration": 0,
    "start_time": "2024-06-13T04:02:00.863Z"
   },
   {
    "duration": 0,
    "start_time": "2024-06-13T04:02:00.865Z"
   },
   {
    "duration": 0,
    "start_time": "2024-06-13T04:02:00.866Z"
   },
   {
    "duration": 0,
    "start_time": "2024-06-13T04:02:00.867Z"
   },
   {
    "duration": 0,
    "start_time": "2024-06-13T04:02:00.869Z"
   },
   {
    "duration": 0,
    "start_time": "2024-06-13T04:02:00.870Z"
   },
   {
    "duration": 0,
    "start_time": "2024-06-13T04:02:00.871Z"
   },
   {
    "duration": 0,
    "start_time": "2024-06-13T04:02:00.873Z"
   },
   {
    "duration": 0,
    "start_time": "2024-06-13T04:02:00.874Z"
   },
   {
    "duration": 0,
    "start_time": "2024-06-13T04:02:00.875Z"
   },
   {
    "duration": 0,
    "start_time": "2024-06-13T04:02:00.877Z"
   },
   {
    "duration": 0,
    "start_time": "2024-06-13T04:02:00.878Z"
   },
   {
    "duration": 0,
    "start_time": "2024-06-13T04:02:00.879Z"
   },
   {
    "duration": 0,
    "start_time": "2024-06-13T04:02:00.880Z"
   },
   {
    "duration": 0,
    "start_time": "2024-06-13T04:02:00.882Z"
   },
   {
    "duration": 0,
    "start_time": "2024-06-13T04:02:00.883Z"
   },
   {
    "duration": 0,
    "start_time": "2024-06-13T04:02:00.885Z"
   },
   {
    "duration": 0,
    "start_time": "2024-06-13T04:02:00.886Z"
   },
   {
    "duration": 0,
    "start_time": "2024-06-13T04:02:00.887Z"
   },
   {
    "duration": 0,
    "start_time": "2024-06-13T04:02:00.888Z"
   },
   {
    "duration": 0,
    "start_time": "2024-06-13T04:02:00.890Z"
   },
   {
    "duration": 0,
    "start_time": "2024-06-13T04:02:00.891Z"
   },
   {
    "duration": 0,
    "start_time": "2024-06-13T04:02:00.893Z"
   },
   {
    "duration": 0,
    "start_time": "2024-06-13T04:02:00.894Z"
   },
   {
    "duration": 0,
    "start_time": "2024-06-13T04:02:00.894Z"
   },
   {
    "duration": 0,
    "start_time": "2024-06-13T04:02:00.896Z"
   },
   {
    "duration": 0,
    "start_time": "2024-06-13T04:02:00.897Z"
   },
   {
    "duration": 0,
    "start_time": "2024-06-13T04:02:00.960Z"
   },
   {
    "duration": 0,
    "start_time": "2024-06-13T04:02:00.961Z"
   },
   {
    "duration": 0,
    "start_time": "2024-06-13T04:02:00.962Z"
   },
   {
    "duration": 0,
    "start_time": "2024-06-13T04:02:00.963Z"
   },
   {
    "duration": 0,
    "start_time": "2024-06-13T04:02:00.964Z"
   },
   {
    "duration": 0,
    "start_time": "2024-06-13T04:02:00.965Z"
   },
   {
    "duration": 0,
    "start_time": "2024-06-13T04:02:00.967Z"
   },
   {
    "duration": 0,
    "start_time": "2024-06-13T04:02:00.968Z"
   },
   {
    "duration": 0,
    "start_time": "2024-06-13T04:02:00.969Z"
   },
   {
    "duration": 1,
    "start_time": "2024-06-13T04:02:00.969Z"
   },
   {
    "duration": 0,
    "start_time": "2024-06-13T04:02:00.971Z"
   },
   {
    "duration": 0,
    "start_time": "2024-06-13T04:02:00.972Z"
   },
   {
    "duration": 0,
    "start_time": "2024-06-13T04:02:00.973Z"
   },
   {
    "duration": 0,
    "start_time": "2024-06-13T04:02:00.974Z"
   },
   {
    "duration": 60,
    "start_time": "2024-06-13T04:03:45.215Z"
   },
   {
    "duration": 689,
    "start_time": "2024-06-13T04:13:17.875Z"
   },
   {
    "duration": 129,
    "start_time": "2024-06-13T04:13:18.566Z"
   },
   {
    "duration": 17,
    "start_time": "2024-06-13T04:13:18.697Z"
   },
   {
    "duration": 14,
    "start_time": "2024-06-13T04:13:18.716Z"
   },
   {
    "duration": 37,
    "start_time": "2024-06-13T04:13:18.732Z"
   },
   {
    "duration": 40,
    "start_time": "2024-06-13T04:13:18.771Z"
   },
   {
    "duration": 21,
    "start_time": "2024-06-13T04:13:18.812Z"
   },
   {
    "duration": 33,
    "start_time": "2024-06-13T04:13:18.834Z"
   },
   {
    "duration": 42,
    "start_time": "2024-06-13T04:13:18.868Z"
   },
   {
    "duration": 46,
    "start_time": "2024-06-13T04:13:18.912Z"
   },
   {
    "duration": 15,
    "start_time": "2024-06-13T04:13:18.959Z"
   },
   {
    "duration": 40,
    "start_time": "2024-06-13T04:13:18.975Z"
   },
   {
    "duration": 24,
    "start_time": "2024-06-13T04:13:19.016Z"
   },
   {
    "duration": 45,
    "start_time": "2024-06-13T04:13:19.042Z"
   },
   {
    "duration": 60,
    "start_time": "2024-06-13T04:13:19.088Z"
   },
   {
    "duration": 63,
    "start_time": "2024-06-13T04:13:19.150Z"
   },
   {
    "duration": 47,
    "start_time": "2024-06-13T04:13:19.215Z"
   },
   {
    "duration": 36,
    "start_time": "2024-06-13T04:13:19.264Z"
   },
   {
    "duration": 42,
    "start_time": "2024-06-13T04:13:19.301Z"
   },
   {
    "duration": 41,
    "start_time": "2024-06-13T04:13:19.345Z"
   },
   {
    "duration": 30,
    "start_time": "2024-06-13T04:13:19.388Z"
   },
   {
    "duration": 43,
    "start_time": "2024-06-13T04:13:19.419Z"
   },
   {
    "duration": 18,
    "start_time": "2024-06-13T04:13:19.464Z"
   },
   {
    "duration": 37,
    "start_time": "2024-06-13T04:13:19.485Z"
   },
   {
    "duration": 25,
    "start_time": "2024-06-13T04:13:19.524Z"
   },
   {
    "duration": 50,
    "start_time": "2024-06-13T04:13:19.551Z"
   },
   {
    "duration": 30,
    "start_time": "2024-06-13T04:13:19.602Z"
   },
   {
    "duration": 23,
    "start_time": "2024-06-13T04:13:19.637Z"
   },
   {
    "duration": 57,
    "start_time": "2024-06-13T04:13:19.662Z"
   },
   {
    "duration": 53,
    "start_time": "2024-06-13T04:13:19.721Z"
   },
   {
    "duration": 37,
    "start_time": "2024-06-13T04:13:19.776Z"
   },
   {
    "duration": 27,
    "start_time": "2024-06-13T04:13:19.815Z"
   },
   {
    "duration": 23,
    "start_time": "2024-06-13T04:13:19.844Z"
   },
   {
    "duration": 46,
    "start_time": "2024-06-13T04:13:19.869Z"
   },
   {
    "duration": 24,
    "start_time": "2024-06-13T04:13:19.917Z"
   },
   {
    "duration": 10,
    "start_time": "2024-06-13T04:13:19.942Z"
   },
   {
    "duration": 29,
    "start_time": "2024-06-13T04:13:19.953Z"
   },
   {
    "duration": 36,
    "start_time": "2024-06-13T04:13:19.984Z"
   },
   {
    "duration": 58,
    "start_time": "2024-06-13T04:13:20.022Z"
   },
   {
    "duration": 12,
    "start_time": "2024-06-13T04:13:20.082Z"
   },
   {
    "duration": 47,
    "start_time": "2024-06-13T04:13:20.096Z"
   },
   {
    "duration": 46,
    "start_time": "2024-06-13T04:13:20.144Z"
   },
   {
    "duration": 48,
    "start_time": "2024-06-13T04:13:20.191Z"
   },
   {
    "duration": 4,
    "start_time": "2024-06-13T04:13:20.241Z"
   },
   {
    "duration": 40,
    "start_time": "2024-06-13T04:13:20.246Z"
   },
   {
    "duration": 34,
    "start_time": "2024-06-13T04:13:20.287Z"
   },
   {
    "duration": 38,
    "start_time": "2024-06-13T04:13:20.322Z"
   },
   {
    "duration": 70,
    "start_time": "2024-06-13T04:13:20.361Z"
   },
   {
    "duration": 22,
    "start_time": "2024-06-13T04:13:20.433Z"
   },
   {
    "duration": 20,
    "start_time": "2024-06-13T04:13:20.456Z"
   },
   {
    "duration": 59,
    "start_time": "2024-06-13T04:13:20.478Z"
   },
   {
    "duration": 14,
    "start_time": "2024-06-13T04:13:20.539Z"
   },
   {
    "duration": 20,
    "start_time": "2024-06-13T04:13:20.555Z"
   },
   {
    "duration": 38,
    "start_time": "2024-06-13T04:13:20.577Z"
   },
   {
    "duration": 42,
    "start_time": "2024-06-13T04:13:20.617Z"
   },
   {
    "duration": 20,
    "start_time": "2024-06-13T04:13:20.661Z"
   },
   {
    "duration": 17,
    "start_time": "2024-06-13T04:13:20.683Z"
   },
   {
    "duration": 48,
    "start_time": "2024-06-13T04:13:20.701Z"
   },
   {
    "duration": 4,
    "start_time": "2024-06-13T04:13:20.751Z"
   },
   {
    "duration": 32,
    "start_time": "2024-06-13T04:13:20.757Z"
   },
   {
    "duration": 29,
    "start_time": "2024-06-13T04:13:20.791Z"
   },
   {
    "duration": 105,
    "start_time": "2024-06-13T04:13:20.822Z"
   },
   {
    "duration": 0,
    "start_time": "2024-06-13T04:13:20.930Z"
   },
   {
    "duration": 0,
    "start_time": "2024-06-13T04:13:20.931Z"
   },
   {
    "duration": 0,
    "start_time": "2024-06-13T04:13:20.932Z"
   },
   {
    "duration": 0,
    "start_time": "2024-06-13T04:13:20.934Z"
   },
   {
    "duration": 0,
    "start_time": "2024-06-13T04:13:20.935Z"
   },
   {
    "duration": 0,
    "start_time": "2024-06-13T04:13:20.937Z"
   },
   {
    "duration": 1,
    "start_time": "2024-06-13T04:13:20.938Z"
   },
   {
    "duration": 0,
    "start_time": "2024-06-13T04:13:20.940Z"
   },
   {
    "duration": 0,
    "start_time": "2024-06-13T04:13:20.941Z"
   },
   {
    "duration": 0,
    "start_time": "2024-06-13T04:13:20.942Z"
   },
   {
    "duration": 0,
    "start_time": "2024-06-13T04:13:20.943Z"
   },
   {
    "duration": 0,
    "start_time": "2024-06-13T04:13:20.944Z"
   },
   {
    "duration": 0,
    "start_time": "2024-06-13T04:13:20.961Z"
   },
   {
    "duration": 0,
    "start_time": "2024-06-13T04:13:20.962Z"
   },
   {
    "duration": 0,
    "start_time": "2024-06-13T04:13:20.963Z"
   },
   {
    "duration": 0,
    "start_time": "2024-06-13T04:13:20.965Z"
   },
   {
    "duration": 0,
    "start_time": "2024-06-13T04:13:20.966Z"
   },
   {
    "duration": 0,
    "start_time": "2024-06-13T04:13:20.967Z"
   },
   {
    "duration": 0,
    "start_time": "2024-06-13T04:13:20.968Z"
   },
   {
    "duration": 0,
    "start_time": "2024-06-13T04:13:20.969Z"
   },
   {
    "duration": 0,
    "start_time": "2024-06-13T04:13:20.970Z"
   },
   {
    "duration": 0,
    "start_time": "2024-06-13T04:13:20.971Z"
   },
   {
    "duration": 0,
    "start_time": "2024-06-13T04:13:20.972Z"
   },
   {
    "duration": 0,
    "start_time": "2024-06-13T04:13:20.973Z"
   },
   {
    "duration": 0,
    "start_time": "2024-06-13T04:13:20.974Z"
   },
   {
    "duration": 0,
    "start_time": "2024-06-13T04:13:20.975Z"
   },
   {
    "duration": 10,
    "start_time": "2024-06-13T04:43:45.033Z"
   },
   {
    "duration": 733,
    "start_time": "2024-06-13T04:43:50.043Z"
   },
   {
    "duration": 127,
    "start_time": "2024-06-13T04:43:50.778Z"
   },
   {
    "duration": 19,
    "start_time": "2024-06-13T04:43:50.907Z"
   },
   {
    "duration": 7,
    "start_time": "2024-06-13T04:43:50.928Z"
   },
   {
    "duration": 10,
    "start_time": "2024-06-13T04:43:50.936Z"
   },
   {
    "duration": 19,
    "start_time": "2024-06-13T04:43:50.947Z"
   },
   {
    "duration": 10,
    "start_time": "2024-06-13T04:43:50.967Z"
   },
   {
    "duration": 17,
    "start_time": "2024-06-13T04:43:50.979Z"
   },
   {
    "duration": 11,
    "start_time": "2024-06-13T04:43:50.998Z"
   },
   {
    "duration": 11,
    "start_time": "2024-06-13T04:43:51.011Z"
   },
   {
    "duration": 4,
    "start_time": "2024-06-13T04:43:51.024Z"
   },
   {
    "duration": 34,
    "start_time": "2024-06-13T04:43:51.030Z"
   },
   {
    "duration": 35,
    "start_time": "2024-06-13T04:43:51.065Z"
   },
   {
    "duration": 23,
    "start_time": "2024-06-13T04:43:51.101Z"
   },
   {
    "duration": 5,
    "start_time": "2024-06-13T04:43:51.126Z"
   },
   {
    "duration": 16,
    "start_time": "2024-06-13T04:43:51.132Z"
   },
   {
    "duration": 35,
    "start_time": "2024-06-13T04:43:51.149Z"
   },
   {
    "duration": 15,
    "start_time": "2024-06-13T04:43:51.185Z"
   },
   {
    "duration": 9,
    "start_time": "2024-06-13T04:43:51.201Z"
   },
   {
    "duration": 9,
    "start_time": "2024-06-13T04:43:51.212Z"
   },
   {
    "duration": 8,
    "start_time": "2024-06-13T04:43:51.222Z"
   },
   {
    "duration": 6,
    "start_time": "2024-06-13T04:43:51.232Z"
   },
   {
    "duration": 12,
    "start_time": "2024-06-13T04:43:51.239Z"
   },
   {
    "duration": 6,
    "start_time": "2024-06-13T04:43:51.261Z"
   },
   {
    "duration": 43,
    "start_time": "2024-06-13T04:43:51.269Z"
   },
   {
    "duration": 12,
    "start_time": "2024-06-13T04:43:51.313Z"
   },
   {
    "duration": 10,
    "start_time": "2024-06-13T04:43:51.327Z"
   },
   {
    "duration": 17,
    "start_time": "2024-06-13T04:43:51.342Z"
   },
   {
    "duration": 19,
    "start_time": "2024-06-13T04:43:51.361Z"
   },
   {
    "duration": 6,
    "start_time": "2024-06-13T04:43:51.382Z"
   },
   {
    "duration": 4,
    "start_time": "2024-06-13T04:43:51.389Z"
   },
   {
    "duration": 17,
    "start_time": "2024-06-13T04:43:51.395Z"
   },
   {
    "duration": 4,
    "start_time": "2024-06-13T04:43:51.414Z"
   },
   {
    "duration": 53,
    "start_time": "2024-06-13T04:43:51.419Z"
   },
   {
    "duration": 7,
    "start_time": "2024-06-13T04:43:51.474Z"
   },
   {
    "duration": 8,
    "start_time": "2024-06-13T04:43:51.483Z"
   },
   {
    "duration": 10,
    "start_time": "2024-06-13T04:43:51.492Z"
   },
   {
    "duration": 25,
    "start_time": "2024-06-13T04:43:51.504Z"
   },
   {
    "duration": 31,
    "start_time": "2024-06-13T04:43:51.531Z"
   },
   {
    "duration": 3,
    "start_time": "2024-06-13T04:43:51.564Z"
   },
   {
    "duration": 16,
    "start_time": "2024-06-13T04:43:51.568Z"
   },
   {
    "duration": 21,
    "start_time": "2024-06-13T04:43:51.586Z"
   },
   {
    "duration": 54,
    "start_time": "2024-06-13T04:43:51.608Z"
   },
   {
    "duration": 4,
    "start_time": "2024-06-13T04:43:51.663Z"
   },
   {
    "duration": 17,
    "start_time": "2024-06-13T04:43:51.668Z"
   },
   {
    "duration": 19,
    "start_time": "2024-06-13T04:43:51.686Z"
   },
   {
    "duration": 8,
    "start_time": "2024-06-13T04:43:51.706Z"
   },
   {
    "duration": 8,
    "start_time": "2024-06-13T04:43:51.716Z"
   },
   {
    "duration": 39,
    "start_time": "2024-06-13T04:43:51.726Z"
   },
   {
    "duration": 19,
    "start_time": "2024-06-13T04:43:51.766Z"
   },
   {
    "duration": 22,
    "start_time": "2024-06-13T04:43:51.786Z"
   },
   {
    "duration": 7,
    "start_time": "2024-06-13T04:43:51.810Z"
   },
   {
    "duration": 11,
    "start_time": "2024-06-13T04:43:51.818Z"
   },
   {
    "duration": 39,
    "start_time": "2024-06-13T04:43:51.830Z"
   },
   {
    "duration": 5,
    "start_time": "2024-06-13T04:43:51.871Z"
   },
   {
    "duration": 15,
    "start_time": "2024-06-13T04:43:51.878Z"
   },
   {
    "duration": 10,
    "start_time": "2024-06-13T04:43:51.895Z"
   },
   {
    "duration": 55,
    "start_time": "2024-06-13T04:43:51.907Z"
   },
   {
    "duration": 5,
    "start_time": "2024-06-13T04:43:51.963Z"
   },
   {
    "duration": 23,
    "start_time": "2024-06-13T04:43:51.970Z"
   },
   {
    "duration": 48,
    "start_time": "2024-06-13T04:43:51.995Z"
   },
   {
    "duration": 37,
    "start_time": "2024-06-13T04:43:52.045Z"
   },
   {
    "duration": 8,
    "start_time": "2024-06-13T04:43:52.084Z"
   },
   {
    "duration": 24,
    "start_time": "2024-06-13T04:43:52.094Z"
   },
   {
    "duration": 39,
    "start_time": "2024-06-13T04:43:52.120Z"
   },
   {
    "duration": 223,
    "start_time": "2024-06-13T04:43:52.161Z"
   },
   {
    "duration": 90,
    "start_time": "2024-06-13T04:43:52.387Z"
   },
   {
    "duration": 0,
    "start_time": "2024-06-13T04:43:52.479Z"
   },
   {
    "duration": 0,
    "start_time": "2024-06-13T04:43:52.480Z"
   },
   {
    "duration": 0,
    "start_time": "2024-06-13T04:43:52.481Z"
   },
   {
    "duration": 0,
    "start_time": "2024-06-13T04:43:52.482Z"
   },
   {
    "duration": 0,
    "start_time": "2024-06-13T04:43:52.483Z"
   },
   {
    "duration": 0,
    "start_time": "2024-06-13T04:43:52.484Z"
   },
   {
    "duration": 0,
    "start_time": "2024-06-13T04:43:52.486Z"
   },
   {
    "duration": 0,
    "start_time": "2024-06-13T04:43:52.486Z"
   },
   {
    "duration": 0,
    "start_time": "2024-06-13T04:43:52.487Z"
   },
   {
    "duration": 0,
    "start_time": "2024-06-13T04:43:52.488Z"
   },
   {
    "duration": 0,
    "start_time": "2024-06-13T04:43:52.489Z"
   },
   {
    "duration": 0,
    "start_time": "2024-06-13T04:43:52.490Z"
   },
   {
    "duration": 0,
    "start_time": "2024-06-13T04:43:52.491Z"
   },
   {
    "duration": 0,
    "start_time": "2024-06-13T04:43:52.492Z"
   },
   {
    "duration": 0,
    "start_time": "2024-06-13T04:43:52.493Z"
   },
   {
    "duration": 0,
    "start_time": "2024-06-13T04:43:52.494Z"
   },
   {
    "duration": 0,
    "start_time": "2024-06-13T04:43:52.495Z"
   },
   {
    "duration": 0,
    "start_time": "2024-06-13T04:43:52.496Z"
   },
   {
    "duration": 2,
    "start_time": "2024-06-13T04:44:25.655Z"
   },
   {
    "duration": 201,
    "start_time": "2024-06-13T04:44:27.809Z"
   },
   {
    "duration": 720,
    "start_time": "2024-06-13T04:44:42.749Z"
   },
   {
    "duration": 127,
    "start_time": "2024-06-13T04:44:43.471Z"
   },
   {
    "duration": 19,
    "start_time": "2024-06-13T04:44:43.600Z"
   },
   {
    "duration": 26,
    "start_time": "2024-06-13T04:44:43.621Z"
   },
   {
    "duration": 7,
    "start_time": "2024-06-13T04:44:43.650Z"
   },
   {
    "duration": 17,
    "start_time": "2024-06-13T04:44:43.659Z"
   },
   {
    "duration": 10,
    "start_time": "2024-06-13T04:44:43.678Z"
   },
   {
    "duration": 5,
    "start_time": "2024-06-13T04:44:43.689Z"
   },
   {
    "duration": 19,
    "start_time": "2024-06-13T04:44:43.696Z"
   },
   {
    "duration": 12,
    "start_time": "2024-06-13T04:44:43.717Z"
   },
   {
    "duration": 34,
    "start_time": "2024-06-13T04:44:43.731Z"
   },
   {
    "duration": 6,
    "start_time": "2024-06-13T04:44:43.767Z"
   },
   {
    "duration": 4,
    "start_time": "2024-06-13T04:44:43.774Z"
   },
   {
    "duration": 15,
    "start_time": "2024-06-13T04:44:43.781Z"
   },
   {
    "duration": 10,
    "start_time": "2024-06-13T04:44:43.798Z"
   },
   {
    "duration": 24,
    "start_time": "2024-06-13T04:44:43.809Z"
   },
   {
    "duration": 27,
    "start_time": "2024-06-13T04:44:43.835Z"
   },
   {
    "duration": 16,
    "start_time": "2024-06-13T04:44:43.864Z"
   },
   {
    "duration": 9,
    "start_time": "2024-06-13T04:44:43.881Z"
   },
   {
    "duration": 8,
    "start_time": "2024-06-13T04:44:43.891Z"
   },
   {
    "duration": 5,
    "start_time": "2024-06-13T04:44:43.901Z"
   },
   {
    "duration": 5,
    "start_time": "2024-06-13T04:44:43.908Z"
   },
   {
    "duration": 4,
    "start_time": "2024-06-13T04:44:43.915Z"
   },
   {
    "duration": 6,
    "start_time": "2024-06-13T04:44:43.961Z"
   },
   {
    "duration": 6,
    "start_time": "2024-06-13T04:44:43.969Z"
   },
   {
    "duration": 10,
    "start_time": "2024-06-13T04:44:43.977Z"
   },
   {
    "duration": 4,
    "start_time": "2024-06-13T04:44:43.989Z"
   },
   {
    "duration": 14,
    "start_time": "2024-06-13T04:44:43.995Z"
   },
   {
    "duration": 54,
    "start_time": "2024-06-13T04:44:44.010Z"
   },
   {
    "duration": 4,
    "start_time": "2024-06-13T04:44:44.066Z"
   },
   {
    "duration": 5,
    "start_time": "2024-06-13T04:44:44.072Z"
   },
   {
    "duration": 12,
    "start_time": "2024-06-13T04:44:44.079Z"
   },
   {
    "duration": 6,
    "start_time": "2024-06-13T04:44:44.092Z"
   },
   {
    "duration": 29,
    "start_time": "2024-06-13T04:44:44.099Z"
   },
   {
    "duration": 37,
    "start_time": "2024-06-13T04:44:44.130Z"
   },
   {
    "duration": 20,
    "start_time": "2024-06-13T04:44:44.168Z"
   },
   {
    "duration": 10,
    "start_time": "2024-06-13T04:44:44.189Z"
   },
   {
    "duration": 32,
    "start_time": "2024-06-13T04:44:44.201Z"
   },
   {
    "duration": 4,
    "start_time": "2024-06-13T04:44:44.235Z"
   },
   {
    "duration": 5,
    "start_time": "2024-06-13T04:44:44.240Z"
   },
   {
    "duration": 14,
    "start_time": "2024-06-13T04:44:44.260Z"
   },
   {
    "duration": 18,
    "start_time": "2024-06-13T04:44:44.276Z"
   },
   {
    "duration": 30,
    "start_time": "2024-06-13T04:44:44.295Z"
   },
   {
    "duration": 4,
    "start_time": "2024-06-13T04:44:44.327Z"
   },
   {
    "duration": 16,
    "start_time": "2024-06-13T04:44:44.360Z"
   },
   {
    "duration": 18,
    "start_time": "2024-06-13T04:44:44.378Z"
   },
   {
    "duration": 6,
    "start_time": "2024-06-13T04:44:44.398Z"
   },
   {
    "duration": 9,
    "start_time": "2024-06-13T04:44:44.406Z"
   },
   {
    "duration": 44,
    "start_time": "2024-06-13T04:44:44.417Z"
   },
   {
    "duration": 6,
    "start_time": "2024-06-13T04:44:44.463Z"
   },
   {
    "duration": 72,
    "start_time": "2024-06-13T04:44:44.471Z"
   },
   {
    "duration": 10,
    "start_time": "2024-06-13T04:44:44.548Z"
   },
   {
    "duration": 13,
    "start_time": "2024-06-13T04:44:44.560Z"
   },
   {
    "duration": 24,
    "start_time": "2024-06-13T04:44:44.575Z"
   },
   {
    "duration": 13,
    "start_time": "2024-06-13T04:44:44.601Z"
   },
   {
    "duration": 10,
    "start_time": "2024-06-13T04:44:44.616Z"
   },
   {
    "duration": 8,
    "start_time": "2024-06-13T04:44:44.628Z"
   },
   {
    "duration": 57,
    "start_time": "2024-06-13T04:44:44.638Z"
   },
   {
    "duration": 4,
    "start_time": "2024-06-13T04:44:44.697Z"
   },
   {
    "duration": 22,
    "start_time": "2024-06-13T04:44:44.703Z"
   },
   {
    "duration": 43,
    "start_time": "2024-06-13T04:44:44.727Z"
   },
   {
    "duration": 18,
    "start_time": "2024-06-13T04:44:44.772Z"
   },
   {
    "duration": 7,
    "start_time": "2024-06-13T04:44:44.792Z"
   },
   {
    "duration": 19,
    "start_time": "2024-06-13T04:44:44.800Z"
   },
   {
    "duration": 4,
    "start_time": "2024-06-13T04:44:44.821Z"
   },
   {
    "duration": 242,
    "start_time": "2024-06-13T04:44:44.826Z"
   },
   {
    "duration": 91,
    "start_time": "2024-06-13T04:44:45.070Z"
   },
   {
    "duration": 0,
    "start_time": "2024-06-13T04:44:45.163Z"
   },
   {
    "duration": 1,
    "start_time": "2024-06-13T04:44:45.165Z"
   },
   {
    "duration": 0,
    "start_time": "2024-06-13T04:44:45.167Z"
   },
   {
    "duration": 0,
    "start_time": "2024-06-13T04:44:45.168Z"
   },
   {
    "duration": 0,
    "start_time": "2024-06-13T04:44:45.169Z"
   },
   {
    "duration": 0,
    "start_time": "2024-06-13T04:44:45.170Z"
   },
   {
    "duration": 0,
    "start_time": "2024-06-13T04:44:45.171Z"
   },
   {
    "duration": 0,
    "start_time": "2024-06-13T04:44:45.172Z"
   },
   {
    "duration": 0,
    "start_time": "2024-06-13T04:44:45.173Z"
   },
   {
    "duration": 0,
    "start_time": "2024-06-13T04:44:45.174Z"
   },
   {
    "duration": 0,
    "start_time": "2024-06-13T04:44:45.175Z"
   },
   {
    "duration": 0,
    "start_time": "2024-06-13T04:44:45.176Z"
   },
   {
    "duration": 0,
    "start_time": "2024-06-13T04:44:45.177Z"
   },
   {
    "duration": 0,
    "start_time": "2024-06-13T04:44:45.178Z"
   },
   {
    "duration": 0,
    "start_time": "2024-06-13T04:44:45.179Z"
   },
   {
    "duration": 0,
    "start_time": "2024-06-13T04:44:45.180Z"
   },
   {
    "duration": 0,
    "start_time": "2024-06-13T04:44:45.181Z"
   },
   {
    "duration": 0,
    "start_time": "2024-06-13T04:44:45.182Z"
   },
   {
    "duration": 144,
    "start_time": "2024-06-13T04:45:13.800Z"
   },
   {
    "duration": 229,
    "start_time": "2024-06-13T04:46:08.787Z"
   },
   {
    "duration": 173,
    "start_time": "2024-06-13T04:46:42.897Z"
   },
   {
    "duration": 203,
    "start_time": "2024-06-13T04:46:56.240Z"
   },
   {
    "duration": 155,
    "start_time": "2024-06-13T04:49:58.735Z"
   },
   {
    "duration": 151,
    "start_time": "2024-06-13T04:51:02.596Z"
   },
   {
    "duration": 186,
    "start_time": "2024-06-13T04:51:21.533Z"
   },
   {
    "duration": 158,
    "start_time": "2024-06-13T04:51:39.069Z"
   },
   {
    "duration": 208,
    "start_time": "2024-06-13T04:51:49.204Z"
   },
   {
    "duration": 194,
    "start_time": "2024-06-13T04:53:04.851Z"
   },
   {
    "duration": 208,
    "start_time": "2024-06-13T04:54:00.780Z"
   },
   {
    "duration": 147,
    "start_time": "2024-06-13T04:54:32.541Z"
   },
   {
    "duration": 232,
    "start_time": "2024-06-13T04:54:54.570Z"
   },
   {
    "duration": 139,
    "start_time": "2024-06-13T04:56:45.898Z"
   },
   {
    "duration": 144,
    "start_time": "2024-06-13T04:56:58.046Z"
   },
   {
    "duration": 152,
    "start_time": "2024-06-13T04:57:31.946Z"
   },
   {
    "duration": 152,
    "start_time": "2024-06-13T04:57:50.368Z"
   },
   {
    "duration": 156,
    "start_time": "2024-06-13T04:58:44.843Z"
   },
   {
    "duration": 728,
    "start_time": "2024-06-13T04:59:06.234Z"
   },
   {
    "duration": 147,
    "start_time": "2024-06-13T04:59:06.964Z"
   },
   {
    "duration": 21,
    "start_time": "2024-06-13T04:59:07.113Z"
   },
   {
    "duration": 8,
    "start_time": "2024-06-13T04:59:07.137Z"
   },
   {
    "duration": 21,
    "start_time": "2024-06-13T04:59:07.147Z"
   },
   {
    "duration": 16,
    "start_time": "2024-06-13T04:59:07.169Z"
   },
   {
    "duration": 10,
    "start_time": "2024-06-13T04:59:07.187Z"
   },
   {
    "duration": 7,
    "start_time": "2024-06-13T04:59:07.199Z"
   },
   {
    "duration": 18,
    "start_time": "2024-06-13T04:59:07.207Z"
   },
   {
    "duration": 33,
    "start_time": "2024-06-13T04:59:07.228Z"
   },
   {
    "duration": 4,
    "start_time": "2024-06-13T04:59:07.263Z"
   },
   {
    "duration": 7,
    "start_time": "2024-06-13T04:59:07.269Z"
   },
   {
    "duration": 19,
    "start_time": "2024-06-13T04:59:07.278Z"
   },
   {
    "duration": 26,
    "start_time": "2024-06-13T04:59:07.299Z"
   },
   {
    "duration": 8,
    "start_time": "2024-06-13T04:59:07.327Z"
   },
   {
    "duration": 24,
    "start_time": "2024-06-13T04:59:07.337Z"
   },
   {
    "duration": 8,
    "start_time": "2024-06-13T04:59:07.362Z"
   },
   {
    "duration": 16,
    "start_time": "2024-06-13T04:59:07.372Z"
   },
   {
    "duration": 8,
    "start_time": "2024-06-13T04:59:07.389Z"
   },
   {
    "duration": 12,
    "start_time": "2024-06-13T04:59:07.399Z"
   },
   {
    "duration": 7,
    "start_time": "2024-06-13T04:59:07.413Z"
   },
   {
    "duration": 5,
    "start_time": "2024-06-13T04:59:07.421Z"
   },
   {
    "duration": 34,
    "start_time": "2024-06-13T04:59:07.428Z"
   },
   {
    "duration": 14,
    "start_time": "2024-06-13T04:59:07.464Z"
   },
   {
    "duration": 12,
    "start_time": "2024-06-13T04:59:07.480Z"
   },
   {
    "duration": 11,
    "start_time": "2024-06-13T04:59:07.494Z"
   },
   {
    "duration": 19,
    "start_time": "2024-06-13T04:59:07.506Z"
   },
   {
    "duration": 15,
    "start_time": "2024-06-13T04:59:07.530Z"
   },
   {
    "duration": 20,
    "start_time": "2024-06-13T04:59:07.560Z"
   },
   {
    "duration": 10,
    "start_time": "2024-06-13T04:59:07.582Z"
   },
   {
    "duration": 7,
    "start_time": "2024-06-13T04:59:07.594Z"
   },
   {
    "duration": 17,
    "start_time": "2024-06-13T04:59:07.603Z"
   },
   {
    "duration": 5,
    "start_time": "2024-06-13T04:59:07.622Z"
   },
   {
    "duration": 50,
    "start_time": "2024-06-13T04:59:07.629Z"
   },
   {
    "duration": 9,
    "start_time": "2024-06-13T04:59:07.681Z"
   },
   {
    "duration": 8,
    "start_time": "2024-06-13T04:59:07.691Z"
   },
   {
    "duration": 11,
    "start_time": "2024-06-13T04:59:07.701Z"
   },
   {
    "duration": 55,
    "start_time": "2024-06-13T04:59:07.714Z"
   },
   {
    "duration": 4,
    "start_time": "2024-06-13T04:59:07.771Z"
   },
   {
    "duration": 5,
    "start_time": "2024-06-13T04:59:07.776Z"
   },
   {
    "duration": 32,
    "start_time": "2024-06-13T04:59:07.782Z"
   },
   {
    "duration": 35,
    "start_time": "2024-06-13T04:59:07.816Z"
   },
   {
    "duration": 41,
    "start_time": "2024-06-13T04:59:07.853Z"
   },
   {
    "duration": 5,
    "start_time": "2024-06-13T04:59:07.896Z"
   },
   {
    "duration": 24,
    "start_time": "2024-06-13T04:59:07.903Z"
   },
   {
    "duration": 33,
    "start_time": "2024-06-13T04:59:07.929Z"
   },
   {
    "duration": 5,
    "start_time": "2024-06-13T04:59:07.963Z"
   },
   {
    "duration": 15,
    "start_time": "2024-06-13T04:59:07.970Z"
   },
   {
    "duration": 12,
    "start_time": "2024-06-13T04:59:07.987Z"
   },
   {
    "duration": 9,
    "start_time": "2024-06-13T04:59:08.001Z"
   },
   {
    "duration": 22,
    "start_time": "2024-06-13T04:59:08.011Z"
   },
   {
    "duration": 29,
    "start_time": "2024-06-13T04:59:08.035Z"
   },
   {
    "duration": 10,
    "start_time": "2024-06-13T04:59:08.065Z"
   },
   {
    "duration": 21,
    "start_time": "2024-06-13T04:59:08.076Z"
   },
   {
    "duration": 15,
    "start_time": "2024-06-13T04:59:08.099Z"
   },
   {
    "duration": 22,
    "start_time": "2024-06-13T04:59:08.116Z"
   },
   {
    "duration": 26,
    "start_time": "2024-06-13T04:59:08.140Z"
   },
   {
    "duration": 80,
    "start_time": "2024-06-13T04:59:08.167Z"
   },
   {
    "duration": 3,
    "start_time": "2024-06-13T04:59:08.249Z"
   },
   {
    "duration": 19,
    "start_time": "2024-06-13T04:59:08.254Z"
   },
   {
    "duration": 36,
    "start_time": "2024-06-13T04:59:08.274Z"
   },
   {
    "duration": 16,
    "start_time": "2024-06-13T04:59:08.311Z"
   },
   {
    "duration": 7,
    "start_time": "2024-06-13T04:59:08.329Z"
   },
   {
    "duration": 24,
    "start_time": "2024-06-13T04:59:08.338Z"
   },
   {
    "duration": 216,
    "start_time": "2024-06-13T04:59:08.363Z"
   },
   {
    "duration": 166,
    "start_time": "2024-06-13T04:59:08.580Z"
   },
   {
    "duration": 224,
    "start_time": "2024-06-13T04:59:08.748Z"
   },
   {
    "duration": 20,
    "start_time": "2024-06-13T04:59:08.974Z"
   },
   {
    "duration": 17,
    "start_time": "2024-06-13T04:59:08.996Z"
   },
   {
    "duration": 10,
    "start_time": "2024-06-13T04:59:09.014Z"
   },
   {
    "duration": 264,
    "start_time": "2024-06-13T04:59:09.025Z"
   },
   {
    "duration": 10,
    "start_time": "2024-06-13T04:59:09.290Z"
   },
   {
    "duration": 10,
    "start_time": "2024-06-13T04:59:09.301Z"
   },
   {
    "duration": 9,
    "start_time": "2024-06-13T04:59:09.313Z"
   },
   {
    "duration": 15,
    "start_time": "2024-06-13T04:59:09.324Z"
   },
   {
    "duration": 10,
    "start_time": "2024-06-13T04:59:09.361Z"
   },
   {
    "duration": 18,
    "start_time": "2024-06-13T04:59:09.372Z"
   },
   {
    "duration": 14,
    "start_time": "2024-06-13T04:59:09.392Z"
   },
   {
    "duration": 22,
    "start_time": "2024-06-13T04:59:09.408Z"
   },
   {
    "duration": 12,
    "start_time": "2024-06-13T04:59:09.431Z"
   },
   {
    "duration": 20,
    "start_time": "2024-06-13T04:59:09.445Z"
   },
   {
    "duration": 10,
    "start_time": "2024-06-13T04:59:09.470Z"
   },
   {
    "duration": 16,
    "start_time": "2024-06-13T04:59:09.482Z"
   },
   {
    "duration": 146,
    "start_time": "2024-06-13T05:02:10.886Z"
   },
   {
    "duration": 159,
    "start_time": "2024-06-13T05:02:34.766Z"
   },
   {
    "duration": 80,
    "start_time": "2024-06-13T05:03:00.785Z"
   },
   {
    "duration": 20,
    "start_time": "2024-06-13T05:03:04.008Z"
   },
   {
    "duration": 33,
    "start_time": "2024-06-13T05:04:52.263Z"
   },
   {
    "duration": 137,
    "start_time": "2024-06-13T05:05:21.827Z"
   },
   {
    "duration": 3,
    "start_time": "2024-06-13T05:06:34.994Z"
   },
   {
    "duration": 159,
    "start_time": "2024-06-13T05:07:19.796Z"
   },
   {
    "duration": 146,
    "start_time": "2024-06-13T05:07:27.507Z"
   },
   {
    "duration": 167,
    "start_time": "2024-06-13T05:07:49.459Z"
   },
   {
    "duration": 41,
    "start_time": "2024-06-13T05:09:49.364Z"
   },
   {
    "duration": 10,
    "start_time": "2024-06-13T05:09:55.599Z"
   },
   {
    "duration": 6,
    "start_time": "2024-06-13T05:10:26.192Z"
   },
   {
    "duration": 10,
    "start_time": "2024-06-13T05:11:00.258Z"
   },
   {
    "duration": 5,
    "start_time": "2024-06-13T05:12:23.605Z"
   },
   {
    "duration": 7,
    "start_time": "2024-06-13T05:12:30.114Z"
   },
   {
    "duration": 42,
    "start_time": "2024-06-13T05:13:10.993Z"
   },
   {
    "duration": 7,
    "start_time": "2024-06-13T05:13:25.280Z"
   },
   {
    "duration": 4,
    "start_time": "2024-06-13T05:13:51.504Z"
   },
   {
    "duration": 211,
    "start_time": "2024-06-13T05:13:54.137Z"
   },
   {
    "duration": 6,
    "start_time": "2024-06-13T05:14:01.503Z"
   },
   {
    "duration": 9,
    "start_time": "2024-06-13T05:14:02.281Z"
   },
   {
    "duration": 149,
    "start_time": "2024-06-13T05:14:05.136Z"
   },
   {
    "duration": 135,
    "start_time": "2024-06-13T05:14:28.578Z"
   },
   {
    "duration": 223,
    "start_time": "2024-06-13T05:14:43.566Z"
   },
   {
    "duration": 154,
    "start_time": "2024-06-13T05:14:47.947Z"
   },
   {
    "duration": 746,
    "start_time": "2024-06-13T05:16:57.652Z"
   },
   {
    "duration": 128,
    "start_time": "2024-06-13T05:16:58.400Z"
   },
   {
    "duration": 18,
    "start_time": "2024-06-13T05:16:58.529Z"
   },
   {
    "duration": 27,
    "start_time": "2024-06-13T05:16:58.549Z"
   },
   {
    "duration": 14,
    "start_time": "2024-06-13T05:16:58.578Z"
   },
   {
    "duration": 24,
    "start_time": "2024-06-13T05:16:58.594Z"
   },
   {
    "duration": 14,
    "start_time": "2024-06-13T05:16:58.620Z"
   },
   {
    "duration": 27,
    "start_time": "2024-06-13T05:16:58.636Z"
   },
   {
    "duration": 20,
    "start_time": "2024-06-13T05:16:58.665Z"
   },
   {
    "duration": 13,
    "start_time": "2024-06-13T05:16:58.688Z"
   },
   {
    "duration": 5,
    "start_time": "2024-06-13T05:16:58.703Z"
   },
   {
    "duration": 18,
    "start_time": "2024-06-13T05:16:58.709Z"
   },
   {
    "duration": 13,
    "start_time": "2024-06-13T05:16:58.729Z"
   },
   {
    "duration": 31,
    "start_time": "2024-06-13T05:16:58.743Z"
   },
   {
    "duration": 8,
    "start_time": "2024-06-13T05:16:58.776Z"
   },
   {
    "duration": 21,
    "start_time": "2024-06-13T05:16:58.786Z"
   },
   {
    "duration": 8,
    "start_time": "2024-06-13T05:16:58.809Z"
   },
   {
    "duration": 41,
    "start_time": "2024-06-13T05:16:58.819Z"
   },
   {
    "duration": 6,
    "start_time": "2024-06-13T05:16:58.863Z"
   },
   {
    "duration": 18,
    "start_time": "2024-06-13T05:16:58.871Z"
   },
   {
    "duration": 27,
    "start_time": "2024-06-13T05:16:58.891Z"
   },
   {
    "duration": 7,
    "start_time": "2024-06-13T05:16:58.921Z"
   },
   {
    "duration": 9,
    "start_time": "2024-06-13T05:16:58.930Z"
   },
   {
    "duration": 13,
    "start_time": "2024-06-13T05:16:58.940Z"
   },
   {
    "duration": 8,
    "start_time": "2024-06-13T05:16:58.955Z"
   },
   {
    "duration": 10,
    "start_time": "2024-06-13T05:16:58.964Z"
   },
   {
    "duration": 8,
    "start_time": "2024-06-13T05:16:58.976Z"
   },
   {
    "duration": 17,
    "start_time": "2024-06-13T05:16:58.990Z"
   },
   {
    "duration": 52,
    "start_time": "2024-06-13T05:16:59.009Z"
   },
   {
    "duration": 12,
    "start_time": "2024-06-13T05:16:59.063Z"
   },
   {
    "duration": 7,
    "start_time": "2024-06-13T05:16:59.076Z"
   },
   {
    "duration": 17,
    "start_time": "2024-06-13T05:16:59.084Z"
   },
   {
    "duration": 7,
    "start_time": "2024-06-13T05:16:59.103Z"
   },
   {
    "duration": 35,
    "start_time": "2024-06-13T05:16:59.112Z"
   },
   {
    "duration": 9,
    "start_time": "2024-06-13T05:16:59.160Z"
   },
   {
    "duration": 24,
    "start_time": "2024-06-13T05:16:59.170Z"
   },
   {
    "duration": 15,
    "start_time": "2024-06-13T05:16:59.196Z"
   },
   {
    "duration": 34,
    "start_time": "2024-06-13T05:16:59.213Z"
   },
   {
    "duration": 13,
    "start_time": "2024-06-13T05:16:59.249Z"
   },
   {
    "duration": 16,
    "start_time": "2024-06-13T05:16:59.265Z"
   },
   {
    "duration": 30,
    "start_time": "2024-06-13T05:16:59.283Z"
   },
   {
    "duration": 34,
    "start_time": "2024-06-13T05:16:59.315Z"
   },
   {
    "duration": 41,
    "start_time": "2024-06-13T05:16:59.351Z"
   },
   {
    "duration": 5,
    "start_time": "2024-06-13T05:16:59.393Z"
   },
   {
    "duration": 34,
    "start_time": "2024-06-13T05:16:59.400Z"
   },
   {
    "duration": 38,
    "start_time": "2024-06-13T05:16:59.437Z"
   },
   {
    "duration": 6,
    "start_time": "2024-06-13T05:16:59.477Z"
   },
   {
    "duration": 23,
    "start_time": "2024-06-13T05:16:59.485Z"
   },
   {
    "duration": 10,
    "start_time": "2024-06-13T05:16:59.510Z"
   },
   {
    "duration": 11,
    "start_time": "2024-06-13T05:16:59.522Z"
   },
   {
    "duration": 37,
    "start_time": "2024-06-13T05:16:59.534Z"
   },
   {
    "duration": 10,
    "start_time": "2024-06-13T05:16:59.573Z"
   },
   {
    "duration": 31,
    "start_time": "2024-06-13T05:16:59.584Z"
   },
   {
    "duration": 24,
    "start_time": "2024-06-13T05:16:59.617Z"
   },
   {
    "duration": 10,
    "start_time": "2024-06-13T05:16:59.642Z"
   },
   {
    "duration": 21,
    "start_time": "2024-06-13T05:16:59.653Z"
   },
   {
    "duration": 24,
    "start_time": "2024-06-13T05:16:59.675Z"
   },
   {
    "duration": 47,
    "start_time": "2024-06-13T05:16:59.701Z"
   },
   {
    "duration": 4,
    "start_time": "2024-06-13T05:16:59.750Z"
   },
   {
    "duration": 26,
    "start_time": "2024-06-13T05:16:59.756Z"
   },
   {
    "duration": 42,
    "start_time": "2024-06-13T05:16:59.783Z"
   },
   {
    "duration": 26,
    "start_time": "2024-06-13T05:16:59.827Z"
   },
   {
    "duration": 9,
    "start_time": "2024-06-13T05:16:59.855Z"
   },
   {
    "duration": 34,
    "start_time": "2024-06-13T05:16:59.866Z"
   },
   {
    "duration": 18,
    "start_time": "2024-06-13T05:16:59.902Z"
   },
   {
    "duration": 4,
    "start_time": "2024-06-13T05:16:59.922Z"
   },
   {
    "duration": 242,
    "start_time": "2024-06-13T05:16:59.927Z"
   },
   {
    "duration": 6,
    "start_time": "2024-06-13T05:17:00.170Z"
   },
   {
    "duration": 43,
    "start_time": "2024-06-13T05:17:00.177Z"
   },
   {
    "duration": 251,
    "start_time": "2024-06-13T05:17:00.221Z"
   },
   {
    "duration": 248,
    "start_time": "2024-06-13T05:17:00.475Z"
   },
   {
    "duration": 22,
    "start_time": "2024-06-13T05:17:00.724Z"
   },
   {
    "duration": 54,
    "start_time": "2024-06-13T05:17:00.761Z"
   },
   {
    "duration": 47,
    "start_time": "2024-06-13T05:17:00.817Z"
   },
   {
    "duration": 313,
    "start_time": "2024-06-13T05:17:00.866Z"
   },
   {
    "duration": 11,
    "start_time": "2024-06-13T05:17:01.180Z"
   },
   {
    "duration": 105,
    "start_time": "2024-06-13T05:17:01.193Z"
   },
   {
    "duration": 85,
    "start_time": "2024-06-13T05:17:01.300Z"
   },
   {
    "duration": 38,
    "start_time": "2024-06-13T05:17:01.387Z"
   },
   {
    "duration": 54,
    "start_time": "2024-06-13T05:17:01.427Z"
   },
   {
    "duration": 24,
    "start_time": "2024-06-13T05:17:01.483Z"
   },
   {
    "duration": 25,
    "start_time": "2024-06-13T05:17:01.513Z"
   },
   {
    "duration": 36,
    "start_time": "2024-06-13T05:17:01.539Z"
   },
   {
    "duration": 61,
    "start_time": "2024-06-13T05:17:01.577Z"
   },
   {
    "duration": 30,
    "start_time": "2024-06-13T05:17:01.640Z"
   },
   {
    "duration": 33,
    "start_time": "2024-06-13T05:17:01.672Z"
   },
   {
    "duration": 25,
    "start_time": "2024-06-13T05:17:01.706Z"
   },
   {
    "duration": 32,
    "start_time": "2024-06-13T05:17:30.519Z"
   },
   {
    "duration": 21,
    "start_time": "2024-06-13T05:17:44.310Z"
   },
   {
    "duration": 18,
    "start_time": "2024-06-13T05:17:47.358Z"
   },
   {
    "duration": 12,
    "start_time": "2024-06-13T05:23:10.532Z"
   },
   {
    "duration": 4,
    "start_time": "2024-06-13T05:23:18.726Z"
   },
   {
    "duration": 211,
    "start_time": "2024-06-13T05:23:19.705Z"
   },
   {
    "duration": 5,
    "start_time": "2024-06-13T05:23:23.166Z"
   },
   {
    "duration": 9,
    "start_time": "2024-06-13T05:23:25.421Z"
   },
   {
    "duration": 36,
    "start_time": "2024-06-13T05:23:57.739Z"
   },
   {
    "duration": 9,
    "start_time": "2024-06-13T05:24:01.445Z"
   },
   {
    "duration": 161,
    "start_time": "2024-06-13T05:24:10.892Z"
   },
   {
    "duration": 702,
    "start_time": "2024-06-13T05:24:19.397Z"
   },
   {
    "duration": 130,
    "start_time": "2024-06-13T05:24:20.101Z"
   },
   {
    "duration": 19,
    "start_time": "2024-06-13T05:24:20.233Z"
   },
   {
    "duration": 42,
    "start_time": "2024-06-13T05:24:20.254Z"
   },
   {
    "duration": 87,
    "start_time": "2024-06-13T05:24:20.298Z"
   },
   {
    "duration": 36,
    "start_time": "2024-06-13T05:24:20.387Z"
   },
   {
    "duration": 13,
    "start_time": "2024-06-13T05:24:20.425Z"
   },
   {
    "duration": 14,
    "start_time": "2024-06-13T05:24:20.439Z"
   },
   {
    "duration": 26,
    "start_time": "2024-06-13T05:24:20.455Z"
   },
   {
    "duration": 22,
    "start_time": "2024-06-13T05:24:20.484Z"
   },
   {
    "duration": 20,
    "start_time": "2024-06-13T05:24:20.507Z"
   },
   {
    "duration": 81,
    "start_time": "2024-06-13T05:24:20.529Z"
   },
   {
    "duration": 52,
    "start_time": "2024-06-13T05:24:20.611Z"
   },
   {
    "duration": 32,
    "start_time": "2024-06-13T05:24:20.665Z"
   },
   {
    "duration": 30,
    "start_time": "2024-06-13T05:24:20.699Z"
   },
   {
    "duration": 26,
    "start_time": "2024-06-13T05:24:20.730Z"
   },
   {
    "duration": 20,
    "start_time": "2024-06-13T05:24:20.758Z"
   },
   {
    "duration": 20,
    "start_time": "2024-06-13T05:24:20.780Z"
   },
   {
    "duration": 36,
    "start_time": "2024-06-13T05:24:20.801Z"
   },
   {
    "duration": 35,
    "start_time": "2024-06-13T05:24:20.839Z"
   },
   {
    "duration": 6,
    "start_time": "2024-06-13T05:24:20.876Z"
   },
   {
    "duration": 27,
    "start_time": "2024-06-13T05:24:20.884Z"
   },
   {
    "duration": 18,
    "start_time": "2024-06-13T05:24:20.912Z"
   },
   {
    "duration": 19,
    "start_time": "2024-06-13T05:24:20.932Z"
   },
   {
    "duration": 32,
    "start_time": "2024-06-13T05:24:20.953Z"
   },
   {
    "duration": 26,
    "start_time": "2024-06-13T05:24:20.986Z"
   },
   {
    "duration": 6,
    "start_time": "2024-06-13T05:24:21.014Z"
   },
   {
    "duration": 43,
    "start_time": "2024-06-13T05:24:21.024Z"
   },
   {
    "duration": 39,
    "start_time": "2024-06-13T05:24:21.069Z"
   },
   {
    "duration": 17,
    "start_time": "2024-06-13T05:24:21.110Z"
   },
   {
    "duration": 30,
    "start_time": "2024-06-13T05:24:21.129Z"
   },
   {
    "duration": 32,
    "start_time": "2024-06-13T05:24:21.161Z"
   },
   {
    "duration": 23,
    "start_time": "2024-06-13T05:24:21.194Z"
   },
   {
    "duration": 46,
    "start_time": "2024-06-13T05:24:21.219Z"
   },
   {
    "duration": 25,
    "start_time": "2024-06-13T05:24:21.267Z"
   },
   {
    "duration": 23,
    "start_time": "2024-06-13T05:24:21.294Z"
   },
   {
    "duration": 29,
    "start_time": "2024-06-13T05:24:21.319Z"
   },
   {
    "duration": 36,
    "start_time": "2024-06-13T05:24:21.350Z"
   },
   {
    "duration": 3,
    "start_time": "2024-06-13T05:24:21.387Z"
   },
   {
    "duration": 31,
    "start_time": "2024-06-13T05:24:21.391Z"
   },
   {
    "duration": 45,
    "start_time": "2024-06-13T05:24:21.423Z"
   },
   {
    "duration": 40,
    "start_time": "2024-06-13T05:24:21.470Z"
   },
   {
    "duration": 4,
    "start_time": "2024-06-13T05:24:21.512Z"
   },
   {
    "duration": 21,
    "start_time": "2024-06-13T05:24:21.518Z"
   },
   {
    "duration": 34,
    "start_time": "2024-06-13T05:24:21.541Z"
   },
   {
    "duration": 18,
    "start_time": "2024-06-13T05:24:21.577Z"
   },
   {
    "duration": 12,
    "start_time": "2024-06-13T05:24:21.597Z"
   },
   {
    "duration": 12,
    "start_time": "2024-06-13T05:24:21.610Z"
   },
   {
    "duration": 15,
    "start_time": "2024-06-13T05:24:21.623Z"
   },
   {
    "duration": 36,
    "start_time": "2024-06-13T05:24:21.640Z"
   },
   {
    "duration": 13,
    "start_time": "2024-06-13T05:24:21.678Z"
   },
   {
    "duration": 13,
    "start_time": "2024-06-13T05:24:21.693Z"
   },
   {
    "duration": 18,
    "start_time": "2024-06-13T05:24:21.708Z"
   },
   {
    "duration": 22,
    "start_time": "2024-06-13T05:24:21.728Z"
   },
   {
    "duration": 22,
    "start_time": "2024-06-13T05:24:21.752Z"
   },
   {
    "duration": 11,
    "start_time": "2024-06-13T05:24:21.775Z"
   },
   {
    "duration": 29,
    "start_time": "2024-06-13T05:24:21.787Z"
   },
   {
    "duration": 3,
    "start_time": "2024-06-13T05:24:21.818Z"
   },
   {
    "duration": 20,
    "start_time": "2024-06-13T05:24:21.823Z"
   },
   {
    "duration": 42,
    "start_time": "2024-06-13T05:24:21.845Z"
   },
   {
    "duration": 17,
    "start_time": "2024-06-13T05:24:21.889Z"
   },
   {
    "duration": 12,
    "start_time": "2024-06-13T05:24:21.908Z"
   },
   {
    "duration": 31,
    "start_time": "2024-06-13T05:24:21.922Z"
   },
   {
    "duration": 29,
    "start_time": "2024-06-13T05:24:21.955Z"
   },
   {
    "duration": 4,
    "start_time": "2024-06-13T05:24:21.986Z"
   },
   {
    "duration": 233,
    "start_time": "2024-06-13T05:24:21.992Z"
   },
   {
    "duration": 6,
    "start_time": "2024-06-13T05:24:22.227Z"
   },
   {
    "duration": 20,
    "start_time": "2024-06-13T05:24:22.234Z"
   },
   {
    "duration": 151,
    "start_time": "2024-06-13T05:24:22.261Z"
   },
   {
    "duration": 244,
    "start_time": "2024-06-13T05:24:22.414Z"
   },
   {
    "duration": 21,
    "start_time": "2024-06-13T05:24:22.661Z"
   },
   {
    "duration": 27,
    "start_time": "2024-06-13T05:24:22.684Z"
   },
   {
    "duration": 9,
    "start_time": "2024-06-13T05:24:22.713Z"
   },
   {
    "duration": 283,
    "start_time": "2024-06-13T05:24:22.724Z"
   },
   {
    "duration": 11,
    "start_time": "2024-06-13T05:24:23.009Z"
   },
   {
    "duration": 20,
    "start_time": "2024-06-13T05:24:23.021Z"
   },
   {
    "duration": 26,
    "start_time": "2024-06-13T05:24:23.043Z"
   },
   {
    "duration": 10,
    "start_time": "2024-06-13T05:24:23.071Z"
   },
   {
    "duration": 11,
    "start_time": "2024-06-13T05:24:23.083Z"
   },
   {
    "duration": 17,
    "start_time": "2024-06-13T05:24:23.096Z"
   },
   {
    "duration": 17,
    "start_time": "2024-06-13T05:24:23.115Z"
   },
   {
    "duration": 6,
    "start_time": "2024-06-13T05:24:23.138Z"
   },
   {
    "duration": 25,
    "start_time": "2024-06-13T05:24:23.145Z"
   },
   {
    "duration": 21,
    "start_time": "2024-06-13T05:24:23.171Z"
   },
   {
    "duration": 21,
    "start_time": "2024-06-13T05:24:23.194Z"
   },
   {
    "duration": 27,
    "start_time": "2024-06-13T05:24:23.217Z"
   },
   {
    "duration": 151,
    "start_time": "2024-06-13T05:25:45.716Z"
   },
   {
    "duration": 159,
    "start_time": "2024-06-13T05:25:56.363Z"
   },
   {
    "duration": 184,
    "start_time": "2024-06-13T05:27:45.517Z"
   },
   {
    "duration": 149,
    "start_time": "2024-06-13T05:27:56.380Z"
   },
   {
    "duration": 175,
    "start_time": "2024-06-13T05:28:45.855Z"
   },
   {
    "duration": 162,
    "start_time": "2024-06-13T05:29:04.038Z"
   },
   {
    "duration": 155,
    "start_time": "2024-06-13T05:36:41.566Z"
   },
   {
    "duration": 183,
    "start_time": "2024-06-13T05:39:40.936Z"
   },
   {
    "duration": 31,
    "start_time": "2024-06-13T05:43:20.100Z"
   },
   {
    "duration": 20,
    "start_time": "2024-06-13T05:43:28.127Z"
   },
   {
    "duration": 25,
    "start_time": "2024-06-13T05:43:38.054Z"
   },
   {
    "duration": 24,
    "start_time": "2024-06-13T05:43:43.666Z"
   },
   {
    "duration": 744,
    "start_time": "2024-06-13T05:52:20.845Z"
   },
   {
    "duration": 135,
    "start_time": "2024-06-13T05:52:21.591Z"
   },
   {
    "duration": 18,
    "start_time": "2024-06-13T05:52:21.728Z"
   },
   {
    "duration": 8,
    "start_time": "2024-06-13T05:52:21.749Z"
   },
   {
    "duration": 41,
    "start_time": "2024-06-13T05:52:21.759Z"
   },
   {
    "duration": 53,
    "start_time": "2024-06-13T05:52:21.802Z"
   },
   {
    "duration": 15,
    "start_time": "2024-06-13T05:52:21.857Z"
   },
   {
    "duration": 39,
    "start_time": "2024-06-13T05:52:21.874Z"
   },
   {
    "duration": 27,
    "start_time": "2024-06-13T05:52:21.915Z"
   },
   {
    "duration": 13,
    "start_time": "2024-06-13T05:52:21.945Z"
   },
   {
    "duration": 21,
    "start_time": "2024-06-13T05:52:21.959Z"
   },
   {
    "duration": 18,
    "start_time": "2024-06-13T05:52:21.982Z"
   },
   {
    "duration": 8,
    "start_time": "2024-06-13T05:52:22.002Z"
   },
   {
    "duration": 41,
    "start_time": "2024-06-13T05:52:22.012Z"
   },
   {
    "duration": 29,
    "start_time": "2024-06-13T05:52:22.054Z"
   },
   {
    "duration": 54,
    "start_time": "2024-06-13T05:52:22.085Z"
   },
   {
    "duration": 29,
    "start_time": "2024-06-13T05:52:22.141Z"
   },
   {
    "duration": 25,
    "start_time": "2024-06-13T05:52:22.174Z"
   },
   {
    "duration": 7,
    "start_time": "2024-06-13T05:52:22.201Z"
   },
   {
    "duration": 10,
    "start_time": "2024-06-13T05:52:22.210Z"
   },
   {
    "duration": 10,
    "start_time": "2024-06-13T05:52:22.222Z"
   },
   {
    "duration": 23,
    "start_time": "2024-06-13T05:52:22.234Z"
   },
   {
    "duration": 34,
    "start_time": "2024-06-13T05:52:22.259Z"
   },
   {
    "duration": 24,
    "start_time": "2024-06-13T05:52:22.295Z"
   },
   {
    "duration": 10,
    "start_time": "2024-06-13T05:52:22.321Z"
   },
   {
    "duration": 11,
    "start_time": "2024-06-13T05:52:22.333Z"
   },
   {
    "duration": 5,
    "start_time": "2024-06-13T05:52:22.346Z"
   },
   {
    "duration": 27,
    "start_time": "2024-06-13T05:52:22.355Z"
   },
   {
    "duration": 73,
    "start_time": "2024-06-13T05:52:22.384Z"
   },
   {
    "duration": 33,
    "start_time": "2024-06-13T05:52:22.459Z"
   },
   {
    "duration": 11,
    "start_time": "2024-06-13T05:52:22.493Z"
   },
   {
    "duration": 17,
    "start_time": "2024-06-13T05:52:22.505Z"
   },
   {
    "duration": 5,
    "start_time": "2024-06-13T05:52:22.524Z"
   },
   {
    "duration": 28,
    "start_time": "2024-06-13T05:52:22.531Z"
   },
   {
    "duration": 16,
    "start_time": "2024-06-13T05:52:22.573Z"
   },
   {
    "duration": 8,
    "start_time": "2024-06-13T05:52:22.591Z"
   },
   {
    "duration": 20,
    "start_time": "2024-06-13T05:52:22.601Z"
   },
   {
    "duration": 66,
    "start_time": "2024-06-13T05:52:22.622Z"
   },
   {
    "duration": 8,
    "start_time": "2024-06-13T05:52:22.689Z"
   },
   {
    "duration": 25,
    "start_time": "2024-06-13T05:52:22.699Z"
   },
   {
    "duration": 29,
    "start_time": "2024-06-13T05:52:22.726Z"
   },
   {
    "duration": 33,
    "start_time": "2024-06-13T05:52:22.757Z"
   },
   {
    "duration": 4,
    "start_time": "2024-06-13T05:52:22.792Z"
   },
   {
    "duration": 17,
    "start_time": "2024-06-13T05:52:22.797Z"
   },
   {
    "duration": 36,
    "start_time": "2024-06-13T05:52:22.815Z"
   },
   {
    "duration": 41,
    "start_time": "2024-06-13T05:52:22.852Z"
   },
   {
    "duration": 18,
    "start_time": "2024-06-13T05:52:22.895Z"
   },
   {
    "duration": 22,
    "start_time": "2024-06-13T05:52:22.915Z"
   },
   {
    "duration": 13,
    "start_time": "2024-06-13T05:52:22.938Z"
   },
   {
    "duration": 35,
    "start_time": "2024-06-13T05:52:22.952Z"
   },
   {
    "duration": 13,
    "start_time": "2024-06-13T05:52:22.989Z"
   },
   {
    "duration": 16,
    "start_time": "2024-06-13T05:52:23.004Z"
   },
   {
    "duration": 16,
    "start_time": "2024-06-13T05:52:23.022Z"
   },
   {
    "duration": 39,
    "start_time": "2024-06-13T05:52:23.040Z"
   },
   {
    "duration": 18,
    "start_time": "2024-06-13T05:52:23.081Z"
   },
   {
    "duration": 9,
    "start_time": "2024-06-13T05:52:23.100Z"
   },
   {
    "duration": 30,
    "start_time": "2024-06-13T05:52:23.110Z"
   },
   {
    "duration": 4,
    "start_time": "2024-06-13T05:52:23.142Z"
   },
   {
    "duration": 28,
    "start_time": "2024-06-13T05:52:23.147Z"
   },
   {
    "duration": 31,
    "start_time": "2024-06-13T05:52:23.176Z"
   },
   {
    "duration": 27,
    "start_time": "2024-06-13T05:52:23.208Z"
   },
   {
    "duration": 7,
    "start_time": "2024-06-13T05:52:23.237Z"
   },
   {
    "duration": 29,
    "start_time": "2024-06-13T05:52:23.246Z"
   },
   {
    "duration": 17,
    "start_time": "2024-06-13T05:52:23.277Z"
   },
   {
    "duration": 4,
    "start_time": "2024-06-13T05:52:23.297Z"
   },
   {
    "duration": 273,
    "start_time": "2024-06-13T05:52:23.303Z"
   },
   {
    "duration": 11,
    "start_time": "2024-06-13T05:52:23.577Z"
   },
   {
    "duration": 161,
    "start_time": "2024-06-13T05:52:23.590Z"
   },
   {
    "duration": 272,
    "start_time": "2024-06-13T05:52:23.752Z"
   },
   {
    "duration": 46,
    "start_time": "2024-06-13T05:52:24.026Z"
   },
   {
    "duration": 17,
    "start_time": "2024-06-13T05:52:24.077Z"
   },
   {
    "duration": 13,
    "start_time": "2024-06-13T05:52:24.097Z"
   },
   {
    "duration": 272,
    "start_time": "2024-06-13T05:52:24.112Z"
   },
   {
    "duration": 11,
    "start_time": "2024-06-13T05:52:24.386Z"
   },
   {
    "duration": 76,
    "start_time": "2024-06-13T05:52:24.399Z"
   },
   {
    "duration": 10,
    "start_time": "2024-06-13T05:52:24.476Z"
   },
   {
    "duration": 16,
    "start_time": "2024-06-13T05:52:24.488Z"
   },
   {
    "duration": 11,
    "start_time": "2024-06-13T05:52:24.506Z"
   },
   {
    "duration": 6,
    "start_time": "2024-06-13T05:52:24.519Z"
   },
   {
    "duration": 6,
    "start_time": "2024-06-13T05:52:24.526Z"
   },
   {
    "duration": 35,
    "start_time": "2024-06-13T05:52:24.534Z"
   },
   {
    "duration": 13,
    "start_time": "2024-06-13T05:52:24.576Z"
   },
   {
    "duration": 18,
    "start_time": "2024-06-13T05:52:24.591Z"
   },
   {
    "duration": 8,
    "start_time": "2024-06-13T05:52:24.611Z"
   },
   {
    "duration": 51,
    "start_time": "2024-06-13T05:52:24.620Z"
   },
   {
    "duration": 103,
    "start_time": "2024-06-13T06:08:46.167Z"
   },
   {
    "duration": 8,
    "start_time": "2024-06-13T06:09:05.858Z"
   },
   {
    "duration": 7,
    "start_time": "2024-06-13T06:09:10.313Z"
   },
   {
    "duration": 243,
    "start_time": "2024-06-13T06:13:18.071Z"
   },
   {
    "duration": 273,
    "start_time": "2024-06-13T06:13:43.917Z"
   },
   {
    "duration": 4,
    "start_time": "2024-06-13T06:14:52.936Z"
   },
   {
    "duration": 12,
    "start_time": "2024-06-13T06:14:54.575Z"
   },
   {
    "duration": 11,
    "start_time": "2024-06-13T06:14:57.163Z"
   },
   {
    "duration": 18,
    "start_time": "2024-06-13T06:14:58.441Z"
   },
   {
    "duration": 722,
    "start_time": "2024-06-13T06:15:13.032Z"
   },
   {
    "duration": 131,
    "start_time": "2024-06-13T06:15:13.760Z"
   },
   {
    "duration": 19,
    "start_time": "2024-06-13T06:15:13.893Z"
   },
   {
    "duration": 8,
    "start_time": "2024-06-13T06:15:13.914Z"
   },
   {
    "duration": 7,
    "start_time": "2024-06-13T06:15:13.924Z"
   },
   {
    "duration": 20,
    "start_time": "2024-06-13T06:15:13.933Z"
   },
   {
    "duration": 11,
    "start_time": "2024-06-13T06:15:13.955Z"
   },
   {
    "duration": 14,
    "start_time": "2024-06-13T06:15:13.968Z"
   },
   {
    "duration": 12,
    "start_time": "2024-06-13T06:15:13.984Z"
   },
   {
    "duration": 13,
    "start_time": "2024-06-13T06:15:13.999Z"
   },
   {
    "duration": 5,
    "start_time": "2024-06-13T06:15:14.014Z"
   },
   {
    "duration": 12,
    "start_time": "2024-06-13T06:15:14.021Z"
   },
   {
    "duration": 35,
    "start_time": "2024-06-13T06:15:14.034Z"
   },
   {
    "duration": 33,
    "start_time": "2024-06-13T06:15:14.071Z"
   },
   {
    "duration": 29,
    "start_time": "2024-06-13T06:15:14.106Z"
   },
   {
    "duration": 21,
    "start_time": "2024-06-13T06:15:14.137Z"
   },
   {
    "duration": 16,
    "start_time": "2024-06-13T06:15:14.160Z"
   },
   {
    "duration": 32,
    "start_time": "2024-06-13T06:15:14.177Z"
   },
   {
    "duration": 7,
    "start_time": "2024-06-13T06:15:14.211Z"
   },
   {
    "duration": 8,
    "start_time": "2024-06-13T06:15:14.219Z"
   },
   {
    "duration": 14,
    "start_time": "2024-06-13T06:15:14.229Z"
   },
   {
    "duration": 6,
    "start_time": "2024-06-13T06:15:14.245Z"
   },
   {
    "duration": 8,
    "start_time": "2024-06-13T06:15:14.253Z"
   },
   {
    "duration": 8,
    "start_time": "2024-06-13T06:15:14.263Z"
   },
   {
    "duration": 7,
    "start_time": "2024-06-13T06:15:14.272Z"
   },
   {
    "duration": 12,
    "start_time": "2024-06-13T06:15:14.281Z"
   },
   {
    "duration": 5,
    "start_time": "2024-06-13T06:15:14.295Z"
   },
   {
    "duration": 17,
    "start_time": "2024-06-13T06:15:14.304Z"
   },
   {
    "duration": 51,
    "start_time": "2024-06-13T06:15:14.322Z"
   },
   {
    "duration": 7,
    "start_time": "2024-06-13T06:15:14.375Z"
   },
   {
    "duration": 9,
    "start_time": "2024-06-13T06:15:14.383Z"
   },
   {
    "duration": 18,
    "start_time": "2024-06-13T06:15:14.393Z"
   },
   {
    "duration": 9,
    "start_time": "2024-06-13T06:15:14.413Z"
   },
   {
    "duration": 59,
    "start_time": "2024-06-13T06:15:14.424Z"
   },
   {
    "duration": 9,
    "start_time": "2024-06-13T06:15:14.485Z"
   },
   {
    "duration": 91,
    "start_time": "2024-06-13T06:15:14.495Z"
   },
   {
    "duration": 88,
    "start_time": "2024-06-13T06:15:14.588Z"
   },
   {
    "duration": 28,
    "start_time": "2024-06-13T06:15:14.677Z"
   },
   {
    "duration": 3,
    "start_time": "2024-06-13T06:15:14.707Z"
   },
   {
    "duration": 66,
    "start_time": "2024-06-13T06:15:14.711Z"
   },
   {
    "duration": 17,
    "start_time": "2024-06-13T06:15:14.778Z"
   },
   {
    "duration": 28,
    "start_time": "2024-06-13T06:15:14.797Z"
   },
   {
    "duration": 4,
    "start_time": "2024-06-13T06:15:14.826Z"
   },
   {
    "duration": 37,
    "start_time": "2024-06-13T06:15:14.831Z"
   },
   {
    "duration": 17,
    "start_time": "2024-06-13T06:15:14.869Z"
   },
   {
    "duration": 36,
    "start_time": "2024-06-13T06:15:14.887Z"
   },
   {
    "duration": 17,
    "start_time": "2024-06-13T06:15:14.925Z"
   },
   {
    "duration": 9,
    "start_time": "2024-06-13T06:15:14.944Z"
   },
   {
    "duration": 15,
    "start_time": "2024-06-13T06:15:14.954Z"
   },
   {
    "duration": 19,
    "start_time": "2024-06-13T06:15:14.970Z"
   },
   {
    "duration": 7,
    "start_time": "2024-06-13T06:15:14.991Z"
   },
   {
    "duration": 40,
    "start_time": "2024-06-13T06:15:14.999Z"
   },
   {
    "duration": 37,
    "start_time": "2024-06-13T06:15:15.040Z"
   },
   {
    "duration": 36,
    "start_time": "2024-06-13T06:15:15.079Z"
   },
   {
    "duration": 35,
    "start_time": "2024-06-13T06:15:15.117Z"
   },
   {
    "duration": 16,
    "start_time": "2024-06-13T06:15:15.154Z"
   },
   {
    "duration": 38,
    "start_time": "2024-06-13T06:15:15.172Z"
   },
   {
    "duration": 4,
    "start_time": "2024-06-13T06:15:15.212Z"
   },
   {
    "duration": 47,
    "start_time": "2024-06-13T06:15:15.218Z"
   },
   {
    "duration": 36,
    "start_time": "2024-06-13T06:15:15.266Z"
   },
   {
    "duration": 27,
    "start_time": "2024-06-13T06:15:15.303Z"
   },
   {
    "duration": 19,
    "start_time": "2024-06-13T06:15:15.332Z"
   },
   {
    "duration": 30,
    "start_time": "2024-06-13T06:15:15.353Z"
   },
   {
    "duration": 16,
    "start_time": "2024-06-13T06:15:15.385Z"
   },
   {
    "duration": 11,
    "start_time": "2024-06-13T06:15:15.403Z"
   },
   {
    "duration": 223,
    "start_time": "2024-06-13T06:15:15.416Z"
   },
   {
    "duration": 20,
    "start_time": "2024-06-13T06:15:15.642Z"
   },
   {
    "duration": 156,
    "start_time": "2024-06-13T06:15:15.664Z"
   },
   {
    "duration": 252,
    "start_time": "2024-06-13T06:15:15.822Z"
   },
   {
    "duration": 24,
    "start_time": "2024-06-13T06:15:16.077Z"
   },
   {
    "duration": 8,
    "start_time": "2024-06-13T06:15:16.103Z"
   },
   {
    "duration": 25,
    "start_time": "2024-06-13T06:15:16.112Z"
   },
   {
    "duration": 17,
    "start_time": "2024-06-13T06:15:16.161Z"
   },
   {
    "duration": 9,
    "start_time": "2024-06-13T06:15:16.180Z"
   },
   {
    "duration": 288,
    "start_time": "2024-06-13T06:15:16.191Z"
   },
   {
    "duration": 11,
    "start_time": "2024-06-13T06:15:16.480Z"
   },
   {
    "duration": 60,
    "start_time": "2024-06-13T06:15:16.493Z"
   },
   {
    "duration": 15,
    "start_time": "2024-06-13T06:15:16.555Z"
   },
   {
    "duration": 11,
    "start_time": "2024-06-13T06:15:16.572Z"
   },
   {
    "duration": 8,
    "start_time": "2024-06-13T06:15:16.585Z"
   },
   {
    "duration": 6,
    "start_time": "2024-06-13T06:15:16.594Z"
   },
   {
    "duration": 5,
    "start_time": "2024-06-13T06:15:16.606Z"
   },
   {
    "duration": 17,
    "start_time": "2024-06-13T06:15:16.613Z"
   },
   {
    "duration": 30,
    "start_time": "2024-06-13T06:15:16.632Z"
   },
   {
    "duration": 13,
    "start_time": "2024-06-13T06:15:16.663Z"
   },
   {
    "duration": 7,
    "start_time": "2024-06-13T06:15:16.678Z"
   },
   {
    "duration": 94,
    "start_time": "2024-06-13T06:15:16.687Z"
   },
   {
    "duration": 246,
    "start_time": "2024-06-13T06:15:48.643Z"
   },
   {
    "duration": 274,
    "start_time": "2024-06-13T06:22:49.203Z"
   },
   {
    "duration": 222,
    "start_time": "2024-06-13T06:30:17.255Z"
   },
   {
    "duration": 204,
    "start_time": "2024-06-13T06:30:38.243Z"
   },
   {
    "duration": 233,
    "start_time": "2024-06-13T06:30:52.334Z"
   },
   {
    "duration": 148,
    "start_time": "2024-06-13T06:31:33.332Z"
   },
   {
    "duration": 130,
    "start_time": "2024-06-13T06:31:57.382Z"
   },
   {
    "duration": 189,
    "start_time": "2024-06-13T06:33:12.260Z"
   },
   {
    "duration": 139,
    "start_time": "2024-06-13T06:33:17.054Z"
   },
   {
    "duration": 118,
    "start_time": "2024-06-13T06:34:03.384Z"
   },
   {
    "duration": 494,
    "start_time": "2024-06-13T06:35:36.252Z"
   },
   {
    "duration": 186,
    "start_time": "2024-06-13T06:36:05.827Z"
   },
   {
    "duration": 291,
    "start_time": "2024-06-13T06:37:20.395Z"
   },
   {
    "duration": 5,
    "start_time": "2024-06-13T06:38:16.728Z"
   },
   {
    "duration": 161,
    "start_time": "2024-06-13T06:38:20.624Z"
   },
   {
    "duration": 180,
    "start_time": "2024-06-13T06:39:49.115Z"
   },
   {
    "duration": 168,
    "start_time": "2024-06-13T06:40:10.980Z"
   },
   {
    "duration": 193,
    "start_time": "2024-06-13T06:40:45.977Z"
   },
   {
    "duration": 184,
    "start_time": "2024-06-13T06:42:23.694Z"
   },
   {
    "duration": 124,
    "start_time": "2024-06-13T06:43:03.557Z"
   },
   {
    "duration": 133,
    "start_time": "2024-06-13T06:43:48.464Z"
   },
   {
    "duration": 194,
    "start_time": "2024-06-13T06:43:53.495Z"
   },
   {
    "duration": 220,
    "start_time": "2024-06-13T06:44:02.172Z"
   },
   {
    "duration": 184,
    "start_time": "2024-06-13T06:44:09.646Z"
   },
   {
    "duration": 191,
    "start_time": "2024-06-13T06:44:17.486Z"
   },
   {
    "duration": 330,
    "start_time": "2024-06-13T06:52:01.087Z"
   },
   {
    "duration": 181,
    "start_time": "2024-06-13T06:52:06.736Z"
   },
   {
    "duration": 20,
    "start_time": "2024-06-13T07:01:05.262Z"
   },
   {
    "duration": 12,
    "start_time": "2024-06-13T07:01:29.188Z"
   },
   {
    "duration": 9,
    "start_time": "2024-06-13T07:01:31.081Z"
   },
   {
    "duration": 8,
    "start_time": "2024-06-13T07:01:34.850Z"
   },
   {
    "duration": 6,
    "start_time": "2024-06-13T07:01:50.023Z"
   },
   {
    "duration": 20,
    "start_time": "2024-06-13T07:03:03.502Z"
   },
   {
    "duration": 30,
    "start_time": "2024-06-13T07:08:17.553Z"
   },
   {
    "duration": 8,
    "start_time": "2024-06-13T07:09:54.148Z"
   },
   {
    "duration": 9,
    "start_time": "2024-06-13T07:09:59.228Z"
   },
   {
    "duration": 8,
    "start_time": "2024-06-13T07:10:07.798Z"
   },
   {
    "duration": 12,
    "start_time": "2024-06-13T07:10:30.295Z"
   },
   {
    "duration": 19,
    "start_time": "2024-06-13T07:11:26.029Z"
   },
   {
    "duration": 11,
    "start_time": "2024-06-13T07:13:08.837Z"
   },
   {
    "duration": 11,
    "start_time": "2024-06-13T07:13:30.933Z"
   },
   {
    "duration": 4,
    "start_time": "2024-06-13T07:13:38.690Z"
   },
   {
    "duration": 12,
    "start_time": "2024-06-13T07:16:31.395Z"
   },
   {
    "duration": 33,
    "start_time": "2024-06-13T07:16:38.474Z"
   },
   {
    "duration": 16,
    "start_time": "2024-06-13T07:17:25.129Z"
   },
   {
    "duration": 1261,
    "start_time": "2024-06-13T07:17:30.160Z"
   },
   {
    "duration": 132,
    "start_time": "2024-06-13T07:17:31.424Z"
   },
   {
    "duration": 25,
    "start_time": "2024-06-13T07:17:31.558Z"
   },
   {
    "duration": 17,
    "start_time": "2024-06-13T07:17:31.585Z"
   },
   {
    "duration": 22,
    "start_time": "2024-06-13T07:17:31.604Z"
   },
   {
    "duration": 40,
    "start_time": "2024-06-13T07:17:31.628Z"
   },
   {
    "duration": 11,
    "start_time": "2024-06-13T07:17:31.669Z"
   },
   {
    "duration": 31,
    "start_time": "2024-06-13T07:17:31.681Z"
   },
   {
    "duration": 30,
    "start_time": "2024-06-13T07:17:31.714Z"
   },
   {
    "duration": 13,
    "start_time": "2024-06-13T07:17:31.747Z"
   },
   {
    "duration": 9,
    "start_time": "2024-06-13T07:17:31.762Z"
   },
   {
    "duration": 15,
    "start_time": "2024-06-13T07:17:31.773Z"
   },
   {
    "duration": 25,
    "start_time": "2024-06-13T07:17:31.790Z"
   },
   {
    "duration": 42,
    "start_time": "2024-06-13T07:17:31.817Z"
   },
   {
    "duration": 17,
    "start_time": "2024-06-13T07:17:31.861Z"
   },
   {
    "duration": 17,
    "start_time": "2024-06-13T07:17:31.880Z"
   },
   {
    "duration": 7,
    "start_time": "2024-06-13T07:17:31.899Z"
   },
   {
    "duration": 21,
    "start_time": "2024-06-13T07:17:31.907Z"
   },
   {
    "duration": 5,
    "start_time": "2024-06-13T07:17:31.930Z"
   },
   {
    "duration": 24,
    "start_time": "2024-06-13T07:17:31.937Z"
   },
   {
    "duration": 8,
    "start_time": "2024-06-13T07:17:31.964Z"
   },
   {
    "duration": 5,
    "start_time": "2024-06-13T07:17:31.974Z"
   },
   {
    "duration": 7,
    "start_time": "2024-06-13T07:17:31.981Z"
   },
   {
    "duration": 18,
    "start_time": "2024-06-13T07:17:31.989Z"
   },
   {
    "duration": 8,
    "start_time": "2024-06-13T07:17:32.009Z"
   },
   {
    "duration": 10,
    "start_time": "2024-06-13T07:17:32.019Z"
   },
   {
    "duration": 29,
    "start_time": "2024-06-13T07:17:32.031Z"
   },
   {
    "duration": 16,
    "start_time": "2024-06-13T07:17:32.065Z"
   },
   {
    "duration": 19,
    "start_time": "2024-06-13T07:17:32.083Z"
   },
   {
    "duration": 4,
    "start_time": "2024-06-13T07:17:32.104Z"
   },
   {
    "duration": 5,
    "start_time": "2024-06-13T07:17:32.110Z"
   },
   {
    "duration": 16,
    "start_time": "2024-06-13T07:17:32.116Z"
   },
   {
    "duration": 4,
    "start_time": "2024-06-13T07:17:32.162Z"
   },
   {
    "duration": 28,
    "start_time": "2024-06-13T07:17:32.168Z"
   },
   {
    "duration": 12,
    "start_time": "2024-06-13T07:17:32.197Z"
   },
   {
    "duration": 10,
    "start_time": "2024-06-13T07:17:32.211Z"
   },
   {
    "duration": 10,
    "start_time": "2024-06-13T07:17:32.222Z"
   },
   {
    "duration": 25,
    "start_time": "2024-06-13T07:17:32.260Z"
   },
   {
    "duration": 2,
    "start_time": "2024-06-13T07:17:32.287Z"
   },
   {
    "duration": 16,
    "start_time": "2024-06-13T07:17:32.291Z"
   },
   {
    "duration": 21,
    "start_time": "2024-06-13T07:17:32.308Z"
   },
   {
    "duration": 53,
    "start_time": "2024-06-13T07:17:32.331Z"
   },
   {
    "duration": 4,
    "start_time": "2024-06-13T07:17:32.385Z"
   },
   {
    "duration": 17,
    "start_time": "2024-06-13T07:17:32.391Z"
   },
   {
    "duration": 17,
    "start_time": "2024-06-13T07:17:32.410Z"
   },
   {
    "duration": 33,
    "start_time": "2024-06-13T07:17:32.429Z"
   },
   {
    "duration": 9,
    "start_time": "2024-06-13T07:17:32.463Z"
   },
   {
    "duration": 10,
    "start_time": "2024-06-13T07:17:32.473Z"
   },
   {
    "duration": 7,
    "start_time": "2024-06-13T07:17:32.484Z"
   },
   {
    "duration": 18,
    "start_time": "2024-06-13T07:17:32.492Z"
   },
   {
    "duration": 8,
    "start_time": "2024-06-13T07:17:32.512Z"
   },
   {
    "duration": 40,
    "start_time": "2024-06-13T07:17:32.521Z"
   },
   {
    "duration": 15,
    "start_time": "2024-06-13T07:17:32.563Z"
   },
   {
    "duration": 19,
    "start_time": "2024-06-13T07:17:32.579Z"
   },
   {
    "duration": 22,
    "start_time": "2024-06-13T07:17:32.599Z"
   },
   {
    "duration": 7,
    "start_time": "2024-06-13T07:17:32.623Z"
   },
   {
    "duration": 30,
    "start_time": "2024-06-13T07:17:32.632Z"
   },
   {
    "duration": 4,
    "start_time": "2024-06-13T07:17:32.663Z"
   },
   {
    "duration": 20,
    "start_time": "2024-06-13T07:17:32.669Z"
   },
   {
    "duration": 27,
    "start_time": "2024-06-13T07:17:32.691Z"
   },
   {
    "duration": 17,
    "start_time": "2024-06-13T07:17:32.720Z"
   },
   {
    "duration": 7,
    "start_time": "2024-06-13T07:17:32.760Z"
   },
   {
    "duration": 18,
    "start_time": "2024-06-13T07:17:32.768Z"
   },
   {
    "duration": 16,
    "start_time": "2024-06-13T07:17:32.788Z"
   },
   {
    "duration": 4,
    "start_time": "2024-06-13T07:17:32.806Z"
   },
   {
    "duration": 250,
    "start_time": "2024-06-13T07:17:32.811Z"
   },
   {
    "duration": 10,
    "start_time": "2024-06-13T07:17:33.062Z"
   },
   {
    "duration": 166,
    "start_time": "2024-06-13T07:17:33.074Z"
   },
   {
    "duration": 174,
    "start_time": "2024-06-13T07:17:33.242Z"
   },
   {
    "duration": 21,
    "start_time": "2024-06-13T07:17:33.418Z"
   },
   {
    "duration": 24,
    "start_time": "2024-06-13T07:17:33.440Z"
   },
   {
    "duration": 31,
    "start_time": "2024-06-13T07:17:33.466Z"
   },
   {
    "duration": 16,
    "start_time": "2024-06-13T07:17:33.498Z"
   },
   {
    "duration": 9,
    "start_time": "2024-06-13T07:17:33.516Z"
   },
   {
    "duration": 277,
    "start_time": "2024-06-13T07:17:33.527Z"
   },
   {
    "duration": 11,
    "start_time": "2024-06-13T07:17:33.806Z"
   },
   {
    "duration": 12,
    "start_time": "2024-06-13T07:17:33.819Z"
   },
   {
    "duration": 231,
    "start_time": "2024-06-13T07:17:33.832Z"
   },
   {
    "duration": 11,
    "start_time": "2024-06-13T07:17:34.065Z"
   },
   {
    "duration": 10,
    "start_time": "2024-06-13T07:17:34.078Z"
   },
   {
    "duration": 13,
    "start_time": "2024-06-13T07:17:34.089Z"
   },
   {
    "duration": 6,
    "start_time": "2024-06-13T07:17:34.107Z"
   },
   {
    "duration": 7,
    "start_time": "2024-06-13T07:17:34.114Z"
   },
   {
    "duration": 41,
    "start_time": "2024-06-13T07:17:34.122Z"
   },
   {
    "duration": 21,
    "start_time": "2024-06-13T07:17:34.164Z"
   },
   {
    "duration": 16,
    "start_time": "2024-06-13T07:17:34.187Z"
   },
   {
    "duration": 16,
    "start_time": "2024-06-13T07:17:34.205Z"
   },
   {
    "duration": 102,
    "start_time": "2024-06-13T07:17:34.223Z"
   },
   {
    "duration": 110,
    "start_time": "2024-06-13T07:17:34.327Z"
   },
   {
    "duration": 17,
    "start_time": "2024-06-13T07:18:22.138Z"
   },
   {
    "duration": 33,
    "start_time": "2024-06-13T07:18:53.312Z"
   },
   {
    "duration": 7,
    "start_time": "2024-06-13T07:19:05.979Z"
   },
   {
    "duration": 6,
    "start_time": "2024-06-13T07:21:25.295Z"
   },
   {
    "duration": 8,
    "start_time": "2024-06-13T07:22:10.916Z"
   },
   {
    "duration": 8,
    "start_time": "2024-06-13T07:22:25.714Z"
   },
   {
    "duration": 7,
    "start_time": "2024-06-13T07:22:35.762Z"
   },
   {
    "duration": 16,
    "start_time": "2024-06-13T07:24:18.399Z"
   },
   {
    "duration": 925,
    "start_time": "2024-06-13T07:26:27.553Z"
   },
   {
    "duration": 18,
    "start_time": "2024-06-13T07:26:39.594Z"
   },
   {
    "duration": 16,
    "start_time": "2024-06-13T07:27:06.308Z"
   },
   {
    "duration": 31,
    "start_time": "2024-06-13T07:30:43.507Z"
   },
   {
    "duration": 16,
    "start_time": "2024-06-13T07:32:06.447Z"
   },
   {
    "duration": 15,
    "start_time": "2024-06-13T07:32:30.222Z"
   },
   {
    "duration": 1227,
    "start_time": "2024-06-13T07:34:58.872Z"
   },
   {
    "duration": 136,
    "start_time": "2024-06-13T07:35:00.102Z"
   },
   {
    "duration": 20,
    "start_time": "2024-06-13T07:35:00.242Z"
   },
   {
    "duration": 57,
    "start_time": "2024-06-13T07:35:00.263Z"
   },
   {
    "duration": 67,
    "start_time": "2024-06-13T07:35:00.321Z"
   },
   {
    "duration": 61,
    "start_time": "2024-06-13T07:35:00.390Z"
   },
   {
    "duration": 79,
    "start_time": "2024-06-13T07:35:00.453Z"
   },
   {
    "duration": 60,
    "start_time": "2024-06-13T07:35:00.534Z"
   },
   {
    "duration": 76,
    "start_time": "2024-06-13T07:35:00.598Z"
   },
   {
    "duration": 67,
    "start_time": "2024-06-13T07:35:00.676Z"
   },
   {
    "duration": 21,
    "start_time": "2024-06-13T07:35:00.745Z"
   },
   {
    "duration": 104,
    "start_time": "2024-06-13T07:35:00.767Z"
   },
   {
    "duration": 117,
    "start_time": "2024-06-13T07:35:00.873Z"
   },
   {
    "duration": 99,
    "start_time": "2024-06-13T07:35:00.992Z"
   },
   {
    "duration": 51,
    "start_time": "2024-06-13T07:35:01.092Z"
   },
   {
    "duration": 170,
    "start_time": "2024-06-13T07:35:01.144Z"
   },
   {
    "duration": 43,
    "start_time": "2024-06-13T07:35:01.316Z"
   },
   {
    "duration": 113,
    "start_time": "2024-06-13T07:35:01.361Z"
   },
   {
    "duration": 61,
    "start_time": "2024-06-13T07:35:01.476Z"
   },
   {
    "duration": 149,
    "start_time": "2024-06-13T07:35:01.539Z"
   },
   {
    "duration": 98,
    "start_time": "2024-06-13T07:35:01.690Z"
   },
   {
    "duration": 27,
    "start_time": "2024-06-13T07:35:01.789Z"
   },
   {
    "duration": 35,
    "start_time": "2024-06-13T07:35:01.818Z"
   },
   {
    "duration": 20,
    "start_time": "2024-06-13T07:35:01.854Z"
   },
   {
    "duration": 20,
    "start_time": "2024-06-13T07:35:01.877Z"
   },
   {
    "duration": 25,
    "start_time": "2024-06-13T07:35:01.899Z"
   },
   {
    "duration": 39,
    "start_time": "2024-06-13T07:35:01.928Z"
   },
   {
    "duration": 24,
    "start_time": "2024-06-13T07:35:01.968Z"
   },
   {
    "duration": 26,
    "start_time": "2024-06-13T07:35:01.994Z"
   },
   {
    "duration": 25,
    "start_time": "2024-06-13T07:35:02.022Z"
   },
   {
    "duration": 43,
    "start_time": "2024-06-13T07:35:02.048Z"
   },
   {
    "duration": 21,
    "start_time": "2024-06-13T07:35:02.093Z"
   },
   {
    "duration": 4,
    "start_time": "2024-06-13T07:35:02.116Z"
   },
   {
    "duration": 33,
    "start_time": "2024-06-13T07:35:02.121Z"
   },
   {
    "duration": 8,
    "start_time": "2024-06-13T07:35:02.156Z"
   },
   {
    "duration": 31,
    "start_time": "2024-06-13T07:35:02.166Z"
   },
   {
    "duration": 31,
    "start_time": "2024-06-13T07:35:02.198Z"
   },
   {
    "duration": 57,
    "start_time": "2024-06-13T07:35:02.231Z"
   },
   {
    "duration": 6,
    "start_time": "2024-06-13T07:35:02.290Z"
   },
   {
    "duration": 36,
    "start_time": "2024-06-13T07:35:02.298Z"
   },
   {
    "duration": 42,
    "start_time": "2024-06-13T07:35:02.336Z"
   },
   {
    "duration": 30,
    "start_time": "2024-06-13T07:35:02.380Z"
   },
   {
    "duration": 13,
    "start_time": "2024-06-13T07:35:02.412Z"
   },
   {
    "duration": 42,
    "start_time": "2024-06-13T07:35:02.428Z"
   },
   {
    "duration": 45,
    "start_time": "2024-06-13T07:35:02.472Z"
   },
   {
    "duration": 25,
    "start_time": "2024-06-13T07:35:02.520Z"
   },
   {
    "duration": 13,
    "start_time": "2024-06-13T07:35:02.547Z"
   },
   {
    "duration": 18,
    "start_time": "2024-06-13T07:35:02.562Z"
   },
   {
    "duration": 19,
    "start_time": "2024-06-13T07:35:02.582Z"
   },
   {
    "duration": 37,
    "start_time": "2024-06-13T07:35:02.603Z"
   },
   {
    "duration": 8,
    "start_time": "2024-06-13T07:35:02.642Z"
   },
   {
    "duration": 23,
    "start_time": "2024-06-13T07:35:02.652Z"
   },
   {
    "duration": 38,
    "start_time": "2024-06-13T07:35:02.677Z"
   },
   {
    "duration": 49,
    "start_time": "2024-06-13T07:35:02.716Z"
   },
   {
    "duration": 104,
    "start_time": "2024-06-13T07:35:02.767Z"
   },
   {
    "duration": 46,
    "start_time": "2024-06-13T07:35:02.873Z"
   },
   {
    "duration": 114,
    "start_time": "2024-06-13T07:35:02.921Z"
   },
   {
    "duration": 6,
    "start_time": "2024-06-13T07:35:03.037Z"
   },
   {
    "duration": 32,
    "start_time": "2024-06-13T07:35:03.045Z"
   },
   {
    "duration": 45,
    "start_time": "2024-06-13T07:35:03.079Z"
   },
   {
    "duration": 65,
    "start_time": "2024-06-13T07:35:03.126Z"
   },
   {
    "duration": 47,
    "start_time": "2024-06-13T07:35:03.192Z"
   },
   {
    "duration": 55,
    "start_time": "2024-06-13T07:35:03.241Z"
   },
   {
    "duration": 16,
    "start_time": "2024-06-13T07:35:03.298Z"
   },
   {
    "duration": 28,
    "start_time": "2024-06-13T07:35:03.316Z"
   },
   {
    "duration": 255,
    "start_time": "2024-06-13T07:35:03.346Z"
   },
   {
    "duration": 10,
    "start_time": "2024-06-13T07:35:03.602Z"
   },
   {
    "duration": 177,
    "start_time": "2024-06-13T07:35:03.613Z"
   },
   {
    "duration": 216,
    "start_time": "2024-06-13T07:35:03.792Z"
   },
   {
    "duration": 23,
    "start_time": "2024-06-13T07:35:04.010Z"
   },
   {
    "duration": 33,
    "start_time": "2024-06-13T07:35:04.035Z"
   },
   {
    "duration": 22,
    "start_time": "2024-06-13T07:35:04.070Z"
   },
   {
    "duration": 79,
    "start_time": "2024-06-13T07:35:04.094Z"
   },
   {
    "duration": 69,
    "start_time": "2024-06-13T07:35:04.175Z"
   },
   {
    "duration": 274,
    "start_time": "2024-06-13T07:35:04.245Z"
   },
   {
    "duration": 10,
    "start_time": "2024-06-13T07:35:04.521Z"
   },
   {
    "duration": 41,
    "start_time": "2024-06-13T07:35:04.532Z"
   },
   {
    "duration": 198,
    "start_time": "2024-06-13T07:35:04.575Z"
   },
   {
    "duration": 11,
    "start_time": "2024-06-13T07:35:04.774Z"
   },
   {
    "duration": 81,
    "start_time": "2024-06-13T07:35:04.787Z"
   },
   {
    "duration": 20,
    "start_time": "2024-06-13T07:35:04.874Z"
   },
   {
    "duration": 19,
    "start_time": "2024-06-13T07:35:04.896Z"
   },
   {
    "duration": 77,
    "start_time": "2024-06-13T07:35:04.917Z"
   },
   {
    "duration": 15,
    "start_time": "2024-06-13T07:35:04.995Z"
   },
   {
    "duration": 29,
    "start_time": "2024-06-13T07:35:05.012Z"
   },
   {
    "duration": 30,
    "start_time": "2024-06-13T07:35:05.042Z"
   },
   {
    "duration": 44,
    "start_time": "2024-06-13T07:35:05.073Z"
   },
   {
    "duration": 123,
    "start_time": "2024-06-13T07:35:05.119Z"
   },
   {
    "duration": 23,
    "start_time": "2024-06-13T07:35:05.243Z"
   },
   {
    "duration": 32,
    "start_time": "2024-06-13T07:35:05.268Z"
   },
   {
    "duration": 11,
    "start_time": "2024-06-13T07:37:50.032Z"
   },
   {
    "duration": 14,
    "start_time": "2024-06-13T07:38:09.833Z"
   },
   {
    "duration": 10,
    "start_time": "2024-06-13T07:38:43.440Z"
   },
   {
    "duration": 6,
    "start_time": "2024-06-13T07:38:43.557Z"
   },
   {
    "duration": 6,
    "start_time": "2024-06-13T07:38:44.931Z"
   },
   {
    "duration": 11,
    "start_time": "2024-06-13T07:38:45.127Z"
   },
   {
    "duration": 14,
    "start_time": "2024-06-13T07:38:45.293Z"
   },
   {
    "duration": 7,
    "start_time": "2024-06-13T07:38:45.479Z"
   },
   {
    "duration": 19,
    "start_time": "2024-06-13T07:38:45.797Z"
   },
   {
    "duration": 19,
    "start_time": "2024-06-13T07:38:46.571Z"
   },
   {
    "duration": 16,
    "start_time": "2024-06-13T07:38:46.783Z"
   },
   {
    "duration": 18,
    "start_time": "2024-06-13T07:39:04.910Z"
   },
   {
    "duration": 28,
    "start_time": "2024-06-13T08:31:02.988Z"
   },
   {
    "duration": 27,
    "start_time": "2024-06-13T08:34:38.695Z"
   },
   {
    "duration": 41,
    "start_time": "2024-06-13T08:35:01.533Z"
   },
   {
    "duration": 12,
    "start_time": "2024-06-13T08:37:30.291Z"
   },
   {
    "duration": 1272,
    "start_time": "2024-06-13T09:04:46.221Z"
   },
   {
    "duration": 130,
    "start_time": "2024-06-13T09:04:47.495Z"
   },
   {
    "duration": 20,
    "start_time": "2024-06-13T09:04:47.626Z"
   },
   {
    "duration": 22,
    "start_time": "2024-06-13T09:04:47.648Z"
   },
   {
    "duration": 16,
    "start_time": "2024-06-13T09:04:47.672Z"
   },
   {
    "duration": 43,
    "start_time": "2024-06-13T09:04:47.690Z"
   },
   {
    "duration": 11,
    "start_time": "2024-06-13T09:04:47.736Z"
   },
   {
    "duration": 25,
    "start_time": "2024-06-13T09:04:47.749Z"
   },
   {
    "duration": 17,
    "start_time": "2024-06-13T09:04:47.776Z"
   },
   {
    "duration": 27,
    "start_time": "2024-06-13T09:04:47.797Z"
   },
   {
    "duration": 5,
    "start_time": "2024-06-13T09:04:47.826Z"
   },
   {
    "duration": 17,
    "start_time": "2024-06-13T09:04:47.832Z"
   },
   {
    "duration": 25,
    "start_time": "2024-06-13T09:04:47.852Z"
   },
   {
    "duration": 28,
    "start_time": "2024-06-13T09:04:47.879Z"
   },
   {
    "duration": 31,
    "start_time": "2024-06-13T09:04:47.909Z"
   },
   {
    "duration": 17,
    "start_time": "2024-06-13T09:04:47.942Z"
   },
   {
    "duration": 20,
    "start_time": "2024-06-13T09:04:47.961Z"
   },
   {
    "duration": 42,
    "start_time": "2024-06-13T09:04:47.983Z"
   },
   {
    "duration": 27,
    "start_time": "2024-06-13T09:04:48.027Z"
   },
   {
    "duration": 32,
    "start_time": "2024-06-13T09:04:48.056Z"
   },
   {
    "duration": 27,
    "start_time": "2024-06-13T09:04:48.090Z"
   },
   {
    "duration": 29,
    "start_time": "2024-06-13T09:04:48.119Z"
   },
   {
    "duration": 30,
    "start_time": "2024-06-13T09:04:48.150Z"
   },
   {
    "duration": 28,
    "start_time": "2024-06-13T09:04:48.182Z"
   },
   {
    "duration": 64,
    "start_time": "2024-06-13T09:04:48.212Z"
   },
   {
    "duration": 49,
    "start_time": "2024-06-13T09:04:48.277Z"
   },
   {
    "duration": 25,
    "start_time": "2024-06-13T09:04:48.328Z"
   },
   {
    "duration": 22,
    "start_time": "2024-06-13T09:04:48.358Z"
   },
   {
    "duration": 20,
    "start_time": "2024-06-13T09:04:48.382Z"
   },
   {
    "duration": 18,
    "start_time": "2024-06-13T09:04:48.404Z"
   },
   {
    "duration": 10,
    "start_time": "2024-06-13T09:04:48.424Z"
   },
   {
    "duration": 23,
    "start_time": "2024-06-13T09:04:48.435Z"
   },
   {
    "duration": 12,
    "start_time": "2024-06-13T09:04:48.460Z"
   },
   {
    "duration": 52,
    "start_time": "2024-06-13T09:04:48.474Z"
   },
   {
    "duration": 26,
    "start_time": "2024-06-13T09:04:48.527Z"
   },
   {
    "duration": 13,
    "start_time": "2024-06-13T09:04:48.555Z"
   },
   {
    "duration": 19,
    "start_time": "2024-06-13T09:04:48.571Z"
   },
   {
    "duration": 45,
    "start_time": "2024-06-13T09:04:48.592Z"
   },
   {
    "duration": 24,
    "start_time": "2024-06-13T09:04:48.639Z"
   },
   {
    "duration": 25,
    "start_time": "2024-06-13T09:04:48.664Z"
   },
   {
    "duration": 30,
    "start_time": "2024-06-13T09:04:48.691Z"
   },
   {
    "duration": 4,
    "start_time": "2024-06-13T09:04:48.722Z"
   },
   {
    "duration": 40,
    "start_time": "2024-06-13T09:04:48.728Z"
   },
   {
    "duration": 23,
    "start_time": "2024-06-13T09:04:48.770Z"
   },
   {
    "duration": 18,
    "start_time": "2024-06-13T09:04:48.795Z"
   },
   {
    "duration": 13,
    "start_time": "2024-06-13T09:04:48.815Z"
   },
   {
    "duration": 7,
    "start_time": "2024-06-13T09:04:48.830Z"
   },
   {
    "duration": 23,
    "start_time": "2024-06-13T09:04:48.838Z"
   },
   {
    "duration": 20,
    "start_time": "2024-06-13T09:04:48.862Z"
   },
   {
    "duration": 28,
    "start_time": "2024-06-13T09:04:48.883Z"
   },
   {
    "duration": 17,
    "start_time": "2024-06-13T09:04:48.913Z"
   },
   {
    "duration": 30,
    "start_time": "2024-06-13T09:04:48.932Z"
   },
   {
    "duration": 19,
    "start_time": "2024-06-13T09:04:48.964Z"
   },
   {
    "duration": 15,
    "start_time": "2024-06-13T09:04:48.984Z"
   },
   {
    "duration": 14,
    "start_time": "2024-06-13T09:04:49.001Z"
   },
   {
    "duration": 35,
    "start_time": "2024-06-13T09:04:49.016Z"
   },
   {
    "duration": 4,
    "start_time": "2024-06-13T09:04:49.053Z"
   },
   {
    "duration": 26,
    "start_time": "2024-06-13T09:04:49.060Z"
   },
   {
    "duration": 34,
    "start_time": "2024-06-13T09:04:49.087Z"
   },
   {
    "duration": 16,
    "start_time": "2024-06-13T09:04:49.123Z"
   },
   {
    "duration": 10,
    "start_time": "2024-06-13T09:04:49.141Z"
   },
   {
    "duration": 17,
    "start_time": "2024-06-13T09:04:49.153Z"
   },
   {
    "duration": 57,
    "start_time": "2024-06-13T09:04:49.171Z"
   },
   {
    "duration": 69,
    "start_time": "2024-06-13T09:04:49.229Z"
   },
   {
    "duration": 232,
    "start_time": "2024-06-13T09:04:49.299Z"
   },
   {
    "duration": 9,
    "start_time": "2024-06-13T09:04:49.533Z"
   },
   {
    "duration": 171,
    "start_time": "2024-06-13T09:04:49.544Z"
   },
   {
    "duration": 179,
    "start_time": "2024-06-13T09:04:49.718Z"
   },
   {
    "duration": 22,
    "start_time": "2024-06-13T09:04:49.899Z"
   },
   {
    "duration": 18,
    "start_time": "2024-06-13T09:04:49.922Z"
   },
   {
    "duration": 49,
    "start_time": "2024-06-13T09:04:49.942Z"
   },
   {
    "duration": 21,
    "start_time": "2024-06-13T09:04:49.993Z"
   },
   {
    "duration": 19,
    "start_time": "2024-06-13T09:04:50.017Z"
   },
   {
    "duration": 284,
    "start_time": "2024-06-13T09:04:50.038Z"
   },
   {
    "duration": 10,
    "start_time": "2024-06-13T09:04:50.324Z"
   },
   {
    "duration": 33,
    "start_time": "2024-06-13T09:04:50.336Z"
   },
   {
    "duration": 202,
    "start_time": "2024-06-13T09:04:50.371Z"
   },
   {
    "duration": 11,
    "start_time": "2024-06-13T09:04:50.575Z"
   },
   {
    "duration": 37,
    "start_time": "2024-06-13T09:04:50.588Z"
   },
   {
    "duration": 38,
    "start_time": "2024-06-13T09:04:50.627Z"
   },
   {
    "duration": 22,
    "start_time": "2024-06-13T09:04:50.667Z"
   },
   {
    "duration": 25,
    "start_time": "2024-06-13T09:04:50.694Z"
   },
   {
    "duration": 39,
    "start_time": "2024-06-13T09:04:50.721Z"
   },
   {
    "duration": 32,
    "start_time": "2024-06-13T09:04:50.762Z"
   },
   {
    "duration": 42,
    "start_time": "2024-06-13T09:04:50.796Z"
   },
   {
    "duration": 28,
    "start_time": "2024-06-13T09:04:50.840Z"
   },
   {
    "duration": 23,
    "start_time": "2024-06-13T09:04:50.869Z"
   },
   {
    "duration": 127,
    "start_time": "2024-06-13T09:04:50.894Z"
   },
   {
    "duration": 18,
    "start_time": "2024-06-13T09:04:51.022Z"
   },
   {
    "duration": 58,
    "start_time": "2024-06-13T09:04:51.041Z"
   },
   {
    "duration": 1059,
    "start_time": "2024-06-13T20:39:15.148Z"
   },
   {
    "duration": 104,
    "start_time": "2024-06-13T20:39:16.209Z"
   },
   {
    "duration": 15,
    "start_time": "2024-06-13T20:39:16.314Z"
   },
   {
    "duration": 5,
    "start_time": "2024-06-13T20:39:16.330Z"
   },
   {
    "duration": 20,
    "start_time": "2024-06-13T20:39:16.336Z"
   },
   {
    "duration": 18,
    "start_time": "2024-06-13T20:39:16.357Z"
   },
   {
    "duration": 21,
    "start_time": "2024-06-13T20:39:16.377Z"
   },
   {
    "duration": 10,
    "start_time": "2024-06-13T20:39:16.399Z"
   },
   {
    "duration": 15,
    "start_time": "2024-06-13T20:39:16.411Z"
   },
   {
    "duration": 13,
    "start_time": "2024-06-13T20:39:16.428Z"
   },
   {
    "duration": 4,
    "start_time": "2024-06-13T20:39:16.442Z"
   },
   {
    "duration": 5,
    "start_time": "2024-06-13T20:39:16.447Z"
   },
   {
    "duration": 4,
    "start_time": "2024-06-13T20:39:16.457Z"
   },
   {
    "duration": 33,
    "start_time": "2024-06-13T20:39:16.465Z"
   },
   {
    "duration": 6,
    "start_time": "2024-06-13T20:39:16.499Z"
   },
   {
    "duration": 10,
    "start_time": "2024-06-13T20:39:16.506Z"
   },
   {
    "duration": 11,
    "start_time": "2024-06-13T20:39:16.517Z"
   },
   {
    "duration": 12,
    "start_time": "2024-06-13T20:39:16.530Z"
   },
   {
    "duration": 30,
    "start_time": "2024-06-13T20:39:16.543Z"
   },
   {
    "duration": 20,
    "start_time": "2024-06-13T20:39:16.574Z"
   },
   {
    "duration": 11,
    "start_time": "2024-06-13T20:39:16.595Z"
   },
   {
    "duration": 7,
    "start_time": "2024-06-13T20:39:16.607Z"
   },
   {
    "duration": 14,
    "start_time": "2024-06-13T20:39:16.615Z"
   },
   {
    "duration": 9,
    "start_time": "2024-06-13T20:39:16.630Z"
   },
   {
    "duration": 7,
    "start_time": "2024-06-13T20:39:16.640Z"
   },
   {
    "duration": 11,
    "start_time": "2024-06-13T20:39:16.648Z"
   },
   {
    "duration": 8,
    "start_time": "2024-06-13T20:39:16.660Z"
   },
   {
    "duration": 15,
    "start_time": "2024-06-13T20:39:16.669Z"
   },
   {
    "duration": 18,
    "start_time": "2024-06-13T20:39:16.686Z"
   },
   {
    "duration": 4,
    "start_time": "2024-06-13T20:39:16.705Z"
   },
   {
    "duration": 6,
    "start_time": "2024-06-13T20:39:16.710Z"
   },
   {
    "duration": 17,
    "start_time": "2024-06-13T20:39:16.717Z"
   },
   {
    "duration": 31,
    "start_time": "2024-06-13T20:39:16.735Z"
   },
   {
    "duration": 28,
    "start_time": "2024-06-13T20:39:16.767Z"
   },
   {
    "duration": 5,
    "start_time": "2024-06-13T20:39:16.796Z"
   },
   {
    "duration": 14,
    "start_time": "2024-06-13T20:39:16.802Z"
   },
   {
    "duration": 37,
    "start_time": "2024-06-13T20:39:16.817Z"
   },
   {
    "duration": 18,
    "start_time": "2024-06-13T20:39:16.855Z"
   },
   {
    "duration": 10,
    "start_time": "2024-06-13T20:39:16.874Z"
   },
   {
    "duration": 15,
    "start_time": "2024-06-13T20:39:16.885Z"
   },
   {
    "duration": 20,
    "start_time": "2024-06-13T20:39:16.904Z"
   },
   {
    "duration": 2,
    "start_time": "2024-06-13T20:39:16.925Z"
   },
   {
    "duration": 13,
    "start_time": "2024-06-13T20:39:16.928Z"
   },
   {
    "duration": 20,
    "start_time": "2024-06-13T20:39:16.942Z"
   },
   {
    "duration": 15,
    "start_time": "2024-06-13T20:39:16.963Z"
   },
   {
    "duration": 7,
    "start_time": "2024-06-13T20:39:16.979Z"
   },
   {
    "duration": 4,
    "start_time": "2024-06-13T20:39:16.987Z"
   },
   {
    "duration": 19,
    "start_time": "2024-06-13T20:39:16.992Z"
   },
   {
    "duration": 15,
    "start_time": "2024-06-13T20:39:17.012Z"
   },
   {
    "duration": 5,
    "start_time": "2024-06-13T20:39:17.028Z"
   },
   {
    "duration": 15,
    "start_time": "2024-06-13T20:39:17.034Z"
   },
   {
    "duration": 14,
    "start_time": "2024-06-13T20:39:17.050Z"
   },
   {
    "duration": 5,
    "start_time": "2024-06-13T20:39:17.065Z"
   },
   {
    "duration": 17,
    "start_time": "2024-06-13T20:39:17.071Z"
   },
   {
    "duration": 8,
    "start_time": "2024-06-13T20:39:17.089Z"
   },
   {
    "duration": 19,
    "start_time": "2024-06-13T20:39:17.098Z"
   },
   {
    "duration": 7,
    "start_time": "2024-06-13T20:39:17.118Z"
   },
   {
    "duration": 14,
    "start_time": "2024-06-13T20:39:17.126Z"
   },
   {
    "duration": 42,
    "start_time": "2024-06-13T20:39:17.141Z"
   },
   {
    "duration": 12,
    "start_time": "2024-06-13T20:39:17.184Z"
   },
   {
    "duration": 5,
    "start_time": "2024-06-13T20:39:17.197Z"
   },
   {
    "duration": 30,
    "start_time": "2024-06-13T20:39:17.203Z"
   },
   {
    "duration": 21,
    "start_time": "2024-06-13T20:39:17.234Z"
   },
   {
    "duration": 16,
    "start_time": "2024-06-13T20:39:17.256Z"
   },
   {
    "duration": 292,
    "start_time": "2024-06-13T20:39:17.274Z"
   },
   {
    "duration": 7,
    "start_time": "2024-06-13T20:39:17.567Z"
   },
   {
    "duration": 278,
    "start_time": "2024-06-13T20:39:17.576Z"
   },
   {
    "duration": 309,
    "start_time": "2024-06-13T20:39:17.855Z"
   },
   {
    "duration": 14,
    "start_time": "2024-06-13T20:39:18.165Z"
   },
   {
    "duration": 12,
    "start_time": "2024-06-13T20:39:18.180Z"
   },
   {
    "duration": 15,
    "start_time": "2024-06-13T20:39:18.193Z"
   },
   {
    "duration": 10,
    "start_time": "2024-06-13T20:39:18.209Z"
   },
   {
    "duration": 6,
    "start_time": "2024-06-13T20:39:18.220Z"
   },
   {
    "duration": 328,
    "start_time": "2024-06-13T20:39:18.227Z"
   },
   {
    "duration": 7,
    "start_time": "2024-06-13T20:39:18.556Z"
   },
   {
    "duration": 19,
    "start_time": "2024-06-13T20:39:18.564Z"
   },
   {
    "duration": 280,
    "start_time": "2024-06-13T20:39:18.584Z"
   },
   {
    "duration": 8,
    "start_time": "2024-06-13T20:39:18.865Z"
   },
   {
    "duration": 20,
    "start_time": "2024-06-13T20:39:18.874Z"
   },
   {
    "duration": 13,
    "start_time": "2024-06-13T20:39:18.895Z"
   },
   {
    "duration": 9,
    "start_time": "2024-06-13T20:39:18.910Z"
   },
   {
    "duration": 5,
    "start_time": "2024-06-13T20:39:18.920Z"
   },
   {
    "duration": 7,
    "start_time": "2024-06-13T20:39:18.927Z"
   },
   {
    "duration": 22,
    "start_time": "2024-06-13T20:39:18.936Z"
   },
   {
    "duration": 22,
    "start_time": "2024-06-13T20:39:18.959Z"
   },
   {
    "duration": 11,
    "start_time": "2024-06-13T20:39:18.983Z"
   },
   {
    "duration": 7,
    "start_time": "2024-06-13T20:39:18.995Z"
   },
   {
    "duration": 13,
    "start_time": "2024-06-13T20:39:19.003Z"
   },
   {
    "duration": 12,
    "start_time": "2024-06-13T20:39:19.018Z"
   },
   {
    "duration": 11,
    "start_time": "2024-06-13T20:39:19.031Z"
   },
   {
    "duration": 226,
    "start_time": "2024-06-13T21:12:53.370Z"
   },
   {
    "duration": 273,
    "start_time": "2024-06-13T21:13:08.253Z"
   },
   {
    "duration": 287,
    "start_time": "2024-06-13T21:13:37.327Z"
   },
   {
    "duration": 51,
    "start_time": "2025-08-26T14:25:47.883Z"
   },
   {
    "duration": 1213,
    "start_time": "2025-08-26T14:26:03.920Z"
   },
   {
    "duration": 126,
    "start_time": "2025-08-26T14:26:05.135Z"
   },
   {
    "duration": 17,
    "start_time": "2025-08-26T14:26:05.264Z"
   },
   {
    "duration": 32,
    "start_time": "2025-08-26T14:26:05.283Z"
   },
   {
    "duration": 8,
    "start_time": "2025-08-26T14:26:05.317Z"
   },
   {
    "duration": 55,
    "start_time": "2025-08-26T14:26:05.326Z"
   },
   {
    "duration": 20,
    "start_time": "2025-08-26T14:26:05.383Z"
   },
   {
    "duration": 5,
    "start_time": "2025-08-26T14:26:05.405Z"
   },
   {
    "duration": 24,
    "start_time": "2025-08-26T14:26:05.412Z"
   },
   {
    "duration": 20,
    "start_time": "2025-08-26T14:26:05.439Z"
   },
   {
    "duration": 38,
    "start_time": "2025-08-26T14:26:05.460Z"
   },
   {
    "duration": 13,
    "start_time": "2025-08-26T14:26:05.500Z"
   },
   {
    "duration": 4,
    "start_time": "2025-08-26T14:26:05.514Z"
   },
   {
    "duration": 39,
    "start_time": "2025-08-26T14:26:05.520Z"
   },
   {
    "duration": 7,
    "start_time": "2025-08-26T14:26:05.561Z"
   },
   {
    "duration": 18,
    "start_time": "2025-08-26T14:26:05.569Z"
   },
   {
    "duration": 29,
    "start_time": "2025-08-26T14:26:05.588Z"
   },
   {
    "duration": 15,
    "start_time": "2025-08-26T14:26:05.619Z"
   },
   {
    "duration": 7,
    "start_time": "2025-08-26T14:26:05.636Z"
   },
   {
    "duration": 16,
    "start_time": "2025-08-26T14:26:05.645Z"
   },
   {
    "duration": 6,
    "start_time": "2025-08-26T14:26:05.663Z"
   },
   {
    "duration": 7,
    "start_time": "2025-08-26T14:26:05.670Z"
   },
   {
    "duration": 6,
    "start_time": "2025-08-26T14:26:05.678Z"
   },
   {
    "duration": 6,
    "start_time": "2025-08-26T14:26:05.686Z"
   },
   {
    "duration": 9,
    "start_time": "2025-08-26T14:26:05.694Z"
   },
   {
    "duration": 12,
    "start_time": "2025-08-26T14:26:05.705Z"
   },
   {
    "duration": 33,
    "start_time": "2025-08-26T14:26:05.719Z"
   },
   {
    "duration": 16,
    "start_time": "2025-08-26T14:26:05.758Z"
   },
   {
    "duration": 18,
    "start_time": "2025-08-26T14:26:05.775Z"
   },
   {
    "duration": 83,
    "start_time": "2025-08-26T14:26:05.795Z"
   },
   {
    "duration": 28,
    "start_time": "2025-08-26T14:26:05.880Z"
   },
   {
    "duration": 16,
    "start_time": "2025-08-26T14:26:05.910Z"
   },
   {
    "duration": 5,
    "start_time": "2025-08-26T14:26:05.927Z"
   },
   {
    "duration": 32,
    "start_time": "2025-08-26T14:26:05.933Z"
   },
   {
    "duration": 7,
    "start_time": "2025-08-26T14:26:05.967Z"
   },
   {
    "duration": 101,
    "start_time": "2025-08-26T14:26:05.976Z"
   },
   {
    "duration": 66,
    "start_time": "2025-08-26T14:26:06.079Z"
   },
   {
    "duration": 117,
    "start_time": "2025-08-26T14:26:06.146Z"
   },
   {
    "duration": 34,
    "start_time": "2025-08-26T14:26:06.265Z"
   },
   {
    "duration": 19,
    "start_time": "2025-08-26T14:26:06.301Z"
   },
   {
    "duration": 33,
    "start_time": "2025-08-26T14:26:06.322Z"
   },
   {
    "duration": 4,
    "start_time": "2025-08-26T14:26:06.356Z"
   },
   {
    "duration": 40,
    "start_time": "2025-08-26T14:26:06.361Z"
   },
   {
    "duration": 23,
    "start_time": "2025-08-26T14:26:06.402Z"
   },
   {
    "duration": 27,
    "start_time": "2025-08-26T14:26:06.426Z"
   },
   {
    "duration": 52,
    "start_time": "2025-08-26T14:26:06.455Z"
   },
   {
    "duration": 21,
    "start_time": "2025-08-26T14:26:06.509Z"
   },
   {
    "duration": 11,
    "start_time": "2025-08-26T14:26:06.532Z"
   },
   {
    "duration": 33,
    "start_time": "2025-08-26T14:26:06.545Z"
   },
   {
    "duration": 8,
    "start_time": "2025-08-26T14:26:06.579Z"
   },
   {
    "duration": 8,
    "start_time": "2025-08-26T14:26:06.589Z"
   },
   {
    "duration": 37,
    "start_time": "2025-08-26T14:26:06.599Z"
   },
   {
    "duration": 36,
    "start_time": "2025-08-26T14:26:06.637Z"
   },
   {
    "duration": 9,
    "start_time": "2025-08-26T14:26:06.675Z"
   },
   {
    "duration": 10,
    "start_time": "2025-08-26T14:26:06.685Z"
   },
   {
    "duration": 41,
    "start_time": "2025-08-26T14:26:06.697Z"
   },
   {
    "duration": 5,
    "start_time": "2025-08-26T14:26:06.740Z"
   },
   {
    "duration": 26,
    "start_time": "2025-08-26T14:26:06.751Z"
   },
   {
    "duration": 51,
    "start_time": "2025-08-26T14:26:06.779Z"
   },
   {
    "duration": 74,
    "start_time": "2025-08-26T14:26:06.832Z"
   },
   {
    "duration": 12,
    "start_time": "2025-08-26T14:26:06.908Z"
   },
   {
    "duration": 105,
    "start_time": "2025-08-26T14:26:06.921Z"
   },
   {
    "duration": 11,
    "start_time": "2025-08-26T14:26:07.028Z"
   },
   {
    "duration": 17,
    "start_time": "2025-08-26T14:26:07.041Z"
   },
   {
    "duration": 221,
    "start_time": "2025-08-26T14:26:07.060Z"
   },
   {
    "duration": 11,
    "start_time": "2025-08-26T14:26:07.283Z"
   },
   {
    "duration": 163,
    "start_time": "2025-08-26T14:26:07.296Z"
   },
   {
    "duration": 175,
    "start_time": "2025-08-26T14:26:07.461Z"
   },
   {
    "duration": 26,
    "start_time": "2025-08-26T14:26:07.637Z"
   },
   {
    "duration": 10,
    "start_time": "2025-08-26T14:26:07.664Z"
   },
   {
    "duration": 20,
    "start_time": "2025-08-26T14:26:07.675Z"
   },
   {
    "duration": 31,
    "start_time": "2025-08-26T14:26:07.696Z"
   },
   {
    "duration": 22,
    "start_time": "2025-08-26T14:26:07.729Z"
   },
   {
    "duration": 258,
    "start_time": "2025-08-26T14:26:07.753Z"
   },
   {
    "duration": 9,
    "start_time": "2025-08-26T14:26:08.012Z"
   },
   {
    "duration": 106,
    "start_time": "2025-08-26T14:26:08.023Z"
   },
   {
    "duration": 268,
    "start_time": "2025-08-26T14:26:08.131Z"
   },
   {
    "duration": 780,
    "start_time": "2025-08-26T14:26:08.401Z"
   },
   {
    "duration": 12,
    "start_time": "2025-08-26T14:26:09.183Z"
   },
   {
    "duration": 8,
    "start_time": "2025-08-26T14:26:09.253Z"
   },
   {
    "duration": 37,
    "start_time": "2025-08-26T14:26:09.262Z"
   },
   {
    "duration": 51,
    "start_time": "2025-08-26T14:26:09.305Z"
   },
   {
    "duration": 6,
    "start_time": "2025-08-26T14:26:09.358Z"
   },
   {
    "duration": 22,
    "start_time": "2025-08-26T14:26:09.365Z"
   },
   {
    "duration": 10,
    "start_time": "2025-08-26T14:26:09.389Z"
   },
   {
    "duration": 60,
    "start_time": "2025-08-26T14:26:09.401Z"
   },
   {
    "duration": 8,
    "start_time": "2025-08-26T14:26:09.462Z"
   },
   {
    "duration": 28,
    "start_time": "2025-08-26T14:26:09.471Z"
   },
   {
    "duration": 66,
    "start_time": "2025-08-26T14:26:09.501Z"
   },
   {
    "duration": 18,
    "start_time": "2025-08-26T14:26:09.569Z"
   },
   {
    "duration": 72,
    "start_time": "2025-08-26T14:26:09.589Z"
   },
   {
    "duration": 195,
    "start_time": "2025-08-26T14:26:24.310Z"
   },
   {
    "duration": 215,
    "start_time": "2025-08-26T14:26:30.084Z"
   },
   {
    "duration": 302,
    "start_time": "2025-08-26T14:26:38.013Z"
   },
   {
    "duration": 201,
    "start_time": "2025-08-26T14:26:45.849Z"
   },
   {
    "duration": 207,
    "start_time": "2025-08-26T14:26:51.065Z"
   }
  ],
  "colab": {
   "name": "DA+. Сборный проект 1. Шаблон (1).ipynb",
   "provenance": []
  },
  "kernelspec": {
   "display_name": "Python 3 (ipykernel)",
   "language": "python",
   "name": "python3"
  },
  "language_info": {
   "codemirror_mode": {
    "name": "ipython",
    "version": 3
   },
   "file_extension": ".py",
   "mimetype": "text/x-python",
   "name": "python",
   "nbconvert_exporter": "python",
   "pygments_lexer": "ipython3",
   "version": "3.9.5"
  },
  "toc": {
   "base_numbering": 1,
   "nav_menu": {},
   "number_sections": true,
   "sideBar": true,
   "skip_h1_title": true,
   "title_cell": "Оглавление",
   "title_sidebar": "Contents",
   "toc_cell": true,
   "toc_position": {
    "height": "calc(100% - 180px)",
    "left": "10px",
    "top": "150px",
    "width": "228.011px"
   },
   "toc_section_display": true,
   "toc_window_display": true
  }
 },
 "nbformat": 4,
 "nbformat_minor": 1
}
